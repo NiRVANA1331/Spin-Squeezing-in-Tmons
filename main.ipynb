{
 "cells": [
  {
   "cell_type": "code",
   "execution_count": 1,
   "id": "08b42426",
   "metadata": {},
   "outputs": [],
   "source": [
    "import numpy as np\n",
    "from qutip import *\n",
    "from tqdm.auto import tqdm\n",
    "import matplotlib.pyplot as plt\n",
    "import math"
   ]
  },
  {
   "cell_type": "code",
   "execution_count": 2,
   "id": "c279a703",
   "metadata": {},
   "outputs": [],
   "source": [
    "from modules.spin_arch import *\n",
    "from modules.su_algebra import *"
   ]
  },
  {
   "cell_type": "code",
   "execution_count": 3,
   "id": "636cd0d6",
   "metadata": {},
   "outputs": [],
   "source": [
    "from IPython.display import Latex"
   ]
  },
  {
   "cell_type": "code",
   "execution_count": 4,
   "id": "e7444d9c",
   "metadata": {},
   "outputs": [],
   "source": [
    "Ntrunc = 3 #global operator for truncation level or total number of dimensions"
   ]
  },
  {
   "cell_type": "code",
   "execution_count": null,
   "id": "ed8b1408",
   "metadata": {},
   "outputs": [],
   "source": [
    "#entire process involves 3 steps\n",
    "## 1) Evolution by H\n",
    "## 2) Encoding \\theta by applying U = e^{iJ\\theta}\n",
    "## 3) Measurement using some projections"
   ]
  },
  {
   "cell_type": "markdown",
   "id": "dd351e97",
   "metadata": {},
   "source": [
    "### Hamiltonian: \n",
    "$$\n",
    "H' = \\sum_{n,i} \\left(\\frac{(g^n_{i-1})^2 \\mathcal H(i)}{v^n_{i-1} - \\omega} + v^n_i - \\Delta_i \\right) \\sigma^n_{i,i} +  \\frac{1}{2} \\sum_{n \\neq m,i}\\frac{g^n_{i}g^m_{i}}{\\omega - v^m_{i}} ( \\sigma^n_{i,i+1}\\sigma^m_{i+1,i} + \\sigma^n_{i+1,i}\\sigma^m_{i,i+1} )\n",
    "$$\n",
    "\n",
    "where $\\mathcal H(i) = 1$ for $i>0$, otherwise 0."
   ]
  },
  {
   "cell_type": "markdown",
   "id": "4d91c6f6",
   "metadata": {},
   "source": [
    "### Parameters:\n",
    "$$v^n_{i-1} = (\\sqrt{8 E^n_c E^n_j})i - 0.5*E^n_c i (i+1) $$\n",
    "with default values set as $v \\approx 60 * 100Mhz$, $g = 100Mhz$, $\\omega = 55*100MHz$ "
   ]
  },
  {
   "cell_type": "code",
   "execution_count": 156,
   "id": "8b4eb45d",
   "metadata": {},
   "outputs": [],
   "source": [
    "#initialize system\n",
    "N = 4\n",
    "Nlevel = Ntrunc\n",
    "Ej, Ec, g_arr, omega = generate_tmon_arch(N,Nlevel)\n",
    "sys1 = tmon_system(N, Nlevel, Ec, Ej, g_arr, omega)\n",
    "sys1.omega = 150"
   ]
  },
  {
   "cell_type": "code",
   "execution_count": 157,
   "id": "c03ca25e",
   "metadata": {},
   "outputs": [
    {
     "data": {
      "text/plain": [
       "[[0.0, 60.745553203367585, 118.99110640673517],\n",
       " [0.0, 60.745553203367585, 118.99110640673517],\n",
       " [0.0, 60.745553203367585, 118.99110640673517],\n",
       " [0.0, 60.745553203367585, 118.99110640673517]]"
      ]
     },
     "execution_count": 157,
     "metadata": {},
     "output_type": "execute_result"
    }
   ],
   "source": [
    "sys1.freq_list()"
   ]
  },
  {
   "cell_type": "code",
   "execution_count": 158,
   "id": "626d4bfc",
   "metadata": {},
   "outputs": [
    {
     "data": {
      "text/plain": [
       "array([[0., 0., 0.],\n",
       "       [0., 0., 0.],\n",
       "       [0., 0., 0.],\n",
       "       [0., 0., 0.]])"
      ]
     },
     "execution_count": 158,
     "metadata": {},
     "output_type": "execute_result"
    }
   ],
   "source": [
    "sys1.self_energy"
   ]
  },
  {
   "cell_type": "code",
   "execution_count": 159,
   "id": "9820d507",
   "metadata": {},
   "outputs": [
    {
     "data": {
      "text/plain": [
       "150"
      ]
     },
     "execution_count": 159,
     "metadata": {},
     "output_type": "execute_result"
    }
   ],
   "source": [
    "sys1.omega "
   ]
  },
  {
   "cell_type": "markdown",
   "id": "6f10176b",
   "metadata": {},
   "source": [
    "### Hamiltonian Evolution: $$e^{-iHt} \\rho_0 e^{iHt}$$"
   ]
  },
  {
   "cell_type": "code",
   "execution_count": 101,
   "id": "cbaeb640",
   "metadata": {},
   "outputs": [
    {
     "data": {
      "text/latex": [
       "Quantum object: dims = [[4], [4]], shape = (4, 4), type = oper, isherm = True $ \\\\ \\left(\\begin{matrix}0.500 & 0.500 & 0.0 & 0.0\\\\0.500 & 0.500 & 0.0 & 0.0\\\\0.0 & 0.0 & 0.0 & 0.0\\\\0.0 & 0.0 & 0.0 & 0.0\\\\\\end{matrix}\\right)$"
      ],
      "text/plain": [
       "Quantum object: dims = [[4], [4]], shape = (4, 4), type = oper, isherm = True\n",
       "Qobj data =\n",
       "[[0.5 0.5 0.  0. ]\n",
       " [0.5 0.5 0.  0. ]\n",
       " [0.  0.  0.  0. ]\n",
       " [0.  0.  0.  0. ]]"
      ]
     },
     "execution_count": 101,
     "metadata": {},
     "output_type": "execute_result"
    }
   ],
   "source": [
    "psi_2 = (basis(Nlevel,0) + basis(Nlevel,1))# + basis(Nlevel,2))\n",
    "psi_2 = psi_2/psi_2.norm()\n",
    "psi_2 = psi_2 * psi_2.dag()\n",
    "psi_2"
   ]
  },
  {
   "cell_type": "code",
   "execution_count": 160,
   "id": "642edf68",
   "metadata": {},
   "outputs": [
    {
     "name": "stdout",
     "output_type": "stream",
     "text": [
      "10.0%. Run time:   0.11s. Est. time left: 00:00:00:00\n",
      "20.0%. Run time:   0.16s. Est. time left: 00:00:00:00\n",
      "30.0%. Run time:   0.21s. Est. time left: 00:00:00:00\n",
      "40.0%. Run time:   0.27s. Est. time left: 00:00:00:00\n",
      "50.0%. Run time:   0.32s. Est. time left: 00:00:00:00\n",
      "60.0%. Run time:   0.37s. Est. time left: 00:00:00:00\n",
      "70.0%. Run time:   0.43s. Est. time left: 00:00:00:00\n",
      "80.0%. Run time:   0.47s. Est. time left: 00:00:00:00\n",
      "90.0%. Run time:   0.53s. Est. time left: 00:00:00:00\n",
      "Total run time:   0.58s\n",
      "200\n"
     ]
    }
   ],
   "source": [
    "#(1)\n",
    "#Evolution of a particular \\rho with H' and \\t\n",
    "#simply solve the U\\rhoU' for different thetas\n",
    "H = sys1.H_I()\n",
    "psi0 = tensor([psi_2]*N) #sys1.tensor_projection_op(0,1,1, dim = None)\n",
    "times = np.linspace(0,200,200) #time scale is ~ 1/freq of self energy \n",
    "options = Options()\n",
    "options.store_final_state = True\n",
    "result = mesolve(H, psi0, times, [], options = options, progress_bar=True)\n",
    "print(len(result.states))"
   ]
  },
  {
   "cell_type": "code",
   "execution_count": 161,
   "id": "675f9abe",
   "metadata": {},
   "outputs": [
    {
     "data": {
      "application/vnd.jupyter.widget-view+json": {
       "model_id": "d3206c7b856d4934be0c4a68846f4d74",
       "version_major": 2,
       "version_minor": 0
      },
      "text/plain": [
       "  0%|          | 0/4 [00:00<?, ?it/s]"
      ]
     },
     "metadata": {},
     "output_type": "display_data"
    }
   ],
   "source": [
    "pop_arr = []\n",
    "Jx_arr = []\n",
    "for i in tqdm(range(N)):\n",
    "    temp = []\n",
    "    temp2 = []\n",
    "    for state in result.states:\n",
    "        temp.append(abs(expect(state.ptrace(i), create(Nlevel)*destroy(Nlevel))))\n",
    "        temp2.append(abs(expect(state.ptrace(i),Qobj((op_padded(sigmax(),Nlevel))))))\n",
    "    pop_arr.append(temp)\n",
    "    Jx_arr.append(temp2)\n",
    "    #print(sum(temp))"
   ]
  },
  {
   "cell_type": "code",
   "execution_count": 162,
   "id": "b55931f8",
   "metadata": {},
   "outputs": [
    {
     "data": {
      "text/plain": [
       "Text(0, 0.5, 'n')"
      ]
     },
     "execution_count": 162,
     "metadata": {},
     "output_type": "execute_result"
    },
    {
     "data": {
      "image/png": "[encoded data removed]",
      "text/plain": [
       "<Figure size 640x480 with 2 Axes>"
      ]
     },
     "metadata": {},
     "output_type": "display_data"
    }
   ],
   "source": [
    "plt.pcolormesh(pop_arr)\n",
    "plt.colorbar()\n",
    "#plt.xticks()\n",
    "plt.title(\"populaton in each tmon\")\n",
    "plt.yticks(range(N))\n",
    "plt.xlabel(\"time\")\n",
    "plt.ylabel(\"n\")"
   ]
  },
  {
   "cell_type": "code",
   "execution_count": 163,
   "id": "1ed4296d",
   "metadata": {},
   "outputs": [
    {
     "data": {
      "text/plain": [
       "Text(0, 0.5, 'index of tmons')"
      ]
     },
     "execution_count": 163,
     "metadata": {},
     "output_type": "execute_result"
    },
    {
     "data": {
      "image/png": "[encoded data removed]",
      "text/plain": [
       "<Figure size 640x480 with 2 Axes>"
      ]
     },
     "metadata": {},
     "output_type": "display_data"
    }
   ],
   "source": [
    "plt.pcolormesh(Jx_arr)\n",
    "plt.colorbar()\n",
    "#plt.xticks(times[times%5==0])\n",
    "plt.yticks(range(N))\n",
    "plt.title(\"<Jx>\")\n",
    "plt.xlabel(\"time\")\n",
    "plt.ylabel(\"index of tmons\")"
   ]
  },
  {
   "cell_type": "code",
   "execution_count": 164,
   "id": "449dc528",
   "metadata": {},
   "outputs": [
    {
     "data": {
      "image/png": "[encoded data removed]",
      "text/plain": [
       "<Figure size 640x480 with 1 Axes>"
      ]
     },
     "metadata": {},
     "output_type": "display_data"
    }
   ],
   "source": [
    "plt.plot(times, pop_arr[0])\n",
    "plt.title(\"population in 1st tmon\")\n",
    "plt.xlabel(\"time\")\n",
    "plt.ylabel(\"population\")\n",
    "plt.show()"
   ]
  },
  {
   "cell_type": "code",
   "execution_count": 165,
   "id": "9d34a117",
   "metadata": {},
   "outputs": [
    {
     "data": {
      "image/png": "[encoded data removed]",
      "text/plain": [
       "<Figure size 640x480 with 1 Axes>"
      ]
     },
     "metadata": {},
     "output_type": "display_data"
    }
   ],
   "source": [
    "plt.plot(times, np.add(np.add(np.add(Jx_arr[0], Jx_arr[1]),Jx_arr[2]), Jx_arr[3]))\n",
    "plt.xlabel(\"time\")\n",
    "plt.ylabel(\"< Jx >\")\n",
    "plt.show()"
   ]
  },
  {
   "cell_type": "markdown",
   "id": "cddb91e1",
   "metadata": {},
   "source": [
    "### For pure states: $$F_{\\psi} = 4 \\Delta J^2_n = nCn^T \\quad \\quad C_{\\alpha,\\beta} = Cov<J_\\alpha, J_\\beta> = \\frac{1}{2}[<J_\\alpha J_\\beta>+ <J_\\beta J_\\alpha>] - <J_\\alpha><J_\\beta>$$ where: $$<O> = Tr(\\rho O) $$"
   ]
  },
  {
   "cell_type": "code",
   "execution_count": 31,
   "id": "c679b558",
   "metadata": {},
   "outputs": [],
   "source": [
    "#Calculation of covariance matrix\n",
    "# for now step (2,3) can be avoided as exact analytical results avaialble\n",
    "# FI = n^T C n\n",
    "def C_matrix(rho, J_arr):\n",
    "    #do a dimension check for rho and J_arr[i] as well\n",
    "    d = len(J_arr)\n",
    "    C = np.zeros((d,d), dtype=complex)\n",
    "    for i in range(d):\n",
    "        for j in range(d):\n",
    "            C[i][j] = 0.5*((rho*J_arr[i]*J_arr[j]).tr()+ (rho*J_arr[j]*J_arr[i]).tr())- (rho*J_arr[i]).tr()*(rho*J_arr[j]).tr()\n",
    "    return C\n",
    "\n",
    "def FI_max_cal(state_list, J_arr):\n",
    "    FI_max_arr = []\n",
    "    optimal_evec = []\n",
    "    i = 0\n",
    "    for state in tqdm(state_list):\n",
    "        matrix = C_matrix(state, J_arr)\n",
    "        eigenvalues, eigenvectors = np.linalg.eig(matrix)\n",
    "        #temp_arr.append([str(i) + \"time step: \" + str(np.around(eigenvalues.real, 4))])\n",
    "        #print(str(i) + \"time step: \" + str(np.around(eigenvalues.real, 4)))\n",
    "        max_index = np.argmax(eigenvalues)\n",
    "        max_eigenvalue = eigenvalues[max_index]\n",
    "        max_eigenvector = eigenvectors[max_index]\n",
    "        FI_max_arr.append(4*max_eigenvalue)\n",
    "        optimal_evec.append(max_eigenvector)\n",
    "        i = i+1\n",
    "    \n",
    "    return FI_max_arr, optimal_evec \n",
    "    "
   ]
  },
  {
   "cell_type": "code",
   "execution_count": 32,
   "id": "16f8f091",
   "metadata": {},
   "outputs": [
    {
     "ename": "NameError",
     "evalue": "name 'state_list' is not defined",
     "output_type": "error",
     "traceback": [
      "\u001b[1;31m---------------------------------------------------------------------------\u001b[0m",
      "\u001b[1;31mNameError\u001b[0m                                 Traceback (most recent call last)",
      "Cell \u001b[1;32mIn[32], line 1\u001b[0m\n\u001b[1;32m----> 1\u001b[0m FI1, OVec1 \u001b[38;5;241m=\u001b[39m FI_max_cal(\u001b[43mstate_list\u001b[49m, J_arr_spinhalf)\n\u001b[0;32m      2\u001b[0m FI2, OVec2 \u001b[38;5;241m=\u001b[39m FI_max_cal(state_list, Qgen_op(N,Nlevel,\u001b[38;5;124m\"\u001b[39m\u001b[38;5;124mgellmann\u001b[39m\u001b[38;5;124m\"\u001b[39m)[:\u001b[38;5;241m3\u001b[39m])\n\u001b[0;32m      3\u001b[0m FI3, OVec3 \u001b[38;5;241m=\u001b[39m FI_max_cal(state_list, J_arr)\n",
      "\u001b[1;31mNameError\u001b[0m: name 'state_list' is not defined"
     ]
    }
   ],
   "source": [
    "# FI1, OVec1 = FI_max_cal(state_list, J_arr_spinhalf)\n",
    "# FI2, OVec2 = FI_max_cal(state_list, Qgen_op(N,Nlevel,\"gellmann\")[:3])\n",
    "# FI3, OVec3 = FI_max_cal(state_list, J_arr)\n",
    "# FI4, OVec4 = FI_max_cal(state_list, J_arr)"
   ]
  },
  {
   "cell_type": "code",
   "execution_count": 63,
   "id": "c94a7f66",
   "metadata": {},
   "outputs": [],
   "source": [
    "#pauli matrices assuming just qubits\n",
    "#no padding req for 2 dim though\n",
    "Jx = Qobj(0.5*ensemble_op(op_padded(sigmax(),Nlevel), N))\n",
    "Jy = Qobj(0.5*ensemble_op(op_padded(sigmay(),Nlevel), N))\n",
    "Jz = Qobj(0.5*ensemble_op(op_padded(sigmaz(),Nlevel), N))\n",
    "\n",
    "J_arr = [Jx,Jy,Jz]"
   ]
  },
  {
   "cell_type": "code",
   "execution_count": null,
   "id": "807ede4d",
   "metadata": {},
   "outputs": [],
   "source": [
    "#spin1 using tensor operators, but only Sx,Sy,Sz\n",
    "sx,sy,sz, s1,s2,s3,s4,s5 = spin1_tensorop()\n",
    "Jx = Qobj(ensemble_op(op_padded(sx,Nlevel), N))\n",
    "Jy = Qobj(ensemble_op(op_padded(sy,Nlevel), N))\n",
    "Jz = Qobj(ensemble_op(op_padded(sz,Nlevel), N))\n",
    "J1 = Qobj(ensemble_op(op_padded(s1,Nlevel), N))\n",
    "J2 = Qobj(ensemble_op(op_padded(s2,Nlevel), N))\n",
    "J3 = Qobj(ensemble_op(op_padded(s3,Nlevel), N))\n",
    "J4 = Qobj(ensemble_op(op_padded(s4,Nlevel), N))\n",
    "J5 = Qobj(ensemble_op(op_padded(s5,Nlevel), N))\n",
    "\n",
    "J_arr = [Jx,Jy,Jz,J1,J2,J3,J4,J5]\n",
    "#J_arr = [Jx,Jy,Jz]"
   ]
  },
  {
   "cell_type": "code",
   "execution_count": 94,
   "id": "de512b46",
   "metadata": {},
   "outputs": [],
   "source": [
    "#gellmann matrices\n",
    "l1,l2,l3,l4,l5,l6,l7,l8 = gellmann_matrices()\n",
    "Jx = Qobj(ensemble_op(op_padded(l1,Nlevel), N))\n",
    "Jy = Qobj(ensemble_op(op_padded(l2,Nlevel), N))\n",
    "Jz = Qobj(ensemble_op(op_padded(l3,Nlevel), N))\n",
    "J1 = Qobj(ensemble_op(op_padded(l4,Nlevel), N))\n",
    "J2 = Qobj(ensemble_op(op_padded(l5,Nlevel), N))\n",
    "J3 = Qobj(ensemble_op(op_padded(l6,Nlevel), N))\n",
    "J4 = Qobj(ensemble_op(op_padded(l7,Nlevel), N))\n",
    "J5 = Qobj(ensemble_op(op_padded(l8,Nlevel), N))\n",
    "\n",
    "J_arr = [Jx,Jy,Jz,J1,J2,J3,J4,J5]\n",
    "#J_arr = [Jx,Jy,Jz]"
   ]
  },
  {
   "cell_type": "code",
   "execution_count": null,
   "id": "c01cdb27",
   "metadata": {},
   "outputs": [],
   "source": [
    "J_arr = Qgen_op(N,Nlevel, )"
   ]
  },
  {
   "cell_type": "code",
   "execution_count": 166,
   "id": "0f3af9ff",
   "metadata": {},
   "outputs": [
    {
     "data": {
      "application/vnd.jupyter.widget-view+json": {
       "model_id": "c6a2f40c9ff54563850544753da70b57",
       "version_major": 2,
       "version_minor": 0
      },
      "text/plain": [
       "  0%|          | 0/200 [00:00<?, ?it/s]"
      ]
     },
     "metadata": {},
     "output_type": "display_data"
    }
   ],
   "source": [
    "#Maximum Eigenvalue\n",
    "#when n is the eigenvector with maximum eigen value of C, FI is maximized\n",
    "# Define the matrix\n",
    "FI_max_arr = []\n",
    "optimal_evec = []\n",
    "i = 0\n",
    "#temp_arr = []\n",
    "for state in tqdm(result.states):\n",
    "    matrix = C_matrix(state, J_arr)\n",
    "    eigenvalues, eigenvectors = np.linalg.eig(matrix)\n",
    "    #temp_arr.append([str(i) + \"time step: \" + str(np.around(eigenvalues.real, 4))])\n",
    "    #print(str(i) + \"time step: \" + str(np.around(eigenvalues.real, 4)))\n",
    "    max_index = np.argmax(eigenvalues)\n",
    "    max_eigenvalue = eigenvalues[max_index]\n",
    "    max_eigenvector = eigenvectors[max_index]\n",
    "    FI_max_arr.append(4*max_eigenvalue)\n",
    "    optimal_evec.append(max_eigenvector)\n",
    "    i = i+1\n",
    "\n"
   ]
  },
  {
   "cell_type": "code",
   "execution_count": 167,
   "id": "fd3b0d16",
   "metadata": {},
   "outputs": [
    {
     "data": {
      "text/plain": [
       "Text(0, 0.5, 'F_max')"
      ]
     },
     "execution_count": 167,
     "metadata": {},
     "output_type": "execute_result"
    },
    {
     "data": {
      "image/png": "[encoded data removed]",
      "text/plain": [
       "<Figure size 640x480 with 1 Axes>"
      ]
     },
     "metadata": {},
     "output_type": "display_data"
    }
   ],
   "source": [
    "#Plot FI_max vs time/\\theta\n",
    "#plt.figure(figsize=(15,10))\n",
    "plt.plot(times,FI_max_arr)\n",
    "plt.title(str(N) + \" tmon system, spin 1, with \"+str(len(J_arr))+ \" gellmann generators\")\n",
    "plt.xlabel(\"time\")\n",
    "plt.ylabel(\"F_max\")"
   ]
  },
  {
   "cell_type": "code",
   "execution_count": null,
   "id": "44d512ea",
   "metadata": {},
   "outputs": [],
   "source": [
    "#temp1 = FI_max_arr\n",
    "#temp2 = FI_max_arr"
   ]
  },
  {
   "cell_type": "code",
   "execution_count": null,
   "id": "da61e110",
   "metadata": {},
   "outputs": [],
   "source": [
    "plt.plot(times,temp1,alpha = 0.5 )\n",
    "plt.plot(times,temp2,alpha = 0.5)\n",
    "plt.plot(times,FI_max_arr,alpha = 0.5)\n",
    "plt.title(str(N) + \" tmon system, spin 1\")\n",
    "plt.xlabel(\"time\")\n",
    "plt.ylabel(\"F_max\")\n",
    "plt.legend([\"3 generators\",\"8 gellmann generators\", \"8 tensor generators\"])"
   ]
  },
  {
   "cell_type": "code",
   "execution_count": null,
   "id": "cda37b31",
   "metadata": {},
   "outputs": [],
   "source": [
    "def is_hermitian(matrix):\n",
    "    return np.allclose(matrix, matrix.conj().T)\n",
    "\n",
    "def cartesian_to_spherical(vec):\n",
    "    \"\"\"Converts a cartesian coordinate (x, y, z) into a spherical one (radius, theta, phi).\"\"\"\n",
    "    x = vec[0]\n",
    "    y = vec[1]\n",
    "    z = vec[2]\n",
    "    radius = np.sqrt(x * x + y * y + z * z)\n",
    "    theta = math.atan2(np.sqrt(x * x + y * y), z)\n",
    "    #theta = math.acos(z/radius)\n",
    "    phi = math.atan2(y, x)\n",
    "    return [radius, theta, phi]\n",
    "\n",
    "def normalize(v):\n",
    "    norm = np.linalg.norm(v)\n",
    "    if norm == 0:\n",
    "        return v\n",
    "    return v / norm"
   ]
  },
  {
   "cell_type": "code",
   "execution_count": null,
   "id": "0dd9b507",
   "metadata": {},
   "outputs": [],
   "source": [
    "#plot for optimal eigenvectors\n",
    "spherical_coordinates = []\n",
    "for vec in optimal_evec:\n",
    "    spherical_coordinates.append(cartesian_to_spherical(vec.real))"
   ]
  },
  {
   "cell_type": "code",
   "execution_count": null,
   "id": "a316b919",
   "metadata": {},
   "outputs": [],
   "source": [
    "spherical_coordinates = np.array(spherical_coordinates) "
   ]
  },
  {
   "cell_type": "code",
   "execution_count": null,
   "id": "9d75e3be",
   "metadata": {},
   "outputs": [],
   "source": [
    "#plt.figure(figsize=(15,10))\n",
    "plt.plot(times,spherical_coordinates[:,1], label  = \"theta\")\n",
    "plt.plot(times,spherical_coordinates[:,2], label = 'phi')\n",
    "plt.plot(times,FI_max_arr/max(FI_max_arr),alpha =0.5 , label = \"FI_max rescaled\", linestyle='dashed')\n",
    "plt.title(str(N) + \" tmon system, spin 1/2, with \"+str(len(J_arr))+ \" generators\")\n",
    "plt.xlabel(\"time\")\n",
    "plt.ylabel(\"angle in radians\")\n",
    "plt.legend()"
   ]
  },
  {
   "cell_type": "code",
   "execution_count": null,
   "id": "1e5cb6ff",
   "metadata": {},
   "outputs": [],
   "source": [
    "#Graph of FI vs time\n"
   ]
  },
  {
   "cell_type": "code",
   "execution_count": null,
   "id": "e4227312",
   "metadata": {},
   "outputs": [],
   "source": [
    "#(2)\n",
    "#Encode \\theta by applying U = e^{i n.J \\theta}\n",
    "psi_i = results.states #for FI vs time graph\n",
    "n = np.array([1,0,0]) #ideally the max eigenvalue eigenvector\n",
    "J_arr = np.array([]) #generators or their subset\n",
    "theta_arr = np.linspace(0, 0.5, 2) #values of theta to encode\n",
    "#code for n.J\n",
    "result2 = mesolve(n*J_arr, psi_i, times, [], options = options)"
   ]
  },
  {
   "cell_type": "code",
   "execution_count": null,
   "id": "18cc7ae2",
   "metadata": {},
   "outputs": [],
   "source": [
    "#Fisher Info Calculation\n",
    "def purestate_FI(J,psi):\n",
    "    FI = 4*variance(J,psi)\n",
    "    return FI"
   ]
  },
  {
   "cell_type": "code",
   "execution_count": null,
   "id": "320f3405",
   "metadata": {},
   "outputs": [],
   "source": [
    "FI_list = []\n",
    "for psi in result.states:\n",
    "    FI_list.append(purestate_FI(H,psi))\n",
    "\n",
    "plt.plot(times,FI_list)\n",
    "plt.xlabel(\"time\")\n",
    "plt.ylabel(\"Finsher Info\")"
   ]
  },
  {
   "cell_type": "code",
   "execution_count": null,
   "id": "59ea9769",
   "metadata": {},
   "outputs": [],
   "source": [
    "#pauli operators for the tmon system\n",
    "#initialize\n",
    "N = 3 #number of transmons\n",
    "Nlevel = Ntrunc\n",
    "# spin = 1\n",
    "# dim = spin*2+1\n",
    "\n",
    "#padded operators\n",
    "jx = op_padded(jmat(spin,'x'), Nlevel)\n",
    "jy = op_padded(jmat(spin,'y'), Nlevel)\n",
    "jz = op_padded(jmat(spin,'z'), Nlevel)\n",
    "#combined spin operators\n",
    "JX = 0\n",
    "JY = 0\n",
    "JZ = 0\n",
    "for i in range(N):\n",
    "    JX.append(ensemble_op(jx,i,N))\n",
    "    JY.append(ensemble_op(jx,i,N))\n",
    "    JZ.append(ensemble_op(jx,i,N))"
   ]
  },
  {
   "cell_type": "code",
   "execution_count": null,
   "id": "ba725654",
   "metadata": {},
   "outputs": [],
   "source": [
    "#calculate optimal squeezing parameter\n",
    "H_cap = [] #array of all operators being considered\n",
    "##calculate covariance matrix\n",
    "##calculate commutator matrix\n",
    "def calculate_covariance(matrix1, matrix2):\n",
    "    # Check if the matrices have the same shape\n",
    "    if matrix1.shape != matrix2.shape:\n",
    "        raise ValueError(\"Matrices must have the same shape.\")\n",
    "    \n",
    "    # Calculate the covariance\n",
    "    covariance = np.cov(matrix1, matrix2, bias=True)\n",
    "    \n",
    "    return covariance\n",
    "\n",
    "def covariance_matrix(H_cap):\n",
    "    tau = np.zeros((len(H_cap),len(H_cap)))\n",
    "    for k in range(len(H_cap)):\n",
    "        for l in range(len(H_cap)):\n",
    "            tau[k][l] = calculate_covariance(H_cap[k],H_cap(l))"
   ]
  },
  {
   "cell_type": "code",
   "execution_count": null,
   "id": "c71a8b13",
   "metadata": {},
   "outputs": [],
   "source": [
    "'''\n",
    "#Hamiltonian for a set of transmons coupled to a mode\n",
    "class tmon_system:\n",
    "    def __init__(self,N, Nlevel, E_C, E_j, g_arr, omega):\n",
    "        self.N = N #value of n goes from 0 to N-1\n",
    "        self.Nlevel = Nlevel #cut off dimension/truncation\n",
    "        #This is different from d which is the level that comes into hamiltonian.\n",
    "        #d refers to the highest excitation present in the initialised state\n",
    "        #d  by default is set to (Nlevel-2) as (d+1) at max can be (Nlevel-1)\n",
    "        self.d = Nlevel-2\n",
    "        self.E_c= E_c\n",
    "        self.E_j = E_j\n",
    "        self.g_arr = g_arr #g^n_i = g_arr[n][i]\n",
    "        self.omega = omega #freq of photonic mode\n",
    "        self.v_arr = self.freq_list() #v[n][i] = v^n_i\n",
    "    \n",
    "    def freq_list(self):\n",
    "        #calculate v^n_i\n",
    "        #for |i><i|_n, coefficient is  \\sqrt(8E^n_j*E^n_c)*i - E^n_c/2*i(i+1)\n",
    "        arr = []\n",
    "        for n in range(self.N):\n",
    "            temp_arr = []\n",
    "            for i in range(self.d+1):\n",
    "                v_ni = np.sqrt(8*self.E_c[n]*self.E_j[n])*i - 0.5*self.E_c[n]*i*(i+1)\n",
    "                temp_arr.append(v_ni)\n",
    "            arr.append(temp_arr) \n",
    "        return arr\n",
    "    \n",
    "    def cal_delta(self):\n",
    "        #simplest version is to equate to average over transmons i.e n\n",
    "        delta_arr = []\n",
    "        \n",
    "        for n in range(self.N):\n",
    "            temp = 0\n",
    "            for i in range(self.d +1):\n",
    "                temp = temp + ((self.g_arr[n][i]**2)*np.heaviside(i,0)/(self.v_arr[n][i-1]-self.omega)+self.v_arr[n][i])\n",
    "            delta_arr.append(temp/(self.d+1))\n",
    "        return delta_arr\n",
    "    \n",
    "    def tensor_id(self, dim = None):\n",
    "        if dim ==None:\n",
    "            dim = self.d+2\n",
    "        #IxIxIxI...Ioperator\n",
    "        Neye = []\n",
    "        for i in  range(self.N):\n",
    "            Neye.append(qeye(dim))\n",
    "        nid = tensor(Neye)\n",
    "        return nid\n",
    "          \n",
    "    def tensor_projection_op(self,n,i,j, dim = None):\n",
    "        #returns IxIxIx...(|i><j|_n)xIxI...xI\n",
    "        if n > self.N-1:\n",
    "            print(\"invalid n\")\n",
    "            return\n",
    "        if dim ==None:\n",
    "            dim = self.d+2\n",
    "            \n",
    "        Neye = []\n",
    "        for k in  range(self.N):\n",
    "            Neye.append(qeye(dim))\n",
    "        #(|i><j|_n)\n",
    "        Neye[n] = basis(dim,i)*basis(dim,j).dag()\n",
    "        nid = tensor(Neye)\n",
    "        return nid\n",
    "        \n",
    "    def H_I(self, delta_arr = None):\n",
    "        #rotataed time indp effective hamiltonian\n",
    "        #lambda_arr contains \\Delta_i to be added as self energy corrections\n",
    "        if delta_arr==None:\n",
    "            delta_arr = self.cal_delta()\n",
    "        \n",
    "        H0 = 0\n",
    "        for n in range(self.N):\n",
    "            for i in range(self.d + 1):\n",
    "                c_ni = (self.g_arr[n][i-1]**2)*np.heaviside(i,0)/(self.v_arr[n][i-1]- self.omega) + self.v_arr[n][i] - delta_arr[i]\n",
    "                H0 = H0 + c_ni*self.tensor_projection_op(n,i,i)\n",
    "        \n",
    "        H1 = 0\n",
    "        for n in range(self.N):\n",
    "            for m in range(self.N):\n",
    "                for i in range(self.d + 1):\n",
    "                    if n == m:\n",
    "                        break\n",
    "                    c_nmi = 0.5*(self.g_arr[n][i]*self.g_arr[m][i])/(self.omega - self.v_arr[m][i])\n",
    "                    H1 = H1 + c_nmi*(self.tensor_projection_op(n,i,i+1)*self.tensor_projection_op(m,i+1,i) + self.tensor_projection_op(n,i+1,i)*self.tensor_projection_op(m,i,i+1))\n",
    "        \n",
    "        return H0 + H1\n",
    "\n",
    "def generate_tmon_arch(N,Nlevel):\n",
    "    #scaling is 1 to 100MHz\n",
    "    E_j =  np.absolute(np.random.normal(200,20, N))\n",
    "    E_c = np.absolute(np.random.normal(2.5,0.2, N))\n",
    "    g_arr = np.zeros((N,Nlevel))\n",
    "    for n in range(N):\n",
    "        for i in range(Nlevel):\n",
    "            g_arr[n][i] = 1\n",
    "    omega = 2\n",
    "    return E_j, E_c, g_arr,omega \n",
    "'''"
   ]
  },
  {
   "cell_type": "code",
   "execution_count": null,
   "id": "88101552",
   "metadata": {},
   "outputs": [],
   "source": [
    "\"\"\"\n",
    "#create spin operators\n",
    "class operators:\n",
    "    def __init__(self, N, spin):\n",
    "        self.N = N\n",
    "        self.spin =spin\n",
    "        \n",
    "    \n",
    "    def generators_arr(self):\n",
    "        #return all generators for a spin-n algebra\n",
    "        return\n",
    "    \n",
    "    def tensor_operator(self,op,i):\n",
    "        #returns IxIxIx...(op_i)xIxI...xI\n",
    "        if i > self.N-1:\n",
    "            raise ValueError(\"index needs to be between 0 and\"+str(self.N)+\"-1\")\n",
    "\n",
    "        Neye = []\n",
    "        for k in  range(self.N):\n",
    "            Neye.append(qeye(self.spin))\n",
    "        #(op_i)\n",
    "        Neye[n] = basis(dim,i)*basis(dim,j).dag()\n",
    "        nid = tensor(Neye)\n",
    "        return nid\n",
    "        \n",
    "    def J_n(self,n):\n",
    "        #\\sum (n.J)_i\n",
    "        #it should take both 3x1 and dx1 vectors\n",
    "        #3x1 leads to use of just sigma x,y,z\n",
    "        #dx1 leads to use of all generators\n",
    "        jx = jmat(i, 'x')\n",
    "        jy = jmat(i, 'y')\n",
    "        jz = jmat(i, 'z')\n",
    "        \n",
    "        \n",
    "     \n",
    "    def nonlin_operators(self, degree):\n",
    "        #take array of generators and combine them to get non-lin operators\n",
    "        #return vector with non-lin operators only\n",
    "        lin_op_arr = self.generators_arr\n",
    "        nonlin_arr = []\n",
    "\"\"\""
   ]
  }
 ],
 "metadata": {
  "kernelspec": {
   "display_name": "Python 3 (ipykernel)",
   "language": "python",
   "name": "python3"
  },
  "language_info": {
   "codemirror_mode": {
    "name": "ipython",
    "version": 3
   },
   "file_extension": ".py",
   "mimetype": "text/x-python",
   "name": "python",
   "nbconvert_exporter": "python",
   "pygments_lexer": "ipython3",
   "version": "3.11.1"
  }
 },
 "nbformat": 4,
 "nbformat_minor": 5
}
