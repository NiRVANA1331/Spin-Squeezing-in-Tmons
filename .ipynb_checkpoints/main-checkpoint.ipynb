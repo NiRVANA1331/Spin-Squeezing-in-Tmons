{
 "cells": [
  {
   "cell_type": "code",
   "execution_count": 1,
   "id": "08b42426",
   "metadata": {},
   "outputs": [],
   "source": [
    "import numpy as np\n",
    "from qutip import *\n",
    "from tqdm.auto import tqdm\n",
    "import matplotlib.pyplot as plt"
   ]
  },
  {
   "cell_type": "code",
   "execution_count": 2,
   "id": "c279a703",
   "metadata": {},
   "outputs": [],
   "source": [
    "from modules.spin_arch import *\n",
    "from modules.su_algebra import *"
   ]
  },
  {
   "cell_type": "code",
   "execution_count": 3,
   "id": "636cd0d6",
   "metadata": {},
   "outputs": [],
   "source": [
    "from IPython.display import Latex"
   ]
  },
  {
   "cell_type": "code",
   "execution_count": 4,
   "id": "e7444d9c",
   "metadata": {},
   "outputs": [],
   "source": [
    "Ntrunc = 3 #global operator for truncation level or total number of dimensions"
   ]
  },
  {
   "cell_type": "code",
   "execution_count": null,
   "id": "ed8b1408",
   "metadata": {},
   "outputs": [],
   "source": [
    "#entire process involves 3 steps\n",
    "## 1) Evolution by H\n",
    "## 2) Encoding \\theta by applying U = e^{iJ\\theta}\n",
    "## 3) Measurement using some projections"
   ]
  },
  {
   "cell_type": "markdown",
   "id": "dd351e97",
   "metadata": {},
   "source": [
    "### Hamiltonian: \n",
    "$$\n",
    "H' = \\sum_{n,i} \\left(\\frac{(g^n_{i-1})^2 \\mathcal H(i)}{v^n_{i-1} - \\omega} + v^n_i - \\Delta_i \\right) \\sigma^n_{i,i} +  \\frac{1}{2} \\sum_{n \\neq m,i}\\frac{g^n_{i}g^m_{i}}{\\omega - v^m_{i}} ( \\sigma^n_{i,i+1}\\sigma^m_{i+1,i} + \\sigma^n_{i+1,i}\\sigma^m_{i,i+1} )\n",
    "$$\n",
    "\n",
    "where $\\mathcal H(i) = 1$ for $i>0$, otherwise 0."
   ]
  },
  {
   "cell_type": "markdown",
   "id": "4d91c6f6",
   "metadata": {},
   "source": [
    "### Parameters:\n",
    "$$v^n_{i-1} = (\\sqrt{8 E^n_c E^n_j})i - 0.5*E^n_c i (i+1) $$\n",
    "with $v \\approx 60 * 100Mhz$, $g = 100Mhz$, $\\omega = 2*100MHz$ "
   ]
  },
  {
   "cell_type": "code",
   "execution_count": 5,
   "id": "8b4eb45d",
   "metadata": {},
   "outputs": [],
   "source": [
    "#initialize system\n",
    "N = 4\n",
    "Nlevel = Ntrunc\n",
    "Ej, Ec, g_arr, omega = generate_tmon_arch(N,Nlevel)\n",
    "sys1 = tmon_system(N, Nlevel, Ec, Ej, g_arr, omega*0.1)"
   ]
  },
  {
   "cell_type": "code",
   "execution_count": 6,
   "id": "c03ca25e",
   "metadata": {},
   "outputs": [
    {
     "data": {
      "text/plain": [
       "[[0.0, 60.745553203367585],\n",
       " [0.0, 60.745553203367585],\n",
       " [0.0, 60.745553203367585],\n",
       " [0.0, 60.745553203367585]]"
      ]
     },
     "execution_count": 6,
     "metadata": {},
     "output_type": "execute_result"
    }
   ],
   "source": [
    "sys1.freq_list()"
   ]
  },
  {
   "cell_type": "markdown",
   "id": "6f10176b",
   "metadata": {},
   "source": [
    "### Hamiltonian Evolution: $$e^{-iHt} \\rho_0 e^{iHt}$$"
   ]
  },
  {
   "cell_type": "code",
   "execution_count": 7,
   "id": "cbaeb640",
   "metadata": {},
   "outputs": [
    {
     "data": {
      "text/latex": [
       "Quantum object: dims = [[3], [3]], shape = (3, 3), type = oper, isherm = True $ \\\\ \\left(\\begin{matrix}0.500 & 0.500 & 0.0\\\\0.500 & 0.500 & 0.0\\\\0.0 & 0.0 & 0.0\\\\\\end{matrix}\\right)$"
      ],
      "text/plain": [
       "Quantum object: dims = [[3], [3]], shape = (3, 3), type = oper, isherm = True\n",
       "Qobj data =\n",
       "[[0.5 0.5 0. ]\n",
       " [0.5 0.5 0. ]\n",
       " [0.  0.  0. ]]"
      ]
     },
     "execution_count": 7,
     "metadata": {},
     "output_type": "execute_result"
    }
   ],
   "source": [
    "psi_2 = (basis(3,0) + basis(3,1))\n",
    "psi_2 = psi_2/psi_2.norm()\n",
    "psi_2 = psi_2 * psi_2.dag()\n",
    "psi_2"
   ]
  },
  {
   "cell_type": "code",
   "execution_count": 18,
   "id": "642edf68",
   "metadata": {},
   "outputs": [
    {
     "name": "stdout",
     "output_type": "stream",
     "text": [
      "[[-27.8727766  27.8727766]\n",
      " [-27.8727766  27.8727766]\n",
      " [-27.8727766  27.8727766]\n",
      " [-27.8727766  27.8727766]]\n",
      "10.0%. Run time:   0.01s. Est. time left: 00:00:00:00\n",
      "20.0%. Run time:   0.02s. Est. time left: 00:00:00:00\n",
      "30.0%. Run time:   0.03s. Est. time left: 00:00:00:00\n",
      "40.0%. Run time:   0.04s. Est. time left: 00:00:00:00\n",
      "50.0%. Run time:   0.05s. Est. time left: 00:00:00:00\n",
      "60.0%. Run time:   0.06s. Est. time left: 00:00:00:00\n",
      "70.0%. Run time:   0.07s. Est. time left: 00:00:00:00\n",
      "80.0%. Run time:   0.09s. Est. time left: 00:00:00:00\n",
      "90.0%. Run time:   0.10s. Est. time left: 00:00:00:00\n",
      "Total run time:   0.11s\n",
      "100\n"
     ]
    }
   ],
   "source": [
    "#(1)\n",
    "#Evolution of a particular \\rho with H' and \\t\n",
    "#simply solve the U\\rhoU' for different thetas\n",
    "H = sys1.H_I()\n",
    "print(sys1.self_energy)\n",
    "#[psi_2,psi_2,psi_2,psi_2]\n",
    "psi0 = sys1.tensor_projection_op(0,1,1, dim = None)\n",
    "psi0 = psi0 / psi0.norm() #normalize vector\n",
    "times = np.linspace(0,1,100) #time scale is ~ 1/freq of self energy \n",
    "options = Options()\n",
    "options.store_final_state = True\n",
    "result = mesolve(H, psi0, times, [], options = options, progress_bar=True)\n",
    "print(len(result.states))"
   ]
  },
  {
   "cell_type": "code",
   "execution_count": 19,
   "id": "675f9abe",
   "metadata": {},
   "outputs": [
    {
     "data": {
      "text/plain": [
       "Text(0, 0.5, 'n')"
      ]
     },
     "execution_count": 19,
     "metadata": {},
     "output_type": "execute_result"
    },
    {
     "data": {
      "image/png": "[encoded data removed]",
      "text/plain": [
       "<Figure size 640x480 with 2 Axes>"
      ]
     },
     "metadata": {},
     "output_type": "display_data"
    }
   ],
   "source": [
    "pop_arr = []\n",
    "\n",
    "for i in range(N):\n",
    "    temp = []\n",
    "    for state in result.states:\n",
    "        temp.append(expect(state.ptrace(i), create(Nlevel)*destroy(Nlevel)))\n",
    "    pop_arr.append(temp)\n",
    "    #print(sum(temp))\n",
    "    \n",
    "plt.pcolormesh(pop_arr)\n",
    "plt.colorbar()\n",
    "plt.xlabel(\"time\")\n",
    "plt.ylabel(\"n\")"
   ]
  },
  {
   "cell_type": "code",
   "execution_count": 20,
   "id": "449dc528",
   "metadata": {},
   "outputs": [
    {
     "data": {
      "image/png": "[encoded data removed]",
      "text/plain": [
       "<Figure size 640x480 with 1 Axes>"
      ]
     },
     "metadata": {},
     "output_type": "display_data"
    }
   ],
   "source": [
    "plt.plot(times, pop_arr[0])\n",
    "plt.show()"
   ]
  },
  {
   "cell_type": "markdown",
   "id": "cddb91e1",
   "metadata": {},
   "source": [
    "### For pure states: $$F_{\\psi} = 4 \\Delta J^2_n = nCn^T \\quad \\quad C_{\\alpha,\\beta} = Cov<J_\\alpha, J_\\beta> = \\frac{1}{2}[<J_\\alpha J_\\beta>+ <J_\\beta J_\\alpha>] - <J_\\alpha><J_\\beta>$$ where: $$<O> = Tr(\\rho O) $$"
   ]
  },
  {
   "cell_type": "code",
   "execution_count": 12,
   "id": "c94a7f66",
   "metadata": {},
   "outputs": [],
   "source": [
    "#pauli matrices assuming just qubits\n",
    "#no padding req for 2 dim though\n",
    "Jx = Qobj(0.5*ensemble_op(op_padded(sigmax(),Nlevel), N))\n",
    "Jy = Qobj(0.5*ensemble_op(op_padded(sigmay(),Nlevel), N))\n",
    "Jz = Qobj(0.5*ensemble_op(op_padded(sigmaz(),Nlevel), N))\n",
    "\n",
    "J_arr = [Jx,Jy,Jz]"
   ]
  },
  {
   "cell_type": "code",
   "execution_count": 13,
   "id": "20d1cc93",
   "metadata": {},
   "outputs": [],
   "source": [
    "#Calculation of covariance matrix\n",
    "# for now step (2,3) can be avoided as exact analytical results avaialble\n",
    "# FI = n^T C n\n",
    "def C_matrix(rho, J_arr):\n",
    "    C = np.zeros((3,3), dtype=complex)#3x3 matrix for 3 generators of spin 1/2\n",
    "    for i in range(3):\n",
    "        for j in range(3):\n",
    "            C[i][j] = 0.5*((rho*J_arr[i]*J_arr[j]).tr()+ (rho*J_arr[j]*J_arr[i]).tr())- (rho*J_arr[i]).tr()*(rho*J_arr[j]).tr()\n",
    "    return C"
   ]
  },
  {
   "cell_type": "code",
   "execution_count": 21,
   "id": "0f3af9ff",
   "metadata": {},
   "outputs": [
    {
     "data": {
      "application/vnd.jupyter.widget-view+json": {
       "model_id": "e3499d43c7034433898c05bbae7dba5b",
       "version_major": 2,
       "version_minor": 0
      },
      "text/plain": [
       "  0%|          | 0/100 [00:00<?, ?it/s]"
      ]
     },
     "metadata": {},
     "output_type": "display_data"
    },
    {
     "data": {
      "text/plain": [
       "Text(0, 0.5, 'F_max')"
      ]
     },
     "execution_count": 21,
     "metadata": {},
     "output_type": "execute_result"
    },
    {
     "data": {
      "image/png": "[encoded data removed]",
      "text/plain": [
       "<Figure size 640x480 with 1 Axes>"
      ]
     },
     "metadata": {},
     "output_type": "display_data"
    }
   ],
   "source": [
    "#Maximum Eigenvalue\n",
    "#when n is the eigenvector with maximum eigen value of C, FI is maximized\n",
    "# Define the matrix\n",
    "FI_max_arr = []\n",
    "for state in tqdm(result.states):\n",
    "    matrix = C_matrix(state, J_arr)\n",
    "    eigenvalues, eigenvectors = np.linalg.eig(matrix)\n",
    "    max_index = np.argmax(eigenvalues)\n",
    "    max_eigenvalue = eigenvalues[max_index]\n",
    "    max_eigenvector = eigenvectors[:, max_index]\n",
    "    FI_max_arr.append(4*max_eigenvalue)\n",
    "\n",
    "#Plot FI_max vs time/\\theta\n",
    "plt.plot(times,FI_max_arr)\n",
    "plt.xlabel(\"time\")\n",
    "plt.ylabel(\"F_max\")"
   ]
  },
  {
   "cell_type": "code",
   "execution_count": null,
   "id": "7e4b5b26",
   "metadata": {},
   "outputs": [],
   "source": [
    "times"
   ]
  },
  {
   "cell_type": "code",
   "execution_count": null,
   "id": "1e5cb6ff",
   "metadata": {},
   "outputs": [],
   "source": [
    "#Graph of FI vs time"
   ]
  },
  {
   "cell_type": "code",
   "execution_count": null,
   "id": "e4227312",
   "metadata": {},
   "outputs": [],
   "source": [
    "#(2)\n",
    "#Encode \\theta by applying U = e^{i n.J \\theta}\n",
    "psi_i = results.states #for FI vs time graph\n",
    "n = np.array([1,0,0]) #ideally the max eigenvalue eigenvector\n",
    "J_arr = np.array([]) #generators or their subset\n",
    "theta_arr = np.linspace(0, 0.5, 2) #values of theta to encode\n",
    "#code for n.J\n",
    "result2 = mesolve(n*J_arr, psi_i, times, [], options = options)"
   ]
  },
  {
   "cell_type": "code",
   "execution_count": null,
   "id": "18cc7ae2",
   "metadata": {},
   "outputs": [],
   "source": [
    "#Fisher Info Calculation\n",
    "def purestate_FI(J,psi):\n",
    "    FI = 4*variance(J,psi)\n",
    "    return FI"
   ]
  },
  {
   "cell_type": "code",
   "execution_count": null,
   "id": "320f3405",
   "metadata": {},
   "outputs": [],
   "source": [
    "FI_list = []\n",
    "for psi in result.states:\n",
    "    FI_list.append(purestate_FI(H,psi))\n",
    "\n",
    "plt.plot(times,FI_list)\n",
    "plt.xlabel(\"time\")\n",
    "plt.ylabel(\"Finsher Info\")"
   ]
  },
  {
   "cell_type": "code",
   "execution_count": null,
   "id": "59ea9769",
   "metadata": {},
   "outputs": [],
   "source": [
    "#pauli operators for the tmon system\n",
    "#initialize\n",
    "N = 3 #number of transmons\n",
    "Nlevel = Ntrunc\n",
    "# spin = 1\n",
    "# dim = spin*2+1\n",
    "\n",
    "#padded operators\n",
    "jx = op_padded(jmat(spin,'x'), Nlevel)\n",
    "jy = op_padded(jmat(spin,'y'), Nlevel)\n",
    "jz = op_padded(jmat(spin,'z'), Nlevel)\n",
    "#combined spin operators\n",
    "JX = 0\n",
    "JY = 0\n",
    "JZ = 0\n",
    "for i in range(N):\n",
    "    JX.append(ensemble_op(jx,i,N))\n",
    "    JY.append(ensemble_op(jx,i,N))\n",
    "    JZ.append(ensemble_op(jx,i,N))"
   ]
  },
  {
   "cell_type": "code",
   "execution_count": null,
   "id": "ba725654",
   "metadata": {},
   "outputs": [],
   "source": [
    "#calculate optimal squeezing parameter\n",
    "H_cap = [] #array of all operators being considered\n",
    "##calculate covariance matrix\n",
    "##calculate commutator matrix\n",
    "def calculate_covariance(matrix1, matrix2):\n",
    "    # Check if the matrices have the same shape\n",
    "    if matrix1.shape != matrix2.shape:\n",
    "        raise ValueError(\"Matrices must have the same shape.\")\n",
    "    \n",
    "    # Calculate the covariance\n",
    "    covariance = np.cov(matrix1, matrix2, bias=True)\n",
    "    \n",
    "    return covariance\n",
    "\n",
    "def covariance_matrix(H_cap):\n",
    "    tau = np.zeros((len(H_cap),len(H_cap)))\n",
    "    for k in range(len(H_cap)):\n",
    "        for l in range(len(H_cap)):\n",
    "            tau[k][l] = calculate_covariance(H_cap[k],H_cap(l))"
   ]
  },
  {
   "cell_type": "code",
   "execution_count": null,
   "id": "c71a8b13",
   "metadata": {},
   "outputs": [],
   "source": [
    "'''\n",
    "#Hamiltonian for a set of transmons coupled to a mode\n",
    "class tmon_system:\n",
    "    def __init__(self,N, Nlevel, E_C, E_j, g_arr, omega):\n",
    "        self.N = N #value of n goes from 0 to N-1\n",
    "        self.Nlevel = Nlevel #cut off dimension/truncation\n",
    "        #This is different from d which is the level that comes into hamiltonian.\n",
    "        #d refers to the highest excitation present in the initialised state\n",
    "        #d  by default is set to (Nlevel-2) as (d+1) at max can be (Nlevel-1)\n",
    "        self.d = Nlevel-2\n",
    "        self.E_c= E_c\n",
    "        self.E_j = E_j\n",
    "        self.g_arr = g_arr #g^n_i = g_arr[n][i]\n",
    "        self.omega = omega #freq of photonic mode\n",
    "        self.v_arr = self.freq_list() #v[n][i] = v^n_i\n",
    "    \n",
    "    def freq_list(self):\n",
    "        #calculate v^n_i\n",
    "        #for |i><i|_n, coefficient is  \\sqrt(8E^n_j*E^n_c)*i - E^n_c/2*i(i+1)\n",
    "        arr = []\n",
    "        for n in range(self.N):\n",
    "            temp_arr = []\n",
    "            for i in range(self.d+1):\n",
    "                v_ni = np.sqrt(8*self.E_c[n]*self.E_j[n])*i - 0.5*self.E_c[n]*i*(i+1)\n",
    "                temp_arr.append(v_ni)\n",
    "            arr.append(temp_arr) \n",
    "        return arr\n",
    "    \n",
    "    def cal_delta(self):\n",
    "        #simplest version is to equate to average over transmons i.e n\n",
    "        delta_arr = []\n",
    "        \n",
    "        for n in range(self.N):\n",
    "            temp = 0\n",
    "            for i in range(self.d +1):\n",
    "                temp = temp + ((self.g_arr[n][i]**2)*np.heaviside(i,0)/(self.v_arr[n][i-1]-self.omega)+self.v_arr[n][i])\n",
    "            delta_arr.append(temp/(self.d+1))\n",
    "        return delta_arr\n",
    "    \n",
    "    def tensor_id(self, dim = None):\n",
    "        if dim ==None:\n",
    "            dim = self.d+2\n",
    "        #IxIxIxI...Ioperator\n",
    "        Neye = []\n",
    "        for i in  range(self.N):\n",
    "            Neye.append(qeye(dim))\n",
    "        nid = tensor(Neye)\n",
    "        return nid\n",
    "          \n",
    "    def tensor_projection_op(self,n,i,j, dim = None):\n",
    "        #returns IxIxIx...(|i><j|_n)xIxI...xI\n",
    "        if n > self.N-1:\n",
    "            print(\"invalid n\")\n",
    "            return\n",
    "        if dim ==None:\n",
    "            dim = self.d+2\n",
    "            \n",
    "        Neye = []\n",
    "        for k in  range(self.N):\n",
    "            Neye.append(qeye(dim))\n",
    "        #(|i><j|_n)\n",
    "        Neye[n] = basis(dim,i)*basis(dim,j).dag()\n",
    "        nid = tensor(Neye)\n",
    "        return nid\n",
    "        \n",
    "    def H_I(self, delta_arr = None):\n",
    "        #rotataed time indp effective hamiltonian\n",
    "        #lambda_arr contains \\Delta_i to be added as self energy corrections\n",
    "        if delta_arr==None:\n",
    "            delta_arr = self.cal_delta()\n",
    "        \n",
    "        H0 = 0\n",
    "        for n in range(self.N):\n",
    "            for i in range(self.d + 1):\n",
    "                c_ni = (self.g_arr[n][i-1]**2)*np.heaviside(i,0)/(self.v_arr[n][i-1]- self.omega) + self.v_arr[n][i] - delta_arr[i]\n",
    "                H0 = H0 + c_ni*self.tensor_projection_op(n,i,i)\n",
    "        \n",
    "        H1 = 0\n",
    "        for n in range(self.N):\n",
    "            for m in range(self.N):\n",
    "                for i in range(self.d + 1):\n",
    "                    if n == m:\n",
    "                        break\n",
    "                    c_nmi = 0.5*(self.g_arr[n][i]*self.g_arr[m][i])/(self.omega - self.v_arr[m][i])\n",
    "                    H1 = H1 + c_nmi*(self.tensor_projection_op(n,i,i+1)*self.tensor_projection_op(m,i+1,i) + self.tensor_projection_op(n,i+1,i)*self.tensor_projection_op(m,i,i+1))\n",
    "        \n",
    "        return H0 + H1\n",
    "\n",
    "def generate_tmon_arch(N,Nlevel):\n",
    "    #scaling is 1 to 100MHz\n",
    "    E_j =  np.absolute(np.random.normal(200,20, N))\n",
    "    E_c = np.absolute(np.random.normal(2.5,0.2, N))\n",
    "    g_arr = np.zeros((N,Nlevel))\n",
    "    for n in range(N):\n",
    "        for i in range(Nlevel):\n",
    "            g_arr[n][i] = 1\n",
    "    omega = 2\n",
    "    return E_j, E_c, g_arr,omega \n",
    "'''"
   ]
  },
  {
   "cell_type": "code",
   "execution_count": null,
   "id": "88101552",
   "metadata": {},
   "outputs": [],
   "source": [
    "\"\"\"\n",
    "#create spin operators\n",
    "class operators:\n",
    "    def __init__(self, N, spin):\n",
    "        self.N = N\n",
    "        self.spin =spin\n",
    "        \n",
    "    \n",
    "    def generators_arr(self):\n",
    "        #return all generators for a spin-n algebra\n",
    "        return\n",
    "    \n",
    "    def tensor_operator(self,op,i):\n",
    "        #returns IxIxIx...(op_i)xIxI...xI\n",
    "        if i > self.N-1:\n",
    "            raise ValueError(\"index needs to be between 0 and\"+str(self.N)+\"-1\")\n",
    "\n",
    "        Neye = []\n",
    "        for k in  range(self.N):\n",
    "            Neye.append(qeye(self.spin))\n",
    "        #(op_i)\n",
    "        Neye[n] = basis(dim,i)*basis(dim,j).dag()\n",
    "        nid = tensor(Neye)\n",
    "        return nid\n",
    "        \n",
    "    def J_n(self,n):\n",
    "        #\\sum (n.J)_i\n",
    "        #it should take both 3x1 and dx1 vectors\n",
    "        #3x1 leads to use of just sigma x,y,z\n",
    "        #dx1 leads to use of all generators\n",
    "        jx = jmat(i, 'x')\n",
    "        jy = jmat(i, 'y')\n",
    "        jz = jmat(i, 'z')\n",
    "        \n",
    "        \n",
    "     \n",
    "    def nonlin_operators(self, degree):\n",
    "        #take array of generators and combine them to get non-lin operators\n",
    "        #return vector with non-lin operators only\n",
    "        lin_op_arr = self.generators_arr\n",
    "        nonlin_arr = []\n",
    "\"\"\""
   ]
  }
 ],
 "metadata": {
  "kernelspec": {
   "display_name": "Python 3 (ipykernel)",
   "language": "python",
   "name": "python3"
  },
  "language_info": {
   "codemirror_mode": {
    "name": "ipython",
    "version": 3
   },
   "file_extension": ".py",
   "mimetype": "text/x-python",
   "name": "python",
   "nbconvert_exporter": "python",
   "pygments_lexer": "ipython3",
   "version": "3.11.1"
  }
 },
 "nbformat": 4,
 "nbformat_minor": 5
}
