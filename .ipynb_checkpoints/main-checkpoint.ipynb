{
 "cells": [
  {
   "cell_type": "code",
   "execution_count": 1,
   "id": "08b42426",
   "metadata": {},
   "outputs": [],
   "source": [
    "import numpy as np\n",
    "from qutip import *\n",
    "from tqdm.auto import tqdm\n",
    "import matplotlib.pyplot as plt\n",
    "import math"
   ]
  },
  {
   "cell_type": "code",
   "execution_count": 2,
   "id": "c279a703",
   "metadata": {},
   "outputs": [],
   "source": [
    "from modules.spin_arch import *\n",
    "from modules.su_algebra import *"
   ]
  },
  {
   "cell_type": "code",
   "execution_count": 3,
   "id": "636cd0d6",
   "metadata": {},
   "outputs": [],
   "source": [
    "from IPython.display import Latex"
   ]
  },
  {
   "cell_type": "code",
   "execution_count": 4,
   "id": "e7444d9c",
   "metadata": {},
   "outputs": [],
   "source": [
    "Ntrunc = 4 #global operator for truncation level or total number of dimensions"
   ]
  },
  {
   "cell_type": "code",
   "execution_count": null,
   "id": "ed8b1408",
   "metadata": {},
   "outputs": [],
   "source": [
    "#entire process involves 3 steps\n",
    "## 1) Evolution by H\n",
    "## 2) Encoding \\theta by applying U = e^{iJ\\theta}\n",
    "## 3) Measurement using some projections"
   ]
  },
  {
   "cell_type": "markdown",
   "id": "dd351e97",
   "metadata": {},
   "source": [
    "### Hamiltonian: \n",
    "$$\n",
    "H' = \\sum_{n,i} \\left(\\frac{(g^n_{i-1})^2 \\mathcal H(i)}{v^n_{i-1} - \\omega} + v^n_i - \\Delta_i \\right) \\sigma^n_{i,i} +  \\frac{1}{2} \\sum_{n \\neq m,i}\\frac{g^n_{i}g^m_{i}}{\\omega - v^m_{i}} ( \\sigma^n_{i,i+1}\\sigma^m_{i+1,i} + \\sigma^n_{i+1,i}\\sigma^m_{i,i+1} )\n",
    "$$\n",
    "\n",
    "where $\\mathcal H(i) = 1$ for $i>0$, otherwise 0."
   ]
  },
  {
   "cell_type": "markdown",
   "id": "4d91c6f6",
   "metadata": {},
   "source": [
    "### Parameters:\n",
    "$$v^n_{i-1} = (\\sqrt{8 E^n_c E^n_j})i - 0.5*E^n_c i (i+1) $$\n",
    "with default values set as $v \\approx 60 * 100Mhz$, $g = 100Mhz$, $\\omega = 55*100MHz$ "
   ]
  },
  {
   "cell_type": "code",
   "execution_count": 5,
   "id": "8b4eb45d",
   "metadata": {},
   "outputs": [],
   "source": [
    "#initialize system\n",
    "N = 4\n",
    "Nlevel = Ntrunc\n",
    "Ej, Ec, g_arr, omega = generate_tmon_arch(N,Nlevel)\n",
    "sys1 = tmon_system(N, Nlevel, Ec, Ej, g_arr, omega)"
   ]
  },
  {
   "cell_type": "code",
   "execution_count": 6,
   "id": "c03ca25e",
   "metadata": {},
   "outputs": [
    {
     "data": {
      "text/plain": [
       "[[0.0, 60.745553203367585, 118.99110640673517],\n",
       " [0.0, 60.745553203367585, 118.99110640673517],\n",
       " [0.0, 60.745553203367585, 118.99110640673517],\n",
       " [0.0, 60.745553203367585, 118.99110640673517]]"
      ]
     },
     "execution_count": 6,
     "metadata": {},
     "output_type": "execute_result"
    }
   ],
   "source": [
    "sys1.freq_list()"
   ]
  },
  {
   "cell_type": "code",
   "execution_count": 7,
   "id": "626d4bfc",
   "metadata": {},
   "outputs": [
    {
     "data": {
      "text/plain": [
       "array([[0., 0., 0.],\n",
       "       [0., 0., 0.],\n",
       "       [0., 0., 0.],\n",
       "       [0., 0., 0.]])"
      ]
     },
     "execution_count": 7,
     "metadata": {},
     "output_type": "execute_result"
    }
   ],
   "source": [
    "sys1.self_energy"
   ]
  },
  {
   "cell_type": "markdown",
   "id": "6f10176b",
   "metadata": {},
   "source": [
    "### Hamiltonian Evolution: $$e^{-iHt} \\rho_0 e^{iHt}$$"
   ]
  },
  {
   "cell_type": "code",
   "execution_count": 8,
   "id": "cbaeb640",
   "metadata": {},
   "outputs": [
    {
     "data": {
      "text/latex": [
       "Quantum object: dims = [[4], [4]], shape = (4, 4), type = oper, isherm = True $ \\\\ \\left(\\begin{matrix}0.333 & 0.333 & 0.333 & 0.0\\\\0.333 & 0.333 & 0.333 & 0.0\\\\0.333 & 0.333 & 0.333 & 0.0\\\\0.0 & 0.0 & 0.0 & 0.0\\\\\\end{matrix}\\right)$"
      ],
      "text/plain": [
       "Quantum object: dims = [[4], [4]], shape = (4, 4), type = oper, isherm = True\n",
       "Qobj data =\n",
       "[[0.33333333 0.33333333 0.33333333 0.        ]\n",
       " [0.33333333 0.33333333 0.33333333 0.        ]\n",
       " [0.33333333 0.33333333 0.33333333 0.        ]\n",
       " [0.         0.         0.         0.        ]]"
      ]
     },
     "execution_count": 8,
     "metadata": {},
     "output_type": "execute_result"
    }
   ],
   "source": [
    "psi_2 = (basis(Nlevel,0) + basis(Nlevel,1) + basis(Nlevel,2))\n",
    "psi_2 = psi_2/psi_2.norm()\n",
    "psi_2 = psi_2 * psi_2.dag()\n",
    "psi_2"
   ]
  },
  {
   "cell_type": "code",
   "execution_count": 9,
   "id": "642edf68",
   "metadata": {},
   "outputs": [
    {
     "name": "stdout",
     "output_type": "stream",
     "text": [
      "10.0%. Run time:  20.67s. Est. time left: 00:00:03:06\n",
      "20.0%. Run time:  43.36s. Est. time left: 00:00:02:53\n",
      "30.0%. Run time:  64.48s. Est. time left: 00:00:02:30\n",
      "40.0%. Run time:  84.76s. Est. time left: 00:00:02:07\n",
      "50.0%. Run time: 104.96s. Est. time left: 00:00:01:44\n",
      "60.0%. Run time: 125.17s. Est. time left: 00:00:01:23\n",
      "70.0%. Run time: 145.89s. Est. time left: 00:00:01:02\n",
      "80.0%. Run time: 166.28s. Est. time left: 00:00:00:41\n",
      "90.0%. Run time: 186.64s. Est. time left: 00:00:00:20\n",
      "Total run time: 206.63s\n",
      "500\n"
     ]
    }
   ],
   "source": [
    "#(1)\n",
    "#Evolution of a particular \\rho with H' and \\t\n",
    "#simply solve the U\\rhoU' for different thetas\n",
    "H = sys1.H_I()\n",
    "psi0 = tensor([psi_2]*N) #sys1.tensor_projection_op(0,1,1, dim = None)\n",
    "times = np.linspace(0,10000,500) #time scale is ~ 1/freq of self energy \n",
    "options = Options()\n",
    "options.store_final_state = True\n",
    "result = mesolve(H, psi0, times, [], options = options, progress_bar=True)\n",
    "print(len(result.states))"
   ]
  },
  {
   "cell_type": "code",
   "execution_count": 10,
   "id": "675f9abe",
   "metadata": {},
   "outputs": [
    {
     "data": {
      "application/vnd.jupyter.widget-view+json": {
       "model_id": "3b43d6cae87e43e3a0bfdc4b8d8a1fc9",
       "version_major": 2,
       "version_minor": 0
      },
      "text/plain": [
       "  0%|          | 0/4 [00:00<?, ?it/s]"
      ]
     },
     "metadata": {},
     "output_type": "display_data"
    }
   ],
   "source": [
    "pop_arr = []\n",
    "Jx_arr = []\n",
    "for i in tqdm(range(N)):\n",
    "    temp = []\n",
    "    temp2 = []\n",
    "    for state in result.states:\n",
    "        temp.append(abs(expect(state.ptrace(i), create(Nlevel)*destroy(Nlevel))))\n",
    "        temp2.append(abs(expect(state.ptrace(i),Qobj((op_padded(sigmax(),Nlevel))))))\n",
    "    pop_arr.append(temp)\n",
    "    Jx_arr.append(temp2)\n",
    "    #print(sum(temp))"
   ]
  },
  {
   "cell_type": "code",
   "execution_count": 11,
   "id": "17471aa9",
   "metadata": {},
   "outputs": [
    {
     "data": {
      "text/plain": [
       "Text(0, 0.5, 'n')"
      ]
     },
     "execution_count": 11,
     "metadata": {},
     "output_type": "execute_result"
    },
    {
     "data": {
      "image/png": "[encoded data removed]",
      "text/plain": [
       "<Figure size 640x480 with 2 Axes>"
      ]
     },
     "metadata": {},
     "output_type": "display_data"
    }
   ],
   "source": [
    "plt.pcolormesh(pop_arr)\n",
    "plt.colorbar()\n",
    "#plt.xticks()\n",
    "plt.title(\"populaton in each tmon\")\n",
    "plt.yticks(range(N))\n",
    "plt.xlabel(\"time\")\n",
    "plt.ylabel(\"n\")"
   ]
  },
  {
   "cell_type": "code",
   "execution_count": 12,
   "id": "1ed4296d",
   "metadata": {},
   "outputs": [
    {
     "data": {
      "text/plain": [
       "Text(0, 0.5, 'index of tmons')"
      ]
     },
     "execution_count": 12,
     "metadata": {},
     "output_type": "execute_result"
    },
    {
     "data": {
      "image/png": "[encoded data removed]",
      "text/plain": [
       "<Figure size 640x480 with 2 Axes>"
      ]
     },
     "metadata": {},
     "output_type": "display_data"
    }
   ],
   "source": [
    "plt.pcolormesh(Jx_arr)\n",
    "plt.colorbar()\n",
    "#plt.xticks(times[times%5==0])\n",
    "plt.yticks(range(N))\n",
    "plt.xlabel(\"time\")\n",
    "plt.ylabel(\"index of tmons\")"
   ]
  },
  {
   "cell_type": "code",
   "execution_count": 13,
   "id": "449dc528",
   "metadata": {},
   "outputs": [
    {
     "data": {
      "image/png": "[encoded data removed]",
      "text/plain": [
       "<Figure size 640x480 with 1 Axes>"
      ]
     },
     "metadata": {},
     "output_type": "display_data"
    }
   ],
   "source": [
    "plt.plot(times, pop_arr[0])\n",
    "plt.title(\"population in 1st tmon\")\n",
    "plt.xlabel(\"time\")\n",
    "plt.ylabel(\"population\")\n",
    "plt.show()"
   ]
  },
  {
   "cell_type": "code",
   "execution_count": 14,
   "id": "9d34a117",
   "metadata": {},
   "outputs": [
    {
     "data": {
      "image/png": "[encoded data removed]",
      "text/plain": [
       "<Figure size 640x480 with 1 Axes>"
      ]
     },
     "metadata": {},
     "output_type": "display_data"
    }
   ],
   "source": [
    "plt.plot(times, np.add(np.add(np.add(Jx_arr[0], Jx_arr[1]),Jx_arr[2]), Jx_arr[3]))\n",
    "plt.xlabel(\"time\")\n",
    "plt.ylabel(\"< Jx >\")\n",
    "plt.show()"
   ]
  },
  {
   "cell_type": "markdown",
   "id": "cddb91e1",
   "metadata": {},
   "source": [
    "### For pure states: $$F_{\\psi} = 4 \\Delta J^2_n = nCn^T \\quad \\quad C_{\\alpha,\\beta} = Cov<J_\\alpha, J_\\beta> = \\frac{1}{2}[<J_\\alpha J_\\beta>+ <J_\\beta J_\\alpha>] - <J_\\alpha><J_\\beta>$$ where: $$<O> = Tr(\\rho O) $$"
   ]
  },
  {
   "cell_type": "code",
   "execution_count": null,
   "id": "c94a7f66",
   "metadata": {},
   "outputs": [],
   "source": [
    "#pauli matrices assuming just qubits\n",
    "#no padding req for 2 dim though\n",
    "Jx = Qobj(0.5*ensemble_op(op_padded(sigmax(),Nlevel), N))\n",
    "Jy = Qobj(0.5*ensemble_op(op_padded(sigmay(),Nlevel), N))\n",
    "Jz = Qobj(0.5*ensemble_op(op_padded(sigmaz(),Nlevel), N))\n",
    "\n",
    "J_arr = [Jx,Jy,Jz]"
   ]
  },
  {
   "cell_type": "code",
   "execution_count": null,
   "id": "807ede4d",
   "metadata": {},
   "outputs": [],
   "source": [
    "#spin1 using tensor operators, but only Sx,Sy,Sz\n",
    "sx,sy,sz, s1,s2,s3,s4,s5 = spin1_tensorop()\n",
    "Jx = Qobj(ensemble_op(op_padded(sx,Nlevel), N))\n",
    "Jy = Qobj(ensemble_op(op_padded(sy,Nlevel), N))\n",
    "Jz = Qobj(ensemble_op(op_padded(sz,Nlevel), N))\n",
    "J1 = Qobj(ensemble_op(op_padded(s1,Nlevel), N))\n",
    "J2 = Qobj(ensemble_op(op_padded(s2,Nlevel), N))\n",
    "J3 = Qobj(ensemble_op(op_padded(s3,Nlevel), N))\n",
    "J4 = Qobj(ensemble_op(op_padded(s4,Nlevel), N))\n",
    "J5 = Qobj(ensemble_op(op_padded(s5,Nlevel), N))\n",
    "\n",
    "J_arr = [Jx,Jy,Jz,J1,J2,J3,J4,J5]\n",
    "#J_arr = [Jx,Jy,Jz]"
   ]
  },
  {
   "cell_type": "code",
   "execution_count": 19,
   "id": "896fd384",
   "metadata": {},
   "outputs": [],
   "source": [
    "#gellmann matrices\n",
    "l1,l2,l3,l4,l5,l6,l7,l8 = gellmann_matrices()\n",
    "Jx = Qobj(ensemble_op(op_padded(l1,Nlevel), N))\n",
    "Jy = Qobj(ensemble_op(op_padded(l2,Nlevel), N))\n",
    "Jz = Qobj(ensemble_op(op_padded(l3,Nlevel), N))\n",
    "J1 = Qobj(ensemble_op(op_padded(l4,Nlevel), N))\n",
    "J2 = Qobj(ensemble_op(op_padded(l5,Nlevel), N))\n",
    "J3 = Qobj(ensemble_op(op_padded(l6,Nlevel), N))\n",
    "J4 = Qobj(ensemble_op(op_padded(l7,Nlevel), N))\n",
    "J5 = Qobj(ensemble_op(op_padded(l8,Nlevel), N))\n",
    "\n",
    "J_arr = [Jx,Jy,Jz,J1,J2,J3,J4,J5]\n",
    "#J_arr = [Jx,Jy,Jz]"
   ]
  },
  {
   "cell_type": "code",
   "execution_count": 16,
   "id": "20d1cc93",
   "metadata": {},
   "outputs": [],
   "source": [
    "#Calculation of covariance matrix\n",
    "# for now step (2,3) can be avoided as exact analytical results avaialble\n",
    "# FI = n^T C n\n",
    "def C_matrix(rho, J_arr):\n",
    "    #do a dimension check for rho and J_arr[i] as well\n",
    "    d = len(J_arr)\n",
    "    C = np.zeros((d,d), dtype=complex)\n",
    "    for i in range(d):\n",
    "        for j in range(d):\n",
    "            C[i][j] = 0.5*((rho*J_arr[i]*J_arr[j]).tr()+ (rho*J_arr[j]*J_arr[i]).tr())- (rho*J_arr[i]).tr()*(rho*J_arr[j]).tr()\n",
    "    return C"
   ]
  },
  {
   "cell_type": "code",
   "execution_count": null,
   "id": "0f3af9ff",
   "metadata": {},
   "outputs": [
    {
     "data": {
      "application/vnd.jupyter.widget-view+json": {
       "model_id": "287de54541b849a9ad7141b095cd0a50",
       "version_major": 2,
       "version_minor": 0
      },
      "text/plain": [
       "  0%|          | 0/500 [00:00<?, ?it/s]"
      ]
     },
     "metadata": {},
     "output_type": "display_data"
    },
    {
     "name": "stdout",
     "output_type": "stream",
     "text": [
      "0time step: [-0.  0. -0.  4.  4.  4.  0.  4.]\n",
      "1time step: [8.4279 6.6834 6.446  1.5418 2.3136 2.8105 4.4887 4.5275]\n",
      "2time step: [9.6871 8.149  5.4844 3.1176 2.7375 0.7169 1.253  1.0624]\n",
      "3time step: [10.391   7.8849  6.0374  0.5836  3.1853  1.3657  2.0426  2.2881]\n",
      "4time step: [8.3175 7.8958 7.41   1.758  1.8876 3.6325 3.2276 3.1566]\n",
      "5time step: [13.7027  5.8545  3.8832  0.1971  0.9814  2.6654  1.6898  1.9914]\n",
      "6time step: [7.8354 8.183  6.8525 1.2357 1.757  2.888  3.8442 3.7142]\n",
      "7time step: [8.7302 0.8865 6.861  6.7091 2.4252 2.8558 4.2196 4.0155]\n",
      "8time step: [7.5115 6.3787 0.0368 0.5591 0.6079 1.6554 1.8652 2.0846]\n",
      "9time step: [7.8954 8.0357 8.1622 1.6572 3.2377 3.3092 2.4778 2.528 ]\n",
      "10time step: [8.6236 7.116  2.9986 0.1077 1.7259 0.9198 1.0427 1.5047]\n",
      "11time step: [8.7969 7.0621 7.4577 0.7231 2.278  3.756  3.3407 2.7715]\n",
      "12time step: [7.8734 7.2839 7.0336 1.3393 2.0462 4.2645 3.5313 3.4927]\n",
      "13time step: [14.2462  5.1711  0.0434  3.2204  1.2109  1.4064  2.3968  2.6617]\n",
      "14time step: [6.5936 7.7104 8.15   1.5294 2.1959 4.338  3.2273 3.4776]\n",
      "15time step: [9.5373 7.8896 6.758  0.5963 3.4315 1.8145 2.3737 2.4335]\n",
      "16time step: [9.8499 7.7423 4.8317 0.3947 0.997  1.235  2.3907 2.1424]\n",
      "17time step: [8.2172 7.5346 6.8938 1.7116 2.1597 3.1174 4.0495 3.5945]\n",
      "18time step: [6.5331 4.4146 3.4297 2.2321 0.7877 0.0316 0.0596 0.1518]\n",
      "19time step: [8.6381 1.31   2.0514 3.2839 4.6277 5.9606 5.5051 5.7384]\n",
      "20time step: [9.544  7.9296 6.1097 3.5267 3.244  1.8919 1.1517 0.928 ]\n",
      "21time step: [11.6571  6.9483  5.6575  2.8784  0.5249  1.0425  2.1198  1.7566]\n",
      "22time step: [8.1541 7.9104 7.6247 1.8182 3.485  3.4032 2.6198 2.2874]\n",
      "23time step: [12.3004  6.5665  5.1696  0.4001  0.9954  2.7379  1.735   1.9645]\n",
      "24time step: [9.0974 7.885  6.344  1.3127 1.0048 2.3677 3.7698 3.488 ]\n",
      "25time step: [8.7259 1.1742 1.9472 3.4282 4.236  6.3904 5.2052 5.8646]\n",
      "26time step: [7.933  4.7156 2.9845 1.7402 1.6383 0.3672 0.1156 0.1038]\n",
      "27time step: [6.9245 8.0883 7.8845 1.7387 2.2401 3.8458 3.4732 3.094 ]\n",
      "28time step: [10.2551  7.018   4.5773  0.2496  1.0395  1.3352  1.9059  1.6987]\n",
      "29time step: [9.5449 7.5515 6.8817 0.6627 3.5635 1.7391 2.7733 2.638 ]\n",
      "30time step: [8.1726 1.3237 7.2853 6.0897 2.2006 4.9367 3.7022 3.4017]\n",
      "31time step: [1.34949e+01 5.50540e+00 1.70000e-03 1.31460e+00 1.32170e+00 3.17090e+00\n",
      " 2.68040e+00 2.65960e+00]\n",
      "32time step: [8.1611 7.1311 1.2714 2.1121 6.1635 5.019  3.7323 3.4373]\n",
      "33time step: [9.4182 7.7046 6.6643 0.7119 1.7    3.6536 2.8224 2.941 ]\n",
      "34time step: [10.4684  6.5875  4.4854  0.2119  0.9985  1.3474  1.7388  1.5483]\n",
      "35time step: [7.9828 8.0489 6.8236 1.7913 2.2865 3.9005 3.5845 2.8754]\n",
      "36time step: [9.1536 4.7373 2.6212 2.823  1.386  0.1479 0.2055 0.5858]\n",
      "37time step: [8.7955 1.1494 1.6928 6.9259 3.8719 3.6759 4.9399 5.7598]\n",
      "38time step: [8.7715 7.8879 6.2532 0.9857 1.3026 2.8912 3.5871 3.9896]\n",
      "39time step: [12.1409  6.7579  4.8605  2.7214  0.3106  1.0574  1.6978  1.834 ]\n",
      "40time step: [8.1941 7.8429 6.9389 1.8552 3.9291 2.4259 2.7772 3.3343]\n",
      "41time step: [11.2745  7.2584  5.7442  3.079   0.5337  1.1749  2.0156  1.7379]\n",
      "42time step: [9.9764 7.7364 5.9066 0.717  0.9911 2.236  3.2411 3.062 ]\n",
      "43time step: [8.6671 1.4324 1.6611 6.3373 3.6432 5.6406 5.0115 4.6972]\n",
      "44time step: [8.8781e+00 2.8769e+00 3.7868e+00 3.5440e+00 1.3473e+00 5.2000e-03\n",
      " 3.3680e-01 3.7380e-01]\n",
      "45time step: [8.3883 7.3779 1.5564 1.9234 5.7065 3.3911 4.4017 4.4817]\n",
      "46time step: [10.8068  7.2331  5.5031  0.3955  1.0223  1.7611  2.5878  2.1798]\n",
      "47time step: [10.5459  7.8026  5.8782  3.4942  0.6277  1.2869  2.3534  2.1584]\n",
      "48time step: [8.2653 7.4874 6.556  1.4725 4.195  3.802  3.1161 2.335 ]\n",
      "49time step: [12.2362  6.8465  3.5999  0.0761  1.1747  1.3882  2.2589  2.6675]\n",
      "50time step: [8.3379 1.1184 1.6188 7.1231 6.1272 5.0948 3.7654 3.4218]\n",
      "51time step: [9.0022 8.1743 1.3763 0.9358 5.6992 3.2296 3.5782 4.0872]\n",
      "52time step: [11.0183  5.6206  4.4471  0.3022  0.5171  1.9628  1.5003  1.1843]\n",
      "53time step: [7.1648 7.9497 8.0987 3.8214 1.9808 2.5352 2.2831 3.47  ]\n",
      "54time step: [10.993   5.4613  4.3412  2.1007  1.4647  1.1031  0.4239  0.3239]\n",
      "55time step: [8.9014 8.1459 0.9987 1.3201 5.4962 3.3112 3.814  4.2023]\n",
      "56time step: [8.4207 1.098  1.4512 3.7688 3.431  5.0278 5.9264 7.3255]\n",
      "57time step: [11.8521  7.3241  0.112   3.5835  1.1074  1.3787  2.1731  2.6746]\n",
      "58time step: [8.2608 7.58   7.0028 1.5575 2.3397 2.96   3.6754 3.8723]\n",
      "59time step: [10.8563  8.0613  5.2002  3.5088  0.5912  1.1571  2.1755  1.9929]\n",
      "60time step: [10.8108  7.5471  5.4029  0.4302  0.9928  2.9811  2.1377  2.3014]\n",
      "61time step: [8.5047 7.2572 1.4653 1.7805 5.9939 3.3175 4.0853 4.7625]\n",
      "62time step: [1.01837e+01 4.85460e+00 3.41270e+00 3.35840e+00 1.23870e+00 2.00000e-03\n",
      " 6.04900e-01 6.13600e-01]\n",
      "63time step: [8.6646 1.3723 1.6268 3.4751 4.2044 6.681  5.1674 5.8609]\n",
      "64time step: [10.2379  7.9236  5.4024  0.9828  0.5648  3.3966  2.575   2.7913]\n",
      "65time step: [11.2316  8.0235  4.7163  3.2871  0.5094  1.1197  1.8689  1.7478]\n",
      "66time step: [8.2164 7.8232 7.5313 1.6926 3.5245 3.3925 2.4087 2.6978]\n",
      "67time step: [11.5567  7.7359  3.7355  2.7119  2.0184  0.9796  1.3969  0.2178]\n",
      "68time step: [8.6108 7.9526 1.1382 1.0406 5.4438 4.5614 3.4372 3.8254]\n",
      "69time step: [8.821  7.76   1.0869 1.2561 3.5047 5.0586 4.2843 4.5985]\n",
      "70time step: [11.2351  6.1409  3.9037  2.3905  1.6582  0.1929  0.5971  1.007 ]\n",
      "71time step: [8.2178 7.9606 7.5715 1.6992 3.6213 3.3658 2.1514 2.7042]\n",
      "72time step: [11.5903  6.9755  4.658   0.4055  0.8077  2.3239  1.4818  1.7406]\n",
      "73time step: [9.6424 8.5617 0.7703 1.0497 4.8835 4.2445 2.8748 3.0612]\n",
      "74time step: [8.5523 1.3199 1.5742 3.6249 3.4381 6.6692 6.3148 5.4102]\n",
      "75time step: [1.14306e+01 7.41560e+00 8.90000e-03 2.03750e+00 1.12440e+00 1.09020e+00\n",
      " 2.93310e+00 2.85610e+00]\n",
      "76time step: [8.4448 7.2579 6.8026 1.443  1.8348 3.4879 3.1577 4.6947]\n",
      "77time step: [10.4943  8.3343  0.6233  1.0032  4.8482  3.8498  2.448   2.4216]\n",
      "78time step: [11.3293  7.6196  4.854   2.9479  0.4328  0.974   1.8652  1.8801]\n",
      "79time step: [8.3567 7.8601 7.1716 1.5587 4.0611 1.9305 3.3689 2.9346]\n",
      "80time step: [11.1716  6.6741  3.3758  2.7734  0.0624  1.6615  0.9582  0.7843]\n",
      "81time step: [8.7685 1.3508 1.2062 6.9197 3.6466 3.9351 5.6601 5.1767]\n",
      "82time step: [9.0432 8.4936 1.0695 0.809  4.9175 3.2109 4.1809 3.7038]\n",
      "83time step: [11.548   7.6372  4.0275  2.6155  0.3688  0.8469  1.8653  1.3996]\n",
      "84time step: [7.8931 8.1625 8.1869 1.5881 3.2173 3.3338 2.4024 2.5198]\n",
      "85time step: [11.5644  7.5732  4.0761  2.574   0.3754  0.8326  1.8681  1.3887]\n",
      "86time step: [9.0596 8.5601 0.806  1.0697 4.7974 3.1964 3.6621 4.2891]\n",
      "87time step: [8.727  1.2349 1.3216 6.8989 5.2799 5.7251 3.6532 3.8122]\n",
      "88time step: [11.298   7.1584  0.0629  3.2526  2.7311  1.8477  0.879   1.0557]\n",
      "89time step: [8.3607 7.8207 7.2208 1.5387 4.0838 3.3192 2.9229 1.9646]\n",
      "90time step: [11.1446  8.0081  4.7317  3.3207  0.5122  0.9867  1.9701  2.0245]\n",
      "91time step: [10.7825  8.0662  4.9019  0.5091  0.9784  3.5147  2.2751  2.3205]\n",
      "92time step: [8.4882 7.4463 6.6997 1.4844 1.7325 3.5266 3.1427 4.63  ]\n",
      "93time step: [1.10559e+01 6.62260e+00 3.14930e+00 3.04740e+00 8.30000e-03 1.52950e+00\n",
      " 8.71400e-01 9.09000e-01]\n",
      "94time step: [8.6792 1.3492 1.5059 3.4762 3.8006 6.5755 6.2519 5.3008]\n",
      "95time step: [9.9117 8.303  0.633  1.0066 4.9981 3.8805 2.9895 2.8108]\n",
      "96time step: [11.4294  7.9197  4.3835  3.0319  0.4706  0.9977  1.7655  1.6403]\n",
      "97time step: [7.7628 8.2261 8.0142 1.615  3.4752 3.235  2.3164 2.6479]\n",
      "98time step: [11.5044  7.7132  0.2385  3.6801  2.6091  0.8933  1.3201  2.0257]\n",
      "99time step: [8.6818 8.1064 1.118  0.9938 5.2041 3.4533 3.9134 4.4685]\n",
      "100time step: [8.8043 7.6293 1.2653 1.0835 3.556  4.2386 5.0552 4.761 ]\n",
      "101time step: [11.2502  6.3378  3.7726  2.4634  1.6896  0.1629  1.0057  0.6416]\n",
      "102time step: [8.2479 7.9555 7.5012 1.6698 3.6869 3.3565 2.1094 2.7586]\n",
      "103time step: [11.5642  7.0223  4.7431  0.3963  2.3835  0.8542  1.7257  1.5334]\n",
      "104time step: [9.7748 8.521  0.7584 1.0546 4.9779 4.1506 2.941  2.8219]\n",
      "105time step: [8.496  1.3082 1.6879 6.7549 6.3593 5.3441 3.6293 3.3723]\n",
      "106time step: [1.15707e+01 7.43370e+00 3.30000e-03 2.25680e+00 2.85440e+00 2.81690e+00\n",
      " 1.16900e+00 1.17620e+00]\n",
      "107time step: [8.4215 1.3797 1.898  3.2215 3.5882 4.8861 7.0374 6.6561]\n",
      "108time step: [10.1934  8.3846  5.1149  3.9222  2.6231  2.5629  0.7022  1.0738]\n",
      "109time step: [11.4087  7.0647  5.0275  0.3507  0.984   2.5019  1.7282  1.6939]\n"
     ]
    },
    {
     "name": "stdout",
     "output_type": "stream",
     "text": [
      "110time step: [8.2675 7.8525 6.9266 1.6454 2.0063 2.9575 3.6384 3.9687]\n",
      "111time step: [10.6733  5.2763  3.689   2.8595  0.0676  1.3663  0.5688  0.7776]\n",
      "112time step: [8.8157 1.2373 1.4041 6.8869 3.6485 5.4818 5.0528 4.2279]\n",
      "113time step: [9.1048 8.1434 5.5705 1.0444 0.8656 3.1145 3.8348 3.6106]\n",
      "114time step: [11.523   7.7594  4.3673  2.9157  0.37    1.0392  1.7838  1.5972]\n",
      "115time step: [8.1933 7.8695 7.4109 1.909  3.6422 3.2209 2.5349 2.5225]\n",
      "116time step: [11.4383  7.7794  4.6751  3.044   0.435   1.0958  1.7312  1.7012]\n",
      "117time step: [9.5728 8.0167 5.6479 1.0038 0.761  2.847  3.5677 3.3236]\n",
      "118time step: [8.7641 1.5052 1.3205 3.6395 4.3583 5.0862 6.3756 5.8775]\n",
      "119time step: [9.9968 4.3572 3.1633 3.6284 1.2715 0.0265 0.4815 0.5991]\n",
      "120time step: [8.3088 7.6539 6.2525 1.5964 1.9874 4.0592 4.214  3.1733]\n",
      "121time step: [11.1198  7.013   5.3216  0.329   1.0448  2.4528  1.7109  1.8608]\n",
      "122time step: [10.3216  8.062   5.6746  0.6645  1.2415  3.6578  2.3667  2.5252]\n",
      "123time step: [8.2958 7.2872 6.4438 1.3782 2.2151 4.5967 3.7725 3.1835]\n",
      "124time step: [12.2445  6.8166  0.0269  1.2346  1.317   3.2462  2.4448  2.6951]\n",
      "125time step: [8.3278 1.1758 1.7902 6.8704 6.0465 5.4114 3.7753 3.4188]\n",
      "126time step: [9.2522 8.1766 5.8796 0.8452 1.4044 3.9346 3.0902 3.2398]\n",
      "127time step: [10.9661  5.9361  4.5795  0.7274  0.2477  1.7704  1.5777  1.2872]\n",
      "128time step: [6.9171 1.9253 3.9536 2.2993 2.6319 3.5211 7.9589 8.0931]\n",
      "129time step: [10.263   4.99    3.7336  2.3822  1.2941  0.8893  0.293   0.2515]\n",
      "130time step: [8.8474 7.541  1.5372 1.0622 5.7575 4.457  3.5471 3.8018]\n",
      "131time step: [8.3731 7.7714 6.2327 1.0341 1.4342 4.3741 3.2303 3.6937]\n",
      "132time step: [12.2896  6.7255  4.3445  0.206   1.084   2.6685  1.9676  1.5735]\n",
      "133time step: [8.2111 7.7405 6.7574 1.6769 3.9539 2.4146 3.008  3.5188]\n",
      "134time step: [10.9382  7.3769  6.0297  3.2343  0.5856  1.2495  2.1501  1.8807]\n",
      "135time step: [10.3112  7.5798  5.7846  0.5899  0.9851  1.9137  2.9437  2.731 ]\n",
      "136time step: [8.5401 1.7893 1.5095 3.579  6.8012 5.2459 4.6732 5.0387]\n",
      "137time step: [ 8.0733e+00  3.7482e+00  3.7595e+00  2.2345e+00  1.4341e+00 -9.0000e-04\n",
      "  2.5070e-01  2.4610e-01]\n",
      "138time step: [8.4941 6.9382 1.5465 1.8443 3.5563 5.4403 4.5459 4.8365]\n",
      "139time step: [10.342   7.5496  5.7043  0.5608  0.9964  1.7338  2.8159  2.6278]\n",
      "140time step: [10.7255  7.2509  6.3815  3.2572  1.3094  0.6018  1.9909  2.2322]\n",
      "141time step: [8.2186 7.731  6.7735 1.5961 2.3525 3.8713 3.5997 3.1321]\n",
      "142time step: [12.8551  6.1434  4.2923  2.647   1.0876  1.5893  2.0275  0.1657]\n",
      "143time step: [8.2119 7.6982 6.567  1.1003 1.6321 3.1854 3.6991 4.2306]\n",
      "144time step: [8.8269 7.3406 0.9517 6.2728 1.8449 4.2901 3.621  3.4275]\n",
      "145time step: [9.2514 5.5374 2.865  2.2223 0.1296 0.4104 1.3486 0.8098]\n",
      "146time step: [8.1342 7.9175 7.3478 1.9046 3.663  2.4032 2.5581 3.3747]\n",
      "147time step: [9.7178 6.2747 3.5149 0.1339 1.8308 0.7642 1.295  1.153 ]\n",
      "148time step: [8.9764 7.5416 6.7322 0.7841 1.9194 3.8092 3.1    3.3239]\n",
      "149time step: [8.0416 6.902  7.0782 1.2253 1.9486 4.4691 3.458  3.6691]\n",
      "150time step: [13.6968  5.4459  0.0556  3.5417  1.2058  1.4179  2.3548  2.6555]\n",
      "151time step: [8.1918 7.5977 6.4946 1.4745 2.2672 4.3291 3.5467 3.324 ]\n",
      "152time step: [9.8545 6.8478 7.5406 0.6088 3.4081 1.6772 2.4524 2.3116]\n",
      "153time step: [10.0675  7.602   5.0289  0.4105  1.2983  1.0076  2.3984  2.1884]\n",
      "154time step: [8.2464 6.69   7.491  1.6871 2.1147 4.1358 3.6395 3.2679]\n",
      "155time step: [6.5639 4.3137 3.5199 2.2337 0.788  0.0202 0.0662 0.142 ]\n",
      "156time step: [8.6225 1.3367 2.0643 3.2664 4.6583 6.0223 5.4862 5.6759]\n",
      "157time step: [9.5716 7.9639 6.067  1.7813 1.1493 0.924  3.4843 3.2011]\n",
      "158time step: [11.5717  7.0966  5.6093  1.0343  0.5496  1.7887  2.1662  2.9012]\n",
      "159time step: [7.8114 7.9261 8.1698 1.7228 2.2099 2.6762 3.3348 3.4514]\n",
      "160time step: [12.5741  6.5522  4.863   0.3806  0.9506  2.7168  1.9817  1.7732]\n",
      "161time step: [8.9982 7.9308 6.4261 3.7599 3.548  2.2422 1.074  1.4309]\n",
      "162time step: [8.6887 1.0974 3.0706 4.4763 4.9771 6.3032 6.1137 2.2543]\n",
      "163time step: [6.7512 5.3315 2.7194 2.095  1.0153 0.0266 0.2112 0.2967]\n",
      "164time step: [8.039  7.8981 7.5991 1.7576 2.3382 3.6208 3.3505 2.6929]\n",
      "165time step: [9.265  7.6798 3.9759 0.2327 1.9937 1.7526 1.2002 0.9858]\n",
      "166time step: [8.8505 8.09   6.9324 0.6203 3.5708 2.1696 2.515  2.7851]\n",
      "167time step: [7.6764 7.9226 6.4516 4.6254 1.4767 2.2057 3.5532 3.2115]\n",
      "168time step: [ 1.46007e+01  4.87860e+00 -1.10000e-03  1.32600e+00  1.33440e+00\n",
      "  2.73510e+00  2.67070e+00  2.66050e+00]\n",
      "169time step: [7.8464 7.6548 6.5083 1.4755 2.198  4.5926 3.2571 3.5603]\n",
      "170time step: [8.7092 8.143  6.9515 0.6336 3.6017 2.861  2.2712 2.4944]\n",
      "171time step: [8.9306 7.7754 3.7687 0.2122 0.9829 1.1759 1.9281 1.7014]\n",
      "172time step: [7.8624 7.9999 7.9378 1.7187 3.5074 3.3336 2.4044 2.5345]\n",
      "173time step: [6.2567e+00 5.9828e+00 2.2971e+00 2.4101e+00 9.0420e-01 5.6000e-03\n",
      " 3.2250e-01 3.1230e-01]\n",
      "174time step: [8.6905 1.0447 2.4726 2.8515 6.3667 6.2726 4.5963 4.6592]\n",
      "175time step: [8.8501 7.9434 6.5238 1.1366 1.5246 2.2623 3.7373 3.6256]\n",
      "176time step: [12.9159  6.481   4.5138  0.3645  0.9152  2.7018  1.9562  1.7939]\n",
      "177time step: [8.2933 7.9376 7.8685 1.6339 2.1043 2.7713 3.2034 3.4885]\n",
      "178time step: [11.3715  7.398   5.5115  0.5626  1.0592  2.9463  1.8464  2.2253]\n",
      "179time step: [8.0899 9.5565 5.9471 3.4732 3.1384 1.523  1.1922 0.9186]\n",
      "180time step: [8.5654 1.3417 2.3066 2.9236 6.1735 4.8201 5.2309 5.8068]\n",
      "181time step: [5.2622 4.5067 2.9441 3.4827 0.2421 0.0096 0.031  0.0597]\n",
      "182time step: [8.2663 6.9708 7.2784 1.7098 2.245  2.8331 3.8571 4.1139]\n",
      "183time step: [9.6838 8.0141 4.9346 2.6359 2.3049 0.4755 1.1958 0.991 ]\n",
      "184time step: [9.6056 6.5407 8.0717 0.5839 3.3837 1.7423 2.3558 2.3007]\n",
      "185time step: [8.2021 7.7926 6.8217 1.5919 2.1141 4.1221 3.1644 3.4375]\n",
      "186time step: [14.1441  5.3086  0.0673  3.3839  1.154   1.4632  2.2962  2.6594]\n",
      "187time step: [7.8791 7.3342 7.1151 1.3031 1.9715 4.1323 3.4006 3.6173]\n",
      "188time step: [8.8046 7.3016 6.9939 0.7697 2.2327 2.8854 3.8643 3.4784]\n",
      "189time step: [8.6958 6.6893 2.868  0.0973 0.8089 0.9678 1.4282 1.8101]\n",
      "190time step: [8.1759 7.9034 7.8812 1.7302 3.355  3.2681 2.5227 2.4674]\n",
      "191time step: [8.4248 6.1923 0.0674 2.375  2.0567 1.4821 0.5825 0.7567]\n",
      "192time step: [8.7873 7.1452 6.6876 0.8647 2.1601 4.128  3.7048 3.0907]\n",
      "193time step: [8.0489 7.661  6.8746 1.1959 1.7878 3.1702 3.6887 4.0389]\n",
      "194time step: [13.555   5.7167  3.9569  0.153   1.0668  1.5807  2.6493  2.0736]\n",
      "195time step: [8.238  7.7649 6.9796 1.6045 2.2091 3.2488 3.4384 3.7884]\n",
      "196time step: [10.3589  7.4597  6.5346  0.5996  3.2545  1.4471  2.2975  2.0697]\n",
      "197time step: [10.0829  7.7578  5.4914  0.5779  0.9959  1.4444  2.8051  2.5781]\n",
      "198time step: [8.4137 7.0381 1.594  1.9797 6.084  3.3948 4.5837 4.1492]\n",
      "199time step: [ 6.7319e+00  3.9140e+00  3.8575e+00  2.1683e+00  9.1550e-01 -1.3000e-03\n",
      "  1.1710e-01  1.1950e-01]\n",
      "200time step: [8.5417 1.5109 1.9125 6.5762 5.6498 3.4603 4.4921 5.0495]\n",
      "201time step: [10.0178  7.7773  5.7994  1.6882  0.7102  1.0051  3.088   2.874 ]\n",
      "202time step: [10.9316  7.1207  6.3086  3.1222  0.5899  1.2355  2.1911  1.9005]\n",
      "203time step: [8.2194 7.8146 7.0915 1.6976 2.3007 3.0208 3.6863 3.4591]\n",
      "204time step: [12.7348  6.23    4.6049  0.2301  1.0514  2.6614  1.7011  1.9032]\n",
      "205time step: [8.4511 7.8286 6.4731 1.0566 1.5075 2.9733 4.0956 3.6575]\n",
      "206time step: [8.8014 7.1275 1.0349 1.8091 6.0705 4.6005 3.7395 3.5277]\n",
      "207time step: [9.2063 5.125  2.787  2.461  1.3619 0.167  0.2612 0.6949]\n",
      "208time step: [7.0336 7.9659 8.0796 1.8701 3.8328 3.4736 2.358  2.6861]\n",
      "209time step: [10.383   6.297   4.18    0.1865  0.8582  1.7317  1.4216  1.2935]\n",
      "210time step: [9.239  7.8081 6.4719 0.7693 1.6764 3.7709 3.0866 3.0527]\n",
      "211time step: [8.1921 1.1962 6.9893 6.3184 1.9692 5.0333 3.751  3.4502]\n",
      "212time step: [13.0278  5.958   0.02    3.3512  1.2764  1.3405  2.516   2.6773]\n",
      "213time step: [8.2448 7.2939 6.0901 1.3609 2.247  4.8239 3.8054 3.2986]\n",
      "214time step: [10.0144  7.7359  6.3717  0.6677  1.475   3.5702  2.6124  2.4427]\n",
      "215time step: [10.8195  6.9197  5.1798  0.3054  1.0649  2.1771  1.5086  1.8242]\n",
      "216time step: [8.2174 7.7316 6.2126 1.6466 2.0838 4.1691 3.9976 3.2081]\n",
      "217time step: [9.1288 4.1073 2.8425 3.2793 1.3541 0.0317 0.3145 0.4549]\n",
      "218time step: [8.7645 1.3379 1.5881 3.7055 4.2818 5.2836 5.667  6.3413]\n"
     ]
    },
    {
     "name": "stdout",
     "output_type": "stream",
     "text": [
      "219time step: [9.4497 7.8727 5.9819 1.0453 0.8561 2.6315 3.5903 3.3851]\n",
      "220time step: [11.5914  7.2785  5.1702  2.929   0.441   1.1136  1.8588  1.6616]\n",
      "221time step: [8.1997 7.8682 7.0176 3.935  2.0254 3.2375 2.5326 2.4881]\n",
      "222time step: [11.6173  7.3378  5.0115  2.9036  0.4015  1.1081  1.8124  1.6807]\n",
      "223time step: [9.3409 7.9431 5.8891 1.0478 0.8579 2.7995 3.6777 3.448 ]\n",
      "224time step: [8.7847 1.3063 1.5028 6.5373 3.6841 5.6181 5.205  4.2596]\n",
      "225time step: [9.8254 4.2105 3.6132 3.0425 1.2844 0.0452 0.4171 0.5949]\n",
      "226time step: [8.2361 7.7703 6.3638 1.6518 2.0684 3.0906 4.0744 4.0084]\n",
      "227time step: [11.1967  6.8281  5.2085  0.3061  2.2799  1.7407  1.6183  1.0418]\n",
      "228time step: [10.1303  8.1571  5.6442  3.7547  1.2391  0.693   2.6174  2.5213]\n",
      "229time step: [8.3359 7.1468 6.4072 1.3327 4.836  3.7356 3.2251 2.105 ]\n",
      "230time step: [1.20274e+01 7.04840e+00 7.00000e-03 1.23550e+00 1.27240e+00 2.95710e+00\n",
      " 2.53390e+00 2.73400e+00]\n",
      "231time step: [8.3928 1.2334 1.7968 3.7482 3.3863 6.7956 5.8891 5.6649]\n",
      "232time step: [9.5025 8.3986 1.2191 0.8224 5.4908 4.026  3.0681 2.9104]\n",
      "233time step: [11.3975  6.3822  4.8349  0.3242  0.8092  1.9744  1.6875  1.4183]\n",
      "234time step: [7.9567 8.1379 7.1918 1.8032 2.1801 3.6944 3.6133 2.7156]\n",
      "235time step: [10.9253  5.3768  4.0144  2.4781  1.4457  0.1752  0.4987  0.9101]\n",
      "236time step: [8.8444 7.6315 1.2947 1.1358 3.5202 5.2099 4.6469 4.1939]\n",
      "237time step: [8.5814 7.9535 1.0227 1.156  5.6084 3.371  3.7778 4.4858]\n",
      "238time step: [11.5995  7.6854  3.8434  0.234   2.7361  0.9961  1.4379  1.9888]\n",
      "239time step: [8.2189 7.8006 7.485  1.7247 3.5374 3.3939 2.4253 2.7021]\n",
      "240time step: [11.2457  8.0239  4.6887  3.2768  0.5026  1.1158  1.8661  1.7285]\n",
      "241time step: [10.2079  7.9911  5.3132  0.5647  0.974   3.4723  2.6453  2.8162]\n",
      "242time step: [8.6673 1.3533 1.588  6.7154 3.444  4.069  5.9829 5.2066]\n",
      "243time step: [1.05472e+01 5.55580e+00 3.31150e+00 3.25170e+00 1.60000e-03 1.29170e+00\n",
      " 7.11000e-01 7.18800e-01]\n",
      "244time step: [8.5275 1.4664 1.7492 7.2895 6.2853 3.2508 3.823  4.7593]\n",
      "245time step: [10.8094  7.788   5.1686  0.9923  0.4551  2.2626  2.3108  3.2266]\n",
      "246time step: [10.9993  8.1673  4.7713  3.4979  0.5546  1.0601  2.0727  1.9804]\n",
      "247time step: [8.2961 7.7351 7.3426 1.5313 2.1583 2.8749 3.3763 3.9285]\n",
      "248time step: [11.4843  7.5775  0.0861  3.2574  0.9912  1.2226  2.1335  2.6549]\n",
      "249time step: [8.6289 7.1765 1.2718 1.2105 3.5993 3.7819 5.4496 5.3938]\n",
      "250time step: [8.6558 8.7379 0.9164 1.1341 3.238  3.8887 4.488  4.7502]\n",
      "251time step: [11.5429  6.8797  4.1483  0.3555  0.6613  1.9465  2.135   1.2484]\n",
      "252time step: [7.9222 8.148  8.058  1.6485 3.2594 3.4169 2.3226 2.5282]\n",
      "253time step: [11.6067  7.0607  4.2328  2.2501  1.907   0.3829  0.7109  1.2987]\n",
      "254time step: [8.6754 8.988  1.0826 0.8447 3.1704 3.6384 4.5892 4.5675]\n",
      "255time step: [8.6648 1.2708 1.2968 6.8864 3.7117 3.6529 5.7597 5.4052]\n",
      "256time step: [11.3644  7.3305  0.0592  3.1892  2.7312  1.9468  1.112   0.9265]\n",
      "257time step: [8.3625 7.7511 7.1857 1.5416 1.9708 4.1258 3.3404 2.9457]\n",
      "258time step: [11.0832  8.0431  4.7542  3.3751  0.523   0.9928  2.0582  1.9963]\n",
      "259time step: [10.8225  8.0742  4.865   0.5101  0.9736  3.5116  2.3056  2.2496]\n",
      "260time step: [8.4653 7.5096 6.8008 1.477  1.7571 4.5721 3.4704 3.1043]\n",
      "261time step: [1.11872e+01 6.99200e+00 1.03000e-02 3.08820e+00 2.95890e+00 1.67560e+00\n",
      " 9.80500e-01 9.50600e-01]\n",
      "262time step: [8.6695 1.3621 1.4593 3.5115 3.6969 5.3541 6.5475 6.2883]\n",
      "263time step: [8.4775 9.6894 4.7804 4.1839 2.8869 3.1364 1.0307 0.6989]\n",
      "264time step: [11.5556  7.5262  4.4072  2.657   0.4429  0.8778  1.7512  1.549 ]\n",
      "265time step: [8.273  8.0484 7.7944 1.5752 3.5167 3.2094 2.6453 2.2326]\n",
      "266time step: [11.48    7.0691  3.7982  2.3171  1.9825  0.2266  0.7354  1.1579]\n",
      "267time step: [8.7582 8.1037 0.9869 1.1794 3.4966 4.8575 4.5053 4.2218]\n",
      "268time step: [8.698  7.7191 1.0752 1.1777 3.5485 5.1602 4.8968 3.9407]\n",
      "269time step: [11.4525  7.5811  3.5151  0.1798  0.8725  1.2333  2.0852  2.519 ]\n",
      "270time step: [8.2592 7.9723 7.6169 1.6068 3.6237 3.2445 2.2264 2.7301]\n",
      "271time step: [11.3531  7.9838  4.5176  3.1694  0.4992  1.0158  1.8584  1.7082]\n",
      "272time step: [10.2642  8.1548  5.0597  0.9814  0.5591  3.6772  2.6372  2.7151]\n",
      "273time step: [8.6251 1.3829 1.5839 3.3717 3.8255 6.882  6.2117 5.152 ]\n",
      "274time step: [ 1.08058e+01  6.05320e+00  3.21520e+00  3.19910e+00 -1.00000e-03\n",
      "  1.36900e+00  8.05200e-01  7.83800e-01]\n",
      "275time step: [8.5604 7.1545 6.3071 1.4478 1.6974 3.2863 3.7748 4.8881]\n",
      "276time step: [10.6441  7.9126  5.1598  0.4898  0.9961  3.3722  2.4071  2.3671]\n",
      "277time step: [11.0936  8.1348  4.7188  3.4308  0.5443  1.0623  2.0059  1.907 ]\n",
      "278time step: [8.2565 7.7788 7.4123 1.5586 2.2314 3.8141 3.376  2.8291]\n",
      "279time step: [11.5338  7.6511  0.1157  3.3806  2.6458  2.1557  1.0163  1.2814]\n",
      "280time step: [8.5852 1.1431 1.2803 7.4057 3.5276 3.8023 5.1097 5.5333]\n",
      "281time step: [8.7967 8.3192 1.1962 0.9991 3.3337 5.0238 4.3367 4.0722]\n",
      "282time step: [11.347   6.1027  4.2219  0.32    0.5265  1.1417  2.1212  1.7245]\n",
      "283time step: [8.1186 7.9387 7.6399 1.8184 3.5025 3.4539 2.2632 2.5676]\n",
      "284time step: [11.4695  6.275   4.5377  0.372   0.5963  1.8604  1.913   1.259 ]\n",
      "285time step: [8.542  9.0655 1.1632 0.9064 5.1882 4.2197 3.5152 3.1644]\n",
      "286time step: [8.4845 1.1724 1.5244 6.9109 3.4745 3.7368 5.7795 5.5931]\n",
      "287time step: [11.728   7.4087  0.0546  1.1469  1.2809  3.2091  2.2799  2.702 ]\n",
      "288time step: [8.3035 7.3909 6.889  1.4848 4.243  3.6325 3.0544 2.2083]\n",
      "289time step: [10.6304  8.1498  5.2788  3.6338  0.636   1.1426  2.3687  2.1692]\n",
      "290time step: [11.0518  7.2911  5.3421  0.3674  1.0147  2.7383  2.0221  1.9184]\n",
      "291time step: [8.3857 7.5268 6.1808 1.5355 1.8863 3.2326 4.046  4.4244]\n",
      "292time step: [9.9598e+00 4.3550e+00 3.5576e+00 3.3060e+00 9.7000e-03 1.2533e+00\n",
      " 5.0760e-01 5.6630e-01]\n",
      "293time step: [8.727  1.3632 1.573  3.6213 4.4374 5.0671 6.2768 5.9374]\n",
      "294time step: [9.853  7.8938 5.7151 0.6996 0.9976 2.6169 3.3987 3.1115]\n",
      "295time step: [11.3329  7.7011  5.0397  3.1212  0.497   1.1437  1.6945  1.8508]\n",
      "296time step: [8.1865 7.8585 7.1264 3.8201 1.8881 3.2789 2.6396 2.5017]\n",
      "297time step: [11.7293  7.3968  4.5524  2.8041  0.3157  1.0627  1.6339  1.8188]\n",
      "298time step: [8.8896 8.0146 5.9104 0.9393 1.1509 3.0695 3.6028 3.9553]\n",
      "299time step: [8.8044 1.2224 1.477  6.9909 3.674  4.077  5.1138 5.4038]\n",
      "300time step: [9.9854 4.4648 3.6161 2.7802 1.3065 0.1073 0.3557 0.6947]\n",
      "301time step: [8.1264 7.9007 6.584  1.7601 2.1921 2.9378 4.027  3.7568]\n",
      "302time step: [11.0589  6.4651  4.9644  0.2533  0.989   1.9208  1.414   1.6506]\n",
      "303time step: [9.7139 8.0315 6.0481 1.4077 0.7284 3.7435 2.7824 2.8759]\n",
      "304time step: [8.2777 7.0456 1.244  2.0646 5.8955 3.785  3.3583 5.3702]\n",
      "305time step: [ 1.26706e+01  6.31430e+00 -2.40000e-03  1.29420e+00  1.30390e+00\n",
      "  3.03640e+00  2.70250e+00  2.70740e+00]\n",
      "306time step: [8.2631 1.2794 7.0377 2.0951 3.8032 3.3582 5.8899 5.3311]\n",
      "307time step: [9.6966 7.9095 6.2623 3.6802 1.4878 2.8732 2.7184 0.7217]\n",
      "308time step: [10.8123  6.5564  4.8625  0.2416  1.0381  1.88    1.6064  1.4039]\n",
      "309time step: [8.0956 7.9225 6.5958 1.7535 2.2178 4.0129 3.7138 2.9754]\n",
      "310time step: [9.2042 4.5384 2.9682 2.6804 1.3831 0.1014 0.233  0.5451]\n",
      "311time step: [8.7827 1.2014 1.6837 6.7591 5.6503 5.1039 3.698  3.9916]\n",
      "312time step: [8.9397 7.8847 6.2623 1.2537 0.9718 2.7513 3.8533 3.5301]\n",
      "313time step: [12.1042  6.7111  5.0939  2.7441  0.37    1.039   1.8641  1.6929]\n",
      "314time step: [8.1622 7.8753 7.0864 3.8454 1.9127 3.3371 2.6901 2.392 ]\n",
      "315time step: [11.436   6.9765  5.8838  2.966   0.5214  1.1261  2.0527  1.7193]\n",
      "316time step: [9.7533 7.803  6.0516 2.1076 3.3732 3.158  1.0479 0.8228]\n",
      "317time step: [8.6478 1.3842 1.8014 3.5844 4.54   6.1103 5.3494 5.6847]\n",
      "318time step: [7.6691 4.0776 3.5509 1.9235 1.4227 0.0095 0.1666 0.2389]\n",
      "319time step: [8.2926 7.446  6.2302 1.6581 2.0471 3.4627 3.8766 4.2484]\n",
      "320time step: [10.3502  7.4101  5.2036  0.4021  1.0299  1.3969  2.3771  2.1845]\n",
      "321time step: [10.0448  7.3716  6.824   0.6129  1.5741  3.4134  2.4549  2.3151]\n",
      "322time step: [8.206  7.5974 6.4855 1.4417 2.2873 4.3062 3.5965 3.3075]\n",
      "323time step: [13.5842  5.5142  3.6126  0.0506  1.1998  1.4312  2.3512  2.6538]\n",
      "324time step: [8.0272 6.9103 7.1267 1.2352 1.9373 4.4117 3.6883 3.436 ]\n",
      "325time step: [8.9244 7.4777 6.7983 0.7865 1.9805 3.8275 3.3695 3.0677]\n"
     ]
    },
    {
     "name": "stdout",
     "output_type": "stream",
     "text": [
      "326time step: [9.3318 6.4086 3.2814 0.1219 1.8079 0.79   1.3343 1.0888]\n",
      "327time step: [7.6427 7.9011 8.1516 1.834  3.4802 3.3209 2.4378 2.5353]\n",
      "328time step: [8.6371 5.9335 0.0715 2.4135 2.154  1.4561 0.502  0.742 ]\n",
      "329time step: [8.7847 7.1346 6.5811 0.8899 2.1133 3.1575 4.1786 3.7688]\n",
      "330time step: [8.0858 7.7303 6.8455 1.1866 1.7537 3.1097 4.0039 3.6814]\n",
      "331time step: [13.5406  5.7819  3.9967  0.1775  1.0287  2.6521  1.6223  2.0305]\n",
      "332time step: [8.2358 7.813  7.1254 1.6449 2.1448 3.7155 3.2344 3.3639]\n",
      "333time step: [10.3505  7.6663  6.3364  3.2234  0.5924  1.4247  2.2992  2.0416]\n",
      "334time step: [9.8581 7.9623 5.4802 2.9476 2.6374 1.3422 0.6422 1.0137]\n",
      "335time step: [8.4029 6.9131 6.3527 1.5761 2.1319 3.0742 4.2504 4.5414]\n",
      "336time step: [ 5.3336e+00  2.9304e+00  3.9489e+00  4.0031e+00  2.3320e-01 -3.0000e-03\n",
      "  2.7800e-02  3.1500e-02]\n",
      "337time step: [8.478  6.5898 1.5182 2.1738 3.0554 6.1195 4.7919 4.4972]\n",
      "338time step: [9.754  8.0648 5.6254 0.7576 1.0617 1.3586 3.1567 2.8236]\n",
      "339time step: [10.6525  7.6699  5.9974  0.5898  1.2733  3.1354  1.9985  2.2745]\n",
      "340time step: [8.2948 7.9021 7.5028 1.7002 1.9747 3.5843 3.2135 3.1179]\n",
      "341time step: [13.4858  5.9829  4.0707  0.2126  0.9711  2.6669  1.75    1.9576]\n",
      "342time step: [8.3472 7.8563 6.7618 1.2109 1.704  2.7564 3.7375 3.8127]\n",
      "343time step: [8.7131 0.9148 6.7564 6.6141 4.3209 4.1611 2.4504 2.8313]\n",
      "344time step: [7.1027 6.4006 0.0316 1.5565 2.0946 1.8892 0.5177 0.5451]\n",
      "345time step: [7.9127 8.1176 8.0577 1.6648 2.4732 2.5232 3.2428 3.3106]\n",
      "346time step: [8.4473 7.5006 3.0255 0.1135 1.7097 1.6109 0.9701 1.0613]\n",
      "347time step: [8.6975 7.683  7.025  0.6883 3.7174 3.2633 2.5492 2.474 ]\n",
      "348time step: [7.774  7.5192 6.9166 1.3963 2.1039 4.3062 3.3761 3.5386]\n",
      "349time step: [14.5329  5.0442  0.0318  1.2331  1.3857  2.97    2.4466  2.6682]\n",
      "350time step: [8.0333 7.8015 6.5713 1.6035 2.1511 4.4212 3.507  3.122 ]\n",
      "351time step: [8.9884 8.4484 6.6861 0.5935 3.4769 2.0011 2.3811 2.433 ]\n",
      "352time step: [9.387  8.0179 4.5676 0.3751 2.3835 2.0668 1.1706 0.9687]\n",
      "353time step: [8.1559 7.5581 7.3978 1.7417 2.3123 2.6543 3.8665 3.6005]\n",
      "354time step: [5.6442e+00 4.9894e+00 3.1005e+00 2.6963e+00 3.9660e-01 3.4000e-03\n",
      " 9.9600e-02 1.2160e-01]\n",
      "355time step: [8.6323 1.2409 2.3309 2.9701 4.8207 5.2987 6.02   5.797 ]\n",
      "356time step: [9.3664 8.0303 6.1701 3.6025 3.3369 1.7704 1.2846 1.0078]\n",
      "357time step: [11.9484  7.0354  5.2167  2.8268  2.15    1.7709  0.9657  0.5244]\n",
      "358time step: [7.9318 8.1445 8.0491 1.6468 2.2627 2.5581 3.2533 3.4577]\n"
     ]
    }
   ],
   "source": [
    "#Maximum Eigenvalue\n",
    "#when n is the eigenvector with maximum eigen value of C, FI is maximized\n",
    "# Define the matrix\n",
    "FI_max_arr = []\n",
    "optimal_evec = []\n",
    "i = 0\n",
    "#temp_arr = []\n",
    "for state in tqdm(result.states):\n",
    "    matrix = C_matrix(state, J_arr)\n",
    "    eigenvalues, eigenvectors = np.linalg.eig(matrix)\n",
    "    #temp_arr.append([str(i) + \"time step: \" + str(np.around(eigenvalues.real, 4))])\n",
    "    print(str(i) + \"time step: \" + str(np.around(eigenvalues.real, 4)))\n",
    "    max_index = np.argmax(eigenvalues)\n",
    "    max_eigenvalue = eigenvalues[max_index]\n",
    "    max_eigenvector = eigenvectors[max_index]\n",
    "    FI_max_arr.append(4*max_eigenvalue)\n",
    "    optimal_evec.append(max_eigenvector)\n",
    "    i = i+1\n",
    "\n"
   ]
  },
  {
   "cell_type": "code",
   "execution_count": null,
   "id": "308b0d40",
   "metadata": {},
   "outputs": [],
   "source": [
    "#temp_arr2 = temp_arr\n",
    "#temp_arr2"
   ]
  },
  {
   "cell_type": "code",
   "execution_count": null,
   "id": "fd3b0d16",
   "metadata": {},
   "outputs": [],
   "source": [
    "#Plot FI_max vs time/\\theta\n",
    "plt.figure(figsize=(15,10))\n",
    "plt.plot(times,FI_max_arr)\n",
    "plt.title(str(N) + \" tmon system, spin 1, with \"+str(len(J_arr))+ \" generators\")\n",
    "plt.xlabel(\"time\")\n",
    "plt.ylabel(\"F_max\")"
   ]
  },
  {
   "cell_type": "code",
   "execution_count": null,
   "id": "cda37b31",
   "metadata": {},
   "outputs": [],
   "source": [
    "def is_hermitian(matrix):\n",
    "    return np.allclose(matrix, matrix.conj().T)\n",
    "\n",
    "def cartesian_to_spherical(vec):\n",
    "    \"\"\"Converts a cartesian coordinate (x, y, z) into a spherical one (radius, theta, phi).\"\"\"\n",
    "    x = vec[0]\n",
    "    y = vec[1]\n",
    "    z = vec[2]\n",
    "    radius = np.sqrt(x * x + y * y + z * z)\n",
    "    theta = math.atan2(np.sqrt(x * x + y * y), z)\n",
    "    #theta = math.acos(z/radius)\n",
    "    phi = math.atan2(y, x)\n",
    "    return [radius, theta, phi]\n",
    "\n",
    "def normalize(v):\n",
    "    norm = np.linalg.norm(v)\n",
    "    if norm == 0:\n",
    "        return v\n",
    "    return v / norm"
   ]
  },
  {
   "cell_type": "code",
   "execution_count": null,
   "id": "0dd9b507",
   "metadata": {},
   "outputs": [],
   "source": [
    "#plot for optimal eigenvectors\n",
    "spherical_coordinates = []\n",
    "for vec in optimal_evec:\n",
    "    spherical_coordinates.append(cartesian_to_spherical(vec.real))"
   ]
  },
  {
   "cell_type": "code",
   "execution_count": null,
   "id": "a316b919",
   "metadata": {},
   "outputs": [],
   "source": [
    "spherical_coordinates = np.array(spherical_coordinates) "
   ]
  },
  {
   "cell_type": "code",
   "execution_count": null,
   "id": "9d75e3be",
   "metadata": {},
   "outputs": [],
   "source": [
    "plt.figure(figsize=(15,10))\n",
    "plt.plot(times,spherical_coordinates[:,1], label  = \"theta\")\n",
    "plt.plot(times,spherical_coordinates[:,2], label = 'phi')\n",
    "plt.plot(times,FI_max_arr/max(FI_max_arr),alpha =0.5 , label = \"FI_max rescaled\", linestyle='dashed')\n",
    "plt.title(str(N) + \" tmon system, spin 1, with \"+str(len(J_arr))+ \" generators\")\n",
    "plt.xlabel(\"time\")\n",
    "plt.ylabel(\"angle in radians\")\n",
    "plt.legend()"
   ]
  },
  {
   "cell_type": "code",
   "execution_count": null,
   "id": "1e5cb6ff",
   "metadata": {},
   "outputs": [],
   "source": [
    "#Graph of FI vs time\n"
   ]
  },
  {
   "cell_type": "code",
   "execution_count": null,
   "id": "e4227312",
   "metadata": {},
   "outputs": [],
   "source": [
    "#(2)\n",
    "#Encode \\theta by applying U = e^{i n.J \\theta}\n",
    "psi_i = results.states #for FI vs time graph\n",
    "n = np.array([1,0,0]) #ideally the max eigenvalue eigenvector\n",
    "J_arr = np.array([]) #generators or their subset\n",
    "theta_arr = np.linspace(0, 0.5, 2) #values of theta to encode\n",
    "#code for n.J\n",
    "result2 = mesolve(n*J_arr, psi_i, times, [], options = options)"
   ]
  },
  {
   "cell_type": "code",
   "execution_count": null,
   "id": "18cc7ae2",
   "metadata": {},
   "outputs": [],
   "source": [
    "#Fisher Info Calculation\n",
    "def purestate_FI(J,psi):\n",
    "    FI = 4*variance(J,psi)\n",
    "    return FI"
   ]
  },
  {
   "cell_type": "code",
   "execution_count": null,
   "id": "320f3405",
   "metadata": {},
   "outputs": [],
   "source": [
    "FI_list = []\n",
    "for psi in result.states:\n",
    "    FI_list.append(purestate_FI(H,psi))\n",
    "\n",
    "plt.plot(times,FI_list)\n",
    "plt.xlabel(\"time\")\n",
    "plt.ylabel(\"Finsher Info\")"
   ]
  },
  {
   "cell_type": "code",
   "execution_count": null,
   "id": "59ea9769",
   "metadata": {},
   "outputs": [],
   "source": [
    "#pauli operators for the tmon system\n",
    "#initialize\n",
    "N = 3 #number of transmons\n",
    "Nlevel = Ntrunc\n",
    "# spin = 1\n",
    "# dim = spin*2+1\n",
    "\n",
    "#padded operators\n",
    "jx = op_padded(jmat(spin,'x'), Nlevel)\n",
    "jy = op_padded(jmat(spin,'y'), Nlevel)\n",
    "jz = op_padded(jmat(spin,'z'), Nlevel)\n",
    "#combined spin operators\n",
    "JX = 0\n",
    "JY = 0\n",
    "JZ = 0\n",
    "for i in range(N):\n",
    "    JX.append(ensemble_op(jx,i,N))\n",
    "    JY.append(ensemble_op(jx,i,N))\n",
    "    JZ.append(ensemble_op(jx,i,N))"
   ]
  },
  {
   "cell_type": "code",
   "execution_count": null,
   "id": "ba725654",
   "metadata": {},
   "outputs": [],
   "source": [
    "#calculate optimal squeezing parameter\n",
    "H_cap = [] #array of all operators being considered\n",
    "##calculate covariance matrix\n",
    "##calculate commutator matrix\n",
    "def calculate_covariance(matrix1, matrix2):\n",
    "    # Check if the matrices have the same shape\n",
    "    if matrix1.shape != matrix2.shape:\n",
    "        raise ValueError(\"Matrices must have the same shape.\")\n",
    "    \n",
    "    # Calculate the covariance\n",
    "    covariance = np.cov(matrix1, matrix2, bias=True)\n",
    "    \n",
    "    return covariance\n",
    "\n",
    "def covariance_matrix(H_cap):\n",
    "    tau = np.zeros((len(H_cap),len(H_cap)))\n",
    "    for k in range(len(H_cap)):\n",
    "        for l in range(len(H_cap)):\n",
    "            tau[k][l] = calculate_covariance(H_cap[k],H_cap(l))"
   ]
  },
  {
   "cell_type": "code",
   "execution_count": null,
   "id": "c71a8b13",
   "metadata": {},
   "outputs": [],
   "source": [
    "'''\n",
    "#Hamiltonian for a set of transmons coupled to a mode\n",
    "class tmon_system:\n",
    "    def __init__(self,N, Nlevel, E_C, E_j, g_arr, omega):\n",
    "        self.N = N #value of n goes from 0 to N-1\n",
    "        self.Nlevel = Nlevel #cut off dimension/truncation\n",
    "        #This is different from d which is the level that comes into hamiltonian.\n",
    "        #d refers to the highest excitation present in the initialised state\n",
    "        #d  by default is set to (Nlevel-2) as (d+1) at max can be (Nlevel-1)\n",
    "        self.d = Nlevel-2\n",
    "        self.E_c= E_c\n",
    "        self.E_j = E_j\n",
    "        self.g_arr = g_arr #g^n_i = g_arr[n][i]\n",
    "        self.omega = omega #freq of photonic mode\n",
    "        self.v_arr = self.freq_list() #v[n][i] = v^n_i\n",
    "    \n",
    "    def freq_list(self):\n",
    "        #calculate v^n_i\n",
    "        #for |i><i|_n, coefficient is  \\sqrt(8E^n_j*E^n_c)*i - E^n_c/2*i(i+1)\n",
    "        arr = []\n",
    "        for n in range(self.N):\n",
    "            temp_arr = []\n",
    "            for i in range(self.d+1):\n",
    "                v_ni = np.sqrt(8*self.E_c[n]*self.E_j[n])*i - 0.5*self.E_c[n]*i*(i+1)\n",
    "                temp_arr.append(v_ni)\n",
    "            arr.append(temp_arr) \n",
    "        return arr\n",
    "    \n",
    "    def cal_delta(self):\n",
    "        #simplest version is to equate to average over transmons i.e n\n",
    "        delta_arr = []\n",
    "        \n",
    "        for n in range(self.N):\n",
    "            temp = 0\n",
    "            for i in range(self.d +1):\n",
    "                temp = temp + ((self.g_arr[n][i]**2)*np.heaviside(i,0)/(self.v_arr[n][i-1]-self.omega)+self.v_arr[n][i])\n",
    "            delta_arr.append(temp/(self.d+1))\n",
    "        return delta_arr\n",
    "    \n",
    "    def tensor_id(self, dim = None):\n",
    "        if dim ==None:\n",
    "            dim = self.d+2\n",
    "        #IxIxIxI...Ioperator\n",
    "        Neye = []\n",
    "        for i in  range(self.N):\n",
    "            Neye.append(qeye(dim))\n",
    "        nid = tensor(Neye)\n",
    "        return nid\n",
    "          \n",
    "    def tensor_projection_op(self,n,i,j, dim = None):\n",
    "        #returns IxIxIx...(|i><j|_n)xIxI...xI\n",
    "        if n > self.N-1:\n",
    "            print(\"invalid n\")\n",
    "            return\n",
    "        if dim ==None:\n",
    "            dim = self.d+2\n",
    "            \n",
    "        Neye = []\n",
    "        for k in  range(self.N):\n",
    "            Neye.append(qeye(dim))\n",
    "        #(|i><j|_n)\n",
    "        Neye[n] = basis(dim,i)*basis(dim,j).dag()\n",
    "        nid = tensor(Neye)\n",
    "        return nid\n",
    "        \n",
    "    def H_I(self, delta_arr = None):\n",
    "        #rotataed time indp effective hamiltonian\n",
    "        #lambda_arr contains \\Delta_i to be added as self energy corrections\n",
    "        if delta_arr==None:\n",
    "            delta_arr = self.cal_delta()\n",
    "        \n",
    "        H0 = 0\n",
    "        for n in range(self.N):\n",
    "            for i in range(self.d + 1):\n",
    "                c_ni = (self.g_arr[n][i-1]**2)*np.heaviside(i,0)/(self.v_arr[n][i-1]- self.omega) + self.v_arr[n][i] - delta_arr[i]\n",
    "                H0 = H0 + c_ni*self.tensor_projection_op(n,i,i)\n",
    "        \n",
    "        H1 = 0\n",
    "        for n in range(self.N):\n",
    "            for m in range(self.N):\n",
    "                for i in range(self.d + 1):\n",
    "                    if n == m:\n",
    "                        break\n",
    "                    c_nmi = 0.5*(self.g_arr[n][i]*self.g_arr[m][i])/(self.omega - self.v_arr[m][i])\n",
    "                    H1 = H1 + c_nmi*(self.tensor_projection_op(n,i,i+1)*self.tensor_projection_op(m,i+1,i) + self.tensor_projection_op(n,i+1,i)*self.tensor_projection_op(m,i,i+1))\n",
    "        \n",
    "        return H0 + H1\n",
    "\n",
    "def generate_tmon_arch(N,Nlevel):\n",
    "    #scaling is 1 to 100MHz\n",
    "    E_j =  np.absolute(np.random.normal(200,20, N))\n",
    "    E_c = np.absolute(np.random.normal(2.5,0.2, N))\n",
    "    g_arr = np.zeros((N,Nlevel))\n",
    "    for n in range(N):\n",
    "        for i in range(Nlevel):\n",
    "            g_arr[n][i] = 1\n",
    "    omega = 2\n",
    "    return E_j, E_c, g_arr,omega \n",
    "'''"
   ]
  },
  {
   "cell_type": "code",
   "execution_count": null,
   "id": "88101552",
   "metadata": {},
   "outputs": [],
   "source": [
    "\"\"\"\n",
    "#create spin operators\n",
    "class operators:\n",
    "    def __init__(self, N, spin):\n",
    "        self.N = N\n",
    "        self.spin =spin\n",
    "        \n",
    "    \n",
    "    def generators_arr(self):\n",
    "        #return all generators for a spin-n algebra\n",
    "        return\n",
    "    \n",
    "    def tensor_operator(self,op,i):\n",
    "        #returns IxIxIx...(op_i)xIxI...xI\n",
    "        if i > self.N-1:\n",
    "            raise ValueError(\"index needs to be between 0 and\"+str(self.N)+\"-1\")\n",
    "\n",
    "        Neye = []\n",
    "        for k in  range(self.N):\n",
    "            Neye.append(qeye(self.spin))\n",
    "        #(op_i)\n",
    "        Neye[n] = basis(dim,i)*basis(dim,j).dag()\n",
    "        nid = tensor(Neye)\n",
    "        return nid\n",
    "        \n",
    "    def J_n(self,n):\n",
    "        #\\sum (n.J)_i\n",
    "        #it should take both 3x1 and dx1 vectors\n",
    "        #3x1 leads to use of just sigma x,y,z\n",
    "        #dx1 leads to use of all generators\n",
    "        jx = jmat(i, 'x')\n",
    "        jy = jmat(i, 'y')\n",
    "        jz = jmat(i, 'z')\n",
    "        \n",
    "        \n",
    "     \n",
    "    def nonlin_operators(self, degree):\n",
    "        #take array of generators and combine them to get non-lin operators\n",
    "        #return vector with non-lin operators only\n",
    "        lin_op_arr = self.generators_arr\n",
    "        nonlin_arr = []\n",
    "\"\"\""
   ]
  }
 ],
 "metadata": {
  "kernelspec": {
   "display_name": "Python 3 (ipykernel)",
   "language": "python",
   "name": "python3"
  },
  "language_info": {
   "codemirror_mode": {
    "name": "ipython",
    "version": 3
   },
   "file_extension": ".py",
   "mimetype": "text/x-python",
   "name": "python",
   "nbconvert_exporter": "python",
   "pygments_lexer": "ipython3",
   "version": "3.11.1"
  }
 },
 "nbformat": 4,
 "nbformat_minor": 5
}
