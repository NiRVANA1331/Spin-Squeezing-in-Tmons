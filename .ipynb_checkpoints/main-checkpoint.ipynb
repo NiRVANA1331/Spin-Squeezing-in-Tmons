{
 "cells": [
  {
   "cell_type": "code",
   "execution_count": 2,
   "id": "93220a52",
   "metadata": {},
   "outputs": [
    {
     "name": "stderr",
     "output_type": "stream",
     "text": [
      "D:\\Code\\env\\Lib\\site-packages\\tqdm\\auto.py:21: TqdmWarning: IProgress not found. Please update jupyter and ipywidgets. See https://ipywidgets.readthedocs.io/en/stable/user_install.html\n",
      "  from .autonotebook import tqdm as notebook_tqdm\n"
     ]
    }
   ],
   "source": [
    "import numpy as np\n",
    "from qutip import *\n",
    "from tqdm.auto import tqdm"
   ]
  },
  {
   "cell_type": "code",
   "execution_count": 12,
   "id": "3133d4cb",
   "metadata": {},
   "outputs": [],
   "source": [
    "#Hamiltonian for a set of transmons coupled to a mode\n",
    "class tmon_system:\n",
    "    def __init__(self,N, Nlevel, E_C, E_j, g_arr, omega):\n",
    "        self.N = N #value of n goes from 0 to N-1\n",
    "        self.Nlevel = Nlevel #cut off dimension\n",
    "        #This is different from d which is the level that comes into hamiltonian.\n",
    "        #d  by default should be (Nlevel-2) as d+1 (heghest level) = Nlevel-1\n",
    "        self.d = Nlevel-2\n",
    "        self.E_c= E_c\n",
    "        self.E_j = E_j\n",
    "        self.g_arr = g_arr #g^n_i = g_arr[n][i]\n",
    "        self.omega = omega #freq of photonic mode\n",
    "        self.v_arr = self.freq_list() #v[n][i] = v^n_i\n",
    "    \n",
    "    def freq_list(self):\n",
    "        #calculate v^n_i\n",
    "        #for |i><i|_n, coefficient is  \\sqrt(8E^n_j*E^n_c)*i - E^n_c/2*i(i+1)\n",
    "        arr = []\n",
    "        for n in range(self.N):\n",
    "            temp_arr = []\n",
    "            for i in range(self.d+1):\n",
    "                v_ni = np.sqrt(8*self.E_c[n]*self.E_j[n])*i - 0.5*self.E_c[n]*i*(i+1)\n",
    "                temp_arr.append(v_ni)\n",
    "            arr.append(temp_arr) \n",
    "        return arr\n",
    "    \n",
    "    def cal_delta(self):\n",
    "        #simplest version is to equate to average over transmons i.e n\n",
    "        delta_arr = []\n",
    "        for n in range(self.N):\n",
    "            delta_arr.append(np.average((self.g_arr[n][i-1]**2)*np.heaviside(i,0)/(self.v_arr[n][i-1]-self.omega)+self.v_arr[n][i]))\n",
    "        return delta_arr\n",
    "    \n",
    "    def tensor_id(self, dim = None):\n",
    "        if dim ==None:\n",
    "            dim = self.d+1\n",
    "        #IxIxIxI...Ioperator\n",
    "        Neye = []\n",
    "        for i in  range(self.N):\n",
    "            Neye.append(qeye(dim))\n",
    "        nid = tensor(Neye)\n",
    "        return nid\n",
    "          \n",
    "    def tensor_projection_op(self,n,i,j, dim = None):\n",
    "        #returns IxIxIx...(|i><j|_n)xIxI...xI\n",
    "        if n > self.N-1:\n",
    "            print(\"invalid n\")\n",
    "            return\n",
    "        if dim ==None:\n",
    "            dim = self.d+1\n",
    "            \n",
    "        Neye = []\n",
    "        for k in  range(self.N):\n",
    "            Neye.append(qeye(dim))\n",
    "        #(|i><j|_n)\n",
    "        Neye[n] = basis(dim,i)*basis(dim,j).dag()\n",
    "        nid = tensor(Neye)\n",
    "        return nid\n",
    "        \n",
    "    def H_I(self, delta_arr = []):\n",
    "        #rotataed time indp effective hamiltonian\n",
    "        #lambda_arr contains \\Delta_i to be added as self energy corrections\n",
    "        if not delta_arr:\n",
    "            delta_arr = cal_delta()\n",
    "        \n",
    "        H0 = 0\n",
    "        for n in range(self.N):\n",
    "            for i in range(self.d + 1):\n",
    "                c_ni = (self.g_arr[n][i-1]**2)*np.heaviside(i,0)/(self.v_arr[n][i-1]- self.omega) + self.v_arr[n][i] - delta_arr[i]\n",
    "                H0 = H0 + c_ni*self.tensor_projection_op(n,i,i)\n",
    "        \n",
    "        H1 = 0\n",
    "        for n in range(self.N):\n",
    "            for m in range(self.N):\n",
    "                for i in range(self.d + 1):\n",
    "                    if n == m:\n",
    "                        break\n",
    "                    c_nmi = 0.5*(self.g_arr[n][i]*self.g_arr[m][i])/(self.omega - self.v_arr[m][i])\n",
    "                    H1 = H1 + c_nmi*(self.tensor_projection_op(n,i,i+1)*self.tensor_projection_op(m,i+1,i) + self.tensor_projection_op(n,i+1,i)*self.tensor_projection_op(m,i,i+1))\n",
    "        \n",
    "        return H0 + H1"
   ]
  },
  {
   "cell_type": "code",
   "execution_count": null,
   "id": "20f32175",
   "metadata": {},
   "outputs": [],
   "source": [
    "def generate_tmon_arch(N,Nlevel):\n",
    "    #scaling is 1 to 100MHz\n",
    "    Ej =  np.absolute(np.random.normal(200,20, N))\n",
    "    Ec = np.absolute(np.random.normal(2.5,0.2, N))\n",
    "    g_arr = np.zeros((N,Nlevel))\n",
    "    for n in range(N):\n",
    "        for i in range(Nlevel):\n",
    "            g_arr[n][i] = 1\n",
    "    omega = 2\n",
    "    return E_j, E_c, g_arr,omega "
   ]
  },
  {
   "cell_type": "code",
   "execution_count": null,
   "id": "6743ec78",
   "metadata": {},
   "outputs": [],
   "source": [
    "#Evolution of a particular \\rho with H' and \\theta\n",
    "def time_evol():\n",
    "rho_0 = "
   ]
  },
  {
   "cell_type": "code",
   "execution_count": null,
   "id": "9660975a",
   "metadata": {},
   "outputs": [],
   "source": [
    "#calculate optimal squeezing parameter"
   ]
  }
 ],
 "metadata": {
  "kernelspec": {
   "display_name": "Python 3 (ipykernel)",
   "language": "python",
   "name": "python3"
  },
  "language_info": {
   "codemirror_mode": {
    "name": "ipython",
    "version": 3
   },
   "file_extension": ".py",
   "mimetype": "text/x-python",
   "name": "python",
   "nbconvert_exporter": "python",
   "pygments_lexer": "ipython3",
   "version": "3.11.1"
  }
 },
 "nbformat": 4,
 "nbformat_minor": 5
}
