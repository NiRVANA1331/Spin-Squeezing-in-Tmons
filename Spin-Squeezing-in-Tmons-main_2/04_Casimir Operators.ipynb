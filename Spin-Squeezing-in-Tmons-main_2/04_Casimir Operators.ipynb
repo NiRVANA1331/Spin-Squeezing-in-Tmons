{
 "cells": [
  {
   "cell_type": "code",
   "execution_count": 1,
   "id": "1739acba",
   "metadata": {},
   "outputs": [],
   "source": [
    "import numpy as np\n",
    "from qutip import *\n",
    "from tqdm.auto import tqdm\n",
    "import matplotlib.pyplot as plt\n",
    "import math\n",
    "from numpy import sqrt,array,isclose,linspace\n",
    "import matplotlib.pyplot as plt\n",
    "from numpy import *"
   ]
  },
  {
   "cell_type": "code",
   "execution_count": 2,
   "id": "1bd3680f",
   "metadata": {},
   "outputs": [],
   "source": [
    "from modules.spin_arch import *\n",
    "from modules.su_algebra import *"
   ]
  },
  {
   "cell_type": "code",
   "execution_count": 3,
   "id": "48555ca1",
   "metadata": {},
   "outputs": [],
   "source": [
    "from IPython.display import Latex"
   ]
  },
  {
   "cell_type": "code",
   "execution_count": 4,
   "id": "2ee0959b",
   "metadata": {},
   "outputs": [],
   "source": [
    "Ntrunc = 3 #global operator for truncation level or total number of dimensions"
   ]
  },
  {
   "cell_type": "code",
   "execution_count": 5,
   "id": "d0c38d91",
   "metadata": {},
   "outputs": [],
   "source": [
    "#initialize system\n",
    "N = 5\n",
    "Nlevel = Ntrunc\n",
    "\n",
    "Ej, Ec, g_arr, omega = generate_tmon_arch(N,Nlevel)\n",
    "sys1 = tmon_system(N, Nlevel, Ec, Ej, g_arr, omega)"
   ]
  },
  {
   "cell_type": "code",
   "execution_count": 6,
   "id": "46a59838",
   "metadata": {},
   "outputs": [],
   "source": [
    "# a=0.40824829\n",
    "# b=0.70710678\n",
    "# c=0.57735027\n",
    "\n",
    "a=1\n",
    "b=sqrt(2)\n",
    "c=1"
   ]
  },
  {
   "cell_type": "code",
   "execution_count": 9,
   "id": "70598031",
   "metadata": {},
   "outputs": [],
   "source": [
    "\n",
    "# Spin 1\n",
    "Sx=Qobj(ensemble_op(op_padded(Qobj(np.array([[0,1,0],[1,0,1],[0,1,0]])/np.sqrt(2)),Nlevel), N))\n",
    "Sy=Qobj(ensemble_op(op_padded(Qobj(1j*np.array([[0,-1,0],[1,0,-1],[0,1,0]])/np.sqrt(2)),Nlevel), N))\n",
    "Sz=Qobj(ensemble_op(op_padded(Qobj(np.array([[1,0,0],[0,0,0],[0,0,-1]])),Nlevel), N))\n",
    "\n",
    "\n",
    "Jsq=Sx**2+Sy**2+Sz**2\n",
    "# Jsq=Qobj(array(Jsq))\n",
    "Jp=Sx+1j*Sy\n",
    "# Jp=Qobj(array(Jp))\n",
    "Jm=Sx-1j*Sy\n",
    "# Jm=Qobj(array(Jm))"
   ]
  },
  {
   "cell_type": "code",
   "execution_count": 3,
   "id": "bc24993c",
   "metadata": {},
   "outputs": [],
   "source": [
    "L1=Qobj(np.array([[0,1,0],[1,0,0],[0,0,0]]))\n",
    "L2=Qobj(np.array([[0,-1j,0],[1j,0,0],[0,0,0]]))\n",
    "L3=Qobj(np.array([[1,0,0],[0,-1,0],[0,0,0]]))\n",
    "L4=Qobj(np.array([[0,0,1],[0,0,0],[1,0,0]]))\n",
    "L5=Qobj(np.array([[0,0,-1j],[0,0,0],[1j,0,0]]))\n",
    "L6=Qobj(np.array([[0,0,0],[0,0,1],[0,1,0]]))\n",
    "L7=Qobj(np.array([[0,0,0],[0,0,-1j],[0,1j,0]]))\n",
    "L8=Qobj(np.array([[1,0,0],[0,1,0],[0,0,-2]]))/sqrt(3)"
   ]
  },
  {
   "cell_type": "code",
   "execution_count": 17,
   "id": "33d8b8d3",
   "metadata": {},
   "outputs": [],
   "source": [
    "L=[L1,L2,L3,L4,L5,L6,L7,L8]\n"
   ]
  },
  {
   "cell_type": "code",
   "execution_count": 19,
   "id": "c21cd977",
   "metadata": {},
   "outputs": [
    {
     "data": {
      "text/plain": [
       "0.0"
      ]
     },
     "execution_count": 19,
     "metadata": {},
     "output_type": "execute_result"
    }
   ],
   "source": [
    "sigmax().tr()"
   ]
  },
  {
   "cell_type": "code",
   "execution_count": 30,
   "id": "6716d66f",
   "metadata": {},
   "outputs": [],
   "source": [
    "d=[]\n",
    "for i in range(len(L)):\n",
    "    temp1=[]\n",
    "    for j in range(len(L)):\n",
    "        temp2=[]\n",
    "        \n",
    "        for k in range(len(L)):\n",
    "            temp3=((L[j]*L[k]+L[k]*L[j])*L[i]).tr()/4\n",
    "            temp2.append(temp3)\n",
    "        temp1.append(temp2)\n",
    "    d.append(temp1)"
   ]
  },
  {
   "cell_type": "code",
   "execution_count": 31,
   "id": "4d795791",
   "metadata": {},
   "outputs": [
    {
     "data": {
      "text/latex": [
       "Quantum object: dims = [[3], [3]], shape = (3, 3), type = oper, isherm = True $ \\\\ \\left(\\begin{matrix}8.889 & 0.0 & 0.0\\\\0.0 & 8.889 & 0.0\\\\0.0 & 0.0 & 8.889\\\\\\end{matrix}\\right)$"
      ],
      "text/plain": [
       "Quantum object: dims = [[3], [3]], shape = (3, 3), type = oper, isherm = True\n",
       "Qobj data =\n",
       "[[8.88888889 0.         0.        ]\n",
       " [0.         8.88888889 0.        ]\n",
       " [0.         0.         8.88888889]]"
      ]
     },
     "execution_count": 31,
     "metadata": {},
     "output_type": "execute_result"
    }
   ],
   "source": [
    "C=0\n",
    "for i in range(len(L)):\n",
    "    for j in range(len(L)):        \n",
    "        for k in range(len(L)):\n",
    "            C+=d[i][j][k]*L[i]*L[j]*L[k]\n",
    "C"
   ]
  },
  {
   "cell_type": "code",
   "execution_count": null,
   "id": "f5374b12",
   "metadata": {},
   "outputs": [],
   "source": []
  }
 ],
 "metadata": {
  "kernelspec": {
   "display_name": "Python 3 (ipykernel)",
   "language": "python",
   "name": "python3"
  },
  "language_info": {
   "codemirror_mode": {
    "name": "ipython",
    "version": 3
   },
   "file_extension": ".py",
   "mimetype": "text/x-python",
   "name": "python",
   "nbconvert_exporter": "python",
   "pygments_lexer": "ipython3",
   "version": "3.11.4"
  }
 },
 "nbformat": 4,
 "nbformat_minor": 5
}
