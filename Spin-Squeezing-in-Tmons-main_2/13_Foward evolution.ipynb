{
 "cells": [
  {
   "cell_type": "code",
   "execution_count": 229,
   "id": "08b42426",
   "metadata": {},
   "outputs": [],
   "source": [
    "import numpy as np\n",
    "from numpy import *\n",
    "from qutip import *\n",
    "from tqdm.auto import tqdm\n",
    "import matplotlib.pyplot as plt\n",
    "import math"
   ]
  },
  {
   "cell_type": "code",
   "execution_count": 230,
   "id": "c279a703",
   "metadata": {},
   "outputs": [],
   "source": [
    "from modules.spin_arch import *\n",
    "from modules.su_algebra import *"
   ]
  },
  {
   "cell_type": "code",
   "execution_count": 231,
   "id": "636cd0d6",
   "metadata": {},
   "outputs": [],
   "source": [
    "from IPython.display import Latex"
   ]
  },
  {
   "cell_type": "code",
   "execution_count": 232,
   "id": "e7444d9c",
   "metadata": {},
   "outputs": [],
   "source": [
    "Ntrunc = 3 #global operator for truncation level or total number of dimensions"
   ]
  },
  {
   "cell_type": "code",
   "execution_count": 233,
   "id": "8b4eb45d",
   "metadata": {},
   "outputs": [],
   "source": [
    "#initialize system\n",
    "N = 3\n",
    "Nlevel = Ntrunc\n",
    "omega=59\n",
    "Ej, Ec, g_arr, omega = generate_tmon_arch(N,Nlevel,o=omega)\n",
    "sys1 = tmon_system(N, Nlevel, Ec, Ej, g_arr, omega)\n",
    "chi=2*(60-omega)/(57-omega)"
   ]
  },
  {
   "cell_type": "code",
   "execution_count": 234,
   "id": "e01a7f60",
   "metadata": {},
   "outputs": [
    {
     "data": {
      "text/plain": [
       "-1.0"
      ]
     },
     "execution_count": 234,
     "metadata": {},
     "output_type": "execute_result"
    }
   ],
   "source": [
    "chi"
   ]
  },
  {
   "cell_type": "code",
   "execution_count": 235,
   "id": "c03ca25e",
   "metadata": {},
   "outputs": [
    {
     "data": {
      "text/plain": [
       "[[0.0, 60.0, 117.0], [0.0, 60.0, 117.0], [0.0, 60.0, 117.0]]"
      ]
     },
     "execution_count": 235,
     "metadata": {},
     "output_type": "execute_result"
    }
   ],
   "source": [
    "sys1.freq_list()"
   ]
  },
  {
   "cell_type": "code",
   "execution_count": 236,
   "id": "9820d507",
   "metadata": {},
   "outputs": [
    {
     "data": {
      "text/plain": [
       "59"
      ]
     },
     "execution_count": 236,
     "metadata": {},
     "output_type": "execute_result"
    }
   ],
   "source": [
    "sys1.omega "
   ]
  },
  {
   "cell_type": "markdown",
   "id": "6f10176b",
   "metadata": {},
   "source": [
    "### Hamiltonian Evolution: $$e^{-iHt} \\rho_0 e^{iHt}$$"
   ]
  },
  {
   "cell_type": "code",
   "execution_count": 237,
   "id": "40ff54ea",
   "metadata": {},
   "outputs": [],
   "source": [
    "a=1\n",
    "b=exp(2*pi*1j*0.8)#*np.sqrt(2)\n",
    "c=exp(2*pi*1j*0)\n",
    "\n",
    "# a=0.40824829\n",
    "# b=0.70710678\n",
    "# c=0.57735027\n",
    "  "
   ]
  },
  {
   "cell_type": "code",
   "execution_count": 238,
   "id": "cbaeb640",
   "metadata": {},
   "outputs": [],
   "source": [
    "psi_2 = a*basis(Nlevel,0) + b*basis(Nlevel,1) + c*basis(Nlevel,2)\n",
    "psi_2 = psi_2/psi_2.norm()\n",
    "psi_2 = psi_2 * psi_2.dag()\n",
    "psi0 = tensor([psi_2]*N) #sys1.tensor_projection_op(0,1,1, dim = None)\n",
    "\n",
    "# psi0 = 1/sqrt(3)*(tensor([basis(Nlevel,0)]*N)+tensor([basis(Nlevel,1)]*N)+tensor([basis(Nlevel,2)]*N))\n",
    "# psi0 =psi0*psi0.dag()"
   ]
  },
  {
   "cell_type": "code",
   "execution_count": 239,
   "id": "b977d027",
   "metadata": {},
   "outputs": [
    {
     "data": {
      "text/plain": [
       "1.0000000000000013"
      ]
     },
     "execution_count": 239,
     "metadata": {},
     "output_type": "execute_result"
    }
   ],
   "source": [
    "abs(trace((psi0.ptrace(0))**2))"
   ]
  },
  {
   "cell_type": "code",
   "execution_count": 240,
   "id": "a08a7d0f",
   "metadata": {
    "scrolled": true
   },
   "outputs": [
    {
     "name": "stdout",
     "output_type": "stream",
     "text": [
      "2.000000000000001\n"
     ]
    },
    {
     "data": {
      "text/plain": [
       "2.000018395068206"
      ]
     },
     "execution_count": 240,
     "metadata": {},
     "output_type": "execute_result"
    }
   ],
   "source": [
    "# Rotation to the state\n",
    "\n",
    "\n",
    "L1,L2,L3,L4,L5,L6,L7,L8=(gen_basisoperators(N, Nlevel, spin = 1, op_type =\"gellmann\"))\n",
    "\n",
    "meas=L3\n",
    "\n",
    "print((meas.dag()*psi0*meas).tr())\n",
    "\n",
    "# First Rotation\n",
    "\n",
    "psi0=mesolve(L1,psi0,linspace(0,2*pi,100),[],[]).states[-1]\n",
    "\n",
    "# Second Rotation\n",
    "\n",
    "psi0=mesolve(L6,psi0,linspace(0,2*pi,100),[],[]).states[-1]\n",
    "\n",
    "\n",
    "(meas.dag()*psi0*meas).tr()"
   ]
  },
  {
   "cell_type": "code",
   "execution_count": 241,
   "id": "c5aef9f3",
   "metadata": {},
   "outputs": [
    {
     "data": {
      "text/plain": [
       "0.9999993335834526"
      ]
     },
     "execution_count": 241,
     "metadata": {},
     "output_type": "execute_result"
    }
   ],
   "source": [
    "abs(trace((psi0.ptrace(0))**2))"
   ]
  },
  {
   "cell_type": "code",
   "execution_count": 242,
   "id": "e1954034",
   "metadata": {},
   "outputs": [
    {
     "name": "stdout",
     "output_type": "stream",
     "text": [
      "59 0.0 -3.141592653589793\n",
      "59 60.0 3.141592653589793\n",
      "59 0.0 -3.141592653589793\n",
      "59 60.0 3.141592653589793\n",
      "59 0.0 -3.141592653589793\n",
      "59 60.0 3.141592653589793\n",
      "59 0.0 -3.141592653589793\n",
      "59 60.0 3.141592653589793\n",
      "59 0.0 -3.141592653589793\n",
      "59 60.0 3.141592653589793\n",
      "59 0.0 -3.141592653589793\n",
      "59 60.0 3.141592653589793\n",
      "10.2%. Run time:   0.00s. Est. time left: 00:00:00:00\n",
      "20.2%. Run time:   0.01s. Est. time left: 00:00:00:00\n",
      "30.1%. Run time:   0.01s. Est. time left: 00:00:00:00\n",
      "40.1%. Run time:   0.02s. Est. time left: 00:00:00:00\n",
      "50.1%. Run time:   0.03s. Est. time left: 00:00:00:00\n",
      "60.1%. Run time:   0.03s. Est. time left: 00:00:00:00\n",
      "70.1%. Run time:   0.03s. Est. time left: 00:00:00:00\n",
      "80.0%. Run time:   0.04s. Est. time left: 00:00:00:00\n",
      "90.0%. Run time:   0.05s. Est. time left: 00:00:00:00\n",
      "Total run time:   0.05s\n"
     ]
    }
   ],
   "source": [
    "H = sys1.H_I()\n",
    "# psi0 = tensor([psi_2]*N) #sys1.tensor_projection_op(0,1,1, dim = None)\n",
    "unit=abs((H/(2*pi))[1,3])\n",
    "times = np.linspace(0,1/unit,501) #time scale is ~ 1/freq of self energy \n",
    "options = Options()\n",
    "options.store_final_state = True\n",
    "result = mesolve(H, psi0, times, [], options = options, progress_bar=True)\n",
    "# print(len(result.states))"
   ]
  },
  {
   "cell_type": "code",
   "execution_count": 246,
   "id": "02d21dd2",
   "metadata": {},
   "outputs": [
    {
     "name": "stdout",
     "output_type": "stream",
     "text": [
      "[0.99999933 0.        ]\n",
      "[0.99981181 1.        ]\n",
      "[0.99925069 2.        ]\n",
      "[0.99831642 3.        ]\n",
      "[0.99701037 4.        ]\n",
      "[0.99533442 5.        ]\n",
      "[0.99329105 6.        ]\n",
      "[0.99088327 7.        ]\n",
      "[0.98811463 8.        ]\n",
      "[0.98498916 9.        ]\n",
      "[ 0.98151146 10.        ]\n",
      "[ 0.97768659 11.        ]\n",
      "[ 0.97352012 12.        ]\n",
      "[ 0.96901813 13.        ]\n",
      "[ 0.96418712 14.        ]\n",
      "[ 0.9590341 15.       ]\n",
      "[ 0.95356648 16.        ]\n",
      "[ 0.94779213 17.        ]\n",
      "[ 0.94171932 18.        ]\n",
      "[ 0.93535671 19.        ]\n",
      "[ 0.92871337 20.        ]\n",
      "[ 0.92179867 21.        ]\n",
      "[ 0.91462237 22.        ]\n",
      "[ 0.90719454 23.        ]\n",
      "[ 0.89952553 24.        ]\n",
      "[ 0.89162599 25.        ]\n",
      "[ 0.88350683 26.        ]\n",
      "[ 0.87517917 27.        ]\n",
      "[ 0.86665438 28.        ]\n",
      "[ 0.857944 29.      ]\n",
      "[ 0.84905973 30.        ]\n",
      "[ 0.84001344 31.        ]\n",
      "[ 0.8308171 32.       ]\n",
      "[ 0.82148278 33.        ]\n",
      "[ 0.81202265 34.        ]\n",
      "[ 0.80244891 35.        ]\n",
      "[ 0.7927738 36.       ]\n",
      "[ 0.78300954 37.        ]\n",
      "[ 0.77316837 38.        ]\n",
      "[ 0.76326245 39.        ]\n",
      "[ 0.7533039 40.       ]\n",
      "[ 0.74330475 41.        ]\n",
      "[ 0.73327693 42.        ]\n",
      "[ 0.72323221 43.        ]\n",
      "[ 0.71318225 44.        ]\n",
      "[ 0.7031385 45.       ]\n",
      "[ 0.69311224 46.        ]\n",
      "[ 0.68311453 47.        ]\n",
      "[ 0.67315619 48.        ]\n",
      "[ 0.66324782 49.        ]\n",
      "[ 0.65339972 50.        ]\n",
      "[ 0.64362194 51.        ]\n",
      "[ 0.6339242 52.       ]\n",
      "[ 0.62431592 53.        ]\n",
      "[ 0.61480619 54.        ]\n",
      "[ 0.60540375 55.        ]\n",
      "[ 0.59611701 56.        ]\n",
      "[ 0.58695398 57.        ]\n",
      "[ 0.57792232 58.        ]\n",
      "[ 0.56902928 59.        ]\n",
      "[ 0.56028174 60.        ]\n",
      "[ 0.55168616 61.        ]\n",
      "[ 0.5432486 62.       ]\n",
      "[ 0.5349747 63.       ]\n",
      "[ 0.5268697 64.       ]\n",
      "[ 0.5189384 65.       ]\n",
      "[ 0.51118518 66.        ]\n",
      "[ 0.503614 67.      ]\n",
      "[ 0.49622837 68.        ]\n",
      "[ 0.48903141 69.        ]\n",
      "[ 0.48202581 70.        ]\n",
      "[ 0.47521382 71.        ]\n",
      "[ 0.46859729 72.        ]\n",
      "[ 0.46217767 73.        ]\n",
      "[ 0.45595599 74.        ]\n",
      "[ 0.44993288 75.        ]\n",
      "[ 0.4441086 76.       ]\n",
      "[ 0.43848301 77.        ]\n",
      "[ 0.4330556 78.       ]\n",
      "[ 0.42782551 79.        ]\n",
      "[ 0.42279154 80.        ]\n",
      "[ 0.41795212 81.        ]\n",
      "[ 0.4133054 82.       ]\n",
      "[ 0.40884918 83.        ]\n",
      "[ 0.40458099 84.        ]\n",
      "[ 0.40049805 85.        ]\n",
      "[ 0.39659736 86.        ]\n",
      "[ 0.39287564 87.        ]\n",
      "[ 0.38932937 88.        ]\n",
      "[ 0.38595484 89.        ]\n",
      "[ 0.38274813 90.        ]\n",
      "[ 0.37970513 91.        ]\n",
      "[ 0.37682159 92.        ]\n",
      "[ 0.37409307 93.        ]\n",
      "[ 0.37151507 94.        ]\n",
      "[ 0.36908293 95.        ]\n",
      "[ 0.36679193 96.        ]\n",
      "[ 0.36463726 97.        ]\n",
      "[ 0.36261409 98.        ]\n",
      "[ 0.36071753 99.        ]\n",
      "[  0.35894268 100.        ]\n",
      "[  0.35728466 101.        ]\n",
      "[  0.35573861 102.        ]\n",
      "[  0.35429969 103.        ]\n",
      "[  0.35296314 104.        ]\n",
      "[  0.35172429 105.        ]\n",
      "[  0.35057852 106.        ]\n",
      "[  0.34952137 107.        ]\n",
      "[  0.34854847 108.        ]\n",
      "[  0.3476556 109.       ]\n",
      "[  0.34683871 110.        ]\n",
      "[  0.3460939 111.       ]\n",
      "[  0.34541748 112.        ]\n",
      "[  0.34480593 113.        ]\n",
      "[  0.34425596 114.        ]\n",
      "[  0.34376447 115.        ]\n",
      "[  0.34332864 116.        ]\n",
      "[  0.34294585 117.        ]\n",
      "[  0.34261375 118.        ]\n",
      "[  0.34233023 119.        ]\n",
      "[  0.34209348 120.        ]\n",
      "[  0.34190191 121.        ]\n",
      "[  0.34175425 122.        ]\n",
      "[  0.3416495 123.       ]\n",
      "[  0.34158693 124.        ]\n",
      "[  0.34156612 125.        ]\n",
      "[  0.34158691 126.        ]\n",
      "[  0.34164946 127.        ]\n",
      "[  0.34175419 128.        ]\n",
      "[  0.34190182 129.        ]\n",
      "[  0.34209337 130.        ]\n",
      "[  0.3423301 131.       ]\n",
      "[  0.3426136 132.       ]\n",
      "[  0.34294568 133.        ]\n",
      "[  0.34332845 134.        ]\n",
      "[  0.34376427 135.        ]\n",
      "[  0.34425573 136.        ]\n",
      "[  0.34480569 137.        ]\n",
      "[  0.34541722 138.        ]\n",
      "[  0.34609363 139.        ]\n",
      "[  0.34683843 140.        ]\n",
      "[  0.34765531 141.        ]\n",
      "[  0.34854817 142.        ]\n",
      "[  0.34952106 143.        ]\n",
      "[  0.35057821 144.        ]\n",
      "[  0.35172397 145.        ]\n",
      "[  0.35296283 146.        ]\n",
      "[  0.35429937 147.        ]\n",
      "[  0.3557383 148.       ]\n",
      "[  0.35728436 149.        ]\n",
      "[  0.35894238 150.        ]\n",
      "[  0.36071724 151.        ]\n",
      "[  0.36261381 152.        ]\n",
      "[  0.364637 153.      ]\n",
      "[  0.36679167 154.        ]\n",
      "[  0.36908268 155.        ]\n",
      "[  0.37151484 156.        ]\n",
      "[  0.37409286 157.        ]\n",
      "[  0.37682139 158.        ]\n",
      "[  0.37970496 159.        ]\n",
      "[  0.38274799 160.        ]\n",
      "[  0.38595472 161.        ]\n",
      "[  0.38932928 162.        ]\n",
      "[  0.39287557 163.        ]\n",
      "[  0.39659733 164.        ]\n",
      "[  0.40049805 165.        ]\n",
      "[  0.40458101 166.        ]\n",
      "[  0.40884924 167.        ]\n",
      "[  0.4133055 168.       ]\n",
      "[  0.41795226 169.        ]\n",
      "[  0.42279172 170.        ]\n",
      "[  0.42782573 171.        ]\n",
      "[  0.43305586 172.        ]\n",
      "[  0.4384833 173.       ]\n",
      "[  0.44410894 174.        ]\n",
      "[  0.44993327 175.        ]\n",
      "[  0.45595642 176.        ]\n",
      "[  0.46217815 177.        ]\n",
      "[  0.46859782 178.        ]\n",
      "[  0.47521438 179.        ]\n",
      "[  0.48202641 180.        ]\n",
      "[  0.48903206 181.        ]\n",
      "[  0.49622906 182.        ]\n",
      "[  0.50361473 183.        ]\n",
      "[  0.51118597 184.        ]\n",
      "[  0.51893924 185.        ]\n",
      "[  0.52687058 186.        ]\n",
      "[  0.53497562 187.        ]\n",
      "[  0.54324956 188.        ]\n",
      "[  0.55168716 189.        ]\n",
      "[  0.56028278 190.        ]\n",
      "[  0.56903036 191.        ]\n",
      "[  0.57792344 192.        ]\n",
      "[  0.58695515 193.        ]\n",
      "[  0.59611822 194.        ]\n",
      "[  0.60540501 195.        ]\n",
      "[  0.61480748 196.        ]\n",
      "[  0.62431725 197.        ]\n",
      "[  0.63392556 198.        ]\n",
      "[  0.64362334 199.        ]\n",
      "[  0.65340115 200.        ]\n",
      "[  0.66324927 201.        ]\n",
      "[  0.67315766 202.        ]\n",
      "[  0.68311601 203.        ]\n",
      "[  0.69311374 204.        ]\n",
      "[  0.70314002 205.        ]\n",
      "[  0.71318378 206.        ]\n",
      "[  0.72323376 207.        ]\n",
      "[  0.73327849 208.        ]\n",
      "[  0.74330632 209.        ]\n",
      "[  0.75330546 210.        ]\n",
      "[  0.76326401 211.        ]\n",
      "[  0.77316993 212.        ]\n",
      "[  0.7830111 213.       ]\n",
      "[  0.79277535 214.        ]\n",
      "[  0.80245046 215.        ]\n",
      "[  0.81202418 216.        ]\n",
      "[  0.8214843 217.       ]\n",
      "[  0.83081859 218.        ]\n",
      "[  0.84001491 219.        ]\n",
      "[  0.84906118 220.        ]\n",
      "[  0.85794542 221.        ]\n",
      "[  0.86665577 222.        ]\n",
      "[  0.87518054 223.        ]\n",
      "[  0.88350816 224.        ]\n",
      "[  0.89162729 225.        ]\n",
      "[  0.89952679 226.        ]\n",
      "[  0.90719575 227.        ]\n",
      "[  0.91462354 228.        ]\n",
      "[  0.92179979 229.        ]\n",
      "[  0.92871444 230.        ]\n",
      "[  0.93535775 231.        ]\n",
      "[  0.9417203 232.       ]\n",
      "[  0.94779306 233.        ]\n",
      "[  0.95356736 234.        ]\n",
      "[  0.95903491 235.        ]\n",
      "[  0.96418788 236.        ]\n",
      "[  0.96901883 237.        ]\n",
      "[  0.97352077 238.        ]\n",
      "[  0.97768717 239.        ]\n",
      "[  0.98151199 240.        ]\n",
      "[  0.98498964 241.        ]\n",
      "[  0.98811504 242.        ]\n",
      "[  0.99088362 243.        ]\n",
      "[  0.99329132 244.        ]\n",
      "[  0.99533461 245.        ]\n",
      "[  0.99701051 246.        ]\n",
      "[  0.99831654 247.        ]\n",
      "[  0.99925076 248.        ]\n",
      "[  0.99981182 249.        ]\n",
      "[  0.99999887 250.        ]\n",
      "[  0.99981164 251.        ]\n",
      "[  0.99925042 252.        ]\n",
      "[  0.99831604 253.        ]\n",
      "[  0.99700985 254.        ]\n",
      "[  0.99533379 255.        ]\n",
      "[  0.99329032 256.        ]\n",
      "[  0.99088245 257.        ]\n",
      "[  0.9881137 258.       ]\n",
      "[  0.98498811 259.        ]\n",
      "[  0.98151026 260.        ]\n",
      "[  0.97768528 261.        ]\n",
      "[  0.97351873 262.        ]\n",
      "[  0.96901662 263.        ]\n",
      "[  0.96418549 264.        ]\n",
      "[  0.95903234 265.        ]\n",
      "[  0.95356462 266.        ]\n",
      "[  0.9477902 267.       ]\n",
      "[  0.94171729 268.        ]\n",
      "[  0.93535457 269.        ]\n",
      "[  0.92871111 270.        ]\n",
      "[  0.92179635 271.        ]\n",
      "[  0.91462 272.     ]\n",
      "[  0.90719209 273.        ]\n",
      "[  0.89952299 274.        ]\n",
      "[  0.89162338 275.        ]\n",
      "[  0.88350419 276.        ]\n",
      "[  0.8751765 277.       ]\n",
      "[  0.86665167 278.        ]\n",
      "[  0.85794123 279.        ]\n",
      "[  0.84905693 280.        ]\n",
      "[  0.84001064 281.        ]\n",
      "[  0.83081429 282.        ]\n",
      "[  0.82147997 283.        ]\n",
      "[  0.81201982 284.        ]\n",
      "[  0.80244609 285.        ]\n",
      "[  0.79277101 286.        ]\n",
      "[  0.78300677 287.        ]\n",
      "[  0.77316561 288.        ]\n",
      "[  0.76325972 289.        ]\n",
      "[  0.75330121 290.        ]\n",
      "[  0.74330213 291.        ]\n",
      "[  0.73327436 292.        ]\n",
      "[  0.72322969 293.        ]\n",
      "[  0.71317978 294.        ]\n",
      "[  0.7031361 295.       ]\n",
      "[  0.69310992 296.        ]\n",
      "[  0.68311229 297.        ]\n",
      "[  0.67315403 298.        ]\n",
      "[  0.66324574 299.        ]\n",
      "[  0.65339774 300.        ]\n",
      "[  0.64362006 301.        ]\n",
      "[  0.63392241 302.        ]\n",
      "[  0.62431422 303.        ]\n",
      "[  0.61480459 304.        ]\n",
      "[  0.60540226 305.        ]\n",
      "[  0.59611562 306.        ]\n",
      "[  0.58695269 307.        ]\n",
      "[  0.57792113 308.        ]\n",
      "[  0.5690282 309.       ]\n",
      "[  0.56028076 310.        ]\n",
      "[  0.5516853 311.       ]\n",
      "[  0.54324785 312.        ]\n",
      "[  0.53497408 313.        ]\n",
      "[  0.52686919 314.        ]\n",
      "[  0.518938 315.      ]\n",
      "[  0.51118488 316.        ]\n",
      "[  0.5036138 317.       ]\n",
      "[  0.49622829 318.        ]\n",
      "[  0.48903143 319.        ]\n",
      "[  0.48202592 320.        ]\n",
      "[  0.47521403 321.        ]\n",
      "[  0.4685976 322.       ]\n",
      "[  0.46217807 323.        ]\n",
      "[  0.45595647 324.        ]\n",
      "[  0.44993344 325.        ]\n",
      "[  0.44410924 326.        ]\n",
      "[  0.43848372 327.        ]\n",
      "[  0.43305638 328.        ]\n",
      "[  0.42782636 329.        ]\n",
      "[  0.42279244 330.        ]\n",
      "[  0.41795308 331.        ]\n",
      "[  0.41330641 332.        ]\n",
      "[  0.40885023 333.        ]\n",
      "[  0.40458206 334.        ]\n",
      "[  0.40049916 335.        ]\n",
      "[  0.3965985 336.       ]\n",
      "[  0.3928768 337.       ]\n",
      "[  0.38933055 338.        ]\n",
      "[  0.38595602 339.        ]\n",
      "[  0.38274931 340.        ]\n",
      "[  0.37970631 341.        ]\n",
      "[  0.37682275 342.        ]\n",
      "[  0.37409423 343.        ]\n",
      "[  0.3715162 344.       ]\n",
      "[  0.36908404 345.        ]\n",
      "[  0.36679301 346.        ]\n",
      "[  0.36463832 347.        ]\n",
      "[  0.36261511 348.        ]\n",
      "[  0.3607185 349.       ]\n",
      "[  0.35894361 350.        ]\n",
      "[  0.35728554 351.        ]\n",
      "[  0.35573943 352.        ]\n",
      "[  0.35430045 353.        ]\n",
      "[3.52963846e-01 3.54000000e+02]\n",
      "[3.51724927e-01 3.55000000e+02]\n",
      "[3.50579099e-01 3.56000000e+02]\n",
      "[3.49521878e-01 3.57000000e+02]\n",
      "[3.48548905e-01 3.58000000e+02]\n",
      "[3.47655967e-01 3.59000000e+02]\n",
      "[3.46839004e-01 3.60000000e+02]\n",
      "[3.46094127e-01 3.61000000e+02]\n",
      "[3.4541763e-01 3.6200000e+02]\n",
      "[3.44806007e-01 3.63000000e+02]\n",
      "[3.44255957e-01 3.64000000e+02]\n",
      "[3.43764403e-01 3.65000000e+02]\n",
      "[3.433285e-01 3.660000e+02]\n",
      "[3.42945642e-01 3.67000000e+02]\n",
      "[3.42613473e-01 3.68000000e+02]\n",
      "[3.42329892e-01 3.69000000e+02]\n",
      "[3.42093068e-01 3.70000000e+02]\n",
      "[3.41901441e-01 3.71000000e+02]\n",
      "[3.4175373e-01 3.7200000e+02]\n",
      "[3.41648926e-01 3.73000000e+02]\n",
      "[3.41586307e-01 3.74000000e+02]\n",
      "[3.41565444e-01 3.75000000e+02]\n",
      "[3.41586195e-01 3.76000000e+02]\n",
      "[3.41648707e-01 3.77000000e+02]\n",
      "[3.41753407e-01 3.78000000e+02]\n",
      "[3.41901014e-01 3.79000000e+02]\n",
      "[3.42092535e-01 3.80000000e+02]\n",
      "[3.42329258e-01 3.81000000e+02]\n",
      "[3.42612747e-01 3.82000000e+02]\n",
      "[3.42944828e-01 3.83000000e+02]\n",
      "[3.433276e-01 3.840000e+02]\n",
      "[3.43763422e-01 3.85000000e+02]\n",
      "[3.44254903e-01 3.86000000e+02]\n",
      "[3.4480489e-01 3.8700000e+02]\n",
      "[3.45416457e-01 3.88000000e+02]\n",
      "[3.46092902e-01 3.89000000e+02]\n",
      "[3.46837737e-01 3.90000000e+02]\n",
      "[3.4765467e-01 3.9100000e+02]\n",
      "[3.48547586e-01 3.92000000e+02]\n",
      "[3.49520545e-01 3.93000000e+02]\n",
      "[3.50577763e-01 3.94000000e+02]\n",
      "[3.517236e-01 3.950000e+02]\n",
      "[3.52962538e-01 3.96000000e+02]\n",
      "[3.54299172e-01 3.97000000e+02]\n",
      "[3.55738189e-01 3.98000000e+02]\n",
      "[3.57284353e-01 3.99000000e+02]\n",
      "[3.58942486e-01 4.00000000e+02]\n",
      "[3.60717451e-01 4.01000000e+02]\n",
      "[3.62614141e-01 4.02000000e+02]\n",
      "[3.64637448e-01 4.03000000e+02]\n",
      "[3.66792252e-01 4.04000000e+02]\n",
      "[3.690834e-01 4.050000e+02]\n",
      "[3.71515687e-01 4.06000000e+02]\n",
      "[3.74093848e-01 4.07000000e+02]\n",
      "[3.76822525e-01 4.08000000e+02]\n",
      "[3.79706248e-01 4.09000000e+02]\n",
      "[3.82749419e-01 4.10000000e+02]\n",
      "[3.85956304e-01 4.11000000e+02]\n",
      "[3.89331011e-01 4.12000000e+02]\n",
      "[3.92877461e-01 4.13000000e+02]\n",
      "[3.96599373e-01 4.14000000e+02]\n",
      "[4.00500242e-01 4.15000000e+02]\n",
      "[4.04583352e-01 4.16000000e+02]\n",
      "[4.08851735e-01 4.17000000e+02]\n",
      "[4.13308148e-01 4.18000000e+02]\n",
      "[4.17955063e-01 4.19000000e+02]\n",
      "[  0.42279465 420.        ]\n",
      "[  0.4278288 421.       ]\n",
      "[  0.43305906 422.        ]\n",
      "[  0.43848665 423.        ]\n",
      "[  0.44411242 424.        ]\n",
      "[  0.44993686 425.        ]\n",
      "[  0.45596012 426.        ]\n",
      "[  0.46218196 427.        ]\n",
      "[  0.46860173 428.        ]\n",
      "[  0.47521839 429.        ]\n",
      "[  0.4820305 430.       ]\n",
      "[  0.48903622 431.        ]\n",
      "[  0.4962333 432.       ]\n",
      "[  0.50361903 433.        ]\n",
      "[  0.51119031 434.        ]\n",
      "[  0.5189436 435.       ]\n",
      "[  0.52687497 436.        ]\n",
      "[  0.53498003 437.        ]\n",
      "[  0.54325397 438.        ]\n",
      "[  0.55169155 439.        ]\n",
      "[  0.56028714 440.        ]\n",
      "[  0.56903469 441.        ]\n",
      "[  0.57792773 442.        ]\n",
      "[  0.58695938 443.        ]\n",
      "[  0.59612236 444.        ]\n",
      "[  0.60540905 445.        ]\n",
      "[  0.61481142 446.        ]\n",
      "[  0.62432107 447.        ]\n",
      "[  0.63392926 448.        ]\n",
      "[  0.64362687 449.        ]\n",
      "[  0.65340452 450.        ]\n",
      "[  0.66325246 451.        ]\n",
      "[  0.67316067 452.        ]\n",
      "[  0.68311882 453.        ]\n",
      "[  0.69311633 454.        ]\n",
      "[  0.70314237 455.        ]\n",
      "[  0.71318589 456.        ]\n",
      "[  0.72323561 457.        ]\n",
      "[  0.73328006 458.        ]\n",
      "[  0.74330761 459.        ]\n",
      "[  0.75330646 460.        ]\n",
      "[  0.76326469 461.        ]\n",
      "[  0.77317029 462.        ]\n",
      "[  0.78301114 463.        ]\n",
      "[  0.79277505 464.        ]\n",
      "[  0.8024498 465.       ]\n",
      "[  0.81202316 466.        ]\n",
      "[  0.8214829 467.       ]\n",
      "[  0.83081682 468.        ]\n",
      "[  0.84001276 469.        ]\n",
      "[  0.84905864 470.        ]\n",
      "[  0.85794247 471.        ]\n",
      "[  0.86665242 472.        ]\n",
      "[  0.87517679 473.        ]\n",
      "[  0.883504 474.      ]\n",
      "[  0.8916227 475.       ]\n",
      "[  0.89952177 476.        ]\n",
      "[  0.90719032 477.        ]\n",
      "[  0.91461771 478.        ]\n",
      "[  0.92179354 479.        ]\n",
      "[  0.92870776 480.        ]\n",
      "[  0.93535063 481.        ]\n",
      "[  0.94171278 482.        ]\n",
      "[  0.94778514 483.        ]\n",
      "[  0.95355903 484.        ]\n",
      "[  0.95902617 485.        ]\n",
      "[  0.96417873 486.        ]\n",
      "[  0.96900931 487.        ]\n",
      "[  0.97351089 488.        ]\n",
      "[  0.97767691 489.        ]\n",
      "[  0.98150134 490.        ]\n",
      "[  0.98497862 491.        ]\n",
      "[  0.9881037 492.       ]\n",
      "[  0.99087196 493.        ]\n",
      "[  0.99327934 494.        ]\n",
      "[  0.99532232 495.        ]\n",
      "[  0.99699791 496.        ]\n",
      "[  0.99830368 497.        ]\n",
      "[  0.99923765 498.        ]\n",
      "[  0.99979845 499.        ]\n",
      "[  0.99998525 500.        ]\n"
     ]
    }
   ],
   "source": [
    "# for i in range(len(times)):\n",
    "purity = (array([(abs(trace((result.states[i].ptrace(0))**2)),i) for i in range(len(times))]))\n",
    "for i in purity:\n",
    "    print (i)"
   ]
  },
  {
   "cell_type": "code",
   "execution_count": null,
   "id": "e21fa610",
   "metadata": {},
   "outputs": [],
   "source": [
    "0.34156612"
   ]
  },
  {
   "cell_type": "code",
   "execution_count": 251,
   "id": "4a178a64",
   "metadata": {},
   "outputs": [
    {
     "data": {
      "text/latex": [
       "Quantum object: dims = [[3], [3]], shape = (3, 3), type = oper, isherm = True $ \\\\ \\left(\\begin{matrix}0.333 & (-0.011-0.035j) & (0.037+7.292\\times10^{-07}j)\\\\(-0.011+0.035j) & 0.333 & (-0.011+0.035j)\\\\(0.037-7.292\\times10^{-07}j) & (-0.011-0.035j) & 0.333\\\\\\end{matrix}\\right)$"
      ],
      "text/plain": [
       "Quantum object: dims = [[3], [3]], shape = (3, 3), type = oper, isherm = True\n",
       "Qobj data =\n",
       "[[ 0.33333331+2.75119495e-17j -0.01144529-3.52288180e-02j\n",
       "   0.03704407+7.29182566e-07j]\n",
       " [-0.01144529+3.52288180e-02j  0.33333339-2.44090524e-16j\n",
       "  -0.01144531+3.52288101e-02j]\n",
       " [ 0.03704407-7.29182566e-07j -0.01144531-3.52288101e-02j\n",
       "   0.33333331+2.19528986e-16j]]"
      ]
     },
     "execution_count": 251,
     "metadata": {},
     "output_type": "execute_result"
    }
   ],
   "source": [
    "(result.states[125].ptrace(2))"
   ]
  },
  {
   "cell_type": "code",
   "execution_count": 244,
   "id": "6d3ba765",
   "metadata": {},
   "outputs": [],
   "source": [
    "phase=0.25*pi"
   ]
  },
  {
   "cell_type": "code",
   "execution_count": 211,
   "id": "6e99dbad",
   "metadata": {},
   "outputs": [],
   "source": [
    "psi0 = 1/sqrt(3)*(tensor([basis(Nlevel,0)]*N)+tensor([basis(Nlevel,1)]*N)+exp(1j*phase)*tensor([basis(Nlevel,2)]*N))\n",
    "psi0 =psi0*psi0.dag()"
   ]
  },
  {
   "cell_type": "code",
   "execution_count": 212,
   "id": "7f10db79",
   "metadata": {},
   "outputs": [
    {
     "name": "stdout",
     "output_type": "stream",
     "text": [
      "[0.  0.5 1.  1.5 2.  2.5 3.  3.5 4.  4.5 5.  5.5 6.  6.5 7.  7.5 8. ]\n"
     ]
    }
   ],
   "source": [
    "anglist=linspace(0,8,17)\n",
    "print(anglist)\n",
    "anglist=anglist*(2*pi)/8\n",
    "anglist[0]+=0.0001"
   ]
  },
  {
   "cell_type": "code",
   "execution_count": 213,
   "id": "2422d6f0",
   "metadata": {},
   "outputs": [
    {
     "data": {
      "application/vnd.jupyter.widget-view+json": {
       "model_id": "c424cc9e948a414bb3169f7f6a6457ee",
       "version_major": 2,
       "version_minor": 0
      },
      "text/plain": [
       "  0%|          | 0/5 [00:00<?, ?it/s]"
      ]
     },
     "metadata": {},
     "output_type": "display_data"
    },
    {
     "name": "stdout",
     "output_type": "stream",
     "text": [
      "10.2%. Run time:   0.20s. Est. time left: 00:00:00:01\n",
      "20.2%. Run time:   0.36s. Est. time left: 00:00:00:01\n",
      "30.1%. Run time:   0.50s. Est. time left: 00:00:00:01\n",
      "40.1%. Run time:   0.66s. Est. time left: 00:00:00:00\n",
      "50.1%. Run time:   0.83s. Est. time left: 00:00:00:00\n",
      "60.1%. Run time:   1.00s. Est. time left: 00:00:00:00\n",
      "70.1%. Run time:   1.15s. Est. time left: 00:00:00:00\n",
      "80.0%. Run time:   1.32s. Est. time left: 00:00:00:00\n",
      "90.0%. Run time:   1.47s. Est. time left: 00:00:00:00\n",
      "Total run time:   1.63s\n",
      "10.2%. Run time:   0.27s. Est. time left: 00:00:00:02\n",
      "20.2%. Run time:   0.52s. Est. time left: 00:00:00:02\n",
      "30.1%. Run time:   0.75s. Est. time left: 00:00:00:01\n",
      "40.1%. Run time:   1.01s. Est. time left: 00:00:00:01\n",
      "50.1%. Run time:   1.30s. Est. time left: 00:00:00:01\n",
      "60.1%. Run time:   1.56s. Est. time left: 00:00:00:01\n",
      "70.1%. Run time:   1.81s. Est. time left: 00:00:00:00\n",
      "80.0%. Run time:   2.04s. Est. time left: 00:00:00:00\n",
      "90.0%. Run time:   2.30s. Est. time left: 00:00:00:00\n",
      "Total run time:   2.56s\n",
      "10.2%. Run time:   0.33s. Est. time left: 00:00:00:02\n",
      "20.2%. Run time:   0.58s. Est. time left: 00:00:00:02\n",
      "30.1%. Run time:   0.83s. Est. time left: 00:00:00:01\n",
      "40.1%. Run time:   1.05s. Est. time left: 00:00:00:01\n",
      "50.1%. Run time:   1.26s. Est. time left: 00:00:00:01\n",
      "60.1%. Run time:   1.49s. Est. time left: 00:00:00:00\n",
      "70.1%. Run time:   1.72s. Est. time left: 00:00:00:00\n",
      "80.0%. Run time:   1.98s. Est. time left: 00:00:00:00\n",
      "90.0%. Run time:   2.31s. Est. time left: 00:00:00:00\n",
      "Total run time:   2.59s\n",
      "10.2%. Run time:   0.28s. Est. time left: 00:00:00:02\n",
      "20.2%. Run time:   0.51s. Est. time left: 00:00:00:02\n",
      "30.1%. Run time:   0.71s. Est. time left: 00:00:00:01\n",
      "40.1%. Run time:   0.93s. Est. time left: 00:00:00:01\n",
      "50.1%. Run time:   1.14s. Est. time left: 00:00:00:01\n",
      "60.1%. Run time:   1.37s. Est. time left: 00:00:00:00\n",
      "70.1%. Run time:   1.60s. Est. time left: 00:00:00:00\n",
      "80.0%. Run time:   1.81s. Est. time left: 00:00:00:00\n",
      "90.0%. Run time:   2.04s. Est. time left: 00:00:00:00\n",
      "Total run time:   2.27s\n",
      "10.2%. Run time:   0.14s. Est. time left: 00:00:00:01\n",
      "20.2%. Run time:   0.23s. Est. time left: 00:00:00:00\n",
      "30.1%. Run time:   0.33s. Est. time left: 00:00:00:00\n",
      "40.1%. Run time:   0.42s. Est. time left: 00:00:00:00\n",
      "50.1%. Run time:   0.53s. Est. time left: 00:00:00:00\n",
      "60.1%. Run time:   0.63s. Est. time left: 00:00:00:00\n",
      "70.1%. Run time:   0.74s. Est. time left: 00:00:00:00\n",
      "80.0%. Run time:   0.83s. Est. time left: 00:00:00:00\n",
      "90.0%. Run time:   0.94s. Est. time left: 00:00:00:00\n",
      "Total run time:   1.07s\n",
      "10.2%. Run time:   0.27s. Est. time left: 00:00:00:02\n",
      "20.2%. Run time:   0.48s. Est. time left: 00:00:00:01\n",
      "30.1%. Run time:   0.79s. Est. time left: 00:00:00:01\n",
      "40.1%. Run time:   1.06s. Est. time left: 00:00:00:01\n",
      "50.1%. Run time:   1.31s. Est. time left: 00:00:00:01\n",
      "60.1%. Run time:   1.59s. Est. time left: 00:00:00:01\n",
      "70.1%. Run time:   1.85s. Est. time left: 00:00:00:00\n",
      "80.0%. Run time:   2.06s. Est. time left: 00:00:00:00\n",
      "90.0%. Run time:   2.33s. Est. time left: 00:00:00:00\n",
      "Total run time:   2.56s\n",
      "10.2%. Run time:   0.36s. Est. time left: 00:00:00:03\n",
      "20.2%. Run time:   0.64s. Est. time left: 00:00:00:02\n",
      "30.1%. Run time:   0.93s. Est. time left: 00:00:00:02\n",
      "40.1%. Run time:   1.18s. Est. time left: 00:00:00:01\n",
      "50.1%. Run time:   1.42s. Est. time left: 00:00:00:01\n",
      "60.1%. Run time:   1.79s. Est. time left: 00:00:00:01\n",
      "70.1%. Run time:   2.07s. Est. time left: 00:00:00:00\n",
      "80.0%. Run time:   2.33s. Est. time left: 00:00:00:00\n",
      "90.0%. Run time:   2.68s. Est. time left: 00:00:00:00\n",
      "Total run time:   3.05s\n",
      "10.2%. Run time:   0.35s. Est. time left: 00:00:00:03\n",
      "20.2%. Run time:   0.73s. Est. time left: 00:00:00:02\n",
      "30.1%. Run time:   1.03s. Est. time left: 00:00:00:02\n",
      "40.1%. Run time:   1.29s. Est. time left: 00:00:00:01\n",
      "50.1%. Run time:   1.59s. Est. time left: 00:00:00:01\n",
      "60.1%. Run time:   2.02s. Est. time left: 00:00:00:01\n",
      "70.1%. Run time:   2.38s. Est. time left: 00:00:00:01\n",
      "80.0%. Run time:   2.69s. Est. time left: 00:00:00:00\n",
      "90.0%. Run time:   3.00s. Est. time left: 00:00:00:00\n",
      "Total run time:   3.31s\n",
      "10.2%. Run time:   0.16s. Est. time left: 00:00:00:01\n",
      "20.2%. Run time:   0.31s. Est. time left: 00:00:00:01\n",
      "30.1%. Run time:   0.47s. Est. time left: 00:00:00:01\n",
      "40.1%. Run time:   0.60s. Est. time left: 00:00:00:00\n",
      "50.1%. Run time:   0.76s. Est. time left: 00:00:00:00\n"
     ]
    },
    {
     "name": "stderr",
     "output_type": "stream",
     "text": [
      "\n",
      "KeyboardInterrupt\n",
      "\n"
     ]
    }
   ],
   "source": [
    "puritylist=[]\n",
    "for theta1 in tqdm(anglist[0:5]):\n",
    "    temp=[]\n",
    "    for theta2 in anglist:\n",
    "\n",
    "        # First Rotation\n",
    "        psi1=mesolve(L1,psi0,linspace(0,theta1,5),[],[]).states[-1]\n",
    "        # Second Rotation\n",
    "        psi2=mesolve(L6,psi1,linspace(0,theta2,5),[],[]).states[-1]\n",
    "        result = mesolve(H, psi2, times, [], options = options, progress_bar=True)\n",
    "        purity = max([abs(trace((result.states[i].ptrace(0))**2)) for i in range(len(times))])\n",
    "        temp.append(purity)\n",
    "    puritylist.append(temp)"
   ]
  },
  {
   "cell_type": "code",
   "execution_count": null,
   "id": "fe1e01d4",
   "metadata": {},
   "outputs": [],
   "source": [
    "max(max(puritylist))"
   ]
  },
  {
   "cell_type": "code",
   "execution_count": null,
   "id": "90aabbfb",
   "metadata": {},
   "outputs": [],
   "source": []
  },
  {
   "cell_type": "code",
   "execution_count": null,
   "id": "dbd8b0c1",
   "metadata": {},
   "outputs": [],
   "source": [
    "plt.plot(puritylist[4])\n",
    "plt.legend([str(i) for i in anglist])"
   ]
  },
  {
   "cell_type": "code",
   "execution_count": null,
   "id": "5964b049",
   "metadata": {},
   "outputs": [],
   "source": [
    "mesolve(L1,psi0,linspace(0,pi,5),[],[]).states[-1]-mesolve(L1,psi0,linspace(0,pi,10),[],[]).states[-1]"
   ]
  },
  {
   "cell_type": "code",
   "execution_count": null,
   "id": "174ef463",
   "metadata": {},
   "outputs": [],
   "source": []
  },
  {
   "cell_type": "markdown",
   "id": "666f37c0",
   "metadata": {},
   "source": [
    "# Code to iterate of the relative phase of 11 and 22"
   ]
  },
  {
   "cell_type": "code",
   "execution_count": null,
   "id": "76991665",
   "metadata": {},
   "outputs": [],
   "source": [
    "phase=0.25*pi"
   ]
  },
  {
   "cell_type": "code",
   "execution_count": null,
   "id": "2414002d",
   "metadata": {},
   "outputs": [],
   "source": []
  },
  {
   "cell_type": "code",
   "execution_count": null,
   "id": "f2b5ef6e",
   "metadata": {
    "scrolled": true
   },
   "outputs": [],
   "source": [
    "overall_purity=[]\n",
    "phase=linspace(0,2*pi,20)\n",
    "for i1 in tqdm(phase):\n",
    "    for i2 in tqdm(phase):\n",
    "        psi0 = 1/sqrt(3)*(tensor([basis(Nlevel,0)]*N)+exp(1j*i1)*tensor([basis(Nlevel,1)]*N)+exp(1j*i2)*tensor([basis(Nlevel,2)]*N))\n",
    "        psi0 =psi0*psi0.dag()\n",
    "\n",
    "        anglist=linspace(0,8,20)\n",
    "        print(anglist)\n",
    "        anglist=anglist*(2*pi)/8\n",
    "        anglist[0]+=0.0001\n",
    "\n",
    "        puritylist=[]\n",
    "        for theta1 in (anglist[0:5]):\n",
    "            temp=[]\n",
    "            for theta2 in anglist:\n",
    "\n",
    "                # First Rotation\n",
    "                psi1=mesolve(L1,psi0,linspace(0,theta1,5),[],[]).states[-1]\n",
    "                # Second Rotation\n",
    "                psi2=mesolve(L6,psi1,linspace(0,theta2,5),[],[]).states[-1]\n",
    "                result = mesolve(H, psi2, times, [], options = options, progress_bar=True)\n",
    "                purity = max([abs(trace((result.states[i].ptrace(0))**2)) for i in range(len(times))])\n",
    "                temp.append(purity)\n",
    "            puritylist.append(temp)\n",
    "        overall_purity.append(max(max(puritylist)))\n",
    "        print(max(max(puritylist)))"
   ]
  },
  {
   "cell_type": "code",
   "execution_count": null,
   "id": "120c4548",
   "metadata": {},
   "outputs": [],
   "source": [
    "psi0 = 1/sqrt(3)*(tensor([basis(Nlevel,0)]*N)+tensor([basis(Nlevel,1)]*N)+exp(1j*phase)*tensor([basis(Nlevel,2)]*N))\n",
    "psi0 =psi0*psi0.dag()"
   ]
  },
  {
   "cell_type": "code",
   "execution_count": null,
   "id": "6a449b77",
   "metadata": {
    "scrolled": true
   },
   "outputs": [],
   "source": [
    "max(overall_purity)"
   ]
  },
  {
   "cell_type": "markdown",
   "id": "b9717ef5",
   "metadata": {},
   "source": [
    "# Continuous angle iteration"
   ]
  },
  {
   "cell_type": "markdown",
   "id": "d41b7cd0",
   "metadata": {},
   "source": [
    "## Keeping One angle constant"
   ]
  },
  {
   "cell_type": "code",
   "execution_count": null,
   "id": "f28469f6",
   "metadata": {},
   "outputs": [],
   "source": [
    "phase2=0*pi\n",
    "phase1=0*pi\n",
    "\n",
    "psi0 = 1/sqrt(3)*(tensor([basis(Nlevel,0)]*N)+exp(1j*phase1)*tensor([basis(Nlevel,1)]*N)+exp(1j*phase2)*tensor([basis(Nlevel,2)]*N))\n",
    "psi0 =psi0*psi0.dag()"
   ]
  },
  {
   "cell_type": "code",
   "execution_count": null,
   "id": "9e2a0f2a",
   "metadata": {},
   "outputs": [],
   "source": [
    "anglist=linspace(0,1,41)\n",
    "print(anglist)\n",
    "anglist=anglist*pi/4\n",
    "anglist[0]+=0.0001"
   ]
  },
  {
   "cell_type": "code",
   "execution_count": null,
   "id": "dad95e24",
   "metadata": {},
   "outputs": [],
   "source": [
    "puritylist=[]\n",
    "\n",
    "\n",
    "for theta1 in tqdm(anglist):\n",
    "    temp=[]\n",
    "    for theta2 in anglist:\n",
    "\n",
    "        # First Rotation\n",
    "        psi1=mesolve(L1,psi0,linspace(0,theta1,5),[],[]).states[-1]\n",
    "        # Second Rotation\n",
    "        psi2=mesolve(L6,psi1,linspace(0,theta2,5),[],[]).states[-1]\n",
    "        result = mesolve(H, psi2, times, [], options = options, progress_bar=True)\n",
    "        purity = max([abs(trace((result.states[i].ptrace(0))**2)) for i in range(len(times))])\n",
    "        temp.append(purity)\n",
    "    puritylist.append(temp)"
   ]
  },
  {
   "cell_type": "code",
   "execution_count": null,
   "id": "533022bf",
   "metadata": {},
   "outputs": [],
   "source": [
    "max(max(puritylist))"
   ]
  },
  {
   "cell_type": "code",
   "execution_count": null,
   "id": "8622123c",
   "metadata": {},
   "outputs": [],
   "source": [
    "plt.plot(puritylist[0])\n",
    "plt.legend([str(i) for i in anglist])"
   ]
  },
  {
   "cell_type": "code",
   "execution_count": null,
   "id": "a65bf241",
   "metadata": {},
   "outputs": [],
   "source": []
  }
 ],
 "metadata": {
  "kernelspec": {
   "display_name": "Python 3 (ipykernel)",
   "language": "python",
   "name": "python3"
  },
  "language_info": {
   "codemirror_mode": {
    "name": "ipython",
    "version": 3
   },
   "file_extension": ".py",
   "mimetype": "text/x-python",
   "name": "python",
   "nbconvert_exporter": "python",
   "pygments_lexer": "ipython3",
   "version": "3.11.4"
  }
 },
 "nbformat": 4,
 "nbformat_minor": 5
}
