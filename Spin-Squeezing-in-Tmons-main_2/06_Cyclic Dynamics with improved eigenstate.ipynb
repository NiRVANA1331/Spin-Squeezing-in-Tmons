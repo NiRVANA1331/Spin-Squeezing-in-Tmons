{
 "cells": [
  {
   "cell_type": "code",
   "execution_count": 1,
   "id": "1739acba",
   "metadata": {},
   "outputs": [],
   "source": [
    "import numpy as np\n",
    "from qutip import *\n",
    "from tqdm.auto import tqdm\n",
    "import matplotlib.pyplot as plt\n",
    "import math\n",
    "from numpy import sqrt,array,isclose,linspace\n",
    "import matplotlib.pyplot as plt\n",
    "from numpy import *"
   ]
  },
  {
   "cell_type": "code",
   "execution_count": 2,
   "id": "1bd3680f",
   "metadata": {},
   "outputs": [],
   "source": [
    "from modules.spin_arch import *\n",
    "from modules.su_algebra import *"
   ]
  },
  {
   "cell_type": "code",
   "execution_count": 3,
   "id": "48555ca1",
   "metadata": {},
   "outputs": [],
   "source": [
    "from IPython.display import Latex"
   ]
  },
  {
   "cell_type": "code",
   "execution_count": 4,
   "id": "2ee0959b",
   "metadata": {},
   "outputs": [],
   "source": [
    "Ntrunc = 3 #global operator for truncation level or total number of dimensions"
   ]
  },
  {
   "cell_type": "code",
   "execution_count": 5,
   "id": "d0c38d91",
   "metadata": {},
   "outputs": [],
   "source": [
    "#initialize system\n",
    "N = 4\n",
    "Nlevel = Ntrunc\n",
    "\n",
    "# Ej, Ec, g_arr, omega = generate_tmon_arch(N,Nlevel,o=59.87)\n",
    "Ej, Ec, g_arr, omega = generate_tmon_arch(N,Nlevel)\n",
    "sys1 = tmon_system(N, Nlevel, Ec, Ej, g_arr, omega)"
   ]
  },
  {
   "cell_type": "code",
   "execution_count": 6,
   "id": "1a8ba4c4",
   "metadata": {},
   "outputs": [
    {
     "data": {
      "text/plain": [
       "[[0.0, 60.745553203367585, 118.99110640673517],\n",
       " [0.0, 60.745553203367585, 118.99110640673517],\n",
       " [0.0, 60.745553203367585, 118.99110640673517],\n",
       " [0.0, 60.745553203367585, 118.99110640673517]]"
      ]
     },
     "execution_count": 6,
     "metadata": {},
     "output_type": "execute_result"
    }
   ],
   "source": [
    "sys1.freq_list()"
   ]
  },
  {
   "cell_type": "code",
   "execution_count": 7,
   "id": "46a59838",
   "metadata": {},
   "outputs": [],
   "source": [
    "# a=0.40824829\n",
    "# b=0.70710678\n",
    "# c=0.57735027\n",
    "\n",
    "a=1\n",
    "b=sqrt(2)\n",
    "c=1"
   ]
  },
  {
   "cell_type": "code",
   "execution_count": 8,
   "id": "5ebfd142",
   "metadata": {},
   "outputs": [],
   "source": [
    "psi_2 = a*basis(Nlevel,0) + b*sqrt(1)*basis(Nlevel,1) + c*basis(Nlevel,2)\n",
    "psi_2 = psi_2/psi_2.norm()\n",
    "psi_2 = psi_2 * psi_2.dag()\n",
    "psi_2\n",
    "rho=tensor([psi_2]*N) #sys1.tensor_projection_op(0,1,1, dim = None)"
   ]
  },
  {
   "cell_type": "code",
   "execution_count": 9,
   "id": "0ce4fcea",
   "metadata": {},
   "outputs": [],
   "source": [
    "psi_3 = a*basis(Nlevel,0) +b*sqrt(1)*basis(Nlevel,1) + c*basis(Nlevel,2)\n",
    "psi_3 = psi_3/psi_3.norm()\n",
    "psi_3 = psi_3 * psi_3.dag()\n",
    "\n",
    "rho_0=tensor([psi_3]*N)\n",
    "# psi_3"
   ]
  },
  {
   "cell_type": "code",
   "execution_count": 10,
   "id": "70598031",
   "metadata": {},
   "outputs": [],
   "source": [
    "# Spin 1\n",
    "# Sx=Qobj(ensemble_op(op_padded2(Qobj(np.array([[0,sqrt(2),0],[sqrt(2),0,sqrt(2)],[0,sqrt(2),0]])/2),Nlevel), N))\n",
    "# Sy=Qobj(ensemble_op(op_padded2(Qobj(1j*np.array([[0,-sqrt(2),0],[sqrt(2),0,-sqrt(2)],[0,sqrt(2),0]])/2),Nlevel), N))\n",
    "# Sz=Qobj(ensemble_op(op_padded2(Qobj(np.array([[1,0,0],[0,0,0],[0,0,-1]])),Nlevel), N))\n",
    "\n",
    "# Spin 1/2\n",
    "Sx=Qobj(ensemble_op(op_padded(Qobj(np.array([[0,1,0],[1,0,1],[0,1,0]])/np.sqrt(2)),Nlevel), N))\n",
    "Sy=Qobj(ensemble_op(op_padded(Qobj(1j*np.array([[0,-1,0],[1,0,-1],[0,1,0]])/np.sqrt(2)),Nlevel), N))\n",
    "Sz=Qobj(ensemble_op(op_padded(Qobj(np.array([[1,0,0],[0,0,0],[0,0,-1]])),Nlevel), N))\n",
    "\n",
    "\n",
    "Jsq=Sx**2+Sy**2+Sz**2\n",
    "# Jsq=Qobj(array(Jsq))\n",
    "Jp=Sx+1j*Sy\n",
    "# Jp=Qobj(array(Jp))\n",
    "Jm=Sx-1j*Sy\n",
    "# Jm=Qobj(array(Jm))"
   ]
  },
  {
   "cell_type": "code",
   "execution_count": null,
   "id": "3d6b190e",
   "metadata": {},
   "outputs": [],
   "source": []
  },
  {
   "cell_type": "code",
   "execution_count": 11,
   "id": "e5dbe7f6",
   "metadata": {},
   "outputs": [],
   "source": [
    "# Phi theta calculation\n",
    "\n",
    "nl=0\n",
    "\n",
    "arr=[0,0,1]\n",
    "# arr=[0,1,0]\n",
    "\n",
    "def rot_basis(arr=arr):\n",
    "\n",
    "    # Finding Eigenstates of Sz\n",
    "    eigenvalues, eigenvectors = Sz.eigenstates()\n",
    "\n",
    "    temp=(tensor([Qobj(zeros(3))]*4))*(tensor([Qobj(zeros(3))]*4)).dag()\n",
    "\n",
    "    Sz_hist=zeros(2*N+1)\n",
    "    ebasis=[temp]*(2*N+1)\n",
    "    \n",
    "    for i in range(len(eigenvalues)):\n",
    "        j=eigenvalues[i]\n",
    "        Sz_hist[int(j+4)]+=1\n",
    "        ebasis[int(j+4)]+=(eigenvectors[i]*eigenvectors[i].dag())\n",
    "\n",
    "\n",
    "    # Finding angle to rotate into\n",
    "    n1=sqrt(arr[0]**2+arr[1]**2)\n",
    "    if n1==0:\n",
    "        phi=0\n",
    "    else:\n",
    "        phi=arccos(arr[0]/n1)+pi/2\n",
    "    theta=pi/2-arccos(n1)\n",
    "\n",
    "    # Rotating in the required basis\n",
    "    tlist=linspace(0,theta+0.0001,100)\n",
    "    H=cos(phi)*Sx+sin(phi)*Sy\n",
    "    n=0\n",
    "    for i in (ebasis):\n",
    "    #     options=Options()\n",
    "    #     options.\n",
    "        res1=mesolve(H,i,tlist,[],[], progress_bar=None)\n",
    "        ebasis[n]=res1.states[-1]\n",
    "        n+=1\n",
    "\n",
    "    return ebasis"
   ]
  },
  {
   "cell_type": "code",
   "execution_count": 12,
   "id": "0872c621",
   "metadata": {},
   "outputs": [],
   "source": [
    "nlx=rot_basis([1,0,0])\n",
    "nly=rot_basis([0,1,0])\n",
    "nlz=rot_basis([0,0,1])\n",
    "array_rot_basis=array([-0.318,0.947,0.047])\n",
    "nl_sugg=rot_basis(array_rot_basis/linalg.norm(array_rot_basis))"
   ]
  },
  {
   "cell_type": "code",
   "execution_count": 13,
   "id": "d14028a0",
   "metadata": {},
   "outputs": [],
   "source": [
    "# eigenvalues, eigenvectors = Sy.eigenstates()\n",
    "# (nly[-2]*eigenvectors[-2]).norm()"
   ]
  },
  {
   "cell_type": "code",
   "execution_count": 14,
   "id": "c0640d71",
   "metadata": {},
   "outputs": [
    {
     "name": "stdout",
     "output_type": "stream",
     "text": [
      "55 0.0 -0.08702382212855324\n",
      "55 60.745553203367585 -0.30811388300841913\n",
      "55 0.0 -0.08702382212855324\n",
      "55 60.745553203367585 -0.30811388300841913\n",
      "55 0.0 -0.08702382212855324\n",
      "55 60.745553203367585 -0.30811388300841913\n",
      "55 0.0 -0.08702382212855324\n",
      "55 60.745553203367585 -0.30811388300841913\n",
      "55 0.0 -0.08702382212855324\n",
      "55 60.745553203367585 -0.30811388300841913\n",
      "55 0.0 -0.08702382212855324\n",
      "55 60.745553203367585 -0.30811388300841913\n",
      "55 0.0 -0.08702382212855324\n",
      "55 60.745553203367585 -0.30811388300841913\n",
      "55 0.0 -0.08702382212855324\n",
      "55 60.745553203367585 -0.30811388300841913\n",
      "55 0.0 -0.08702382212855324\n",
      "55 60.745553203367585 -0.30811388300841913\n",
      "55 0.0 -0.08702382212855324\n",
      "55 60.745553203367585 -0.30811388300841913\n",
      "55 0.0 -0.08702382212855324\n",
      "55 60.745553203367585 -0.30811388300841913\n",
      "55 0.0 -0.08702382212855324\n",
      "55 60.745553203367585 -0.30811388300841913\n"
     ]
    }
   ],
   "source": [
    "H = sys1.H_I()\n",
    "H_ph= 0.8*Sz+0.6*Sx\n",
    "# H_ph= Sx\n",
    "\n"
   ]
  },
  {
   "cell_type": "code",
   "execution_count": 15,
   "id": "16385f9d",
   "metadata": {},
   "outputs": [
    {
     "data": {
      "text/latex": [
       "Quantum object: dims = [[3, 3, 3, 3], [3, 3, 3, 3]], shape = (81, 81), type = oper, isherm = True $ \\\\ \\left(\\begin{matrix}0.0 & 0.0 & 0.0 & 0.0 & 0.0 & \\cdots & 0.0 & 0.0 & 0.0 & 0.0 & 0.0\\\\0.0 & 0.0 & 0.0 & -0.174 & 0.0 & \\cdots & 0.0 & 0.0 & 0.0 & 0.0 & 0.0\\\\0.0 & 0.0 & 0.0 & 0.0 & 0.0 & \\cdots & 0.0 & 0.0 & 0.0 & 0.0 & 0.0\\\\0.0 & -0.174 & 0.0 & 0.0 & 0.0 & \\cdots & 0.0 & 0.0 & 0.0 & 0.0 & 0.0\\\\0.0 & 0.0 & 0.0 & 0.0 & 0.0 & \\cdots & 0.0 & 0.0 & 0.0 & 0.0 & 0.0\\\\\\vdots & \\vdots & \\vdots & \\vdots & \\vdots & \\ddots & \\vdots & \\vdots & \\vdots & \\vdots & \\vdots\\\\0.0 & 0.0 & 0.0 & 0.0 & 0.0 & \\cdots & 0.0 & 0.0 & 0.0 & 0.0 & 0.0\\\\0.0 & 0.0 & 0.0 & 0.0 & 0.0 & \\cdots & 0.0 & 0.0 & 0.0 & -0.616 & 0.0\\\\0.0 & 0.0 & 0.0 & 0.0 & 0.0 & \\cdots & 0.0 & 0.0 & 0.0 & 0.0 & 0.0\\\\0.0 & 0.0 & 0.0 & 0.0 & 0.0 & \\cdots & 0.0 & -0.616 & 0.0 & 0.0 & 0.0\\\\0.0 & 0.0 & 0.0 & 0.0 & 0.0 & \\cdots & 0.0 & 0.0 & 0.0 & 0.0 & 0.0\\\\\\end{matrix}\\right)$"
      ],
      "text/plain": [
       "Quantum object: dims = [[3, 3, 3, 3], [3, 3, 3, 3]], shape = (81, 81), type = oper, isherm = True\n",
       "Qobj data =\n",
       "[[0. 0. 0. ... 0. 0. 0.]\n",
       " [0. 0. 0. ... 0. 0. 0.]\n",
       " [0. 0. 0. ... 0. 0. 0.]\n",
       " ...\n",
       " [0. 0. 0. ... 0. 0. 0.]\n",
       " [0. 0. 0. ... 0. 0. 0.]\n",
       " [0. 0. 0. ... 0. 0. 0.]]"
      ]
     },
     "execution_count": 15,
     "metadata": {},
     "output_type": "execute_result"
    }
   ],
   "source": [
    "H"
   ]
  },
  {
   "cell_type": "code",
   "execution_count": 16,
   "id": "b231f446",
   "metadata": {},
   "outputs": [],
   "source": [
    "# Function for Eigenspectrum\n",
    "def eigenspectrum(rho,nl=0):\n",
    "    if nl==0:\n",
    "        nl=rot_basis()\n",
    "    prob=[]\n",
    "    for i in nl:\n",
    "        prob.append(expect(rho,i*i.dag()))\n",
    "    return array(prob)"
   ]
  },
  {
   "cell_type": "code",
   "execution_count": 17,
   "id": "b8a74630",
   "metadata": {},
   "outputs": [],
   "source": [
    "def hell_dist(rho,rho_0,nl):\n",
    "    return 1-sum(sqrt(eigenspectrum(rho,nl)*eigenspectrum(rho_0,nl)))"
   ]
  },
  {
   "cell_type": "code",
   "execution_count": 18,
   "id": "5e6bf304",
   "metadata": {},
   "outputs": [],
   "source": [
    "# t1=5.2525,t2=15.5555\n",
    "def time_evol(rho,t_ph=0.001,t1=28,t2=43.5,H_ph=H_ph,H=H):\n",
    "    # First part: entanglement generation\n",
    "    times = np.linspace(0,t1,100) \n",
    "    options = Options()\n",
    "    options.store_final_state = True\n",
    "    rho = mesolve(H, rho, times, [], options = options, progress_bar=True).states[-1]\n",
    "\n",
    "#     Second part: phase encoding\n",
    "\n",
    "    times = np.linspace(0,t_ph,int(t_ph+10)) #time scale is ~ 1/freq of self energy \n",
    "    options = Options()\n",
    "    options.store_final_state = True\n",
    "    rho = mesolve(H_ph, rho, times, [], options = options, progress_bar=True).states[-1]\n",
    "\n",
    "    # Third part: entanglement decoding\n",
    "    times = np.linspace(0,t2,100) #time scale is ~ 1/freq of self energy \n",
    "    options = Options()\n",
    "    options.store_final_state = True\n",
    "    rho = mesolve(H, rho, times, [], options = options, progress_bar=True).states[-1]\n",
    "\n",
    "    return rho"
   ]
  },
  {
   "cell_type": "code",
   "execution_count": 37,
   "id": "3ecb4aa5",
   "metadata": {},
   "outputs": [
    {
     "name": "stdout",
     "output_type": "stream",
     "text": [
      "10.0%. Run time:   0.01s. Est. time left: 00:00:00:00\n",
      "20.0%. Run time:   0.01s. Est. time left: 00:00:00:00\n",
      "30.0%. Run time:   0.01s. Est. time left: 00:00:00:00\n",
      "40.0%. Run time:   0.02s. Est. time left: 00:00:00:00\n",
      "50.0%. Run time:   0.02s. Est. time left: 00:00:00:00\n",
      "60.0%. Run time:   0.02s. Est. time left: 00:00:00:00\n",
      "70.0%. Run time:   0.03s. Est. time left: 00:00:00:00\n",
      "80.0%. Run time:   0.03s. Est. time left: 00:00:00:00\n",
      "90.0%. Run time:   0.03s. Est. time left: 00:00:00:00\n",
      "Total run time:   0.03s\n",
      "10.0%. Run time:   0.01s. Est. time left: 00:00:00:00\n",
      "20.0%. Run time:   0.01s. Est. time left: 00:00:00:00\n",
      "30.0%. Run time:   0.01s. Est. time left: 00:00:00:00\n",
      "40.0%. Run time:   0.01s. Est. time left: 00:00:00:00\n",
      "50.0%. Run time:   0.02s. Est. time left: 00:00:00:00\n",
      "60.0%. Run time:   0.02s. Est. time left: 00:00:00:00\n",
      "70.0%. Run time:   0.02s. Est. time left: 00:00:00:00\n",
      "80.0%. Run time:   0.02s. Est. time left: 00:00:00:00\n",
      "90.0%. Run time:   0.02s. Est. time left: 00:00:00:00\n",
      "Total run time:   0.02s\n",
      "10.0%. Run time:   0.00s. Est. time left: 00:00:00:00\n",
      "20.0%. Run time:   0.01s. Est. time left: 00:00:00:00\n",
      "30.0%. Run time:   0.01s. Est. time left: 00:00:00:00\n",
      "40.0%. Run time:   0.02s. Est. time left: 00:00:00:00\n",
      "50.0%. Run time:   0.02s. Est. time left: 00:00:00:00\n",
      "60.0%. Run time:   0.02s. Est. time left: 00:00:00:00\n",
      "70.0%. Run time:   0.03s. Est. time left: 00:00:00:00\n",
      "80.0%. Run time:   0.03s. Est. time left: 00:00:00:00\n",
      "90.0%. Run time:   0.04s. Est. time left: 00:00:00:00\n",
      "Total run time:   0.04s\n"
     ]
    }
   ],
   "source": [
    "t_ph=0.000001\n",
    "# rho_0=time_evol(rho,t_ph)\n",
    "rho_0=time_evol(rho,t_ph,t1=0.0000001,t2=0.0000001)"
   ]
  },
  {
   "cell_type": "code",
   "execution_count": 38,
   "id": "42e81034",
   "metadata": {
    "scrolled": true
   },
   "outputs": [
    {
     "name": "stdout",
     "output_type": "stream",
     "text": [
      "10.0%. Run time:   0.01s. Est. time left: 00:00:00:00\n",
      "20.0%. Run time:   0.01s. Est. time left: 00:00:00:00\n",
      "30.0%. Run time:   0.02s. Est. time left: 00:00:00:00\n",
      "40.0%. Run time:   0.02s. Est. time left: 00:00:00:00\n",
      "50.0%. Run time:   0.03s. Est. time left: 00:00:00:00\n",
      "60.0%. Run time:   0.03s. Est. time left: 00:00:00:00\n",
      "70.0%. Run time:   0.03s. Est. time left: 00:00:00:00\n",
      "80.0%. Run time:   0.03s. Est. time left: 00:00:00:00\n",
      "90.0%. Run time:   0.04s. Est. time left: 00:00:00:00\n",
      "Total run time:   0.04s\n",
      "10.0%. Run time:   0.01s. Est. time left: 00:00:00:00\n",
      "20.0%. Run time:   0.01s. Est. time left: 00:00:00:00\n",
      "30.0%. Run time:   0.01s. Est. time left: 00:00:00:00\n",
      "40.0%. Run time:   0.01s. Est. time left: 00:00:00:00\n",
      "50.0%. Run time:   0.01s. Est. time left: 00:00:00:00\n",
      "60.0%. Run time:   0.01s. Est. time left: 00:00:00:00\n",
      "70.0%. Run time:   0.01s. Est. time left: 00:00:00:00\n",
      "80.0%. Run time:   0.02s. Est. time left: 00:00:00:00\n",
      "90.0%. Run time:   0.02s. Est. time left: 00:00:00:00\n",
      "Total run time:   0.02s\n",
      "10.0%. Run time:   0.00s. Est. time left: 00:00:00:00\n",
      "20.0%. Run time:   0.01s. Est. time left: 00:00:00:00\n",
      "30.0%. Run time:   0.01s. Est. time left: 00:00:00:00\n",
      "40.0%. Run time:   0.02s. Est. time left: 00:00:00:00\n",
      "50.0%. Run time:   0.02s. Est. time left: 00:00:00:00\n",
      "60.0%. Run time:   0.02s. Est. time left: 00:00:00:00\n",
      "70.0%. Run time:   0.02s. Est. time left: 00:00:00:00\n",
      "80.0%. Run time:   0.03s. Est. time left: 00:00:00:00\n",
      "90.0%. Run time:   0.03s. Est. time left: 00:00:00:00\n",
      "Total run time:   0.04s\n"
     ]
    }
   ],
   "source": [
    "t_ph=0.01\n",
    "\n",
    "# a=time_evol(rho,t_ph)\n",
    "a=time_evol(rho,t_ph,t1=0.0000001,t2=0.0000001)"
   ]
  },
  {
   "cell_type": "code",
   "execution_count": 39,
   "id": "fa30444f",
   "metadata": {},
   "outputs": [
    {
     "data": {
      "image/png": "[encoded data removed]",
      "text/plain": [
       "<Figure size 640x480 with 1 Axes>"
      ]
     },
     "metadata": {},
     "output_type": "display_data"
    }
   ],
   "source": [
    "ang=linspace(-N,N,int(2*(N)+1))\n",
    "# plt.plot(ang,(eigenspectrum(time_evol(rho,t_ph),nly)),\".\")\n",
    "plt.plot(ang,(eigenspectrum(a,nl_sugg)),\".\")\n",
    "plt.grid()\n",
    "plt.plot(ang,(eigenspectrum(rho_0,nl_sugg)),\".\")\n",
    "# plt.plot(ang,(eigenspectrum(rho,nl_sugg)),\".\")\n",
    "\n",
    "# plt.legend([\"after\",\"before\"])\n",
    "plt.title(\"The state before and after the time reversal dynamics \\n in the suggested basis without phase encoding \")\n",
    "plt.show()"
   ]
  },
  {
   "cell_type": "code",
   "execution_count": 40,
   "id": "5d109b02",
   "metadata": {},
   "outputs": [
    {
     "data": {
      "text/plain": [
       "(6.932042377483238e-05, 6.799863917139604e-05)"
      ]
     },
     "execution_count": 40,
     "metadata": {},
     "output_type": "execute_result"
    }
   ],
   "source": [
    "# a=time_evol(rho,t_ph)\n",
    "hell_dist(a,rho_0,nly),hell_dist(a,rho_0,nl_sugg)"
   ]
  },
  {
   "cell_type": "code",
   "execution_count": 23,
   "id": "e11c059e",
   "metadata": {},
   "outputs": [
    {
     "data": {
      "text/plain": [
       "(0.021301971237451284+1.3107827607772083e-16j)"
      ]
     },
     "execution_count": 23,
     "metadata": {},
     "output_type": "execute_result"
    }
   ],
   "source": [
    "Snew=Sy\n",
    "\n",
    "var=sqrt(((Snew**2)*a).tr()-((Snew*a).tr())**2)\n",
    "\n",
    "((Snew*a).tr()-(Snew*rho_0).tr())/var"
   ]
  },
  {
   "cell_type": "code",
   "execution_count": 24,
   "id": "2b7dd8f0",
   "metadata": {},
   "outputs": [
    {
     "data": {
      "text/plain": [
       "(0.022331313858629957+3.5346392180772896e-16j)"
      ]
     },
     "execution_count": 24,
     "metadata": {},
     "output_type": "execute_result"
    }
   ],
   "source": [
    "newnorm=sqrt(0.318**2+0.947**2+0.047**2)\n",
    "Snew=-0.318*Sx+0.947*Sy+0.047*Sz\n",
    "\n",
    "var=sqrt(((Snew**2)*a).tr()-((Snew*a).tr())**2)\n",
    "\n",
    "((Snew*a).tr()-(Snew*rho_0).tr())/var"
   ]
  },
  {
   "cell_type": "code",
   "execution_count": 25,
   "id": "9727c5f4",
   "metadata": {},
   "outputs": [
    {
     "data": {
      "text/plain": [
       "1.0000709974796789"
      ]
     },
     "execution_count": 25,
     "metadata": {},
     "output_type": "execute_result"
    }
   ],
   "source": [
    "sqrt(0.318**2+0.947**2+0.047**2)"
   ]
  },
  {
   "cell_type": "code",
   "execution_count": 26,
   "id": "fe759a4f",
   "metadata": {},
   "outputs": [],
   "source": [
    "t_ph=0.002"
   ]
  },
  {
   "cell_type": "code",
   "execution_count": 27,
   "id": "f705f084",
   "metadata": {
    "scrolled": true
   },
   "outputs": [
    {
     "name": "stdout",
     "output_type": "stream",
     "text": [
      "10.0%. Run time:   0.05s. Est. time left: 00:00:00:00\n",
      "20.0%. Run time:   0.10s. Est. time left: 00:00:00:00\n",
      "30.0%. Run time:   0.15s. Est. time left: 00:00:00:00\n",
      "40.0%. Run time:   0.20s. Est. time left: 00:00:00:00\n",
      "50.0%. Run time:   0.25s. Est. time left: 00:00:00:00\n",
      "60.0%. Run time:   0.31s. Est. time left: 00:00:00:00\n",
      "70.0%. Run time:   0.36s. Est. time left: 00:00:00:00\n",
      "80.0%. Run time:   0.42s. Est. time left: 00:00:00:00\n",
      "90.0%. Run time:   0.47s. Est. time left: 00:00:00:00\n",
      "Total run time:   0.52s\n",
      "10.0%. Run time:   0.01s. Est. time left: 00:00:00:00\n",
      "20.0%. Run time:   0.01s. Est. time left: 00:00:00:00\n",
      "30.0%. Run time:   0.01s. Est. time left: 00:00:00:00\n",
      "40.0%. Run time:   0.01s. Est. time left: 00:00:00:00\n",
      "50.0%. Run time:   0.01s. Est. time left: 00:00:00:00\n",
      "60.0%. Run time:   0.02s. Est. time left: 00:00:00:00\n",
      "70.0%. Run time:   0.02s. Est. time left: 00:00:00:00\n",
      "80.0%. Run time:   0.03s. Est. time left: 00:00:00:00\n",
      "90.0%. Run time:   0.03s. Est. time left: 00:00:00:00\n",
      "Total run time:   0.03s\n",
      "10.0%. Run time:   0.07s. Est. time left: 00:00:00:00\n",
      "20.0%. Run time:   0.15s. Est. time left: 00:00:00:00\n",
      "30.0%. Run time:   0.22s. Est. time left: 00:00:00:00\n",
      "40.0%. Run time:   0.30s. Est. time left: 00:00:00:00\n",
      "50.0%. Run time:   0.39s. Est. time left: 00:00:00:00\n",
      "60.0%. Run time:   0.47s. Est. time left: 00:00:00:00\n",
      "70.0%. Run time:   0.55s. Est. time left: 00:00:00:00\n",
      "80.0%. Run time:   0.63s. Est. time left: 00:00:00:00\n",
      "90.0%. Run time:   0.71s. Est. time left: 00:00:00:00\n",
      "Total run time:   0.78s\n",
      "[4.518650360552101e-07, 1.7798454679751607e-05]\n"
     ]
    }
   ],
   "source": [
    "arr1=[0.76894092,0.62212189,0.14728953]\n",
    "arr2=[0,1,0]\n",
    "nl=[rot_basis(arr1),rot_basis(arr2)]\n",
    "hdist=[]\n",
    "rho1=time_evol(rho,t_ph)\n",
    "for i in nl:\n",
    "    hdist.append(hell_dist(rho1,rho_0,i))\n",
    "print(hdist)"
   ]
  },
  {
   "cell_type": "code",
   "execution_count": 28,
   "id": "f0c750a5",
   "metadata": {
    "scrolled": true
   },
   "outputs": [
    {
     "data": {
      "application/vnd.jupyter.widget-view+json": {
       "model_id": "5538a93a626545deaf4e754df1157fa2",
       "version_major": 2,
       "version_minor": 0
      },
      "text/plain": [
       "  0%|          | 0/10 [00:00<?, ?it/s]"
      ]
     },
     "metadata": {},
     "output_type": "display_data"
    },
    {
     "name": "stdout",
     "output_type": "stream",
     "text": [
      "10.0%. Run time:   0.04s. Est. time left: 00:00:00:00\n",
      "20.0%. Run time:   0.09s. Est. time left: 00:00:00:00\n",
      "30.0%. Run time:   0.13s. Est. time left: 00:00:00:00\n",
      "40.0%. Run time:   0.16s. Est. time left: 00:00:00:00\n",
      "50.0%. Run time:   0.20s. Est. time left: 00:00:00:00\n",
      "60.0%. Run time:   0.23s. Est. time left: 00:00:00:00\n",
      "70.0%. Run time:   0.27s. Est. time left: 00:00:00:00\n",
      "80.0%. Run time:   0.30s. Est. time left: 00:00:00:00\n",
      "90.0%. Run time:   0.33s. Est. time left: 00:00:00:00\n",
      "Total run time:   0.36s\n",
      "10.0%. Run time:   0.01s. Est. time left: 00:00:00:00\n",
      "20.0%. Run time:   0.01s. Est. time left: 00:00:00:00\n",
      "30.0%. Run time:   0.01s. Est. time left: 00:00:00:00\n",
      "40.0%. Run time:   0.01s. Est. time left: 00:00:00:00\n",
      "50.0%. Run time:   0.02s. Est. time left: 00:00:00:00\n",
      "60.0%. Run time:   0.02s. Est. time left: 00:00:00:00\n",
      "70.0%. Run time:   0.02s. Est. time left: 00:00:00:00\n",
      "80.0%. Run time:   0.02s. Est. time left: 00:00:00:00\n",
      "90.0%. Run time:   0.02s. Est. time left: 00:00:00:00\n",
      "Total run time:   0.02s\n",
      "10.0%. Run time:   0.06s. Est. time left: 00:00:00:00\n",
      "20.0%. Run time:   0.11s. Est. time left: 00:00:00:00\n",
      "30.0%. Run time:   0.18s. Est. time left: 00:00:00:00\n",
      "40.0%. Run time:   0.27s. Est. time left: 00:00:00:00\n",
      "50.0%. Run time:   0.34s. Est. time left: 00:00:00:00\n",
      "60.0%. Run time:   0.41s. Est. time left: 00:00:00:00\n",
      "70.0%. Run time:   0.50s. Est. time left: 00:00:00:00\n",
      "80.0%. Run time:   0.56s. Est. time left: 00:00:00:00\n",
      "90.0%. Run time:   0.62s. Est. time left: 00:00:00:00\n",
      "Total run time:   0.67s\n",
      "10.0%. Run time:   0.06s. Est. time left: 00:00:00:00\n",
      "20.0%. Run time:   0.11s. Est. time left: 00:00:00:00\n",
      "30.0%. Run time:   0.16s. Est. time left: 00:00:00:00\n",
      "40.0%. Run time:   0.21s. Est. time left: 00:00:00:00\n",
      "50.0%. Run time:   0.26s. Est. time left: 00:00:00:00\n",
      "60.0%. Run time:   0.31s. Est. time left: 00:00:00:00\n",
      "70.0%. Run time:   0.36s. Est. time left: 00:00:00:00\n",
      "80.0%. Run time:   0.42s. Est. time left: 00:00:00:00\n",
      "90.0%. Run time:   0.46s. Est. time left: 00:00:00:00\n",
      "Total run time:   0.48s\n",
      "10.0%. Run time:   0.01s. Est. time left: 00:00:00:00\n",
      "20.0%. Run time:   0.01s. Est. time left: 00:00:00:00\n",
      "30.0%. Run time:   0.01s. Est. time left: 00:00:00:00\n",
      "40.0%. Run time:   0.02s. Est. time left: 00:00:00:00\n",
      "50.0%. Run time:   0.02s. Est. time left: 00:00:00:00\n",
      "60.0%. Run time:   0.02s. Est. time left: 00:00:00:00\n",
      "70.0%. Run time:   0.02s. Est. time left: 00:00:00:00\n",
      "80.0%. Run time:   0.02s. Est. time left: 00:00:00:00\n",
      "90.0%. Run time:   0.03s. Est. time left: 00:00:00:00\n",
      "Total run time:   0.03s\n",
      "10.0%. Run time:   0.08s. Est. time left: 00:00:00:00\n",
      "20.0%. Run time:   0.17s. Est. time left: 00:00:00:00\n",
      "30.0%. Run time:   0.25s. Est. time left: 00:00:00:00\n",
      "40.0%. Run time:   0.33s. Est. time left: 00:00:00:00\n",
      "50.0%. Run time:   0.41s. Est. time left: 00:00:00:00\n",
      "60.0%. Run time:   0.49s. Est. time left: 00:00:00:00\n",
      "70.0%. Run time:   0.58s. Est. time left: 00:00:00:00\n",
      "80.0%. Run time:   0.64s. Est. time left: 00:00:00:00\n",
      "90.0%. Run time:   0.73s. Est. time left: 00:00:00:00\n",
      "Total run time:   0.80s\n",
      "10.0%. Run time:   0.05s. Est. time left: 00:00:00:00\n",
      "20.0%. Run time:   0.10s. Est. time left: 00:00:00:00\n",
      "30.0%. Run time:   0.15s. Est. time left: 00:00:00:00\n",
      "40.0%. Run time:   0.19s. Est. time left: 00:00:00:00\n",
      "50.0%. Run time:   0.26s. Est. time left: 00:00:00:00\n",
      "60.0%. Run time:   0.31s. Est. time left: 00:00:00:00\n",
      "70.0%. Run time:   0.37s. Est. time left: 00:00:00:00\n",
      "80.0%. Run time:   0.43s. Est. time left: 00:00:00:00\n",
      "90.0%. Run time:   0.48s. Est. time left: 00:00:00:00\n",
      "Total run time:   0.53s\n",
      "10.0%. Run time:   0.01s. Est. time left: 00:00:00:00\n",
      "20.0%. Run time:   0.01s. Est. time left: 00:00:00:00\n",
      "30.0%. Run time:   0.02s. Est. time left: 00:00:00:00\n",
      "40.0%. Run time:   0.02s. Est. time left: 00:00:00:00\n",
      "50.0%. Run time:   0.02s. Est. time left: 00:00:00:00\n",
      "60.0%. Run time:   0.02s. Est. time left: 00:00:00:00\n",
      "70.0%. Run time:   0.02s. Est. time left: 00:00:00:00\n",
      "80.0%. Run time:   0.02s. Est. time left: 00:00:00:00\n",
      "90.0%. Run time:   0.03s. Est. time left: 00:00:00:00\n",
      "Total run time:   0.03s\n",
      "10.0%. Run time:   0.09s. Est. time left: 00:00:00:00\n",
      "20.0%. Run time:   0.16s. Est. time left: 00:00:00:00\n",
      "30.0%. Run time:   0.24s. Est. time left: 00:00:00:00\n",
      "40.0%. Run time:   0.32s. Est. time left: 00:00:00:00\n",
      "50.0%. Run time:   0.40s. Est. time left: 00:00:00:00\n",
      "60.0%. Run time:   0.49s. Est. time left: 00:00:00:00\n",
      "70.0%. Run time:   0.57s. Est. time left: 00:00:00:00\n",
      "80.0%. Run time:   0.65s. Est. time left: 00:00:00:00\n",
      "90.0%. Run time:   0.73s. Est. time left: 00:00:00:00\n",
      "Total run time:   0.80s\n",
      "10.0%. Run time:   0.08s. Est. time left: 00:00:00:00\n",
      "20.0%. Run time:   0.12s. Est. time left: 00:00:00:00\n",
      "30.0%. Run time:   0.18s. Est. time left: 00:00:00:00\n",
      "40.0%. Run time:   0.23s. Est. time left: 00:00:00:00\n",
      "50.0%. Run time:   0.28s. Est. time left: 00:00:00:00\n",
      "60.0%. Run time:   0.34s. Est. time left: 00:00:00:00\n",
      "70.0%. Run time:   0.39s. Est. time left: 00:00:00:00\n",
      "80.0%. Run time:   0.45s. Est. time left: 00:00:00:00\n",
      "90.0%. Run time:   0.50s. Est. time left: 00:00:00:00\n",
      "Total run time:   0.56s\n",
      "10.0%. Run time:   0.01s. Est. time left: 00:00:00:00\n",
      "20.0%. Run time:   0.02s. Est. time left: 00:00:00:00\n",
      "30.0%. Run time:   0.02s. Est. time left: 00:00:00:00\n",
      "40.0%. Run time:   0.02s. Est. time left: 00:00:00:00\n",
      "50.0%. Run time:   0.02s. Est. time left: 00:00:00:00\n",
      "60.0%. Run time:   0.03s. Est. time left: 00:00:00:00\n",
      "70.0%. Run time:   0.03s. Est. time left: 00:00:00:00\n",
      "80.0%. Run time:   0.03s. Est. time left: 00:00:00:00\n",
      "90.0%. Run time:   0.03s. Est. time left: 00:00:00:00\n",
      "Total run time:   0.04s\n",
      "10.0%. Run time:   0.08s. Est. time left: 00:00:00:00\n",
      "20.0%. Run time:   0.16s. Est. time left: 00:00:00:00\n",
      "30.0%. Run time:   0.24s. Est. time left: 00:00:00:00\n",
      "40.0%. Run time:   0.32s. Est. time left: 00:00:00:00\n",
      "50.0%. Run time:   0.40s. Est. time left: 00:00:00:00\n",
      "60.0%. Run time:   0.48s. Est. time left: 00:00:00:00\n",
      "70.0%. Run time:   0.55s. Est. time left: 00:00:00:00\n",
      "80.0%. Run time:   0.64s. Est. time left: 00:00:00:00\n",
      "90.0%. Run time:   0.71s. Est. time left: 00:00:00:00\n",
      "Total run time:   0.78s\n",
      "10.0%. Run time:   0.07s. Est. time left: 00:00:00:00\n",
      "20.0%. Run time:   0.12s. Est. time left: 00:00:00:00\n",
      "30.0%. Run time:   0.16s. Est. time left: 00:00:00:00\n",
      "40.0%. Run time:   0.22s. Est. time left: 00:00:00:00\n",
      "50.0%. Run time:   0.28s. Est. time left: 00:00:00:00\n",
      "60.0%. Run time:   0.33s. Est. time left: 00:00:00:00\n",
      "70.0%. Run time:   0.37s. Est. time left: 00:00:00:00\n",
      "80.0%. Run time:   0.42s. Est. time left: 00:00:00:00\n",
      "90.0%. Run time:   0.47s. Est. time left: 00:00:00:00\n",
      "Total run time:   0.52s\n",
      "10.0%. Run time:   0.01s. Est. time left: 00:00:00:00\n",
      "20.0%. Run time:   0.01s. Est. time left: 00:00:00:00\n",
      "30.0%. Run time:   0.01s. Est. time left: 00:00:00:00\n",
      "40.0%. Run time:   0.01s. Est. time left: 00:00:00:00\n",
      "50.0%. Run time:   0.02s. Est. time left: 00:00:00:00\n",
      "60.0%. Run time:   0.03s. Est. time left: 00:00:00:00\n",
      "70.0%. Run time:   0.03s. Est. time left: 00:00:00:00\n",
      "80.0%. Run time:   0.03s. Est. time left: 00:00:00:00\n",
      "90.0%. Run time:   0.03s. Est. time left: 00:00:00:00\n",
      "Total run time:   0.03s\n",
      "10.0%. Run time:   0.10s. Est. time left: 00:00:00:00\n",
      "20.0%. Run time:   0.18s. Est. time left: 00:00:00:00\n",
      "30.0%. Run time:   0.26s. Est. time left: 00:00:00:00\n",
      "40.0%. Run time:   0.35s. Est. time left: 00:00:00:00\n",
      "50.0%. Run time:   0.42s. Est. time left: 00:00:00:00\n",
      "60.0%. Run time:   0.50s. Est. time left: 00:00:00:00\n",
      "70.0%. Run time:   0.69s. Est. time left: 00:00:00:00\n",
      "80.0%. Run time:   0.77s. Est. time left: 00:00:00:00\n",
      "90.0%. Run time:   0.86s. Est. time left: 00:00:00:00\n",
      "Total run time:   0.91s\n",
      "10.0%. Run time:   0.07s. Est. time left: 00:00:00:00\n",
      "20.0%. Run time:   0.12s. Est. time left: 00:00:00:00\n",
      "30.0%. Run time:   0.17s. Est. time left: 00:00:00:00\n",
      "40.0%. Run time:   0.21s. Est. time left: 00:00:00:00\n",
      "50.0%. Run time:   0.26s. Est. time left: 00:00:00:00\n",
      "60.0%. Run time:   0.32s. Est. time left: 00:00:00:00\n",
      "70.0%. Run time:   0.37s. Est. time left: 00:00:00:00\n",
      "80.0%. Run time:   0.42s. Est. time left: 00:00:00:00\n",
      "90.0%. Run time:   0.48s. Est. time left: 00:00:00:00\n",
      "Total run time:   0.52s\n",
      "10.0%. Run time:   0.01s. Est. time left: 00:00:00:00\n"
     ]
    },
    {
     "name": "stdout",
     "output_type": "stream",
     "text": [
      "20.0%. Run time:   0.02s. Est. time left: 00:00:00:00\n",
      "30.0%. Run time:   0.02s. Est. time left: 00:00:00:00\n",
      "40.0%. Run time:   0.02s. Est. time left: 00:00:00:00\n",
      "50.0%. Run time:   0.03s. Est. time left: 00:00:00:00\n",
      "60.0%. Run time:   0.03s. Est. time left: 00:00:00:00\n",
      "70.0%. Run time:   0.03s. Est. time left: 00:00:00:00\n",
      "80.0%. Run time:   0.03s. Est. time left: 00:00:00:00\n",
      "90.0%. Run time:   0.04s. Est. time left: 00:00:00:00\n",
      "Total run time:   0.04s\n",
      "10.0%. Run time:   0.08s. Est. time left: 00:00:00:00\n",
      "20.0%. Run time:   0.16s. Est. time left: 00:00:00:00\n",
      "30.0%. Run time:   0.24s. Est. time left: 00:00:00:00\n",
      "40.0%. Run time:   0.33s. Est. time left: 00:00:00:00\n",
      "50.0%. Run time:   0.42s. Est. time left: 00:00:00:00\n",
      "60.0%. Run time:   0.47s. Est. time left: 00:00:00:00\n",
      "70.0%. Run time:   0.53s. Est. time left: 00:00:00:00\n",
      "80.0%. Run time:   0.60s. Est. time left: 00:00:00:00\n",
      "90.0%. Run time:   0.68s. Est. time left: 00:00:00:00\n",
      "Total run time:   0.75s\n",
      "10.0%. Run time:   0.10s. Est. time left: 00:00:00:00\n",
      "20.0%. Run time:   0.16s. Est. time left: 00:00:00:00\n",
      "30.0%. Run time:   0.20s. Est. time left: 00:00:00:00\n",
      "40.0%. Run time:   0.23s. Est. time left: 00:00:00:00\n",
      "50.0%. Run time:   0.27s. Est. time left: 00:00:00:00\n",
      "60.0%. Run time:   0.32s. Est. time left: 00:00:00:00\n",
      "70.0%. Run time:   0.35s. Est. time left: 00:00:00:00\n",
      "80.0%. Run time:   0.38s. Est. time left: 00:00:00:00\n",
      "90.0%. Run time:   0.42s. Est. time left: 00:00:00:00\n",
      "Total run time:   0.47s\n",
      "10.0%. Run time:   0.01s. Est. time left: 00:00:00:00\n",
      "20.0%. Run time:   0.01s. Est. time left: 00:00:00:00\n",
      "30.0%. Run time:   0.02s. Est. time left: 00:00:00:00\n",
      "40.0%. Run time:   0.02s. Est. time left: 00:00:00:00\n",
      "50.0%. Run time:   0.02s. Est. time left: 00:00:00:00\n",
      "60.0%. Run time:   0.03s. Est. time left: 00:00:00:00\n",
      "70.0%. Run time:   0.03s. Est. time left: 00:00:00:00\n",
      "80.0%. Run time:   0.03s. Est. time left: 00:00:00:00\n",
      "90.0%. Run time:   0.03s. Est. time left: 00:00:00:00\n",
      "Total run time:   0.03s\n",
      "10.0%. Run time:   0.09s. Est. time left: 00:00:00:00\n",
      "20.0%. Run time:   0.15s. Est. time left: 00:00:00:00\n",
      "30.0%. Run time:   0.23s. Est. time left: 00:00:00:00\n",
      "40.0%. Run time:   0.31s. Est. time left: 00:00:00:00\n",
      "50.0%. Run time:   0.39s. Est. time left: 00:00:00:00\n",
      "60.0%. Run time:   0.47s. Est. time left: 00:00:00:00\n",
      "70.0%. Run time:   0.54s. Est. time left: 00:00:00:00\n",
      "80.0%. Run time:   0.62s. Est. time left: 00:00:00:00\n",
      "90.0%. Run time:   0.70s. Est. time left: 00:00:00:00\n",
      "Total run time:   0.78s\n",
      "10.0%. Run time:   0.06s. Est. time left: 00:00:00:00\n",
      "20.0%. Run time:   0.11s. Est. time left: 00:00:00:00\n",
      "30.0%. Run time:   0.15s. Est. time left: 00:00:00:00\n",
      "40.0%. Run time:   0.20s. Est. time left: 00:00:00:00\n",
      "50.0%. Run time:   0.26s. Est. time left: 00:00:00:00\n",
      "60.0%. Run time:   0.31s. Est. time left: 00:00:00:00\n",
      "70.0%. Run time:   0.36s. Est. time left: 00:00:00:00\n",
      "80.0%. Run time:   0.42s. Est. time left: 00:00:00:00\n",
      "90.0%. Run time:   0.48s. Est. time left: 00:00:00:00\n",
      "Total run time:   0.53s\n",
      "10.0%. Run time:   0.01s. Est. time left: 00:00:00:00\n",
      "20.0%. Run time:   0.01s. Est. time left: 00:00:00:00\n",
      "30.0%. Run time:   0.02s. Est. time left: 00:00:00:00\n",
      "40.0%. Run time:   0.02s. Est. time left: 00:00:00:00\n",
      "50.0%. Run time:   0.02s. Est. time left: 00:00:00:00\n",
      "60.0%. Run time:   0.03s. Est. time left: 00:00:00:00\n",
      "70.0%. Run time:   0.03s. Est. time left: 00:00:00:00\n",
      "80.0%. Run time:   0.03s. Est. time left: 00:00:00:00\n",
      "90.0%. Run time:   0.03s. Est. time left: 00:00:00:00\n",
      "Total run time:   0.04s\n",
      "10.0%. Run time:   0.09s. Est. time left: 00:00:00:00\n",
      "20.0%. Run time:   0.17s. Est. time left: 00:00:00:00\n",
      "30.0%. Run time:   0.26s. Est. time left: 00:00:00:00\n",
      "40.0%. Run time:   0.35s. Est. time left: 00:00:00:00\n",
      "50.0%. Run time:   0.43s. Est. time left: 00:00:00:00\n",
      "60.0%. Run time:   0.52s. Est. time left: 00:00:00:00\n",
      "70.0%. Run time:   0.59s. Est. time left: 00:00:00:00\n",
      "80.0%. Run time:   0.68s. Est. time left: 00:00:00:00\n",
      "90.0%. Run time:   1.14s. Est. time left: 00:00:00:00\n",
      "Total run time:   1.21s\n",
      "10.0%. Run time:   0.08s. Est. time left: 00:00:00:00\n",
      "20.0%. Run time:   0.13s. Est. time left: 00:00:00:00\n",
      "30.0%. Run time:   0.19s. Est. time left: 00:00:00:00\n",
      "40.0%. Run time:   0.25s. Est. time left: 00:00:00:00\n",
      "50.0%. Run time:   0.31s. Est. time left: 00:00:00:00\n",
      "60.0%. Run time:   0.37s. Est. time left: 00:00:00:00\n",
      "70.0%. Run time:   0.43s. Est. time left: 00:00:00:00\n",
      "80.0%. Run time:   0.49s. Est. time left: 00:00:00:00\n",
      "90.0%. Run time:   0.53s. Est. time left: 00:00:00:00\n",
      "Total run time:   0.59s\n",
      "10.0%. Run time:   0.01s. Est. time left: 00:00:00:00\n",
      "20.0%. Run time:   0.01s. Est. time left: 00:00:00:00\n",
      "30.0%. Run time:   0.02s. Est. time left: 00:00:00:00\n",
      "40.0%. Run time:   0.02s. Est. time left: 00:00:00:00\n",
      "50.0%. Run time:   0.02s. Est. time left: 00:00:00:00\n",
      "60.0%. Run time:   0.03s. Est. time left: 00:00:00:00\n",
      "70.0%. Run time:   0.03s. Est. time left: 00:00:00:00\n",
      "80.0%. Run time:   0.03s. Est. time left: 00:00:00:00\n",
      "90.0%. Run time:   0.03s. Est. time left: 00:00:00:00\n",
      "Total run time:   0.03s\n",
      "10.0%. Run time:   0.07s. Est. time left: 00:00:00:00\n",
      "20.0%. Run time:   0.14s. Est. time left: 00:00:00:00\n",
      "30.0%. Run time:   0.21s. Est. time left: 00:00:00:00\n",
      "40.0%. Run time:   0.29s. Est. time left: 00:00:00:00\n",
      "50.0%. Run time:   0.37s. Est. time left: 00:00:00:00\n",
      "60.0%. Run time:   0.44s. Est. time left: 00:00:00:00\n",
      "70.0%. Run time:   0.51s. Est. time left: 00:00:00:00\n",
      "80.0%. Run time:   0.58s. Est. time left: 00:00:00:00\n",
      "90.0%. Run time:   0.64s. Est. time left: 00:00:00:00\n",
      "Total run time:   0.70s\n",
      "10.0%. Run time:   0.07s. Est. time left: 00:00:00:00\n",
      "20.0%. Run time:   0.12s. Est. time left: 00:00:00:00\n",
      "30.0%. Run time:   0.17s. Est. time left: 00:00:00:00\n",
      "40.0%. Run time:   0.23s. Est. time left: 00:00:00:00\n",
      "50.0%. Run time:   0.28s. Est. time left: 00:00:00:00\n",
      "60.0%. Run time:   0.33s. Est. time left: 00:00:00:00\n",
      "70.0%. Run time:   0.38s. Est. time left: 00:00:00:00\n",
      "80.0%. Run time:   0.43s. Est. time left: 00:00:00:00\n",
      "90.0%. Run time:   0.48s. Est. time left: 00:00:00:00\n",
      "Total run time:   0.53s\n",
      "10.0%. Run time:   0.01s. Est. time left: 00:00:00:00\n",
      "20.0%. Run time:   0.01s. Est. time left: 00:00:00:00\n",
      "30.0%. Run time:   0.01s. Est. time left: 00:00:00:00\n",
      "40.0%. Run time:   0.01s. Est. time left: 00:00:00:00\n",
      "50.0%. Run time:   0.01s. Est. time left: 00:00:00:00\n",
      "60.0%. Run time:   0.02s. Est. time left: 00:00:00:00\n",
      "70.0%. Run time:   0.02s. Est. time left: 00:00:00:00\n",
      "80.0%. Run time:   0.02s. Est. time left: 00:00:00:00\n",
      "90.0%. Run time:   0.02s. Est. time left: 00:00:00:00\n",
      "Total run time:   0.02s\n",
      "10.0%. Run time:   0.08s. Est. time left: 00:00:00:00\n",
      "20.0%. Run time:   0.17s. Est. time left: 00:00:00:00\n",
      "30.0%. Run time:   0.23s. Est. time left: 00:00:00:00\n",
      "40.0%. Run time:   0.31s. Est. time left: 00:00:00:00\n",
      "50.0%. Run time:   0.37s. Est. time left: 00:00:00:00\n",
      "60.0%. Run time:   0.45s. Est. time left: 00:00:00:00\n",
      "70.0%. Run time:   0.52s. Est. time left: 00:00:00:00\n",
      "80.0%. Run time:   0.58s. Est. time left: 00:00:00:00\n",
      "90.0%. Run time:   0.66s. Est. time left: 00:00:00:00\n",
      "Total run time:   0.74s\n"
     ]
    }
   ],
   "source": [
    "t_ph=linspace(0.00000001,0.02,10)\n",
    "arr1=[0,1,0]\n",
    "arr2=array([0,9.32410521e-01,2.69307118e-01])/0.9705234172738736\n",
    "nl=[rot_basis(arr1),rot_basis(arr2)]\n",
    "hdist=[]\n",
    "\n",
    "for i in tqdm(t_ph):\n",
    "    rho1=time_evol(rho,i)\n",
    "    temp=[]\n",
    "    for i in nl:\n",
    "        temp.append(hell_dist(rho1,rho_0,i))\n",
    "    hdist.append(temp)\n",
    "hdist=array(hdist)"
   ]
  },
  {
   "cell_type": "code",
   "execution_count": 29,
   "id": "3dc25e86",
   "metadata": {},
   "outputs": [
    {
     "data": {
      "text/plain": [
       "(0.0, 9e-05)"
      ]
     },
     "execution_count": 29,
     "metadata": {},
     "output_type": "execute_result"
    },
    {
     "data": {
      "image/png": "[encoded data removed]",
      "text/plain": [
       "<Figure size 640x480 with 1 Axes>"
      ]
     },
     "metadata": {},
     "output_type": "display_data"
    }
   ],
   "source": [
    "plt.plot(t_ph,hdist.transpose()[0])\n",
    "plt.plot(t_ph,hdist.transpose()[1])\n",
    "plt.xlim([0,0.0025])\n",
    "plt.ylim([0,0.00009])"
   ]
  },
  {
   "cell_type": "code",
   "execution_count": 30,
   "id": "81339bfa",
   "metadata": {
    "scrolled": true
   },
   "outputs": [
    {
     "name": "stdout",
     "output_type": "stream",
     "text": [
      "10.0%. Run time:   0.07s. Est. time left: 00:00:00:00\n",
      "20.0%. Run time:   0.11s. Est. time left: 00:00:00:00\n",
      "30.0%. Run time:   0.15s. Est. time left: 00:00:00:00\n",
      "40.0%. Run time:   0.21s. Est. time left: 00:00:00:00\n",
      "50.0%. Run time:   0.26s. Est. time left: 00:00:00:00\n",
      "60.0%. Run time:   0.31s. Est. time left: 00:00:00:00\n",
      "70.0%. Run time:   0.37s. Est. time left: 00:00:00:00\n",
      "80.0%. Run time:   0.44s. Est. time left: 00:00:00:00\n",
      "90.0%. Run time:   0.49s. Est. time left: 00:00:00:00\n",
      "Total run time:   0.52s\n",
      "10.0%. Run time:   0.01s. Est. time left: 00:00:00:00\n",
      "20.0%. Run time:   0.01s. Est. time left: 00:00:00:00\n",
      "30.0%. Run time:   0.01s. Est. time left: 00:00:00:00\n",
      "40.0%. Run time:   0.01s. Est. time left: 00:00:00:00\n",
      "50.0%. Run time:   0.02s. Est. time left: 00:00:00:00\n",
      "60.0%. Run time:   0.02s. Est. time left: 00:00:00:00\n",
      "70.0%. Run time:   0.02s. Est. time left: 00:00:00:00\n",
      "80.0%. Run time:   0.02s. Est. time left: 00:00:00:00\n",
      "90.0%. Run time:   0.02s. Est. time left: 00:00:00:00\n",
      "Total run time:   0.03s\n",
      "10.0%. Run time:   0.08s. Est. time left: 00:00:00:00\n",
      "20.0%. Run time:   0.14s. Est. time left: 00:00:00:00\n",
      "30.0%. Run time:   0.22s. Est. time left: 00:00:00:00\n",
      "40.0%. Run time:   0.30s. Est. time left: 00:00:00:00\n",
      "50.0%. Run time:   0.38s. Est. time left: 00:00:00:00\n",
      "60.0%. Run time:   0.46s. Est. time left: 00:00:00:00\n",
      "70.0%. Run time:   0.56s. Est. time left: 00:00:00:00\n",
      "80.0%. Run time:   0.67s. Est. time left: 00:00:00:00\n",
      "90.0%. Run time:   0.75s. Est. time left: 00:00:00:00\n",
      "Total run time:   0.82s\n"
     ]
    },
    {
     "ename": "ValueError",
     "evalue": "x and y must have same first dimension, but have shapes (5,) and (9,)",
     "output_type": "error",
     "traceback": [
      "\u001b[1;31m---------------------------------------------------------------------------\u001b[0m",
      "\u001b[1;31mValueError\u001b[0m                                Traceback (most recent call last)",
      "Cell \u001b[1;32mIn[30], line 2\u001b[0m\n\u001b[0;32m      1\u001b[0m ang\u001b[38;5;241m=\u001b[39mlinspace(\u001b[38;5;241m-\u001b[39mN\u001b[38;5;241m/\u001b[39m\u001b[38;5;241m2\u001b[39m,N\u001b[38;5;241m/\u001b[39m\u001b[38;5;241m2\u001b[39m,\u001b[38;5;28mint\u001b[39m(\u001b[38;5;241m2\u001b[39m\u001b[38;5;241m*\u001b[39m(N\u001b[38;5;241m/\u001b[39m\u001b[38;5;241m2\u001b[39m)\u001b[38;5;241m+\u001b[39m\u001b[38;5;241m1\u001b[39m))\n\u001b[1;32m----> 2\u001b[0m plt\u001b[38;5;241m.\u001b[39mplot(array(ang),(eigenspectrum(time_evol(rho,\u001b[38;5;241m0.0001\u001b[39m),nl[\u001b[38;5;241m0\u001b[39m])),\u001b[38;5;124m'\u001b[39m\u001b[38;5;124m.\u001b[39m\u001b[38;5;124m'\u001b[39m)\n\u001b[0;32m      3\u001b[0m plt\u001b[38;5;241m.\u001b[39mplot(array(ang),(eigenspectrum(rho_0,nl[\u001b[38;5;241m0\u001b[39m])),\u001b[38;5;124m'\u001b[39m\u001b[38;5;124m.\u001b[39m\u001b[38;5;124m'\u001b[39m)\n",
      "File \u001b[1;32mD:\\foranaconda\\anaconda3\\Lib\\site-packages\\matplotlib\\pyplot.py:2812\u001b[0m, in \u001b[0;36mplot\u001b[1;34m(scalex, scaley, data, *args, **kwargs)\u001b[0m\n\u001b[0;32m   2810\u001b[0m \u001b[38;5;129m@_copy_docstring_and_deprecators\u001b[39m(Axes\u001b[38;5;241m.\u001b[39mplot)\n\u001b[0;32m   2811\u001b[0m \u001b[38;5;28;01mdef\u001b[39;00m \u001b[38;5;21mplot\u001b[39m(\u001b[38;5;241m*\u001b[39margs, scalex\u001b[38;5;241m=\u001b[39m\u001b[38;5;28;01mTrue\u001b[39;00m, scaley\u001b[38;5;241m=\u001b[39m\u001b[38;5;28;01mTrue\u001b[39;00m, data\u001b[38;5;241m=\u001b[39m\u001b[38;5;28;01mNone\u001b[39;00m, \u001b[38;5;241m*\u001b[39m\u001b[38;5;241m*\u001b[39mkwargs):\n\u001b[1;32m-> 2812\u001b[0m     \u001b[38;5;28;01mreturn\u001b[39;00m gca()\u001b[38;5;241m.\u001b[39mplot(\n\u001b[0;32m   2813\u001b[0m         \u001b[38;5;241m*\u001b[39margs, scalex\u001b[38;5;241m=\u001b[39mscalex, scaley\u001b[38;5;241m=\u001b[39mscaley,\n\u001b[0;32m   2814\u001b[0m         \u001b[38;5;241m*\u001b[39m\u001b[38;5;241m*\u001b[39m({\u001b[38;5;124m\"\u001b[39m\u001b[38;5;124mdata\u001b[39m\u001b[38;5;124m\"\u001b[39m: data} \u001b[38;5;28;01mif\u001b[39;00m data \u001b[38;5;129;01mis\u001b[39;00m \u001b[38;5;129;01mnot\u001b[39;00m \u001b[38;5;28;01mNone\u001b[39;00m \u001b[38;5;28;01melse\u001b[39;00m {}), \u001b[38;5;241m*\u001b[39m\u001b[38;5;241m*\u001b[39mkwargs)\n",
      "File \u001b[1;32mD:\\foranaconda\\anaconda3\\Lib\\site-packages\\matplotlib\\axes\\_axes.py:1688\u001b[0m, in \u001b[0;36mAxes.plot\u001b[1;34m(self, scalex, scaley, data, *args, **kwargs)\u001b[0m\n\u001b[0;32m   1445\u001b[0m \u001b[38;5;250m\u001b[39m\u001b[38;5;124;03m\"\"\"\u001b[39;00m\n\u001b[0;32m   1446\u001b[0m \u001b[38;5;124;03mPlot y versus x as lines and/or markers.\u001b[39;00m\n\u001b[0;32m   1447\u001b[0m \n\u001b[1;32m   (...)\u001b[0m\n\u001b[0;32m   1685\u001b[0m \u001b[38;5;124;03m(``'green'``) or hex strings (``'#008000'``).\u001b[39;00m\n\u001b[0;32m   1686\u001b[0m \u001b[38;5;124;03m\"\"\"\u001b[39;00m\n\u001b[0;32m   1687\u001b[0m kwargs \u001b[38;5;241m=\u001b[39m cbook\u001b[38;5;241m.\u001b[39mnormalize_kwargs(kwargs, mlines\u001b[38;5;241m.\u001b[39mLine2D)\n\u001b[1;32m-> 1688\u001b[0m lines \u001b[38;5;241m=\u001b[39m [\u001b[38;5;241m*\u001b[39m\u001b[38;5;28mself\u001b[39m\u001b[38;5;241m.\u001b[39m_get_lines(\u001b[38;5;241m*\u001b[39margs, data\u001b[38;5;241m=\u001b[39mdata, \u001b[38;5;241m*\u001b[39m\u001b[38;5;241m*\u001b[39mkwargs)]\n\u001b[0;32m   1689\u001b[0m \u001b[38;5;28;01mfor\u001b[39;00m line \u001b[38;5;129;01min\u001b[39;00m lines:\n\u001b[0;32m   1690\u001b[0m     \u001b[38;5;28mself\u001b[39m\u001b[38;5;241m.\u001b[39madd_line(line)\n",
      "File \u001b[1;32mD:\\foranaconda\\anaconda3\\Lib\\site-packages\\matplotlib\\axes\\_base.py:311\u001b[0m, in \u001b[0;36m_process_plot_var_args.__call__\u001b[1;34m(self, data, *args, **kwargs)\u001b[0m\n\u001b[0;32m    309\u001b[0m     this \u001b[38;5;241m+\u001b[39m\u001b[38;5;241m=\u001b[39m args[\u001b[38;5;241m0\u001b[39m],\n\u001b[0;32m    310\u001b[0m     args \u001b[38;5;241m=\u001b[39m args[\u001b[38;5;241m1\u001b[39m:]\n\u001b[1;32m--> 311\u001b[0m \u001b[38;5;28;01myield from\u001b[39;00m \u001b[38;5;28mself\u001b[39m\u001b[38;5;241m.\u001b[39m_plot_args(\n\u001b[0;32m    312\u001b[0m     this, kwargs, ambiguous_fmt_datakey\u001b[38;5;241m=\u001b[39mambiguous_fmt_datakey)\n",
      "File \u001b[1;32mD:\\foranaconda\\anaconda3\\Lib\\site-packages\\matplotlib\\axes\\_base.py:504\u001b[0m, in \u001b[0;36m_process_plot_var_args._plot_args\u001b[1;34m(self, tup, kwargs, return_kwargs, ambiguous_fmt_datakey)\u001b[0m\n\u001b[0;32m    501\u001b[0m     \u001b[38;5;28mself\u001b[39m\u001b[38;5;241m.\u001b[39maxes\u001b[38;5;241m.\u001b[39myaxis\u001b[38;5;241m.\u001b[39mupdate_units(y)\n\u001b[0;32m    503\u001b[0m \u001b[38;5;28;01mif\u001b[39;00m x\u001b[38;5;241m.\u001b[39mshape[\u001b[38;5;241m0\u001b[39m] \u001b[38;5;241m!=\u001b[39m y\u001b[38;5;241m.\u001b[39mshape[\u001b[38;5;241m0\u001b[39m]:\n\u001b[1;32m--> 504\u001b[0m     \u001b[38;5;28;01mraise\u001b[39;00m \u001b[38;5;167;01mValueError\u001b[39;00m(\u001b[38;5;124mf\u001b[39m\u001b[38;5;124m\"\u001b[39m\u001b[38;5;124mx and y must have same first dimension, but \u001b[39m\u001b[38;5;124m\"\u001b[39m\n\u001b[0;32m    505\u001b[0m                      \u001b[38;5;124mf\u001b[39m\u001b[38;5;124m\"\u001b[39m\u001b[38;5;124mhave shapes \u001b[39m\u001b[38;5;132;01m{\u001b[39;00mx\u001b[38;5;241m.\u001b[39mshape\u001b[38;5;132;01m}\u001b[39;00m\u001b[38;5;124m and \u001b[39m\u001b[38;5;132;01m{\u001b[39;00my\u001b[38;5;241m.\u001b[39mshape\u001b[38;5;132;01m}\u001b[39;00m\u001b[38;5;124m\"\u001b[39m)\n\u001b[0;32m    506\u001b[0m \u001b[38;5;28;01mif\u001b[39;00m x\u001b[38;5;241m.\u001b[39mndim \u001b[38;5;241m>\u001b[39m \u001b[38;5;241m2\u001b[39m \u001b[38;5;129;01mor\u001b[39;00m y\u001b[38;5;241m.\u001b[39mndim \u001b[38;5;241m>\u001b[39m \u001b[38;5;241m2\u001b[39m:\n\u001b[0;32m    507\u001b[0m     \u001b[38;5;28;01mraise\u001b[39;00m \u001b[38;5;167;01mValueError\u001b[39;00m(\u001b[38;5;124mf\u001b[39m\u001b[38;5;124m\"\u001b[39m\u001b[38;5;124mx and y can be no greater than 2D, but have \u001b[39m\u001b[38;5;124m\"\u001b[39m\n\u001b[0;32m    508\u001b[0m                      \u001b[38;5;124mf\u001b[39m\u001b[38;5;124m\"\u001b[39m\u001b[38;5;124mshapes \u001b[39m\u001b[38;5;132;01m{\u001b[39;00mx\u001b[38;5;241m.\u001b[39mshape\u001b[38;5;132;01m}\u001b[39;00m\u001b[38;5;124m and \u001b[39m\u001b[38;5;132;01m{\u001b[39;00my\u001b[38;5;241m.\u001b[39mshape\u001b[38;5;132;01m}\u001b[39;00m\u001b[38;5;124m\"\u001b[39m)\n",
      "\u001b[1;31mValueError\u001b[0m: x and y must have same first dimension, but have shapes (5,) and (9,)"
     ]
    },
    {
     "data": {
      "image/png": "[encoded data removed]",
      "text/plain": [
       "<Figure size 640x480 with 1 Axes>"
      ]
     },
     "metadata": {},
     "output_type": "display_data"
    }
   ],
   "source": [
    "ang=linspace(-N/2,N/2,int(2*(N/2)+1))\n",
    "plt.plot(array(ang),(eigenspectrum(time_evol(rho,0.0001),nl[0])),'.')\n",
    "plt.plot(array(ang),(eigenspectrum(rho_0,nl[0])),'.')"
   ]
  },
  {
   "cell_type": "code",
   "execution_count": null,
   "id": "0c0551e3",
   "metadata": {},
   "outputs": [],
   "source": []
  },
  {
   "cell_type": "code",
   "execution_count": null,
   "id": "290bff81",
   "metadata": {},
   "outputs": [],
   "source": [
    "arr2=[[0],[9.32410521e-01],[2.69307118e-01]]\n",
    "Qobj(arr2).norm()"
   ]
  },
  {
   "cell_type": "code",
   "execution_count": null,
   "id": "9edad561",
   "metadata": {},
   "outputs": [],
   "source": []
  },
  {
   "cell_type": "code",
   "execution_count": null,
   "id": "6bd5e7be",
   "metadata": {},
   "outputs": [],
   "source": []
  },
  {
   "cell_type": "code",
   "execution_count": null,
   "id": "70a4030c",
   "metadata": {},
   "outputs": [],
   "source": []
  },
  {
   "cell_type": "code",
   "execution_count": null,
   "id": "fd7d7188",
   "metadata": {},
   "outputs": [],
   "source": []
  },
  {
   "cell_type": "code",
   "execution_count": null,
   "id": "15558e21",
   "metadata": {},
   "outputs": [],
   "source": []
  }
 ],
 "metadata": {
  "kernelspec": {
   "display_name": "Python 3 (ipykernel)",
   "language": "python",
   "name": "python3"
  },
  "language_info": {
   "codemirror_mode": {
    "name": "ipython",
    "version": 3
   },
   "file_extension": ".py",
   "mimetype": "text/x-python",
   "name": "python",
   "nbconvert_exporter": "python",
   "pygments_lexer": "ipython3",
   "version": "3.11.4"
  }
 },
 "nbformat": 4,
 "nbformat_minor": 5
}
