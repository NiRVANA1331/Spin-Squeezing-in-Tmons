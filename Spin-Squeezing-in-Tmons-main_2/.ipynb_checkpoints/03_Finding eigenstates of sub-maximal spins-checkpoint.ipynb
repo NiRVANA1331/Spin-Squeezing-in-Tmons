{
 "cells": [
  {
   "cell_type": "code",
   "execution_count": 46,
   "id": "1739acba",
   "metadata": {},
   "outputs": [],
   "source": [
    "import numpy as np\n",
    "from qutip import *\n",
    "from tqdm.auto import tqdm\n",
    "import matplotlib.pyplot as plt\n",
    "import math\n",
    "from numpy import sqrt,array,isclose,linspace\n",
    "import matplotlib.pyplot as plt\n",
    "from numpy import *"
   ]
  },
  {
   "cell_type": "code",
   "execution_count": 48,
   "id": "1bd3680f",
   "metadata": {},
   "outputs": [],
   "source": [
    "from modules.spin_arch import *\n",
    "from modules.su_algebra import *"
   ]
  },
  {
   "cell_type": "code",
   "execution_count": 49,
   "id": "48555ca1",
   "metadata": {},
   "outputs": [],
   "source": [
    "from IPython.display import Latex"
   ]
  },
  {
   "cell_type": "code",
   "execution_count": 50,
   "id": "2ee0959b",
   "metadata": {},
   "outputs": [],
   "source": [
    "Ntrunc = 3 #global operator for truncation level or total number of dimensions"
   ]
  },
  {
   "cell_type": "code",
   "execution_count": 51,
   "id": "d0c38d91",
   "metadata": {},
   "outputs": [],
   "source": [
    "#initialize system\n",
    "N = 5\n",
    "Nlevel = Ntrunc\n",
    "\n",
    "Ej, Ec, g_arr, omega = generate_tmon_arch(N,Nlevel)\n",
    "sys1 = tmon_system(N, Nlevel, Ec, Ej, g_arr, omega)"
   ]
  },
  {
   "cell_type": "code",
   "execution_count": 52,
   "id": "1a8ba4c4",
   "metadata": {},
   "outputs": [
    {
     "data": {
      "text/plain": [
       "[[0.0, 60.745553203367585, 118.99110640673517],\n",
       " [0.0, 60.745553203367585, 118.99110640673517],\n",
       " [0.0, 60.745553203367585, 118.99110640673517],\n",
       " [0.0, 60.745553203367585, 118.99110640673517],\n",
       " [0.0, 60.745553203367585, 118.99110640673517]]"
      ]
     },
     "execution_count": 52,
     "metadata": {},
     "output_type": "execute_result"
    }
   ],
   "source": [
    "sys1.freq_list()"
   ]
  },
  {
   "cell_type": "code",
   "execution_count": 55,
   "id": "46a59838",
   "metadata": {},
   "outputs": [],
   "source": [
    "# a=0.40824829\n",
    "# b=0.70710678\n",
    "# c=0.57735027\n",
    "\n",
    "a=1\n",
    "b=sqrt(2)\n",
    "c=1"
   ]
  },
  {
   "cell_type": "code",
   "execution_count": 57,
   "id": "5ebfd142",
   "metadata": {},
   "outputs": [],
   "source": [
    "psi_2 = a*basis(Nlevel,0) + b*sqrt(1)*basis(Nlevel,1) + c*basis(Nlevel,2)\n",
    "psi_2 = psi_2/psi_2.norm()\n",
    "psi_2 = psi_2 * psi_2.dag()\n",
    "psi_2\n",
    "rho=tensor([psi_2]*N) #sys1.tensor_projection_op(0,1,1, dim = None)"
   ]
  },
  {
   "cell_type": "code",
   "execution_count": 58,
   "id": "0ce4fcea",
   "metadata": {},
   "outputs": [],
   "source": [
    "psi_3 = a*basis(Nlevel,0) +b*sqrt(1)*basis(Nlevel,1) + c*basis(Nlevel,2)\n",
    "psi_3 = psi_3/psi_3.norm()\n",
    "psi_3 = psi_3 * psi_3.dag()\n",
    "\n",
    "rho_0=tensor([psi_3]*N)\n",
    "# psi_3"
   ]
  },
  {
   "cell_type": "code",
   "execution_count": 59,
   "id": "70598031",
   "metadata": {},
   "outputs": [],
   "source": [
    "# Spin 1\n",
    "# Sx=Qobj(ensemble_op(op_padded2(Qobj(np.array([[0,sqrt(2),0],[sqrt(2),0,sqrt(2)],[0,sqrt(2),0]])/2),Nlevel), N))\n",
    "# Sy=Qobj(ensemble_op(op_padded2(Qobj(1j*np.array([[0,-sqrt(2),0],[sqrt(2),0,-sqrt(2)],[0,sqrt(2),0]])/2),Nlevel), N))\n",
    "# Sz=Qobj(ensemble_op(op_padded2(Qobj(np.array([[1,0,0],[0,0,0],[0,0,-1]])),Nlevel), N))\n",
    "\n",
    "# Spin 1/2\n",
    "Sx=Qobj(ensemble_op(op_padded(Qobj(np.array([[0,1,0],[1,0,1],[0,1,0]])/np.sqrt(2)),Nlevel), N))\n",
    "Sy=Qobj(ensemble_op(op_padded(Qobj(1j*np.array([[0,-1,0],[1,0,-1],[0,1,0]])/np.sqrt(2)),Nlevel), N))\n",
    "Sz=Qobj(ensemble_op(op_padded(Qobj(np.array([[1,0,0],[0,0,0],[0,0,-1]])),Nlevel), N))\n",
    "\n",
    "\n",
    "Jsq=Sx**2+Sy**2+Sz**2\n",
    "# Jsq=Qobj(array(Jsq))\n",
    "Jp=Sx+1j*Sy\n",
    "# Jp=Qobj(array(Jp))\n",
    "Jm=Sx-1j*Sy\n",
    "# Jm=Qobj(array(Jm))"
   ]
  },
  {
   "cell_type": "code",
   "execution_count": 97,
   "id": "e5dbe7f6",
   "metadata": {},
   "outputs": [],
   "source": [
    "# Phi theta calculation\n",
    "\n",
    "nl=0\n",
    "\n",
    "arr=[0,0,1]\n",
    "# arr=[0,1,0]\n",
    "\n",
    "def rot_basis(arr=arr):\n",
    "\n",
    "    # Finding Eigenstates of Sz\n",
    "    eigenvalues, eigenvectors = Sz.eigenstates()\n",
    "    ebasis=[]\n",
    "    ebasis.append(eigenvectors[-1])\n",
    "\n",
    "    for i in (range(int(N)*(2)+1)):\n",
    "        temp=Jm*ebasis[i]\n",
    "        norm=sqrt((temp.dag()*temp).tr())\n",
    "        if norm==0:\n",
    "            print(\"0\")\n",
    "            break\n",
    "        ebasis.append(temp/norm)\n",
    "\n",
    "    # Finding angle to rotate into\n",
    "    n1=sqrt(arr[0]**2+arr[1]**2)\n",
    "    if n1==0:\n",
    "        phi=0\n",
    "    else:\n",
    "        phi=arccos(arr[0]/n1)+pi/2\n",
    "    theta=pi/2-arccos(n1)\n",
    "\n",
    "    # Rotating in the required basis\n",
    "    tlist=linspace(0,theta+0.0001,100)\n",
    "    H=cos(phi)*Sx+sin(phi)*Sy\n",
    "    n=0\n",
    "    for i in (ebasis):\n",
    "    #     options=Options()\n",
    "    #     options.\n",
    "        res1=mcsolve(H,i,tlist,[],[],ntraj=1, progress_bar=None)\n",
    "        ebasis[n]=res1.states[-1]\n",
    "        n+=1\n",
    "\n",
    "    return ebasis"
   ]
  },
  {
   "cell_type": "code",
   "execution_count": 98,
   "id": "0872c621",
   "metadata": {},
   "outputs": [
    {
     "name": "stdout",
     "output_type": "stream",
     "text": [
      "0\n",
      "No c_ops, using sesolve\n",
      "No c_ops, using sesolve\n",
      "No c_ops, using sesolve\n",
      "No c_ops, using sesolve\n",
      "No c_ops, using sesolve\n",
      "No c_ops, using sesolve\n",
      "No c_ops, using sesolve\n",
      "No c_ops, using sesolve\n",
      "No c_ops, using sesolve\n",
      "No c_ops, using sesolve\n",
      "No c_ops, using sesolve\n",
      "0\n",
      "No c_ops, using sesolve\n",
      "No c_ops, using sesolve\n",
      "No c_ops, using sesolve\n",
      "No c_ops, using sesolve\n",
      "No c_ops, using sesolve\n",
      "No c_ops, using sesolve\n",
      "No c_ops, using sesolve\n",
      "No c_ops, using sesolve\n",
      "No c_ops, using sesolve\n",
      "No c_ops, using sesolve\n",
      "No c_ops, using sesolve\n"
     ]
    }
   ],
   "source": [
    "array_rot_basis=array([1,0,0])\n",
    "nly=rot_basis(array_rot_basis/linalg.norm(array_rot_basis))\n",
    "nlz=rot_basis([0,0,1])"
   ]
  },
  {
   "cell_type": "code",
   "execution_count": 62,
   "id": "c0640d71",
   "metadata": {},
   "outputs": [],
   "source": [
    "H = sys1.H_I()\n",
    "H_ph= -Sx\n",
    "\n"
   ]
  },
  {
   "cell_type": "code",
   "execution_count": 63,
   "id": "86ea5cb5",
   "metadata": {
    "scrolled": true
   },
   "outputs": [
    {
     "data": {
      "text/plain": [
       "array([[0.+0.j, 0.+0.j, 0.+0.j, 0.+0.j, 0.+0.j, 0.+0.j, 0.+0.j, 0.+0.j,\n",
       "        0.+0.j, 0.+0.j, 0.+0.j, 0.+0.j, 0.+0.j, 0.+0.j, 0.+0.j, 0.+0.j,\n",
       "        0.+0.j, 0.+0.j, 0.+0.j, 0.+0.j, 0.+0.j, 0.+0.j, 0.+0.j, 0.+0.j,\n",
       "        0.+0.j, 0.+0.j, 0.+0.j, 0.+0.j, 0.+0.j, 0.+0.j, 0.+0.j, 0.+0.j,\n",
       "        0.+0.j, 0.+0.j, 0.+0.j, 0.+0.j, 0.+0.j, 0.+0.j, 0.+0.j, 0.+0.j,\n",
       "        0.+0.j, 0.+0.j, 0.+0.j, 0.+0.j, 0.+0.j, 0.+0.j, 0.+0.j, 0.+0.j,\n",
       "        0.+0.j, 0.+0.j, 0.+0.j, 0.+0.j, 0.+0.j, 0.+0.j, 0.+0.j, 0.+0.j,\n",
       "        0.+0.j, 0.+0.j, 0.+0.j, 0.+0.j, 0.+0.j, 0.+0.j, 0.+0.j, 0.+0.j,\n",
       "        0.+0.j, 0.+0.j, 0.+0.j, 0.+0.j, 0.+0.j, 0.+0.j, 0.+0.j, 0.+0.j,\n",
       "        0.+0.j, 0.+0.j, 0.+0.j, 0.+0.j, 0.+0.j, 0.+0.j, 0.+0.j, 0.+0.j,\n",
       "        0.+0.j, 0.+0.j, 0.+0.j, 0.+0.j, 0.+0.j, 0.+0.j, 0.+0.j, 0.+0.j,\n",
       "        0.+0.j, 0.+0.j, 0.+0.j, 0.+0.j, 0.+0.j, 0.+0.j, 0.+0.j, 0.+0.j,\n",
       "        1.+0.j, 0.+0.j, 0.+0.j, 0.+0.j, 0.+0.j, 0.+0.j, 0.+0.j, 0.+0.j,\n",
       "        0.+0.j, 0.+0.j, 0.+0.j, 0.+0.j, 0.+0.j, 0.+0.j, 0.+0.j, 0.+0.j,\n",
       "        0.+0.j, 0.+0.j, 0.+0.j, 0.+0.j, 0.+0.j, 0.+0.j, 0.+0.j, 0.+0.j,\n",
       "        0.+0.j, 0.+0.j, 0.+0.j, 0.+0.j, 0.+0.j, 0.+0.j, 0.+0.j, 0.+0.j,\n",
       "        0.+0.j, 0.+0.j, 0.+0.j, 0.+0.j, 0.+0.j, 0.+0.j, 0.+0.j, 0.+0.j,\n",
       "        0.+0.j, 0.+0.j, 0.+0.j, 0.+0.j, 0.+0.j, 0.+0.j, 0.+0.j, 0.+0.j,\n",
       "        0.+0.j, 0.+0.j, 0.+0.j, 0.+0.j, 0.+0.j, 0.+0.j, 0.+0.j, 0.+0.j,\n",
       "        0.+0.j, 0.+0.j, 0.+0.j, 0.+0.j, 0.+0.j, 0.+0.j, 0.+0.j, 0.+0.j,\n",
       "        0.+0.j, 0.+0.j, 0.+0.j, 0.+0.j, 0.+0.j, 0.+0.j, 0.+0.j, 0.+0.j,\n",
       "        0.+0.j, 0.+0.j, 0.+0.j, 0.+0.j, 0.+0.j, 0.+0.j, 0.+0.j, 0.+0.j,\n",
       "        0.+0.j, 0.+0.j, 0.+0.j, 0.+0.j, 0.+0.j, 0.+0.j, 0.+0.j, 0.+0.j,\n",
       "        0.+0.j, 0.+0.j, 0.+0.j, 0.+0.j, 0.+0.j, 0.+0.j, 0.+0.j, 0.+0.j,\n",
       "        0.+0.j, 0.+0.j, 0.+0.j, 0.+0.j, 0.+0.j, 0.+0.j, 0.+0.j, 0.+0.j,\n",
       "        0.+0.j, 0.+0.j, 0.+0.j, 0.+0.j, 0.+0.j, 0.+0.j, 0.+0.j, 0.+0.j,\n",
       "        0.+0.j, 0.+0.j, 0.+0.j, 0.+0.j, 0.+0.j, 0.+0.j, 0.+0.j, 0.+0.j,\n",
       "        0.+0.j, 0.+0.j, 0.+0.j, 0.+0.j, 0.+0.j, 0.+0.j, 0.+0.j, 0.+0.j,\n",
       "        0.+0.j, 0.+0.j, 0.+0.j, 0.+0.j, 0.+0.j, 0.+0.j, 0.+0.j, 0.+0.j,\n",
       "        0.+0.j, 0.+0.j, 0.+0.j, 0.+0.j, 0.+0.j, 0.+0.j, 0.+0.j, 0.+0.j,\n",
       "        0.+0.j, 0.+0.j, 0.+0.j]])"
      ]
     },
     "execution_count": 63,
     "metadata": {},
     "output_type": "execute_result"
    }
   ],
   "source": [
    "sys1.tensor_projection_op(0,0,1)[15]"
   ]
  },
  {
   "cell_type": "code",
   "execution_count": 64,
   "id": "59ceb452",
   "metadata": {},
   "outputs": [
    {
     "data": {
      "text/latex": [
       "Quantum object: dims = [[3, 3, 3, 3, 3], [3, 3, 3, 3, 3]], shape = (243, 243), type = oper, isherm = True $ \\\\ \\left(\\begin{matrix}0.0 & 0.0 & 0.0 & 0.0 & 0.0 & \\cdots & 0.0 & 0.0 & 0.0 & 0.0 & 0.0\\\\0.0 & 0.0 & 0.0 & 0.018 & 0.0 & \\cdots & 0.0 & 0.0 & 0.0 & 0.0 & 0.0\\\\0.0 & 0.0 & 0.0 & 0.0 & 0.0 & \\cdots & 0.0 & 0.0 & 0.0 & 0.0 & 0.0\\\\0.0 & 0.018 & 0.0 & 0.0 & 0.0 & \\cdots & 0.0 & 0.0 & 0.0 & 0.0 & 0.0\\\\0.0 & 0.0 & 0.0 & 0.0 & 0.0 & \\cdots & 0.0 & 0.0 & 0.0 & 0.0 & 0.0\\\\\\vdots & \\vdots & \\vdots & \\vdots & \\vdots & \\ddots & \\vdots & \\vdots & \\vdots & \\vdots & \\vdots\\\\0.0 & 0.0 & 0.0 & 0.0 & 0.0 & \\cdots & 0.0 & 0.0 & 0.0 & 0.0 & 0.0\\\\0.0 & 0.0 & 0.0 & 0.0 & 0.0 & \\cdots & 0.0 & 0.0 & 0.0 & -0.348 & 0.0\\\\0.0 & 0.0 & 0.0 & 0.0 & 0.0 & \\cdots & 0.0 & 0.0 & 0.0 & 0.0 & 0.0\\\\0.0 & 0.0 & 0.0 & 0.0 & 0.0 & \\cdots & 0.0 & -0.348 & 0.0 & 0.0 & 0.0\\\\0.0 & 0.0 & 0.0 & 0.0 & 0.0 & \\cdots & 0.0 & 0.0 & 0.0 & 0.0 & 0.0\\\\\\end{matrix}\\right)$"
      ],
      "text/plain": [
       "Quantum object: dims = [[3, 3, 3, 3, 3], [3, 3, 3, 3, 3]], shape = (243, 243), type = oper, isherm = True\n",
       "Qobj data =\n",
       "[[0. 0. 0. ... 0. 0. 0.]\n",
       " [0. 0. 0. ... 0. 0. 0.]\n",
       " [0. 0. 0. ... 0. 0. 0.]\n",
       " ...\n",
       " [0. 0. 0. ... 0. 0. 0.]\n",
       " [0. 0. 0. ... 0. 0. 0.]\n",
       " [0. 0. 0. ... 0. 0. 0.]]"
      ]
     },
     "execution_count": 64,
     "metadata": {},
     "output_type": "execute_result"
    }
   ],
   "source": [
    "H"
   ]
  },
  {
   "cell_type": "code",
   "execution_count": 65,
   "id": "b231f446",
   "metadata": {},
   "outputs": [],
   "source": [
    "# Function for Eigenspectrum\n",
    "def eigenspectrum(rho,nl=0):\n",
    "    if nl==0:\n",
    "        nl=rot_basis()\n",
    "    prob=[]\n",
    "    for i in nl:\n",
    "        prob.append(expect(rho,i*i.dag()))\n",
    "    return array(prob)"
   ]
  },
  {
   "cell_type": "code",
   "execution_count": 66,
   "id": "b8a74630",
   "metadata": {},
   "outputs": [],
   "source": [
    "def hell_dist(rho,rho_0,nl):\n",
    "    return 1-sum(sqrt(eigenspectrum(rho,nl)*eigenspectrum(rho_0,nl)))"
   ]
  },
  {
   "cell_type": "code",
   "execution_count": 109,
   "id": "5e6bf304",
   "metadata": {},
   "outputs": [],
   "source": [
    "# t1=5.2525,t2=15.5555\n",
    "def time_evol(rho,t_ph=0,t1=172,t2=86.285,H_ph=H_ph,H=H):\n",
    "    # First part: entanglement generation\n",
    "    times = np.linspace(0,t1,100) \n",
    "    options = Options()\n",
    "    options.store_final_state = True\n",
    "    rho = mesolve(H, rho, times, [], options = options, progress_bar=True).states[-1]\n",
    "\n",
    "    # Second part: phase encoding\n",
    "\n",
    "#     times = np.linspace(0,t_ph,int(t_ph+10)) #time scale is ~ 1/freq of self energy \n",
    "#     options = Options()\n",
    "#     options.store_final_state = True\n",
    "#     rho = mesolve(H_ph, rho, times, [], options = options, progress_bar=True).states[-1]\n",
    "\n",
    "#     # Third part: entanglement decoding\n",
    "#     times = np.linspace(0,t2,100) #time scale is ~ 1/freq of self energy \n",
    "#     options = Options()\n",
    "#     options.store_final_state = True\n",
    "#     rho = mesolve(-H, rho, times, [], options = options, progress_bar=True).states[-1]\n",
    "\n",
    "    return rho"
   ]
  },
  {
   "cell_type": "code",
   "execution_count": 110,
   "id": "42e81034",
   "metadata": {
    "scrolled": true
   },
   "outputs": [
    {
     "name": "stdout",
     "output_type": "stream",
     "text": [
      "10.0%. Run time:   2.63s. Est. time left: 00:00:00:23\n",
      "20.0%. Run time:   5.09s. Est. time left: 00:00:00:20\n",
      "30.0%. Run time:   7.72s. Est. time left: 00:00:00:18\n",
      "40.0%. Run time:  10.22s. Est. time left: 00:00:00:15\n",
      "50.0%. Run time:  12.65s. Est. time left: 00:00:00:12\n",
      "60.0%. Run time:  15.10s. Est. time left: 00:00:00:10\n",
      "70.0%. Run time:  17.59s. Est. time left: 00:00:00:07\n",
      "80.0%. Run time:  19.85s. Est. time left: 00:00:00:04\n",
      "90.0%. Run time:  22.18s. Est. time left: 00:00:00:02\n",
      "Total run time:  24.20s\n"
     ]
    }
   ],
   "source": [
    "t_ph=0.1\n",
    "a=time_evol(rho)"
   ]
  },
  {
   "cell_type": "code",
   "execution_count": 111,
   "id": "3bd75ead",
   "metadata": {},
   "outputs": [
    {
     "data": {
      "text/plain": [
       "0.9663369347984687"
      ]
     },
     "execution_count": 111,
     "metadata": {},
     "output_type": "execute_result"
    }
   ],
   "source": [
    "sum(eigenspectrum(a,nlz))"
   ]
  },
  {
   "cell_type": "code",
   "execution_count": 112,
   "id": "fa30444f",
   "metadata": {},
   "outputs": [
    {
     "data": {
      "text/plain": [
       "Text(0.5, 1.0, 'Distribution in Sz basis')"
      ]
     },
     "execution_count": 112,
     "metadata": {},
     "output_type": "execute_result"
    },
    {
     "data": {
      "image/png": "[encoded data removed]",
      "text/plain": [
       "<Figure size 640x480 with 1 Axes>"
      ]
     },
     "metadata": {},
     "output_type": "display_data"
    }
   ],
   "source": [
    "ang=linspace(-N,N,int(2*(N)+1))\n",
    "# plt.plot(ang,(eigenspectrum(time_evol(rho,t_ph),nly)),\".\")\n",
    "plt.plot(ang,(eigenspectrum(a,nlz)),\".\")\n",
    "plt.grid()\n",
    "plt.plot(ang,(eigenspectrum(rho,nlz)),\".\")\n",
    "plt.title(\"Distribution in Sz basis\")"
   ]
  },
  {
   "cell_type": "code",
   "execution_count": null,
   "id": "e11c059e",
   "metadata": {},
   "outputs": [],
   "source": [
    "# a=time_evol(rho,t_ph)\n",
    "hell_dist(a,rho,nly),hell_dist(a,rho,nlz)"
   ]
  },
  {
   "cell_type": "code",
   "execution_count": null,
   "id": "fe759a4f",
   "metadata": {},
   "outputs": [],
   "source": [
    "t_ph=0.002"
   ]
  },
  {
   "cell_type": "code",
   "execution_count": null,
   "id": "f705f084",
   "metadata": {
    "scrolled": true
   },
   "outputs": [],
   "source": [
    "arr1=[0.76894092,0.62212189,0.14728953]\n",
    "arr2=[0,1,0]\n",
    "nl=[rot_basis(arr1),rot_basis(arr2)]\n",
    "hdist=[]\n",
    "rho1=time_evol(rho,t_ph)\n",
    "for i in nl:\n",
    "    hdist.append(hell_dist(rho1,rho_0,i))\n",
    "print(hdist)"
   ]
  },
  {
   "cell_type": "code",
   "execution_count": null,
   "id": "f0c750a5",
   "metadata": {
    "scrolled": true
   },
   "outputs": [],
   "source": [
    "t_ph=linspace(0.00000001,0.02,10)\n",
    "arr1=[0,1,0]\n",
    "arr2=array([0,9.32410521e-01,2.69307118e-01])/0.9705234172738736\n",
    "nl=[rot_basis(arr1),rot_basis(arr2)]\n",
    "hdist=[]\n",
    "\n",
    "for i in tqdm(t_ph):\n",
    "    rho1=time_evol(rho,i)\n",
    "    temp=[]\n",
    "    for i in nl:\n",
    "        temp.append(hell_dist(rho1,rho_0,i))\n",
    "    hdist.append(temp)\n",
    "hdist=array(hdist)"
   ]
  },
  {
   "cell_type": "code",
   "execution_count": null,
   "id": "3dc25e86",
   "metadata": {},
   "outputs": [],
   "source": [
    "plt.plot(t_ph,hdist.transpose()[0])\n",
    "plt.plot(t_ph,hdist.transpose()[1])\n",
    "plt.xlim([0,0.0025])\n",
    "plt.ylim([0,0.00009])"
   ]
  },
  {
   "cell_type": "code",
   "execution_count": null,
   "id": "81339bfa",
   "metadata": {
    "scrolled": true
   },
   "outputs": [],
   "source": [
    "ang=linspace(-N/2,N/2,int(2*(N/2)+1))\n",
    "plt.plot(array(ang),(eigenspectrum(time_evol(rho,0.0001),nl[0])),'.')\n",
    "plt.plot(array(ang),(eigenspectrum(rho_0,nl[0])),'.')"
   ]
  },
  {
   "cell_type": "code",
   "execution_count": null,
   "id": "0c0551e3",
   "metadata": {},
   "outputs": [],
   "source": []
  },
  {
   "cell_type": "code",
   "execution_count": null,
   "id": "290bff81",
   "metadata": {},
   "outputs": [],
   "source": [
    "arr2=[[0],[9.32410521e-01],[2.69307118e-01]]\n",
    "Qobj(arr2).norm()"
   ]
  },
  {
   "cell_type": "code",
   "execution_count": null,
   "id": "9edad561",
   "metadata": {},
   "outputs": [],
   "source": []
  },
  {
   "cell_type": "code",
   "execution_count": null,
   "id": "6bd5e7be",
   "metadata": {},
   "outputs": [],
   "source": []
  },
  {
   "cell_type": "code",
   "execution_count": null,
   "id": "70a4030c",
   "metadata": {},
   "outputs": [],
   "source": []
  },
  {
   "cell_type": "code",
   "execution_count": null,
   "id": "fd7d7188",
   "metadata": {},
   "outputs": [],
   "source": []
  },
  {
   "cell_type": "code",
   "execution_count": null,
   "id": "15558e21",
   "metadata": {},
   "outputs": [],
   "source": []
  }
 ],
 "metadata": {
  "kernelspec": {
   "display_name": "Python 3 (ipykernel)",
   "language": "python",
   "name": "python3"
  },
  "language_info": {
   "codemirror_mode": {
    "name": "ipython",
    "version": 3
   },
   "file_extension": ".py",
   "mimetype": "text/x-python",
   "name": "python",
   "nbconvert_exporter": "python",
   "pygments_lexer": "ipython3",
   "version": "3.11.4"
  }
 },
 "nbformat": 4,
 "nbformat_minor": 5
}
