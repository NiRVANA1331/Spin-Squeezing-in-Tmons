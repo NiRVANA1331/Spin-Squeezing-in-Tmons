{
 "cells": [
  {
   "cell_type": "code",
   "execution_count": 1,
   "id": "1739acba",
   "metadata": {},
   "outputs": [],
   "source": [
    "import numpy as np\n",
    "from qutip import *\n",
    "from tqdm.auto import tqdm\n",
    "import matplotlib.pyplot as plt\n",
    "import math\n",
    "from numpy import sqrt,array,isclose,linspace\n",
    "import matplotlib.pyplot as plt\n",
    "from numpy import *"
   ]
  },
  {
   "cell_type": "code",
   "execution_count": 2,
   "id": "1bd3680f",
   "metadata": {},
   "outputs": [],
   "source": [
    "from modules.spin_arch import *\n",
    "from modules.su_algebra import *"
   ]
  },
  {
   "cell_type": "code",
   "execution_count": 3,
   "id": "48555ca1",
   "metadata": {},
   "outputs": [],
   "source": [
    "from IPython.display import Latex"
   ]
  },
  {
   "cell_type": "code",
   "execution_count": 4,
   "id": "2ee0959b",
   "metadata": {},
   "outputs": [],
   "source": [
    "Ntrunc = 3 #global operator for truncation level or total number of dimensions"
   ]
  },
  {
   "cell_type": "code",
   "execution_count": 5,
   "id": "d0c38d91",
   "metadata": {},
   "outputs": [],
   "source": [
    "#initialize system\n",
    "N = 5\n",
    "Nlevel = Ntrunc\n",
    "\n",
    "Ej, Ec, g_arr, omega = generate_tmon_arch(N,Nlevel)\n",
    "sys1 = tmon_system(N, Nlevel, Ec, Ej, g_arr, omega)"
   ]
  },
  {
   "cell_type": "code",
   "execution_count": 6,
   "id": "46a59838",
   "metadata": {},
   "outputs": [],
   "source": [
    "# a=0.40824829\n",
    "# b=0.70710678\n",
    "# c=0.57735027\n",
    "\n",
    "a=1\n",
    "b=sqrt(2)\n",
    "c=1"
   ]
  },
  {
   "cell_type": "code",
   "execution_count": 7,
   "id": "5ebfd142",
   "metadata": {},
   "outputs": [],
   "source": [
    "psi_2 = a*basis(Nlevel,0) + b*sqrt(1)*basis(Nlevel,1) + c*basis(Nlevel,2)\n",
    "psi_2 = psi_2/psi_2.norm()\n",
    "psi_2 = psi_2 * psi_2.dag()\n",
    "psi_2\n",
    "rho=tensor([psi_2]*N) #sys1.tensor_projection_op(0,1,1, dim = None)"
   ]
  },
  {
   "cell_type": "code",
   "execution_count": 8,
   "id": "0ce4fcea",
   "metadata": {},
   "outputs": [],
   "source": [
    "psi_3 = a*basis(Nlevel,0) +b*sqrt(1)*basis(Nlevel,1) + c*basis(Nlevel,2)\n",
    "psi_3 = psi_3/psi_3.norm()\n",
    "psi_3 = psi_3 * psi_3.dag()\n",
    "\n",
    "rho_0=tensor([psi_3]*N)\n",
    "# psi_3"
   ]
  },
  {
   "cell_type": "code",
   "execution_count": 9,
   "id": "70598031",
   "metadata": {},
   "outputs": [],
   "source": [
    "\n",
    "# Spin 1\n",
    "Sx=Qobj(ensemble_op(op_padded(Qobj(np.array([[0,1,0],[1,0,1],[0,1,0]])/np.sqrt(2)),Nlevel), N))\n",
    "Sy=Qobj(ensemble_op(op_padded(Qobj(1j*np.array([[0,-1,0],[1,0,-1],[0,1,0]])/np.sqrt(2)),Nlevel), N))\n",
    "Sz=Qobj(ensemble_op(op_padded(Qobj(np.array([[1,0,0],[0,0,0],[0,0,-1]])),Nlevel), N))\n",
    "\n",
    "\n",
    "Jsq=Sx**2+Sy**2+Sz**2\n",
    "# Jsq=Qobj(array(Jsq))\n",
    "Jp=Sx+1j*Sy\n",
    "# Jp=Qobj(array(Jp))\n",
    "Jm=Sx-1j*Sy\n",
    "# Jm=Qobj(array(Jm))"
   ]
  },
  {
   "cell_type": "code",
   "execution_count": 25,
   "id": "27f0ace7",
   "metadata": {},
   "outputs": [
    {
     "data": {
      "text/plain": [
       "0"
      ]
     },
     "execution_count": 25,
     "metadata": {},
     "output_type": "execute_result"
    }
   ],
   "source": [
    "(Jp*Sz.eigenstates()[1][-1]).norm()"
   ]
  },
  {
   "cell_type": "code",
   "execution_count": 50,
   "id": "99440026",
   "metadata": {},
   "outputs": [
    {
     "data": {
      "text/latex": [
       "Quantum object: dims = [[1], [1]], shape = (1, 1), type = bra $ \\\\ \\left(\\begin{matrix}4.0\\\\\\end{matrix}\\right)$"
      ],
      "text/plain": [
       "Quantum object: dims = [[1], [1]], shape = (1, 1), type = bra\n",
       "Qobj data =\n",
       "[[4.]]"
      ]
     },
     "execution_count": 50,
     "metadata": {},
     "output_type": "execute_result"
    }
   ],
   "source": [
    "lis=[Sz.eigenstates()[1][-2-i] for i in range(5)]\n",
    "\n",
    "# lis[n].dag()*Sz*lis[n]"
   ]
  },
  {
   "cell_type": "code",
   "execution_count": 68,
   "id": "2f7a4313",
   "metadata": {},
   "outputs": [],
   "source": [
    "J_mat=[]\n",
    "for i in range(5):\n",
    "    temp=[]\n",
    "    for j in range(5):\n",
    "        temp.append((lis[i].dag()*Jsq*lis[j])[0][0][0])\n",
    "    J_mat.append(array(temp))"
   ]
  },
  {
   "cell_type": "code",
   "execution_count": 71,
   "id": "864b4532",
   "metadata": {},
   "outputs": [
    {
     "data": {
      "text/plain": [
       "[array([22.+0.j,  2.+0.j,  2.+0.j,  2.+0.j,  2.+0.j]),\n",
       " array([ 2.+0.j, 22.+0.j,  2.+0.j,  2.+0.j,  2.+0.j]),\n",
       " array([ 2.+0.j,  2.+0.j, 22.+0.j,  2.+0.j,  2.+0.j]),\n",
       " array([ 2.+0.j,  2.+0.j,  2.+0.j, 22.+0.j,  2.+0.j]),\n",
       " array([ 2.+0.j,  2.+0.j,  2.+0.j,  2.+0.j, 22.+0.j])]"
      ]
     },
     "execution_count": 71,
     "metadata": {},
     "output_type": "execute_result"
    }
   ],
   "source": [
    "J_mat"
   ]
  },
  {
   "cell_type": "code",
   "execution_count": 75,
   "id": "3c2eda84",
   "metadata": {},
   "outputs": [
    {
     "ename": "TypeError",
     "evalue": "Incompatible Qobj shapes",
     "output_type": "error",
     "traceback": [
      "\u001b[1;31m---------------------------------------------------------------------------\u001b[0m",
      "\u001b[1;31mTypeError\u001b[0m                                 Traceback (most recent call last)",
      "Cell \u001b[1;32mIn[75], line 2\u001b[0m\n\u001b[0;32m      1\u001b[0m n\u001b[38;5;241m=\u001b[39m\u001b[38;5;241m1\u001b[39m\n\u001b[1;32m----> 2\u001b[0m (Qobj(array(J_mat))\u001b[38;5;241m.\u001b[39meigenstates()[\u001b[38;5;241m1\u001b[39m][n]\u001b[38;5;241m.\u001b[39mdag())\u001b[38;5;241m*\u001b[39mSz\u001b[38;5;241m*\u001b[39mQobj(array(J_mat))\u001b[38;5;241m.\u001b[39meigenstates()[\u001b[38;5;241m1\u001b[39m][n]\n",
      "File \u001b[1;32mD:\\foranaconda\\anaconda3\\Lib\\site-packages\\qutip\\qobj.py:555\u001b[0m, in \u001b[0;36mQobj.__mul__\u001b[1;34m(self, other)\u001b[0m\n\u001b[0;32m    552\u001b[0m         \u001b[38;5;28;01mreturn\u001b[39;00m out\u001b[38;5;241m.\u001b[39mtidyup() \u001b[38;5;28;01mif\u001b[39;00m settings\u001b[38;5;241m.\u001b[39mauto_tidyup \u001b[38;5;28;01melse\u001b[39;00m out\n\u001b[0;32m    554\u001b[0m     \u001b[38;5;28;01melse\u001b[39;00m:\n\u001b[1;32m--> 555\u001b[0m         \u001b[38;5;28;01mraise\u001b[39;00m \u001b[38;5;167;01mTypeError\u001b[39;00m(\u001b[38;5;124m\"\u001b[39m\u001b[38;5;124mIncompatible Qobj shapes\u001b[39m\u001b[38;5;124m\"\u001b[39m)\n\u001b[0;32m    557\u001b[0m \u001b[38;5;28;01melif\u001b[39;00m \u001b[38;5;28misinstance\u001b[39m(other, np\u001b[38;5;241m.\u001b[39mndarray):\n\u001b[0;32m    558\u001b[0m     \u001b[38;5;28;01mif\u001b[39;00m other\u001b[38;5;241m.\u001b[39mdtype \u001b[38;5;241m==\u001b[39m \u001b[38;5;124m'\u001b[39m\u001b[38;5;124mobject\u001b[39m\u001b[38;5;124m'\u001b[39m:\n",
      "\u001b[1;31mTypeError\u001b[0m: Incompatible Qobj shapes"
     ]
    }
   ],
   "source": [
    "n=1\n",
    "(Qobj(array(J_mat)).eigenstates()[1][n].dag())*Sz*Qobj(array(J_mat)).eigenstates()[1][n]"
   ]
  },
  {
   "cell_type": "code",
   "execution_count": 42,
   "id": "6a970c14",
   "metadata": {},
   "outputs": [
    {
     "data": {
      "text/latex": [
       "Quantum object: dims = [[1], [1]], shape = (1, 1), type = bra $ \\\\ \\left(\\begin{matrix}0.0\\\\\\end{matrix}\\right)$"
      ],
      "text/plain": [
       "Quantum object: dims = [[1], [1]], shape = (1, 1), type = bra\n",
       "Qobj data =\n",
       "[[0.]]"
      ]
     },
     "execution_count": 42,
     "metadata": {},
     "output_type": "execute_result"
    }
   ],
   "source": [
    "(Sz.eigenstates()[1][-2]).dag()*(Sz.eigenstates()[1][-6])"
   ]
  },
  {
   "cell_type": "code",
   "execution_count": 97,
   "id": "e5dbe7f6",
   "metadata": {},
   "outputs": [],
   "source": [
    "# Phi theta calculation\n",
    "\n",
    "nl=0\n",
    "\n",
    "arr=[0,0,1]\n",
    "# arr=[0,1,0]\n",
    "\n",
    "def rot_basis(arr=arr):\n",
    "\n",
    "    # Finding Eigenstates of Sz\n",
    "    eigenvalues, eigenvectors = Sz.eigenstates()\n",
    "    ebasis=[]\n",
    "    ebasis.append(eigenvectors[-1])\n",
    "\n",
    "    for i in (range(int(N)*(2)+1)):\n",
    "        temp=Jm*ebasis[i]\n",
    "        norm=sqrt((temp.dag()*temp).tr())\n",
    "        if norm==0:\n",
    "            print(\"0\")\n",
    "            break\n",
    "        ebasis.append(temp/norm)\n",
    "\n",
    "    # Finding angle to rotate into\n",
    "    n1=sqrt(arr[0]**2+arr[1]**2)\n",
    "    if n1==0:\n",
    "        phi=0\n",
    "    else:\n",
    "        phi=arccos(arr[0]/n1)+pi/2\n",
    "    theta=pi/2-arccos(n1)\n",
    "\n",
    "    # Rotating in the required basis\n",
    "    tlist=linspace(0,theta+0.0001,100)\n",
    "    H=cos(phi)*Sx+sin(phi)*Sy\n",
    "    n=0\n",
    "    for i in (ebasis):\n",
    "    #     options=Options()\n",
    "    #     options.\n",
    "        res1=mcsolve(H,i,tlist,[],[],ntraj=1, progress_bar=None)\n",
    "        ebasis[n]=res1.states[-1]\n",
    "        n+=1\n",
    "\n",
    "    return ebasis"
   ]
  },
  {
   "cell_type": "code",
   "execution_count": 98,
   "id": "0872c621",
   "metadata": {},
   "outputs": [
    {
     "name": "stdout",
     "output_type": "stream",
     "text": [
      "0\n",
      "No c_ops, using sesolve\n",
      "No c_ops, using sesolve\n",
      "No c_ops, using sesolve\n",
      "No c_ops, using sesolve\n",
      "No c_ops, using sesolve\n",
      "No c_ops, using sesolve\n",
      "No c_ops, using sesolve\n",
      "No c_ops, using sesolve\n",
      "No c_ops, using sesolve\n",
      "No c_ops, using sesolve\n",
      "No c_ops, using sesolve\n",
      "0\n",
      "No c_ops, using sesolve\n",
      "No c_ops, using sesolve\n",
      "No c_ops, using sesolve\n",
      "No c_ops, using sesolve\n",
      "No c_ops, using sesolve\n",
      "No c_ops, using sesolve\n",
      "No c_ops, using sesolve\n",
      "No c_ops, using sesolve\n",
      "No c_ops, using sesolve\n",
      "No c_ops, using sesolve\n",
      "No c_ops, using sesolve\n"
     ]
    }
   ],
   "source": [
    "array_rot_basis=array([1,0,0])\n",
    "nly=rot_basis(array_rot_basis/linalg.norm(array_rot_basis))\n",
    "nlz=rot_basis([0,0,1])"
   ]
  }
 ],
 "metadata": {
  "kernelspec": {
   "display_name": "Python 3 (ipykernel)",
   "language": "python",
   "name": "python3"
  },
  "language_info": {
   "codemirror_mode": {
    "name": "ipython",
    "version": 3
   },
   "file_extension": ".py",
   "mimetype": "text/x-python",
   "name": "python",
   "nbconvert_exporter": "python",
   "pygments_lexer": "ipython3",
   "version": "3.11.4"
  }
 },
 "nbformat": 4,
 "nbformat_minor": 5
}
