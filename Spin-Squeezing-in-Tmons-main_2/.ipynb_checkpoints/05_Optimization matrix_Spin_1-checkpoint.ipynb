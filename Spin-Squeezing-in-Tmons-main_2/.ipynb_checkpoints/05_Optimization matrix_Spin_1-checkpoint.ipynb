{
 "cells": [
  {
   "cell_type": "code",
   "execution_count": 1,
   "id": "08b42426",
   "metadata": {},
   "outputs": [],
   "source": [
    "import numpy as np\n",
    "from qutip import *\n",
    "from tqdm.auto import tqdm\n",
    "import matplotlib.pyplot as plt\n",
    "import math\n",
    "from numpy import *"
   ]
  },
  {
   "cell_type": "code",
   "execution_count": 2,
   "id": "c279a703",
   "metadata": {},
   "outputs": [],
   "source": [
    "from modules.spin_arch import *\n",
    "from modules.su_algebra import *"
   ]
  },
  {
   "cell_type": "code",
   "execution_count": 3,
   "id": "636cd0d6",
   "metadata": {},
   "outputs": [],
   "source": [
    "from IPython.display import Latex"
   ]
  },
  {
   "cell_type": "code",
   "execution_count": 4,
   "id": "e7444d9c",
   "metadata": {},
   "outputs": [],
   "source": [
    "Ntrunc = 2 #global operator for truncation level or total number of dimensions"
   ]
  },
  {
   "cell_type": "markdown",
   "id": "dd351e97",
   "metadata": {},
   "source": [
    "### Hamiltonian: \n",
    "$$\n",
    "H' = \\sum_{n,i} \\left(\\frac{(g^n_{i-1})^2 \\mathcal H(i)}{v^n_{i-1} - \\omega} + v^n_i - \\Delta_i \\right) \\sigma^n_{i,i} +  \\frac{1}{2} \\sum_{n \\neq m,i}\\frac{g^n_{i}g^m_{i}}{\\omega - v^m_{i}} ( \\sigma^n_{i,i+1}\\sigma^m_{i+1,i} + \\sigma^n_{i+1,i}\\sigma^m_{i,i+1} )\n",
    "$$\n",
    "\n",
    "where $\\mathcal H(i) = 1$ for $i>0$, otherwise 0."
   ]
  },
  {
   "cell_type": "markdown",
   "id": "4d91c6f6",
   "metadata": {},
   "source": [
    "### Parameters:\n",
    "$$v^n_{i-1} = (\\sqrt{8 E^n_c E^n_j})i - 0.5*E^n_c i (i+1) $$\n",
    "with default values set as $v \\approx 60 * 100Mhz$, $g = 100Mhz$, $\\omega = 55*100MHz$ "
   ]
  },
  {
   "cell_type": "code",
   "execution_count": 5,
   "id": "8b4eb45d",
   "metadata": {},
   "outputs": [],
   "source": [
    "#initialize system\n",
    "N = 8\n",
    "Nlevel = Ntrunc\n",
    "\n",
    "Ej, Ec, g_arr, omega = generate_tmon_arch(N,Nlevel)\n",
    "sys1 = tmon_system(N, Nlevel, Ec, Ej, g_arr, omega)"
   ]
  },
  {
   "cell_type": "code",
   "execution_count": 6,
   "id": "b6f8bcd1",
   "metadata": {},
   "outputs": [],
   "source": [
    "H = sys1.H_I()"
   ]
  },
  {
   "cell_type": "code",
   "execution_count": 7,
   "id": "c03ca25e",
   "metadata": {},
   "outputs": [
    {
     "data": {
      "text/plain": [
       "[[0.0], [0.0], [0.0], [0.0], [0.0], [0.0], [0.0], [0.0]]"
      ]
     },
     "execution_count": 7,
     "metadata": {},
     "output_type": "execute_result"
    }
   ],
   "source": [
    "sys1.freq_list()"
   ]
  },
  {
   "cell_type": "code",
   "execution_count": 8,
   "id": "626d4bfc",
   "metadata": {},
   "outputs": [
    {
     "data": {
      "text/plain": [
       "array([[0.],\n",
       "       [0.],\n",
       "       [0.],\n",
       "       [0.],\n",
       "       [0.],\n",
       "       [0.],\n",
       "       [0.],\n",
       "       [0.]])"
      ]
     },
     "execution_count": 8,
     "metadata": {},
     "output_type": "execute_result"
    }
   ],
   "source": [
    "sys1.self_energy"
   ]
  },
  {
   "cell_type": "markdown",
   "id": "6f10176b",
   "metadata": {},
   "source": [
    "### Hamiltonian Evolution: $$e^{-iHt} \\rho_0 e^{iHt}$$"
   ]
  },
  {
   "cell_type": "code",
   "execution_count": 9,
   "id": "cbaeb640",
   "metadata": {},
   "outputs": [
    {
     "data": {
      "text/latex": [
       "Quantum object: dims = [[2], [2]], shape = (2, 2), type = oper, isherm = True $ \\\\ \\left(\\begin{matrix}0.500 & 0.500\\\\0.500 & 0.500\\\\\\end{matrix}\\right)$"
      ],
      "text/plain": [
       "Quantum object: dims = [[2], [2]], shape = (2, 2), type = oper, isherm = True\n",
       "Qobj data =\n",
       "[[0.5 0.5]\n",
       " [0.5 0.5]]"
      ]
     },
     "execution_count": 9,
     "metadata": {},
     "output_type": "execute_result"
    }
   ],
   "source": [
    "psi_2 = (basis(Nlevel,0) + sqrt(1)*basis(Nlevel,1))# + basis(Nlevel,2)\n",
    "psi_2 = psi_2/psi_2.norm()\n",
    "psi_2 = psi_2 * psi_2.dag()\n",
    "psi_2"
   ]
  },
  {
   "cell_type": "markdown",
   "id": "cddb91e1",
   "metadata": {},
   "source": [
    "### For pure states: $$F_{\\psi} = 4 \\Delta J^2_n = nCn^T \\quad \\quad C_{\\alpha,\\beta} = Cov<J_\\alpha, J_\\beta> = \\frac{1}{2}[<J_\\alpha J_\\beta>+ <J_\\beta J_\\alpha>] - <J_\\alpha><J_\\beta>$$ where: $$<O> = Tr(\\rho O) $$"
   ]
  },
  {
   "cell_type": "code",
   "execution_count": null,
   "id": "44608d97",
   "metadata": {},
   "outputs": [],
   "source": []
  },
  {
   "cell_type": "code",
   "execution_count": 10,
   "id": "e456bd58",
   "metadata": {},
   "outputs": [],
   "source": [
    "# class hberg_evol:\n",
    "#     def __init__(self,S,H):\n",
    "#         self.S = S #value of n goes from 0 to N-1\n",
    "#         self.H = H #cut off dimension/truncation\n",
    "#         #This is different from d which is the level that comes into hamiltonian.\n",
    "#         #d refers to the highest excitation present in the initialised state\n",
    "#         #d  by default is set to (Nlevel-2) as (d+1) at max can be (Nlevel-1)\n",
    "#         self.d = Nlevel-2\n",
    "#         self.E_c= E_c\n",
    "#         self.E_j = E_j\n",
    "#         self.g_arr = g_arr #g^n_i = g_arr[n][i]\n",
    "#         self.omega = omega #freq of photonic mode\n",
    "#         self.v_arr = self.freq_list() #v[n][i] = v^n_i\n",
    "#         self.self_energy = np.zeros((self.N,self.d + 1))\n",
    "    \n",
    "#     def freq_list(self):\n",
    "#         #calculate v^n_i\n",
    "#         #for |i><i|_n, coefficient is  \\sqrt(8E^n_j*E^n_c)*i - E^n_c/2*i(i+1)\n",
    "#         arr = []\n",
    "#         for n in range(self.N):\n",
    "#             temp_arr = []\n",
    "#             for i in range(self.d+1):\n",
    "#                 v_ni = np.sqrt(8*self.E_c[n]*self.E_j[n])*i - 0.5*self.E_c[n]*i*(i+1)\n",
    "#                 temp_arr.append(v_ni)\n",
    "#             arr.append(temp_arr) \n",
    "#         return arr"
   ]
  },
  {
   "cell_type": "code",
   "execution_count": 11,
   "id": "06807fb8",
   "metadata": {},
   "outputs": [],
   "source": [
    "# Spin 1\n",
    "# Sx=Qobj(ensemble_op(op_padded2(Qobj(np.array([[0,sqrt(2),0],[sqrt(2),0,sqrt(2)],[0,sqrt(2),0]])/2),Nlevel), N))\n",
    "# Sy=Qobj(ensemble_op(op_padded2(Qobj(1j*np.array([[0,-sqrt(2),0],[sqrt(2),0,-sqrt(2)],[0,sqrt(2),0]])/2),Nlevel), N))\n",
    "# Sz=Qobj(ensemble_op(op_padded2(Qobj(np.array([[1,0,0],[0,0,0],[0,0,-1]])),Nlevel), N))"
   ]
  },
  {
   "cell_type": "code",
   "execution_count": 12,
   "id": "bb66e10f",
   "metadata": {},
   "outputs": [],
   "source": [
    "# Spin 1/2\n",
    "Sx=Qobj(ensemble_op(op_padded2(Qobj(np.array([[0,1],[1,0]])/2),Nlevel), N))\n",
    "Sy=Qobj(ensemble_op(op_padded2(Qobj(1j*np.array([[0,-1],[1,0]])/2),Nlevel), N))\n",
    "Sz=Qobj(ensemble_op(op_padded2(Qobj(np.array([[1,0],[0,-1]])/2),Nlevel), N))"
   ]
  },
  {
   "cell_type": "code",
   "execution_count": 13,
   "id": "464683f3",
   "metadata": {},
   "outputs": [],
   "source": [
    "def hevol(t,S):\n",
    "    tlis1=linspace(0,t,int(t/2)+10)\n",
    "    options = Options()\n",
    "#     print(options.ntraj)\n",
    "    options.ntraj=1\n",
    "    return mesolve(H,S,tlis1,[],[], options = options).states[-1]"
   ]
  },
  {
   "cell_type": "code",
   "execution_count": 14,
   "id": "d0790659",
   "metadata": {},
   "outputs": [],
   "source": [
    "eps=7.77\n",
    "rho=tensor([psi_2]*N)\n",
    "def opt_mat(t1=86.485,t2=86.285-eps,S=[Sx,Sy,Sz,Sx**2,Sy**2,Sz**2,(Sx*Sy+Sy*Sx)/2,(Sx*Sz+Sz*Sx)/2,(Sz*Sy+Sy*Sz)/2],l=9):\n",
    "    Q=zeros([l,l],dtype=complex)\n",
    "    M=zeros([l,l],dtype=complex)\n",
    "    A1=[]\n",
    "    B1=[]\n",
    "    for i in tqdm(range(l)):\n",
    "        A1.append(hevol(t1,S[i]))\n",
    "        B1.append(hevol(t1+t2,S[i]))\n",
    "    for i in tqdm(range(l)):\n",
    "        for j in tqdm(range(l)):\n",
    "            A=Qobj(A1[i])\n",
    "            B=B1[j].copy()\n",
    "            C=B1[i].copy()\n",
    "            M[i][j] = 1j*expect(rho,(A*B-B*A))\n",
    "            Q[i][j] = real((1/2)*expect(rho,(C*B+B*C))-expect(rho,(C))*expect(rho,(B)))\n",
    "    return Q,M"
   ]
  },
  {
   "cell_type": "code",
   "execution_count": 15,
   "id": "02d10a57",
   "metadata": {},
   "outputs": [
    {
     "data": {
      "text/plain": [
       "172.76999999999998"
      ]
     },
     "execution_count": 15,
     "metadata": {},
     "output_type": "execute_result"
    }
   ],
   "source": [
    "86.485+86.285"
   ]
  },
  {
   "cell_type": "code",
   "execution_count": 16,
   "id": "628bb42d",
   "metadata": {},
   "outputs": [
    {
     "data": {
      "application/vnd.jupyter.widget-view+json": {
       "model_id": "da936c40d8854e5faca48cb7b5bcee09",
       "version_major": 2,
       "version_minor": 0
      },
      "text/plain": [
       "  0%|          | 0/9 [00:00<?, ?it/s]"
      ]
     },
     "metadata": {},
     "output_type": "display_data"
    },
    {
     "data": {
      "application/vnd.jupyter.widget-view+json": {
       "model_id": "d26d943c671d4e1d9b5281c9eb7b2c12",
       "version_major": 2,
       "version_minor": 0
      },
      "text/plain": [
       "  0%|          | 0/9 [00:00<?, ?it/s]"
      ]
     },
     "metadata": {},
     "output_type": "display_data"
    },
    {
     "data": {
      "application/vnd.jupyter.widget-view+json": {
       "model_id": "da29686de31746beb3e12412068032cb",
       "version_major": 2,
       "version_minor": 0
      },
      "text/plain": [
       "  0%|          | 0/9 [00:00<?, ?it/s]"
      ]
     },
     "metadata": {},
     "output_type": "display_data"
    },
    {
     "data": {
      "application/vnd.jupyter.widget-view+json": {
       "model_id": "f902db2aec204d3f8f64607b14b184fe",
       "version_major": 2,
       "version_minor": 0
      },
      "text/plain": [
       "  0%|          | 0/9 [00:00<?, ?it/s]"
      ]
     },
     "metadata": {},
     "output_type": "display_data"
    },
    {
     "data": {
      "application/vnd.jupyter.widget-view+json": {
       "model_id": "41cff51cbe044e078fe2bf03b96fe478",
       "version_major": 2,
       "version_minor": 0
      },
      "text/plain": [
       "  0%|          | 0/9 [00:00<?, ?it/s]"
      ]
     },
     "metadata": {},
     "output_type": "display_data"
    },
    {
     "data": {
      "application/vnd.jupyter.widget-view+json": {
       "model_id": "6a9c57c6a8234ae386f100fbf7233157",
       "version_major": 2,
       "version_minor": 0
      },
      "text/plain": [
       "  0%|          | 0/9 [00:00<?, ?it/s]"
      ]
     },
     "metadata": {},
     "output_type": "display_data"
    },
    {
     "data": {
      "application/vnd.jupyter.widget-view+json": {
       "model_id": "7aa234a51797439faf55fb6f0dc170b1",
       "version_major": 2,
       "version_minor": 0
      },
      "text/plain": [
       "  0%|          | 0/9 [00:00<?, ?it/s]"
      ]
     },
     "metadata": {},
     "output_type": "display_data"
    },
    {
     "data": {
      "application/vnd.jupyter.widget-view+json": {
       "model_id": "f29ab41117f24254a85bcf9902ad48fb",
       "version_major": 2,
       "version_minor": 0
      },
      "text/plain": [
       "  0%|          | 0/9 [00:00<?, ?it/s]"
      ]
     },
     "metadata": {},
     "output_type": "display_data"
    },
    {
     "data": {
      "application/vnd.jupyter.widget-view+json": {
       "model_id": "624ac326e4a24c8f9215368639bc78ff",
       "version_major": 2,
       "version_minor": 0
      },
      "text/plain": [
       "  0%|          | 0/9 [00:00<?, ?it/s]"
      ]
     },
     "metadata": {},
     "output_type": "display_data"
    },
    {
     "data": {
      "application/vnd.jupyter.widget-view+json": {
       "model_id": "43f5b0ccf39647fdaded730d35457624",
       "version_major": 2,
       "version_minor": 0
      },
      "text/plain": [
       "  0%|          | 0/9 [00:00<?, ?it/s]"
      ]
     },
     "metadata": {},
     "output_type": "display_data"
    },
    {
     "data": {
      "application/vnd.jupyter.widget-view+json": {
       "model_id": "cbcf619a08d349bfa87458c9921fd58d",
       "version_major": 2,
       "version_minor": 0
      },
      "text/plain": [
       "  0%|          | 0/9 [00:00<?, ?it/s]"
      ]
     },
     "metadata": {},
     "output_type": "display_data"
    }
   ],
   "source": [
    "Q,M=opt_mat()"
   ]
  },
  {
   "cell_type": "code",
   "execution_count": 17,
   "id": "09d2b62f",
   "metadata": {},
   "outputs": [],
   "source": [
    "M1=M.copy()\n",
    "Q1=Q.copy()"
   ]
  },
  {
   "cell_type": "code",
   "execution_count": null,
   "id": "bb6c3c6f",
   "metadata": {},
   "outputs": [],
   "source": []
  },
  {
   "cell_type": "code",
   "execution_count": 18,
   "id": "690e5650",
   "metadata": {
    "scrolled": true
   },
   "outputs": [],
   "source": [
    "# Q1[0][0]=20\n",
    "# Q"
   ]
  },
  {
   "cell_type": "code",
   "execution_count": 19,
   "id": "45adf435",
   "metadata": {},
   "outputs": [
    {
     "data": {
      "text/latex": [
       "Quantum object: dims = [[9], [9]], shape = (9, 9), type = oper, isherm = True $ \\\\ \\left(\\begin{matrix}0.587 & 8.621\\times10^{-14} & -2.068\\times10^{-14} & -3.051 & 2.255 & 0.795 & -4.244\\times10^{-14} & -2.364\\times10^{-14} & 2.145\\\\8.621\\times10^{-14} & 3.515 & 1.860 & 1.565\\times10^{-14} & 2.197\\times10^{-14} & -4.040\\times10^{-14} & -9.916 & -4.789 & 2.002\\times10^{-15}\\\\-2.068\\times10^{-14} & 1.860 & 2.000 & -1.303\\times10^{-14} & 1.097\\times10^{-14} & 4.163\\times10^{-17} & -4.789 & -5.729 & 7.621\\times10^{-15}\\\\-3.051 & 1.565\\times10^{-14} & -1.303\\times10^{-14} & 16.683 & -12.443 & -4.240 & -1.608\\times10^{-13} & 7.788\\times10^{-14} & -11.277\\\\2.255 & 2.197\\times10^{-14} & 1.097\\times10^{-14} & -12.443 & 15.202 & -2.760 & 5.179\\times10^{-14} & 2.372\\times10^{-14} & 5.981\\\\0.795 & -4.040\\times10^{-14} & 4.163\\times10^{-17} & -4.240 & -2.760 & 7.000 & 2.590\\times10^{-14} & 1.417\\times10^{-14} & 5.296\\\\-4.244\\times10^{-14} & -9.916 & -4.789 & -1.608\\times10^{-13} & 5.179\\times10^{-14} & 2.590\\times10^{-14} & 30.969 & 13.338 & -7.917\\times10^{-15}\\\\-2.364\\times10^{-14} & -4.789 & -5.729 & 7.788\\times10^{-14} & 2.372\\times10^{-14} & 1.417\\times10^{-14} & 13.338 & 19.123 & 8.384\\times10^{-15}\\\\2.145 & 2.002\\times10^{-15} & 7.621\\times10^{-15} & -11.277 & 5.981 & 5.296 & -7.917\\times10^{-15} & 8.384\\times10^{-15} & 8.917\\\\\\end{matrix}\\right)$"
      ],
      "text/plain": [
       "Quantum object: dims = [[9], [9]], shape = (9, 9), type = oper, isherm = True\n",
       "Qobj data =\n",
       "[[ 5.86613930e-01  8.62127542e-14 -2.06780107e-14 -3.05069529e+00\n",
       "   2.25545780e+00  7.95237485e-01 -4.24358317e-14 -2.36422136e-14\n",
       "   2.14532676e+00]\n",
       " [ 8.62127542e-14  3.51474332e+00  1.85991426e+00  1.56531802e-14\n",
       "   2.19729720e-14 -4.03965056e-14 -9.91572887e+00 -4.78858161e+00\n",
       "   2.00235698e-15]\n",
       " [-2.06780107e-14  1.85991426e+00  2.00000000e+00 -1.30282847e-14\n",
       "   1.09743721e-14  4.16333634e-17 -4.78857795e+00 -5.72890294e+00\n",
       "   7.62098407e-15]\n",
       " [-3.05069529e+00  1.56531802e-14 -1.30282847e-14  1.66829989e+01\n",
       "  -1.24426209e+01 -4.24037808e+00 -1.60779724e-13  7.78800187e-14\n",
       "  -1.12773671e+01]\n",
       " [ 2.25545780e+00  2.19729720e-14  1.09743721e-14 -1.24426209e+01\n",
       "   1.52022428e+01 -2.75962192e+00  5.17879151e-14  2.37157964e-14\n",
       "   5.98139596e+00]\n",
       " [ 7.95237485e-01 -4.03965056e-14  4.16333634e-17 -4.24037808e+00\n",
       "  -2.75962192e+00  7.00000000e+00  2.59037583e-14  1.41709561e-14\n",
       "   5.29597116e+00]\n",
       " [-4.24358317e-14 -9.91572887e+00 -4.78857795e+00 -1.60779724e-13\n",
       "   5.17879151e-14  2.59037583e-14  3.09686378e+01  1.33384760e+01\n",
       "  -7.91744461e-15]\n",
       " [-2.36422136e-14 -4.78858161e+00 -5.72890294e+00  7.78800187e-14\n",
       "   2.37157964e-14  1.41709561e-14  1.33384760e+01  1.91231069e+01\n",
       "   8.38437633e-15]\n",
       " [ 2.14532676e+00  2.00235698e-15  7.62098407e-15 -1.12773671e+01\n",
       "   5.98139596e+00  5.29597116e+00 -7.91744461e-15  8.38437633e-15\n",
       "   8.91723987e+00]]"
      ]
     },
     "execution_count": 19,
     "metadata": {},
     "output_type": "execute_result"
    }
   ],
   "source": [
    "Qobj(Q)"
   ]
  },
  {
   "cell_type": "code",
   "execution_count": 20,
   "id": "6fa708db",
   "metadata": {},
   "outputs": [
    {
     "data": {
      "text/plain": [
       "array([-8.44577726e+11,  1.09594286e+02,  1.06631875e+01,  4.76792517e+00,\n",
       "        2.33544548e+00,  9.00675306e-02,  7.88647642e-02,  2.81767113e-02,\n",
       "        2.27367067e-02])"
      ]
     },
     "execution_count": 20,
     "metadata": {},
     "output_type": "execute_result"
    }
   ],
   "source": [
    "(Qobj(Q).eigenstates()[0])**-1"
   ]
  },
  {
   "cell_type": "code",
   "execution_count": 21,
   "id": "58f8b578",
   "metadata": {},
   "outputs": [],
   "source": [
    "\n",
    "\n",
    "for i in range(len(M1)):\n",
    "    for j in range(len(M1[0])):\n",
    "        if abs(M1[i][j])<1e-3:\n",
    "            M1[i][j]=0\n",
    "        if abs(Q1[i][j])<1e-3 and i!=j:\n",
    "            Q1[i][j]=0"
   ]
  },
  {
   "cell_type": "code",
   "execution_count": 22,
   "id": "3b1fcfae",
   "metadata": {},
   "outputs": [
    {
     "data": {
      "text/latex": [
       "Quantum object: dims = [[9], [9]], shape = (9, 9), type = oper, isherm = False $ \\\\ \\left(\\begin{matrix}9.139\\times10^{-04} & 0.0 & 0.0 & -1.475\\times10^{-05} & (4.161\\times10^{-04}+2.081\\times10^{-12}j) & (-4.014\\times10^{-04}-1.970\\times10^{-12}j) & -3.055\\times10^{-11} & 0.0 & -0.003\\\\0.0 & 1.787\\times10^{-05} & (-0.001+9.204\\times10^{-12}j) & 0.0 & (1.644\\times10^{-12}+2.557\\times10^{-12}j) & (-1.654\\times10^{-12}-2.555\\times10^{-12}j) & (-1.448\\times10^{-04}+2.422\\times10^{-12}j) & 5.268\\times10^{-04} & 0.0\\\\0.0 & -0.001 & (8.000+7.810\\times10^{-12}j) & 0.0 & (3.182\\times10^{-12}-5.547\\times10^{-12}j) & (-2.624\\times10^{-12}+5.873\\times10^{-12}j) & (0.279+5.895\\times10^{-12}j) & -0.008 & 1.177\\times10^{-12}j\\\\-1.437\\times10^{-05} & 0.0 & 0.0 & 0.011 & -0.008 & -0.003 & 0.0 & 0.0 & -4.708\\times10^{-05}\\\\(3.842\\times10^{-04}+2.079\\times10^{-12}j) & (1.642\\times10^{-12}+2.554\\times10^{-12}j) & (3.179\\times10^{-12}-5.876\\times10^{-12}j) & -0.008 & (28.015+5.498\\times10^{-12}j) & (-28.006+5.268\\times10^{-12}j) & 1.284\\times10^{-12}j & 0.0 & -0.037\\\\(-3.436\\times10^{-04}-1.968\\times10^{-12}j) & (-1.652\\times10^{-12}-2.552\\times10^{-12}j) & (-2.622\\times10^{-12}+5.878\\times10^{-12}j) & -0.003 & (-28.025+1.046\\times10^{-11}j) & (28.028-2.132\\times10^{-11}j) & -1.287\\times10^{-12}j & 0.0 & (0.037-2.606\\times10^{-12}j)\\\\(-2.600\\times10^{-12}-1.480\\times10^{-12}j) & -1.448\\times10^{-04} & 0.279 & 0.0 & 1.019\\times10^{-12}j & -1.289\\times10^{-12}j & 98.005 & -0.002 & 0.0\\\\0.0 & 5.268\\times10^{-04} & -0.008 & 0.0 & 0.0 & 0.0 & -0.002 & 0.028 & 0.0\\\\-0.003 & 0.0 & (-4.197\\times10^{-12}+1.189\\times10^{-12}j) & -4.362\\times10^{-05} & -0.038 & (0.038-2.607\\times10^{-12}j) & 0.0 & 0.0 & 0.048\\\\\\end{matrix}\\right)$"
      ],
      "text/plain": [
       "Quantum object: dims = [[9], [9]], shape = (9, 9), type = oper, isherm = False\n",
       "Qobj data =\n",
       "[[ 9.13945112e-04+0.00000000e+00j  0.00000000e+00+0.00000000e+00j\n",
       "   0.00000000e+00+0.00000000e+00j -1.47461044e-05+0.00000000e+00j\n",
       "   4.16109350e-04+2.08124378e-12j -4.01363245e-04-1.96964215e-12j\n",
       "  -3.05511211e-11+0.00000000e+00j  0.00000000e+00+0.00000000e+00j\n",
       "  -2.59370754e-03+0.00000000e+00j]\n",
       " [ 0.00000000e+00+0.00000000e+00j  1.78690873e-05+0.00000000e+00j\n",
       "  -1.10211804e-03+9.20390597e-12j  0.00000000e+00+0.00000000e+00j\n",
       "   1.64383209e-12+2.55667671e-12j -1.65384645e-12-2.55454963e-12j\n",
       "  -1.44787378e-04+2.42170086e-12j  5.26759696e-04+0.00000000e+00j\n",
       "   0.00000000e+00+0.00000000e+00j]\n",
       " [ 0.00000000e+00+0.00000000e+00j -1.10211804e-03+0.00000000e+00j\n",
       "   7.99959585e+00+7.81043520e-12j  0.00000000e+00+0.00000000e+00j\n",
       "   3.18196206e-12-5.54703620e-12j -2.62441865e-12+5.87299639e-12j\n",
       "   2.79401855e-01+5.89481974e-12j -8.19376735e-03+0.00000000e+00j\n",
       "   0.00000000e+00+1.17741672e-12j]\n",
       " [-1.43666503e-05+0.00000000e+00j  0.00000000e+00+0.00000000e+00j\n",
       "   0.00000000e+00+0.00000000e+00j  1.11559287e-02+0.00000000e+00j\n",
       "  -8.48239673e-03+0.00000000e+00j -2.67353196e-03+0.00000000e+00j\n",
       "   0.00000000e+00+0.00000000e+00j  0.00000000e+00+0.00000000e+00j\n",
       "  -4.70760424e-05+0.00000000e+00j]\n",
       " [ 3.84166686e-04+2.07881478e-12j  1.64185503e-12+2.55445832e-12j\n",
       "   3.17936054e-12-5.87615112e-12j -8.47427781e-03+0.00000000e+00j\n",
       "   2.80146688e+01+5.49822315e-12j -2.80061945e+01+5.26840452e-12j\n",
       "   0.00000000e+00+1.28370604e-12j  0.00000000e+00+0.00000000e+00j\n",
       "  -3.74361937e-02+0.00000000e+00j]\n",
       " [-3.43612407e-04-1.96752857e-12j -1.65178048e-12-2.55222955e-12j\n",
       "  -2.62208867e-12+5.87765388e-12j -2.62729639e-03+0.00000000e+00j\n",
       "  -2.80249461e+01+1.04566645e-11j  2.80275734e+01-2.13190512e-11j\n",
       "   0.00000000e+00-1.28668195e-12j  0.00000000e+00+0.00000000e+00j\n",
       "   3.73432958e-02-2.60611202e-12j]\n",
       " [-2.60034351e-12-1.48019947e-12j -1.44787378e-04+0.00000000e+00j\n",
       "   2.79401855e-01+0.00000000e+00j  0.00000000e+00+0.00000000e+00j\n",
       "   0.00000000e+00+1.01915120e-12j  0.00000000e+00-1.28936308e-12j\n",
       "   9.80045579e+01+0.00000000e+00j -2.45828961e-03+0.00000000e+00j\n",
       "   0.00000000e+00+0.00000000e+00j]\n",
       " [ 0.00000000e+00+0.00000000e+00j  5.26759696e-04+0.00000000e+00j\n",
       "  -8.19376735e-03+0.00000000e+00j  0.00000000e+00+0.00000000e+00j\n",
       "   0.00000000e+00+0.00000000e+00j  0.00000000e+00+0.00000000e+00j\n",
       "  -2.45828961e-03+0.00000000e+00j  2.76697049e-02+0.00000000e+00j\n",
       "   0.00000000e+00+0.00000000e+00j]\n",
       " [-2.59371711e-03+0.00000000e+00j  0.00000000e+00+0.00000000e+00j\n",
       "  -4.19684106e-12+1.18858739e-12j -4.36238302e-05+0.00000000e+00j\n",
       "  -3.76016508e-02+0.00000000e+00j  3.76452746e-02-2.60666384e-12j\n",
       "   0.00000000e+00+0.00000000e+00j  0.00000000e+00+0.00000000e+00j\n",
       "   4.80431732e-02+0.00000000e+00j]]"
      ]
     },
     "execution_count": 22,
     "metadata": {},
     "output_type": "execute_result"
    }
   ],
   "source": [
    "Qobj(M)*Qobj((linalg.inv(Q)))*Qobj(M.transpose())#[0][0]\n",
    "#.eigenstates()[0]\n",
    "# Q1[8][7]"
   ]
  },
  {
   "cell_type": "code",
   "execution_count": 23,
   "id": "41987fbb",
   "metadata": {},
   "outputs": [],
   "source": [
    "Q2=(linalg.inv(Q1))"
   ]
  },
  {
   "cell_type": "code",
   "execution_count": 24,
   "id": "78bbd852",
   "metadata": {},
   "outputs": [
    {
     "data": {
      "text/latex": [
       "Quantum object: dims = [[9], [9]], shape = (9, 9), type = oper, isherm = False $ \\\\ \\left(\\begin{matrix}102.304 & 0.0 & 0.0 & -9.098 & -12.967 & -2.723 & 0.0 & 0.0 & -25.807\\\\0.0 & 5.382 & -3.904 & 0.0 & 0.0 & 0.0 & 1.491 & -0.862 & 0.0\\\\0.0 & -3.904 & 6.757 & 0.0 & 0.0 & 0.0 & -0.938 & 1.701 & 0.0\\\\-9.117 & 0.0 & 0.0 & -2.806\\times10^{+11} & -2.806\\times10^{+11} & -2.806\\times10^{+11} & 0.0 & 0.0 & 2.973\\\\-12.984 & 0.0 & 0.0 & -2.806\\times10^{+11} & -2.806\\times10^{+11} & -2.806\\times10^{+11} & 0.0 & 0.0 & 2.025\\\\-2.740 & 0.0 & 0.0 & -2.806\\times10^{+11} & -2.806\\times10^{+11} & -2.806\\times10^{+11} & 0.0 & 0.0 & -1.940\\\\0.0 & 1.491 & -0.938 & 0.0 & 0.0 & 0.0 & 0.464 & -0.231 & 0.0\\\\0.0 & -0.862 & 1.701 & 0.0 & 0.0 & 0.0 & -0.231 & 0.508 & 0.0\\\\-25.807 & 0.0 & 0.0 & 2.968 & 2.020 & -1.944 & 0.0 & 0.0 & 9.874\\\\\\end{matrix}\\right)$"
      ],
      "text/plain": [
       "Quantum object: dims = [[9], [9]], shape = (9, 9), type = oper, isherm = False\n",
       "Qobj data =\n",
       "[[ 1.02304275e+02  0.00000000e+00  0.00000000e+00 -9.09829308e+00\n",
       "  -1.29667115e+01 -2.72252857e+00  0.00000000e+00  0.00000000e+00\n",
       "  -2.58067897e+01]\n",
       " [ 0.00000000e+00  5.38217749e+00 -3.90397728e+00  0.00000000e+00\n",
       "   0.00000000e+00  0.00000000e+00  1.49074579e+00 -8.61616675e-01\n",
       "   0.00000000e+00]\n",
       " [ 0.00000000e+00 -3.90397728e+00  6.75740747e+00  0.00000000e+00\n",
       "   0.00000000e+00  0.00000000e+00 -9.37692725e-01  1.70084337e+00\n",
       "   0.00000000e+00]\n",
       " [-9.11742374e+00  0.00000000e+00  0.00000000e+00 -2.80563146e+11\n",
       "  -2.80563146e+11 -2.80563146e+11  0.00000000e+00  0.00000000e+00\n",
       "   2.97264868e+00]\n",
       " [-1.29840732e+01  0.00000000e+00  0.00000000e+00 -2.80563146e+11\n",
       "  -2.80563146e+11 -2.80563146e+11  0.00000000e+00  0.00000000e+00\n",
       "   2.02472447e+00]\n",
       " [-2.73951966e+00  0.00000000e+00  0.00000000e+00 -2.80563146e+11\n",
       "  -2.80563146e+11 -2.80563146e+11  0.00000000e+00  0.00000000e+00\n",
       "  -1.93964865e+00]\n",
       " [ 0.00000000e+00  1.49074579e+00 -9.37692725e-01  0.00000000e+00\n",
       "   0.00000000e+00  0.00000000e+00  4.64316152e-01 -2.31482395e-01\n",
       "   0.00000000e+00]\n",
       " [ 0.00000000e+00 -8.61616675e-01  1.70084337e+00  0.00000000e+00\n",
       "   0.00000000e+00  0.00000000e+00 -2.31482395e-01  5.07536106e-01\n",
       "   0.00000000e+00]\n",
       " [-2.58067897e+01  0.00000000e+00  0.00000000e+00  2.96799841e+00\n",
       "   2.02007421e+00 -1.94429891e+00  0.00000000e+00  0.00000000e+00\n",
       "   9.87405214e+00]]"
      ]
     },
     "execution_count": 24,
     "metadata": {},
     "output_type": "execute_result"
    }
   ],
   "source": [
    "Qobj(Q2)"
   ]
  },
  {
   "cell_type": "code",
   "execution_count": 25,
   "id": "67707fd5",
   "metadata": {},
   "outputs": [],
   "source": [
    "Q2[0][0]=Q2[3][3]=0"
   ]
  },
  {
   "cell_type": "code",
   "execution_count": 26,
   "id": "8254b8e0",
   "metadata": {},
   "outputs": [],
   "source": [
    "Q2=Qobj(Q2)"
   ]
  },
  {
   "cell_type": "code",
   "execution_count": 27,
   "id": "2a18d559",
   "metadata": {},
   "outputs": [
    {
     "ename": "TypeError",
     "evalue": "unsupported operand type(s) for @: 'numpy.ndarray' and 'Qobj'",
     "output_type": "error",
     "traceback": [
      "\u001b[1;31m---------------------------------------------------------------------------\u001b[0m",
      "\u001b[1;31mTypeError\u001b[0m                                 Traceback (most recent call last)",
      "Cell \u001b[1;32mIn[27], line 2\u001b[0m\n\u001b[0;32m      1\u001b[0m \u001b[38;5;66;03m# Qobj(M@linalg.inv(Q)@((M.transpose().conjugate())))\u001b[39;00m\n\u001b[1;32m----> 2\u001b[0m Q3\u001b[38;5;241m=\u001b[39mQobj(M\u001b[38;5;129m@Q2\u001b[39m\u001b[38;5;241m@\u001b[39m((M\u001b[38;5;241m.\u001b[39mtranspose()\u001b[38;5;241m.\u001b[39mconjugate())))\n",
      "\u001b[1;31mTypeError\u001b[0m: unsupported operand type(s) for @: 'numpy.ndarray' and 'Qobj'"
     ]
    }
   ],
   "source": [
    "# Qobj(M@linalg.inv(Q)@((M.transpose().conjugate())))\n",
    "Q3=Qobj(M@Q2@((M.transpose().conjugate())))\n",
    "# Qobj(M.transpose()@linalg.inv(Q)@M)"
   ]
  },
  {
   "cell_type": "code",
   "execution_count": 28,
   "id": "af9e5b0a",
   "metadata": {},
   "outputs": [
    {
     "data": {
      "text/latex": [
       "Quantum object: dims = [[3], [3]], shape = (3, 3), type = oper, isherm = False $ \\\\ \\left(\\begin{matrix}9.139\\times10^{-04} & 0.0 & 0.0\\\\0.0 & 1.787\\times10^{-05} & (-0.001+9.204\\times10^{-12}j)\\\\0.0 & -0.001 & (8.000+7.810\\times10^{-12}j)\\\\\\end{matrix}\\right)$"
      ],
      "text/plain": [
       "Quantum object: dims = [[3], [3]], shape = (3, 3), type = oper, isherm = False\n",
       "Qobj data =\n",
       "[[ 9.13945112e-04+0.00000000e+00j  0.00000000e+00+0.00000000e+00j\n",
       "   0.00000000e+00+0.00000000e+00j]\n",
       " [ 0.00000000e+00+0.00000000e+00j  1.78690873e-05+0.00000000e+00j\n",
       "  -1.10211804e-03+9.20390597e-12j]\n",
       " [ 0.00000000e+00+0.00000000e+00j -1.10211804e-03+0.00000000e+00j\n",
       "   7.99959585e+00+7.81043520e-12j]]"
      ]
     },
     "execution_count": 28,
     "metadata": {},
     "output_type": "execute_result"
    }
   ],
   "source": [
    "A=(Qobj(M)*Qobj((linalg.inv(Q)))*Qobj(M.transpose()))[0:3,0:3]\n",
    "# A=Qobj((M.transpose()@linalg.inv(Q)@M)\n",
    "A=Qobj(A)\n",
    "A"
   ]
  },
  {
   "cell_type": "code",
   "execution_count": 29,
   "id": "ea724ece",
   "metadata": {},
   "outputs": [],
   "source": [
    "eigenvalues, eigenvectors=A.eigenstates()"
   ]
  },
  {
   "cell_type": "code",
   "execution_count": 30,
   "id": "7028a0a2",
   "metadata": {},
   "outputs": [
    {
     "data": {
      "text/latex": [
       "Quantum object: dims = [[3], [1]], shape = (3, 1), type = ket $ \\\\ \\left(\\begin{matrix}0.0\\\\(-1.378\\times10^{-04}+1.151\\times10^{-12}j)\\\\1.000\\\\\\end{matrix}\\right)$"
      ],
      "text/plain": [
       "Quantum object: dims = [[3], [1]], shape = (3, 1), type = ket\n",
       "Qobj data =\n",
       "[[ 0.00000000e+00+0.0000000e+00j]\n",
       " [-1.37772018e-04+1.1506834e-12j]\n",
       " [ 9.99999991e-01+0.0000000e+00j]]"
      ]
     },
     "execution_count": 30,
     "metadata": {},
     "output_type": "execute_result"
    }
   ],
   "source": [
    "(eigenvalues)\n",
    "eigenvectors[-1]"
   ]
  },
  {
   "cell_type": "code",
   "execution_count": 31,
   "id": "f37b6f03",
   "metadata": {
    "scrolled": false
   },
   "outputs": [
    {
     "data": {
      "text/latex": [
       "Quantum object: dims = [[9], [1]], shape = (9, 1), type = ket $ \\\\ \\left(\\begin{matrix}0.0\\\\(-1.378\\times10^{-04}+1.151\\times10^{-12}j)\\\\1.000\\\\0.0\\\\0.0\\\\0.0\\\\0.0\\\\0.0\\\\0.0\\\\\\end{matrix}\\right)$"
      ],
      "text/plain": [
       "Quantum object: dims = [[9], [1]], shape = (9, 1), type = ket\n",
       "Qobj data =\n",
       "[[ 0.00000000e+00+0.0000000e+00j]\n",
       " [-1.37772018e-04+1.1506834e-12j]\n",
       " [ 9.99999991e-01+0.0000000e+00j]\n",
       " [ 0.00000000e+00+0.0000000e+00j]\n",
       " [ 0.00000000e+00+0.0000000e+00j]\n",
       " [ 0.00000000e+00+0.0000000e+00j]\n",
       " [ 0.00000000e+00+0.0000000e+00j]\n",
       " [ 0.00000000e+00+0.0000000e+00j]\n",
       " [ 0.00000000e+00+0.0000000e+00j]]"
      ]
     },
     "execution_count": 31,
     "metadata": {},
     "output_type": "execute_result"
    }
   ],
   "source": [
    "newvector=[[array(eigenvectors[-1])[i][0] if i <3 else 0]  for i in range(9)]\n",
    "newvector=Qobj(newvector)\n",
    "newvector"
   ]
  },
  {
   "cell_type": "code",
   "execution_count": null,
   "id": "0eafb553",
   "metadata": {},
   "outputs": [],
   "source": []
  },
  {
   "cell_type": "code",
   "execution_count": 32,
   "id": "17d41919",
   "metadata": {},
   "outputs": [
    {
     "data": {
      "text/plain": [
       "array([[ 1.27832096e-11+2.32458018e-11j],\n",
       "       [-8.80114116e-01+7.94103265e-13j],\n",
       "       [ 4.60822063e-01-5.73699544e-13j],\n",
       "       [-2.92882009e-03+6.21415769e-06j],\n",
       "       [-2.92882009e-03+6.21415680e-06j],\n",
       "       [-2.92882009e-03+6.21415912e-06j],\n",
       "       [-1.38981164e-02+0.00000000e+00j],\n",
       "       [-1.13239911e-01+0.00000000e+00j],\n",
       "       [-3.15538184e-12-5.83880294e-12j]])"
      ]
     },
     "execution_count": 32,
     "metadata": {},
     "output_type": "execute_result"
    }
   ],
   "source": [
    "((array((Qobj(linalg.inv(Q)*Qobj(M.transpose().conjugate()))*newvector)))/((Qobj(linalg.inv(Q)*Qobj(M.transpose().conjugate()))*newvector).norm()))"
   ]
  },
  {
   "cell_type": "code",
   "execution_count": null,
   "id": "b32fc834",
   "metadata": {
    "scrolled": true
   },
   "outputs": [],
   "source": [
    "((array((Qobj(linalg.inv(Q)@M.transpose())*eigenvectors[-1])))/((Qobj(linalg.inv(Q)@M.transpose())*eigenvectors[-1]).norm()))"
   ]
  },
  {
   "cell_type": "code",
   "execution_count": null,
   "id": "cc1c2a96",
   "metadata": {},
   "outputs": [],
   "source": [
    "0.17538138/0.9327553,0.04384733/0.23318348"
   ]
  },
  {
   "cell_type": "code",
   "execution_count": null,
   "id": "c679b558",
   "metadata": {},
   "outputs": [],
   "source": [
    "#Calculation of covariance matrix\n",
    "# for now step (2,3) can be avoided as exact analytical results avaialble\n",
    "# FI = n^T C n\n",
    "def C_matrix(rho, J_arr):\n",
    "    #do a dimension check for rho and J_arr[i] as well\n",
    "    d = len(J_arr)\n",
    "    C = np.zeros((d,d), dtype=complex)\n",
    "    for i in range(d):\n",
    "        for j in range(d):\n",
    "            C[i][j] = 0.5*((rho*J_arr[i]*J_arr[j]).tr()+ (rho*J_arr[j]*J_arr[i]).tr())- (rho*J_arr[i]).tr()*(rho*J_arr[j]).tr()\n",
    "    return C\n",
    "\n",
    "def FI_max_cal(state_list, J_arr):\n",
    "    FI_max_arr = []\n",
    "    optimal_evec = []\n",
    "    i = 0\n",
    "    for state in tqdm(state_list):\n",
    "        matrix = C_matrix(state, J_arr)\n",
    "        eigenvalues, eigenvectors = np.linalg.eig(matrix)\n",
    "        #temp_arr.append([str(i) + \"time step: \" + str(np.around(eigenvalues.real, 4))])\n",
    "        #print(str(i) + \"time step: \" + str(np.around(eigenvalues.real, 4)))\n",
    "        max_index = np.argmax(eigenvalues)\n",
    "        max_eigenvalue = eigenvalues[max_index]\n",
    "        max_eigenvector = eigenvectors[max_index]\n",
    "        FI_max_arr.append(4*max_eigenvalue)\n",
    "        optimal_evec.append(max_eigenvector)\n",
    "        i = i+1\n",
    "    \n",
    "    return FI_max_arr, optimal_evec \n",
    "    "
   ]
  },
  {
   "cell_type": "code",
   "execution_count": null,
   "id": "6049ba77",
   "metadata": {},
   "outputs": [],
   "source": []
  },
  {
   "cell_type": "code",
   "execution_count": null,
   "id": "006c7cf6",
   "metadata": {},
   "outputs": [],
   "source": [
    "# Checking expectation value for the J, spin one\n",
    "\n",
    "def expvalcheck(state):\n",
    "    \n",
    "#     return np.sqrt(expect(state, op1)**2 + expect(state, op2)**2 + expect(state, op3)**2)\n",
    "    return expect(state, op1)"
   ]
  },
  {
   "cell_type": "code",
   "execution_count": null,
   "id": "0f3af9ff",
   "metadata": {},
   "outputs": [],
   "source": [
    "#Maximum Eigenvalue\n",
    "#when n is the eigenvector with maximum eigen value of C, FI is maximized\n",
    "# Define the matrix\n",
    "FI_max_arr = []\n",
    "optimal_evec = []\n",
    "# Expectation value for J(spin half)\n",
    "exp_check=[]\n",
    "i = 0\n",
    "#temp_arr = []\n",
    "for state in tqdm(result.states):\n",
    "    matrix = C_matrix(state, J_arr)\n",
    "#     matrix = C_matrix(state, J_arr_spinhalf)\n",
    "    eigenvalues, eigenvectors = np.linalg.eig(matrix)\n",
    "    #temp_arr.append([str(i) + \"time step: \" + str(np.around(eigenvalues.real, 4))])\n",
    "    #print(str(i) + \"time step: \" + str(np.around(eigenvalues.real, 4)))\n",
    "    max_index = np.argmax(eigenvalues)\n",
    "    max_eigenvalue = eigenvalues[max_index]\n",
    "    max_eigenvector = eigenvectors[max_index]\n",
    "    FI_max_arr.append(4*max_eigenvalue)\n",
    "    optimal_evec.append(max_eigenvector)\n",
    "    exp_check.append(expvalcheck(state))\n",
    "    i = i+1\n",
    "\n"
   ]
  },
  {
   "cell_type": "code",
   "execution_count": null,
   "id": "fd3b0d16",
   "metadata": {},
   "outputs": [],
   "source": [
    "#Plot FI_max vs time/\\theta\n",
    "#plt.figure(figsize=(15,10))\n",
    "plt.plot(times,FI_max_arr)\n",
    "plt.plot(times,np.array(exp_check))\n",
    "# plt.plot(times,exp_check)\n",
    "plt.grid()\n",
    "# plt.title(str(N) + \" tmon system, spin 1/2, with \"+str(len(J_arr))+ \" tensor generators\")\n",
    "plt.title(\"Eigenstate of Jx for spin 1/2\")\n",
    "plt.xlabel(\"time\")\n",
    "plt.ylabel(\"F_max and $\\\\langle J^2 \\\\rangle$\")\n",
    "plt.legend([\"FI\",\"$\\\\langle J_x \\\\rangle$\"])\n",
    "plt.show()"
   ]
  },
  {
   "cell_type": "code",
   "execution_count": null,
   "id": "5cc5c9c0",
   "metadata": {},
   "outputs": [],
   "source": [
    "#Plot <J> vs time/\\theta\n",
    "#plt.figure(figsize=(15,10))\n",
    "plt.plot(times,exp_check)\n",
    "# plt.title(str(N) + \" tmon system, spin 1/2, with \"+str(len(J_arr))+ \" tensor generators\")\n",
    "plt.grid()\n",
    "plt.xlabel(\"time\")\n",
    "plt.ylabel(\"$\\\\langle \\hat{J_x} \\\\rangle$\")"
   ]
  },
  {
   "cell_type": "code",
   "execution_count": null,
   "id": "44d512ea",
   "metadata": {},
   "outputs": [],
   "source": [
    "array(sigmay()).conjugate(),array(sigmay())"
   ]
  },
  {
   "cell_type": "code",
   "execution_count": null,
   "id": "ee2259f6",
   "metadata": {},
   "outputs": [],
   "source": [
    "help(Adjoint())"
   ]
  },
  {
   "cell_type": "code",
   "execution_count": null,
   "id": "f085b7de",
   "metadata": {},
   "outputs": [],
   "source": []
  },
  {
   "cell_type": "code",
   "execution_count": null,
   "id": "40109fdc",
   "metadata": {},
   "outputs": [],
   "source": [
    "linalg.inv(array([[1,0],[0,0]]))"
   ]
  },
  {
   "cell_type": "code",
   "execution_count": null,
   "id": "d4f31b4b",
   "metadata": {},
   "outputs": [],
   "source": []
  },
  {
   "cell_type": "code",
   "execution_count": null,
   "id": "5d51781a",
   "metadata": {},
   "outputs": [],
   "source": []
  },
  {
   "cell_type": "code",
   "execution_count": null,
   "id": "5f17dd18",
   "metadata": {},
   "outputs": [],
   "source": []
  },
  {
   "cell_type": "code",
   "execution_count": null,
   "id": "558f4b4b",
   "metadata": {},
   "outputs": [],
   "source": []
  }
 ],
 "metadata": {
  "kernelspec": {
   "display_name": "Python 3 (ipykernel)",
   "language": "python",
   "name": "python3"
  },
  "language_info": {
   "codemirror_mode": {
    "name": "ipython",
    "version": 3
   },
   "file_extension": ".py",
   "mimetype": "text/x-python",
   "name": "python",
   "nbconvert_exporter": "python",
   "pygments_lexer": "ipython3",
   "version": "3.11.4"
  }
 },
 "nbformat": 4,
 "nbformat_minor": 5
}
