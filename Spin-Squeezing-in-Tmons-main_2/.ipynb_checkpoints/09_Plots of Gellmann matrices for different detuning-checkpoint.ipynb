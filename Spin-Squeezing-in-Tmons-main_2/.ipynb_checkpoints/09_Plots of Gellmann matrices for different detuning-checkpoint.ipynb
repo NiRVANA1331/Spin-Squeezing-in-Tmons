{
 "cells": [
  {
   "cell_type": "code",
   "execution_count": 1,
   "id": "08b42426",
   "metadata": {},
   "outputs": [],
   "source": [
    "import numpy as np\n",
    "from numpy import *\n",
    "from qutip import *\n",
    "from tqdm.auto import tqdm\n",
    "import matplotlib.pyplot as plt\n",
    "import math"
   ]
  },
  {
   "cell_type": "code",
   "execution_count": 2,
   "id": "c279a703",
   "metadata": {},
   "outputs": [],
   "source": [
    "from modules.spin_arch import *\n",
    "from modules.su_algebra import *"
   ]
  },
  {
   "cell_type": "code",
   "execution_count": 3,
   "id": "636cd0d6",
   "metadata": {},
   "outputs": [],
   "source": [
    "from IPython.display import Latex"
   ]
  },
  {
   "cell_type": "code",
   "execution_count": 4,
   "id": "e7444d9c",
   "metadata": {},
   "outputs": [],
   "source": [
    "Ntrunc = 3 #global operator for truncation level or total number of dimensions"
   ]
  },
  {
   "cell_type": "code",
   "execution_count": 5,
   "id": "8b4eb45d",
   "metadata": {},
   "outputs": [],
   "source": [
    "#initialize system\n",
    "N = 4\n",
    "Nlevel = Ntrunc\n",
    "omega=51\n",
    "Ej, Ec, g_arr, omega = generate_tmon_arch(N,Nlevel,o=omega)\n",
    "sys1 = tmon_system(N, Nlevel, Ec, Ej, g_arr, omega)\n",
    "chi=2*(60-omega)/(57-omega)"
   ]
  },
  {
   "cell_type": "code",
   "execution_count": 6,
   "id": "c03ca25e",
   "metadata": {},
   "outputs": [
    {
     "data": {
      "text/plain": [
       "[[0.0, 60.0, 117.0],\n",
       " [0.0, 60.0, 117.0],\n",
       " [0.0, 60.0, 117.0],\n",
       " [0.0, 60.0, 117.0]]"
      ]
     },
     "execution_count": 6,
     "metadata": {},
     "output_type": "execute_result"
    }
   ],
   "source": [
    "sys1.freq_list()"
   ]
  },
  {
   "cell_type": "code",
   "execution_count": 7,
   "id": "9820d507",
   "metadata": {},
   "outputs": [
    {
     "data": {
      "text/plain": [
       "51"
      ]
     },
     "execution_count": 7,
     "metadata": {},
     "output_type": "execute_result"
    }
   ],
   "source": [
    "sys1.omega "
   ]
  },
  {
   "cell_type": "markdown",
   "id": "6f10176b",
   "metadata": {},
   "source": [
    "### Hamiltonian Evolution: $$e^{-iHt} \\rho_0 e^{iHt}$$"
   ]
  },
  {
   "cell_type": "code",
   "execution_count": 8,
   "id": "40ff54ea",
   "metadata": {},
   "outputs": [],
   "source": [
    "a=1\n",
    "b=1#np.sqrt(2)\n",
    "c=0#1\n",
    "\n",
    "# a=0.40824829\n",
    "# b=0.70710678\n",
    "# c=0.57735027\n",
    "  "
   ]
  },
  {
   "cell_type": "code",
   "execution_count": 9,
   "id": "cbaeb640",
   "metadata": {},
   "outputs": [
    {
     "data": {
      "text/latex": [
       "Quantum object: dims = [[3], [3]], shape = (3, 3), type = oper, isherm = True $ \\\\ \\left(\\begin{matrix}0.500 & 0.500 & 0.0\\\\0.500 & 0.500 & 0.0\\\\0.0 & 0.0 & 0.0\\\\\\end{matrix}\\right)$"
      ],
      "text/plain": [
       "Quantum object: dims = [[3], [3]], shape = (3, 3), type = oper, isherm = True\n",
       "Qobj data =\n",
       "[[0.5 0.5 0. ]\n",
       " [0.5 0.5 0. ]\n",
       " [0.  0.  0. ]]"
      ]
     },
     "execution_count": 9,
     "metadata": {},
     "output_type": "execute_result"
    }
   ],
   "source": [
    "psi_2 = (a*basis(Nlevel,0) + b*basis(Nlevel,1) + c*basis(Nlevel,2))\n",
    "psi_2 = psi_2/psi_2.norm()\n",
    "psi_2 = psi_2 * psi_2.dag()\n",
    "psi_2"
   ]
  },
  {
   "cell_type": "code",
   "execution_count": 10,
   "id": "642edf68",
   "metadata": {},
   "outputs": [
    {
     "name": "stdout",
     "output_type": "stream",
     "text": [
      "51 0.0 -0.3490658503988659\n",
      "51 60.0 -1.0471975511965976\n",
      "51 0.0 -0.3490658503988659\n",
      "51 60.0 -1.0471975511965976\n",
      "51 0.0 -0.3490658503988659\n",
      "51 60.0 -1.0471975511965976\n",
      "51 0.0 -0.3490658503988659\n",
      "51 60.0 -1.0471975511965976\n",
      "51 0.0 -0.3490658503988659\n",
      "51 60.0 -1.0471975511965976\n",
      "51 0.0 -0.3490658503988659\n",
      "51 60.0 -1.0471975511965976\n",
      "51 0.0 -0.3490658503988659\n",
      "51 60.0 -1.0471975511965976\n",
      "51 0.0 -0.3490658503988659\n",
      "51 60.0 -1.0471975511965976\n",
      "51 0.0 -0.3490658503988659\n",
      "51 60.0 -1.0471975511965976\n",
      "51 0.0 -0.3490658503988659\n",
      "51 60.0 -1.0471975511965976\n",
      "51 0.0 -0.3490658503988659\n",
      "51 60.0 -1.0471975511965976\n",
      "51 0.0 -0.3490658503988659\n",
      "51 60.0 -1.0471975511965976\n",
      "10.2%. Run time:   0.04s. Est. time left: 00:00:00:00\n",
      "20.2%. Run time:   0.07s. Est. time left: 00:00:00:00\n",
      "30.1%. Run time:   0.11s. Est. time left: 00:00:00:00\n",
      "40.1%. Run time:   0.18s. Est. time left: 00:00:00:00\n",
      "50.1%. Run time:   0.20s. Est. time left: 00:00:00:00\n",
      "60.1%. Run time:   0.24s. Est. time left: 00:00:00:00\n",
      "70.1%. Run time:   0.27s. Est. time left: 00:00:00:00\n",
      "80.0%. Run time:   0.31s. Est. time left: 00:00:00:00\n",
      "90.0%. Run time:   0.33s. Est. time left: 00:00:00:00\n",
      "Total run time:   0.37s\n"
     ]
    }
   ],
   "source": [
    "H = sys1.H_I()\n",
    "psi0 = tensor([psi_2]*N) #sys1.tensor_projection_op(0,1,1, dim = None)\n",
    "unit=abs((H/(2*pi))[1,3])\n",
    "times = np.linspace(0,2/unit,501) #time scale is ~ 1/freq of self energy \n",
    "options = Options()\n",
    "options.store_final_state = True\n",
    "result = mesolve(H, psi0, times, [], options = options, progress_bar=True)\n",
    "# print(len(result.states))"
   ]
  },
  {
   "cell_type": "code",
   "execution_count": 11,
   "id": "a1f1d9f4",
   "metadata": {},
   "outputs": [
    {
     "data": {
      "text/plain": [
       "0.1111111111111111"
      ]
     },
     "execution_count": 11,
     "metadata": {},
     "output_type": "execute_result"
    }
   ],
   "source": [
    "unit"
   ]
  },
  {
   "cell_type": "code",
   "execution_count": 12,
   "id": "12e78e8a",
   "metadata": {},
   "outputs": [],
   "source": [
    "Sx=Qobj(ensemble_op(op_padded(Qobj(np.array([[0,1,0],[1,0,1],[0,1,0]])/np.sqrt(2)),Nlevel), N))\n",
    "Sy=Qobj(ensemble_op(op_padded(Qobj(1j*np.array([[0,-1,0],[1,0,-1],[0,1,0]])/np.sqrt(2)),Nlevel), N))\n",
    "Sz=Qobj(ensemble_op(op_padded(Qobj(np.array([[1,0,0],[0,0,0],[0,0,-1]])),Nlevel), N))"
   ]
  },
  {
   "cell_type": "code",
   "execution_count": 13,
   "id": "675f9abe",
   "metadata": {},
   "outputs": [],
   "source": [
    "# pop_arr = []\n",
    "# Jx_arr = []\n",
    "# for i in tqdm(range(N)):\n",
    "#     temp = []\n",
    "#     temp2 = []\n",
    "#     for state in result.states:\n",
    "#         temp.append(abs(expect(state.ptrace(i), create(Nlevel)*destroy(Nlevel))))\n",
    "#         temp2.append(abs(expect(state.ptrace(i),Qobj((op_padded(sigmax(),Nlevel))))))\n",
    "#     pop_arr.append(temp)\n",
    "#     Jx_arr.append(temp2)\n",
    "#     #print(sum(temp))"
   ]
  },
  {
   "cell_type": "code",
   "execution_count": 14,
   "id": "65933885",
   "metadata": {},
   "outputs": [],
   "source": [
    "pop_arr = []\n",
    "Jx_arr = []\n",
    "Jx2_arr = []\n",
    "\n",
    "for state in result.states:\n",
    "    pop_arr.append(abs(expect((state),tensor([create(Nlevel)*destroy(Nlevel)]*N))))\n",
    "    Jx_arr.append((expect(state,Sx)))\n",
    "    Jx2_arr.append((expect(state,Sx**2)))\n",
    "\n",
    "    #print(sum(temp))"
   ]
  },
  {
   "cell_type": "code",
   "execution_count": 15,
   "id": "c679b558",
   "metadata": {},
   "outputs": [],
   "source": [
    "#Calculation of covariance matrix\n",
    "# for now step (2,3) can be avoided as exact analytical results avaialble\n",
    "# FI = n^T C n\n",
    "def C_matrix(rho, J_arr):\n",
    "    #do a dimension check for rho and J_arr[i] as well\n",
    "    d = len(J_arr)\n",
    "    C = np.zeros((d,d), dtype=complex)\n",
    "    for i in range(d):\n",
    "        for j in range(d):\n",
    "            C[i][j] = 0.5*((rho*J_arr[i]*J_arr[j]).tr()+ (rho*J_arr[j]*J_arr[i]).tr())- (rho*J_arr[i]).tr()*(rho*J_arr[j]).tr()\n",
    "    return C\n",
    "\n",
    "def FI_max_cal(state_list, J_arr):\n",
    "    FI_max_arr = []\n",
    "    optimal_evec = []\n",
    "    i = 0\n",
    "    for state in tqdm(state_list):\n",
    "        matrix = C_matrix(state, J_arr)\n",
    "        eigenvalues, eigenvectors = np.linalg.eig(matrix)\n",
    "        #temp_arr.append([str(i) + \"time step: \" + str(np.around(eigenvalues.real, 4))])\n",
    "        #print(str(i) + \"time step: \" + str(np.around(eigenvalues.real, 4)))\n",
    "        max_index = np.argmax(eigenvalues)\n",
    "        max_eigenvalue = eigenvalues[max_index]\n",
    "        max_eigenvector = eigenvectors[max_index]\n",
    "        FI_max_arr.append(4*max_eigenvalue)\n",
    "        optimal_evec.append(max_eigenvector)\n",
    "        i = i+1\n",
    "    \n",
    "    return FI_max_arr, optimal_evec \n",
    "    "
   ]
  },
  {
   "cell_type": "code",
   "execution_count": 16,
   "id": "16f8f091",
   "metadata": {},
   "outputs": [],
   "source": [
    "spin = 1\n",
    "op_type = \"gellmann\"\n",
    "\n",
    "if spin == 0.5:\n",
    "    op_type = \"pauli\"\n",
    "J_arr = gen_basisoperators(N, Nlevel, spin = spin, op_type =op_type) "
   ]
  },
  {
   "cell_type": "code",
   "execution_count": 17,
   "id": "0f3af9ff",
   "metadata": {},
   "outputs": [],
   "source": [
    "#Maximum Eigenvalue\n",
    "#when n is the eigenvector with maximum eigen value of C, FI is maximized\n",
    "# Define the matrix\n",
    "def FI_max_cal(states, J_arr):\n",
    "    FI_max_arr = []\n",
    "    optimal_evec = []\n",
    "    i = 0\n",
    "    #temp_arr = []\n",
    "    for state in tqdm(states):\n",
    "        matrix = C_matrix(state, J_arr)\n",
    "        eigenvalues, eigenvectors = np.linalg.eig(matrix)\n",
    "        #temp_arr.append([str(i) + \"time step: \" + str(np.around(eigenvalues.real, 4))])\n",
    "        #print(str(i) + \"time step: \" + str(np.around(eigenvalues.real, 4)))\n",
    "        max_index = np.argmax(eigenvalues)\n",
    "        max_eigenvalue = eigenvalues[max_index]\n",
    "        max_eigenvector = eigenvectors[max_index]\n",
    "        FI_max_arr.append(4*max_eigenvalue)\n",
    "        optimal_evec.append(max_eigenvector)\n",
    "        i = i+1\n",
    "    return FI_max_arr, optimal_evec \n",
    "\n",
    "#FI_max_arr = FI_max_cal(result.states, J_arr)\n"
   ]
  },
  {
   "cell_type": "code",
   "execution_count": 18,
   "id": "eb1d4f11",
   "metadata": {},
   "outputs": [],
   "source": [
    "# Plot for expectation values of the Gellman matrices\n",
    "def exp_gell_op(states,J_arr):\n",
    "    exp_gell_op=[]\n",
    "    for i in tqdm(range(len(J_arr))):\n",
    "        exp_gell_op.append(expect(states,J_arr[i]*(1))+0.04*i)\n",
    "    return exp_gell_op"
   ]
  },
  {
   "cell_type": "code",
   "execution_count": 19,
   "id": "a406d82c",
   "metadata": {},
   "outputs": [],
   "source": [
    "# temp_arr = []\n",
    "# # temp_arr.append(exp_gell_op(result.states, gen_basisoperators(N, Nlevel, spin = 1, op_type =\"pauli\") ))\n",
    "# temp_arr.append(exp_gell_op(result.states, gen_basisoperators(N, Nlevel, spin = 1, op_type =\"gellmann\") ))\n",
    "# # temp_arr.append(FI_max_cal(result.states, gen_basisoperators(N, Nlevel, spin = 1, op_type =\"tensor\") ))"
   ]
  },
  {
   "cell_type": "code",
   "execution_count": 20,
   "id": "85590177",
   "metadata": {},
   "outputs": [
    {
     "data": {
      "application/vnd.jupyter.widget-view+json": {
       "model_id": "64cbe05b1f0d4e9e812f42a0a7eb797f",
       "version_major": 2,
       "version_minor": 0
      },
      "text/plain": [
       "  0%|          | 0/501 [00:00<?, ?it/s]"
      ]
     },
     "metadata": {},
     "output_type": "display_data"
    },
    {
     "data": {
      "application/vnd.jupyter.widget-view+json": {
       "model_id": "ee40aa5162c14784abb1a4b1238d5e40",
       "version_major": 2,
       "version_minor": 0
      },
      "text/plain": [
       "  0%|          | 0/501 [00:00<?, ?it/s]"
      ]
     },
     "metadata": {},
     "output_type": "display_data"
    }
   ],
   "source": [
    "temp_arr = []\n",
    "temp_arr.append(FI_max_cal(result.states, gen_basisoperators(N, Nlevel, spin = 1, op_type =\"pauli\") ))\n",
    "temp_arr.append(FI_max_cal(result.states, gen_basisoperators(N, Nlevel, spin = 1, op_type =\"gellmann\") ))\n",
    "# temp_arr.append(FI_max_cal(result.states, gen_basisoperators(N, Nlevel, spin = 1, op_type =\"tensor\") ))"
   ]
  },
  {
   "cell_type": "code",
   "execution_count": 28,
   "id": "74d5345b",
   "metadata": {},
   "outputs": [],
   "source": [
    "# Plot for Fidelity\n",
    "def Fidelity_cal(states,psi0=psi0):\n",
    "    fid=[]\n",
    "    for i in tqdm(states):\n",
    "        fid.append(abs((i.dag()*psi0).tr()))\n",
    "    return fid"
   ]
  },
  {
   "cell_type": "code",
   "execution_count": 29,
   "id": "5fe16b85",
   "metadata": {},
   "outputs": [],
   "source": [
    "# plt.plot(times*unit,transpose(temp_arr[0]) )\n",
    "# # plt.plot(times*unit,temp_arr[1][0])\n",
    "# # plt.plot(times,temp_arr[0][0],alpha = 0.5 )\n",
    "# # plt.plot(times,temp_arr[2][0],alpha = 0.5)\n",
    "# plt.title(\"Expectation value for the Gellmann Matrices for $\\\\chi_2/\\\\chi_1$ =\" + str(round(chi,2)))\n",
    "# plt.xlabel(\"time\")\n",
    "# plt.ylabel(\"F_max\")\n",
    "# plt.grid()\n",
    "# # plt.ylim(10,70)\n",
    "# # plt.xlim([0,2])\n",
    "# plt.legend([\"L1\",\"L2\",\"L3\",\"L4\",\"L5\",\"L6\",\"L7\",\"L8\"])\n",
    "# plt.show()"
   ]
  },
  {
   "cell_type": "code",
   "execution_count": 30,
   "id": "83601201",
   "metadata": {},
   "outputs": [
    {
     "data": {
      "text/plain": [
       "2"
      ]
     },
     "execution_count": 30,
     "metadata": {},
     "output_type": "execute_result"
    }
   ],
   "source": [
    "len(temp_arr[0])"
   ]
  },
  {
   "cell_type": "code",
   "execution_count": 31,
   "id": "da61e110",
   "metadata": {},
   "outputs": [
    {
     "data": {
      "image/png": "[encoded data removed]",
      "text/plain": [
       "<Figure size 640x480 with 1 Axes>"
      ]
     },
     "metadata": {},
     "output_type": "display_data"
    }
   ],
   "source": [
    "plt.plot(times*unit,temp_arr[0][0] )\n",
    "plt.plot(times*unit,temp_arr[1][0])\n",
    "# plt.plot(times,temp_arr[0][0],alpha = 0.5 )\n",
    "# plt.plot(times,temp_arr[2][0],alpha = 0.5)\n",
    "plt.title(\"Fisher Information for \" + str(N)+ \" Spin 1/2 Transmons $\\\\chi_2/\\\\chi_1$ =\" + str(round(chi,2)))\n",
    "plt.xlabel(\"time\")\n",
    "plt.ylabel(\"F_max\")\n",
    "plt.grid()\n",
    "# plt.ylim(10,70)\n",
    "# plt.xlim([0,2])\n",
    "plt.legend([\"3 generators\",\"8 gellmann generators\", \"8 tensor generators\"])\n",
    "plt.show()"
   ]
  },
  {
   "cell_type": "code",
   "execution_count": 25,
   "id": "b82933e8",
   "metadata": {},
   "outputs": [
    {
     "data": {
      "application/vnd.jupyter.widget-view+json": {
       "model_id": "1dea2d7b568a4c03981736ee7ff7c14e",
       "version_major": 2,
       "version_minor": 0
      },
      "text/plain": [
       "  0%|          | 0/501 [00:00<?, ?it/s]"
      ]
     },
     "metadata": {},
     "output_type": "display_data"
    },
    {
     "data": {
      "image/png": "[encoded data removed]",
      "text/plain": [
       "<Figure size 640x480 with 1 Axes>"
      ]
     },
     "metadata": {},
     "output_type": "display_data"
    }
   ],
   "source": [
    "plt.plot(times*unit,Fidelity_cal(result.states) )\n",
    "plt.title(\"Fidelity \")#for $\\\\chi_2/\\\\chi_1$ = \" + str(round(chi,2)))\n",
    "plt.xlabel(\"time\")\n",
    "plt.ylabel(\"Fidelity\")\n",
    "plt.grid()\n",
    "# plt.ylim(10,70)\n",
    "plt.xlim([0,2])\n",
    "# plt.title(\"\")\n",
    "# plt.legend([\"3 generators\",\"8 gellmann generators\", \"8 tensor generators\"])\n",
    "plt.show()"
   ]
  },
  {
   "cell_type": "code",
   "execution_count": 26,
   "id": "cda37b31",
   "metadata": {},
   "outputs": [],
   "source": [
    "def is_hermitian(matrix):\n",
    "    return np.allclose(matrix, matrix.conj().T)\n",
    "\n",
    "def cartesian_to_spherical(vec):\n",
    "    \"\"\"Converts a cartesian coordinate (x, y, z) into a spherical one (radius, theta, phi).\"\"\"\n",
    "    x = vec[0]\n",
    "    y = vec[1]\n",
    "    z = vec[2]\n",
    "    radius = np.sqrt(x * x + y * y + z * z)\n",
    "    theta = math.atan2(np.sqrt(x * x + y * y), z)\n",
    "    #theta = math.acos(z/radius)\n",
    "    phi = math.atan2(y, x)\n",
    "    return [radius, theta, phi]\n",
    "\n",
    "def normalize(v):\n",
    "    norm = np.linalg.norm(v)\n",
    "    if norm == 0:\n",
    "        return v\n",
    "    return v / norm"
   ]
  },
  {
   "cell_type": "code",
   "execution_count": 27,
   "id": "0dd9b507",
   "metadata": {},
   "outputs": [
    {
     "ename": "NameError",
     "evalue": "name 'optimal_evec' is not defined",
     "output_type": "error",
     "traceback": [
      "\u001b[1;31m---------------------------------------------------------------------------\u001b[0m",
      "\u001b[1;31mNameError\u001b[0m                                 Traceback (most recent call last)",
      "Cell \u001b[1;32mIn[27], line 3\u001b[0m\n\u001b[0;32m      1\u001b[0m \u001b[38;5;66;03m#plot for optimal eigenvectors\u001b[39;00m\n\u001b[0;32m      2\u001b[0m spherical_coordinates \u001b[38;5;241m=\u001b[39m []\n\u001b[1;32m----> 3\u001b[0m \u001b[38;5;28;01mfor\u001b[39;00m vec \u001b[38;5;129;01min\u001b[39;00m optimal_evec:\n\u001b[0;32m      4\u001b[0m     spherical_coordinates\u001b[38;5;241m.\u001b[39mappend(cartesian_to_spherical(vec\u001b[38;5;241m.\u001b[39mreal))\n",
      "\u001b[1;31mNameError\u001b[0m: name 'optimal_evec' is not defined"
     ]
    }
   ],
   "source": [
    "#plot for optimal eigenvectors\n",
    "spherical_coordinates = []\n",
    "for vec in optimal_evec:\n",
    "    spherical_coordinates.append(cartesian_to_spherical(vec.real))"
   ]
  },
  {
   "cell_type": "code",
   "execution_count": null,
   "id": "a316b919",
   "metadata": {},
   "outputs": [],
   "source": [
    "spherical_coordinates = np.array(spherical_coordinates) "
   ]
  },
  {
   "cell_type": "code",
   "execution_count": null,
   "id": "9d75e3be",
   "metadata": {},
   "outputs": [],
   "source": [
    "#plt.figure(figsize=(15,10))\n",
    "plt.plot(times,spherical_coordinates[:,1], label  = \"theta\")\n",
    "plt.plot(times,spherical_coordinates[:,2], label = 'phi')\n",
    "plt.plot(times,FI_max_arr/max(FI_max_arr),alpha =0.5 , label = \"FI_max rescaled\", linestyle='dashed')\n",
    "plt.title(str(N) + \" tmon system, spin \"+str(spin)+ \", with \"+str(len(J_arr))+\" \"+ str(op_type)+\" generators\")\n",
    "plt.xlabel(\"time\")\n",
    "plt.ylabel(\"angle in radians\")\n",
    "plt.legend()"
   ]
  },
  {
   "cell_type": "code",
   "execution_count": null,
   "id": "1e5cb6ff",
   "metadata": {},
   "outputs": [],
   "source": [
    "#Graph of FI vs time\n"
   ]
  },
  {
   "cell_type": "code",
   "execution_count": null,
   "id": "e4227312",
   "metadata": {},
   "outputs": [],
   "source": [
    "#(2)\n",
    "#Encode \\theta by applying U = e^{i n.J \\theta}\n",
    "psi_i = results.states #for FI vs time graph\n",
    "n = np.array([1,0,0]) #ideally the max eigenvalue eigenvector\n",
    "J_arr = np.array([]) #generators or their subset\n",
    "theta_arr = np.linspace(0, 0.5, 2) #values of theta to encode\n",
    "#code for n.J\n",
    "result2 = mesolve(n*J_arr, psi_i, times, [], options = options)"
   ]
  },
  {
   "cell_type": "code",
   "execution_count": null,
   "id": "18cc7ae2",
   "metadata": {},
   "outputs": [],
   "source": [
    "#Fisher Info Calculation\n",
    "def purestate_FI(J,psi):\n",
    "    FI = 4*variance(J,psi)\n",
    "    return FI"
   ]
  },
  {
   "cell_type": "code",
   "execution_count": null,
   "id": "320f3405",
   "metadata": {},
   "outputs": [],
   "source": [
    "FI_list = []\n",
    "for psi in result.states:\n",
    "    FI_list.append(purestate_FI(H,psi))\n",
    "\n",
    "plt.plot(times,FI_list)\n",
    "plt.xlabel(\"time\")\n",
    "plt.ylabel(\"Finsher Info\")"
   ]
  },
  {
   "cell_type": "code",
   "execution_count": null,
   "id": "59ea9769",
   "metadata": {},
   "outputs": [],
   "source": [
    "#pauli operators for the tmon system\n",
    "#initialize\n",
    "N = 3 #number of transmons\n",
    "Nlevel = Ntrunc\n",
    "# spin = 1\n",
    "# dim = spin*2+1\n",
    "\n",
    "#padded operators\n",
    "jx = op_padded(jmat(spin,'x'), Nlevel)\n",
    "jy = op_padded(jmat(spin,'y'), Nlevel)\n",
    "jz = op_padded(jmat(spin,'z'), Nlevel)\n",
    "#combined spin operators\n",
    "JX = 0\n",
    "JY = 0\n",
    "JZ = 0\n",
    "for i in range(N):\n",
    "    JX.append(ensemble_op(jx,i,N))\n",
    "    JY.append(ensemble_op(jx,i,N))\n",
    "    JZ.append(ensemble_op(jx,i,N))"
   ]
  },
  {
   "cell_type": "code",
   "execution_count": null,
   "id": "ba725654",
   "metadata": {},
   "outputs": [],
   "source": [
    "#calculate optimal squeezing parameter\n",
    "H_cap = [] #array of all operators being considered\n",
    "##calculate covariance matrix\n",
    "##calculate commutator matrix\n",
    "def calculate_covariance(matrix1, matrix2):\n",
    "    # Check if the matrices have the same shape\n",
    "    if matrix1.shape != matrix2.shape:\n",
    "        raise ValueError(\"Matrices must have the same shape.\")\n",
    "    \n",
    "    # Calculate the covariance\n",
    "    covariance = np.cov(matrix1, matrix2, bias=True)\n",
    "    \n",
    "    return covariance\n",
    "\n",
    "def covariance_matrix(H_cap):\n",
    "    tau = np.zeros((len(H_cap),len(H_cap)))\n",
    "    for k in range(len(H_cap)):\n",
    "        for l in range(len(H_cap)):\n",
    "            tau[k][l] = calculate_covariance(H_cap[k],H_cap(l))"
   ]
  },
  {
   "cell_type": "code",
   "execution_count": null,
   "id": "c71a8b13",
   "metadata": {},
   "outputs": [],
   "source": [
    "'''\n",
    "#Hamiltonian for a set of transmons coupled to a mode\n",
    "class tmon_system:\n",
    "    def __init__(self,N, Nlevel, E_C, E_j, g_arr, omega):\n",
    "        self.N = N #value of n goes from 0 to N-1\n",
    "        self.Nlevel = Nlevel #cut off dimension/truncation\n",
    "        #This is different from d which is the level that comes into hamiltonian.\n",
    "        #d refers to the highest excitation present in the initialised state\n",
    "        #d  by default is set to (Nlevel-2) as (d+1) at max can be (Nlevel-1)\n",
    "        self.d = Nlevel-2\n",
    "        self.E_c= E_c\n",
    "        self.E_j = E_j\n",
    "        self.g_arr = g_arr #g^n_i = g_arr[n][i]\n",
    "        self.omega = omega #freq of photonic mode\n",
    "        self.v_arr = self.freq_list() #v[n][i] = v^n_i\n",
    "    \n",
    "    def freq_list(self):\n",
    "        #calculate v^n_i\n",
    "        #for |i><i|_n, coefficient is  \\sqrt(8E^n_j*E^n_c)*i - E^n_c/2*i(i+1)\n",
    "        arr = []\n",
    "        for n in range(self.N):\n",
    "            temp_arr = []\n",
    "            for i in range(self.d+1):\n",
    "                v_ni = np.sqrt(8*self.E_c[n]*self.E_j[n])*i - 0.5*self.E_c[n]*i*(i+1)\n",
    "                temp_arr.append(v_ni)\n",
    "            arr.append(temp_arr) \n",
    "        return arr\n",
    "    \n",
    "    def cal_delta(self):\n",
    "        #simplest version is to equate to average over transmons i.e n\n",
    "        delta_arr = []\n",
    "        \n",
    "        for n in range(self.N):\n",
    "            temp = 0\n",
    "            for i in range(self.d +1):\n",
    "                temp = temp + ((self.g_arr[n][i]**2)*np.heaviside(i,0)/(self.v_arr[n][i-1]-self.omega)+self.v_arr[n][i])\n",
    "            delta_arr.append(temp/(self.d+1))\n",
    "        return delta_arr\n",
    "    \n",
    "    def tensor_id(self, dim = None):\n",
    "        if dim ==None:\n",
    "            dim = self.d+2\n",
    "        #IxIxIxI...Ioperator\n",
    "        Neye = []\n",
    "        for i in  range(self.N):\n",
    "            Neye.append(qeye(dim))\n",
    "        nid = tensor(Neye)\n",
    "        return nid\n",
    "          \n",
    "    def tensor_projection_op(self,n,i,j, dim = None):\n",
    "        #returns IxIxIx...(|i><j|_n)xIxI...xI\n",
    "        if n > self.N-1:\n",
    "            print(\"invalid n\")\n",
    "            return\n",
    "        if dim ==None:\n",
    "            dim = self.d+2\n",
    "            \n",
    "        Neye = []\n",
    "        for k in  range(self.N):\n",
    "            Neye.append(qeye(dim))\n",
    "        #(|i><j|_n)\n",
    "        Neye[n] = basis(dim,i)*basis(dim,j).dag()\n",
    "        nid = tensor(Neye)\n",
    "        return nid\n",
    "        \n",
    "    def H_I(self, delta_arr = None):\n",
    "        #rotataed time indp effective hamiltonian\n",
    "        #lambda_arr contains \\Delta_i to be added as self energy corrections\n",
    "        if delta_arr==None:\n",
    "            delta_arr = self.cal_delta()\n",
    "        \n",
    "        H0 = 0\n",
    "        for n in range(self.N):\n",
    "            for i in range(self.d + 1):\n",
    "                c_ni = (self.g_arr[n][i-1]**2)*np.heaviside(i,0)/(self.v_arr[n][i-1]- self.omega) + self.v_arr[n][i] - delta_arr[i]\n",
    "                H0 = H0 + c_ni*self.tensor_projection_op(n,i,i)\n",
    "        \n",
    "        H1 = 0\n",
    "        for n in range(self.N):\n",
    "            for m in range(self.N):\n",
    "                for i in range(self.d + 1):\n",
    "                    if n == m:\n",
    "                        break\n",
    "                    c_nmi = 0.5*(self.g_arr[n][i]*self.g_arr[m][i])/(self.omega - self.v_arr[m][i])\n",
    "                    H1 = H1 + c_nmi*(self.tensor_projection_op(n,i,i+1)*self.tensor_projection_op(m,i+1,i) + self.tensor_projection_op(n,i+1,i)*self.tensor_projection_op(m,i,i+1))\n",
    "        \n",
    "        return H0 + H1\n",
    "\n",
    "def generate_tmon_arch(N,Nlevel):\n",
    "    #scaling is 1 to 100MHz\n",
    "    E_j =  np.absolute(np.random.normal(200,20, N))\n",
    "    E_c = np.absolute(np.random.normal(2.5,0.2, N))\n",
    "    g_arr = np.zeros((N,Nlevel))\n",
    "    for n in range(N):\n",
    "        for i in range(Nlevel):\n",
    "            g_arr[n][i] = 1\n",
    "    omega = 2\n",
    "    return E_j, E_c, g_arr,omega \n",
    "'''"
   ]
  },
  {
   "cell_type": "code",
   "execution_count": null,
   "id": "88101552",
   "metadata": {},
   "outputs": [],
   "source": [
    "\"\"\"\n",
    "#create spin operators\n",
    "class operators:\n",
    "    def __init__(self, N, spin):\n",
    "        self.N = N\n",
    "        self.spin =spin\n",
    "        \n",
    "    \n",
    "    def generators_arr(self):\n",
    "        #return all generators for a spin-n algebra\n",
    "        return\n",
    "    \n",
    "    def tensor_operator(self,op,i):\n",
    "        #returns IxIxIx...(op_i)xIxI...xI\n",
    "        if i > self.N-1:\n",
    "            raise ValueError(\"index needs to be between 0 and\"+str(self.N)+\"-1\")\n",
    "\n",
    "        Neye = []\n",
    "        for k in  range(self.N):\n",
    "            Neye.append(qeye(self.spin))\n",
    "        #(op_i)\n",
    "        Neye[n] = basis(dim,i)*basis(dim,j).dag()\n",
    "        nid = tensor(Neye)\n",
    "        return nid\n",
    "        \n",
    "    def J_n(self,n):\n",
    "        #\\sum (n.J)_i\n",
    "        #it should take both 3x1 and dx1 vectors\n",
    "        #3x1 leads to use of just sigma x,y,z\n",
    "        #dx1 leads to use of all generators\n",
    "        jx = jmat(i, 'x')\n",
    "        jy = jmat(i, 'y')\n",
    "        jz = jmat(i, 'z')\n",
    "        \n",
    "        \n",
    "     \n",
    "    def nonlin_operators(self, degree):\n",
    "        #take array of generators and combine them to get non-lin operators\n",
    "        #return vector with non-lin operators only\n",
    "        lin_op_arr = self.generators_arr\n",
    "        nonlin_arr = []\n",
    "\"\"\""
   ]
  },
  {
   "cell_type": "code",
   "execution_count": null,
   "id": "c0db1f4f",
   "metadata": {},
   "outputs": [],
   "source": [
    "from numpy import *\n",
    "from qutip import *"
   ]
  },
  {
   "cell_type": "code",
   "execution_count": null,
   "id": "43ef7dc7",
   "metadata": {},
   "outputs": [],
   "source": [
    "arr=array([[0,1,0],[1,0,sqrt(1)],[0,sqrt(1),0]])\n",
    "Qobj(arr).eigenstates()[1][1]"
   ]
  },
  {
   "cell_type": "code",
   "execution_count": null,
   "id": "1bc377ef",
   "metadata": {},
   "outputs": [],
   "source": [
    "8.62-2*4.65"
   ]
  }
 ],
 "metadata": {
  "kernelspec": {
   "display_name": "Python 3 (ipykernel)",
   "language": "python",
   "name": "python3"
  },
  "language_info": {
   "codemirror_mode": {
    "name": "ipython",
    "version": 3
   },
   "file_extension": ".py",
   "mimetype": "text/x-python",
   "name": "python",
   "nbconvert_exporter": "python",
   "pygments_lexer": "ipython3",
   "version": "3.11.4"
  }
 },
 "nbformat": 4,
 "nbformat_minor": 5
}
