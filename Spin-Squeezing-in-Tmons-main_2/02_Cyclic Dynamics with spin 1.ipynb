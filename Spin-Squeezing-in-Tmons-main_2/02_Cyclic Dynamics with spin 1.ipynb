{
 "cells": [
  {
   "cell_type": "code",
   "execution_count": 1,
   "id": "1739acba",
   "metadata": {},
   "outputs": [],
   "source": [
    "import numpy as np\n",
    "from qutip import *\n",
    "from tqdm.auto import tqdm\n",
    "import matplotlib.pyplot as plt\n",
    "import math\n",
    "from numpy import sqrt,array,isclose,linspace\n",
    "import matplotlib.pyplot as plt\n",
    "from numpy import *"
   ]
  },
  {
   "cell_type": "code",
   "execution_count": 2,
   "id": "1bd3680f",
   "metadata": {},
   "outputs": [],
   "source": [
    "from modules.spin_arch import *\n",
    "from modules.su_algebra import *"
   ]
  },
  {
   "cell_type": "code",
   "execution_count": 3,
   "id": "48555ca1",
   "metadata": {},
   "outputs": [],
   "source": [
    "from IPython.display import Latex"
   ]
  },
  {
   "cell_type": "code",
   "execution_count": 4,
   "id": "2ee0959b",
   "metadata": {},
   "outputs": [],
   "source": [
    "Ntrunc = 3 #global operator for truncation level or total number of dimensions"
   ]
  },
  {
   "cell_type": "code",
   "execution_count": 7,
   "id": "d0c38d91",
   "metadata": {},
   "outputs": [],
   "source": [
    "#initialize system\n",
    "N = 2\n",
    "Nlevel = Ntrunc\n",
    "\n",
    "# Ej, Ec, g_arr, omega = generate_tmon_arch(N,Nlevel,o=59.87)\n",
    "Ej, Ec, g_arr, omega = generate_tmon_arch(N,Nlevel)\n",
    "sys1 = tmon_system(N, Nlevel, Ec, Ej, g_arr, omega)"
   ]
  },
  {
   "cell_type": "code",
   "execution_count": 28,
   "id": "1a8ba4c4",
   "metadata": {},
   "outputs": [
    {
     "data": {
      "text/plain": [
       "[[0.0, 60.745553203367585, 118.99110640673517],\n",
       " [0.0, 60.745553203367585, 118.99110640673517]]"
      ]
     },
     "execution_count": 28,
     "metadata": {},
     "output_type": "execute_result"
    }
   ],
   "source": [
    "sys1.freq_list()"
   ]
  },
  {
   "cell_type": "code",
   "execution_count": 29,
   "id": "46a59838",
   "metadata": {},
   "outputs": [],
   "source": [
    "# a=0.40824829\n",
    "# b=0.70710678\n",
    "# c=0.57735027\n",
    "\n",
    "a=1\n",
    "b=sqrt(2)\n",
    "c=1"
   ]
  },
  {
   "cell_type": "code",
   "execution_count": 30,
   "id": "5ebfd142",
   "metadata": {},
   "outputs": [],
   "source": [
    "psi_2 = a*basis(Nlevel,0) + b*sqrt(1)*basis(Nlevel,1) + c*basis(Nlevel,2)\n",
    "psi_2 = psi_2/psi_2.norm()\n",
    "psi_2 = psi_2 * psi_2.dag()\n",
    "psi_2\n",
    "rho=tensor([psi_2]*N) #sys1.tensor_projection_op(0,1,1, dim = None)"
   ]
  },
  {
   "cell_type": "code",
   "execution_count": 31,
   "id": "0ce4fcea",
   "metadata": {},
   "outputs": [],
   "source": [
    "psi_3 = a*basis(Nlevel,0) +b*sqrt(1)*basis(Nlevel,1) + c*basis(Nlevel,2)\n",
    "psi_3 = psi_3/psi_3.norm()\n",
    "psi_3 = psi_3 * psi_3.dag()\n",
    "\n",
    "rho_0=tensor([psi_3]*N)\n",
    "# psi_3"
   ]
  },
  {
   "cell_type": "code",
   "execution_count": 32,
   "id": "70598031",
   "metadata": {},
   "outputs": [],
   "source": [
    "# Spin 1\n",
    "# Sx=Qobj(ensemble_op(op_padded2(Qobj(np.array([[0,sqrt(2),0],[sqrt(2),0,sqrt(2)],[0,sqrt(2),0]])/2),Nlevel), N))\n",
    "# Sy=Qobj(ensemble_op(op_padded2(Qobj(1j*np.array([[0,-sqrt(2),0],[sqrt(2),0,-sqrt(2)],[0,sqrt(2),0]])/2),Nlevel), N))\n",
    "# Sz=Qobj(ensemble_op(op_padded2(Qobj(np.array([[1,0,0],[0,0,0],[0,0,-1]])),Nlevel), N))\n",
    "\n",
    "# Spin 1/2\n",
    "Sx=Qobj(ensemble_op(op_padded(Qobj(np.array([[0,1,0],[1,0,1],[0,1,0]])/np.sqrt(2)),Nlevel), N))\n",
    "Sy=Qobj(ensemble_op(op_padded(Qobj(1j*np.array([[0,-1,0],[1,0,-1],[0,1,0]])/np.sqrt(2)),Nlevel), N))\n",
    "Sz=Qobj(ensemble_op(op_padded(Qobj(np.array([[1,0,0],[0,0,0],[0,0,-1]])),Nlevel), N))\n",
    "\n",
    "\n",
    "Jsq=Sx**2+Sy**2+Sz**2\n",
    "# Jsq=Qobj(array(Jsq))\n",
    "Jp=Sx+1j*Sy\n",
    "# Jp=Qobj(array(Jp))\n",
    "Jm=Sx-1j*Sy\n",
    "# Jm=Qobj(array(Jm))"
   ]
  },
  {
   "cell_type": "code",
   "execution_count": null,
   "id": "3d6b190e",
   "metadata": {},
   "outputs": [],
   "source": []
  },
  {
   "cell_type": "code",
   "execution_count": 11,
   "id": "e5dbe7f6",
   "metadata": {},
   "outputs": [],
   "source": [
    "# Phi theta calculation\n",
    "\n",
    "nl=0\n",
    "\n",
    "arr=[0,0,1]\n",
    "# arr=[0,1,0]\n",
    "\n",
    "def rot_basis(arr=arr):\n",
    "\n",
    "    # Finding Eigenstates of Sz\n",
    "    eigenvalues, eigenvectors = Sz.eigenstates()\n",
    "    ebasis=[]\n",
    "    ebasis.append(eigenvectors[-1])\n",
    "\n",
    "    for i in (range(int(N)*(2)+1)):\n",
    "        temp=Jm*ebasis[i]\n",
    "        norm=sqrt((temp.dag()*temp).tr())\n",
    "        if norm==0:\n",
    "            print(\"0\")\n",
    "            break\n",
    "        ebasis.append(temp/norm)\n",
    "\n",
    "    # Finding angle to rotate into\n",
    "    n1=sqrt(arr[0]**2+arr[1]**2)\n",
    "    if n1==0:\n",
    "        phi=0\n",
    "    else:\n",
    "        phi=arccos(arr[0]/n1)+pi/2\n",
    "    theta=pi/2-arccos(n1)\n",
    "\n",
    "    # Rotating in the required basis\n",
    "    tlist=linspace(0,theta+0.0001,100)\n",
    "    H=cos(phi)*Sx+sin(phi)*Sy\n",
    "    n=0\n",
    "    for i in (ebasis):\n",
    "    #     options=Options()\n",
    "    #     options.\n",
    "        res1=mcsolve(H,i,tlist,[],[],ntraj=1, progress_bar=None)\n",
    "        ebasis[n]=res1.states[-1]\n",
    "        n+=1\n",
    "\n",
    "    return ebasis"
   ]
  },
  {
   "cell_type": "code",
   "execution_count": 12,
   "id": "0872c621",
   "metadata": {},
   "outputs": [
    {
     "name": "stdout",
     "output_type": "stream",
     "text": [
      "0\n",
      "No c_ops, using sesolve\n",
      "No c_ops, using sesolve\n",
      "No c_ops, using sesolve\n",
      "No c_ops, using sesolve\n",
      "No c_ops, using sesolve\n",
      "No c_ops, using sesolve\n",
      "No c_ops, using sesolve\n",
      "No c_ops, using sesolve\n",
      "No c_ops, using sesolve\n",
      "No c_ops, using sesolve\n",
      "No c_ops, using sesolve\n",
      "0\n",
      "No c_ops, using sesolve\n",
      "No c_ops, using sesolve\n",
      "No c_ops, using sesolve\n",
      "No c_ops, using sesolve\n",
      "No c_ops, using sesolve\n",
      "No c_ops, using sesolve\n",
      "No c_ops, using sesolve\n",
      "No c_ops, using sesolve\n",
      "No c_ops, using sesolve\n",
      "No c_ops, using sesolve\n",
      "No c_ops, using sesolve\n"
     ]
    }
   ],
   "source": [
    "array_rot_basis=array([0,1,0])\n",
    "nly=rot_basis(array_rot_basis/linalg.norm(array_rot_basis))\n",
    "nlz=rot_basis([0,0,1])"
   ]
  },
  {
   "cell_type": "code",
   "execution_count": 8,
   "id": "c0640d71",
   "metadata": {},
   "outputs": [
    {
     "name": "stdout",
     "output_type": "stream",
     "text": [
      "55 0.0 1.0\n",
      "55 60.745553203367585 1.0\n",
      "55 0.0 1.0\n",
      "55 60.745553203367585 1.0\n"
     ]
    },
    {
     "ename": "NameError",
     "evalue": "name 'Sx' is not defined",
     "output_type": "error",
     "traceback": [
      "\u001b[1;31m---------------------------------------------------------------------------\u001b[0m",
      "\u001b[1;31mNameError\u001b[0m                                 Traceback (most recent call last)",
      "Cell \u001b[1;32mIn[8], line 2\u001b[0m\n\u001b[0;32m      1\u001b[0m H \u001b[38;5;241m=\u001b[39m sys1\u001b[38;5;241m.\u001b[39mH_I()\n\u001b[1;32m----> 2\u001b[0m H_ph\u001b[38;5;241m=\u001b[39m \u001b[38;5;241m-\u001b[39mSx\n",
      "\u001b[1;31mNameError\u001b[0m: name 'Sx' is not defined"
     ]
    }
   ],
   "source": [
    "H = sys1.H_I()\n",
    "H_ph= -Sx\n",
    "\n"
   ]
  },
  {
   "cell_type": "code",
   "execution_count": 9,
   "id": "e4dcdd2c",
   "metadata": {},
   "outputs": [
    {
     "data": {
      "text/latex": [
       "Quantum object: dims = [[3, 3], [3, 3]], shape = (9, 9), type = oper, isherm = True $ \\\\ \\left(\\begin{matrix}0.0 & 0.0 & 0.0 & 0.0 & 0.0 & 0.0 & 0.0 & 0.0 & 0.0\\\\0.0 & 0.0 & 0.0 & 0.018 & 0.0 & 0.0 & 0.0 & 0.0 & 0.0\\\\0.0 & 0.0 & 0.0 & 0.0 & 0.0 & 0.0 & 0.0 & 0.0 & 0.0\\\\0.0 & 0.018 & 0.0 & 0.0 & 0.0 & 0.0 & 0.0 & 0.0 & 0.0\\\\0.0 & 0.0 & 0.0 & 0.0 & 0.0 & 0.0 & 0.0 & 0.0 & 0.0\\\\0.0 & 0.0 & 0.0 & 0.0 & 0.0 & 0.0 & 0.0 & -0.348 & 0.0\\\\0.0 & 0.0 & 0.0 & 0.0 & 0.0 & 0.0 & 0.0 & 0.0 & 0.0\\\\0.0 & 0.0 & 0.0 & 0.0 & 0.0 & -0.348 & 0.0 & 0.0 & 0.0\\\\0.0 & 0.0 & 0.0 & 0.0 & 0.0 & 0.0 & 0.0 & 0.0 & 0.0\\\\\\end{matrix}\\right)$"
      ],
      "text/plain": [
       "Quantum object: dims = [[3, 3], [3, 3]], shape = (9, 9), type = oper, isherm = True\n",
       "Qobj data =\n",
       "[[ 0.          0.          0.          0.          0.          0.\n",
       "   0.          0.          0.        ]\n",
       " [ 0.          0.          0.          0.01818182  0.          0.\n",
       "   0.          0.          0.        ]\n",
       " [ 0.          0.          0.          0.          0.          0.\n",
       "   0.          0.          0.        ]\n",
       " [ 0.          0.01818182  0.          0.          0.          0.\n",
       "   0.          0.          0.        ]\n",
       " [ 0.          0.          0.          0.          0.          0.\n",
       "   0.          0.          0.        ]\n",
       " [ 0.          0.          0.          0.          0.          0.\n",
       "   0.         -0.34809529  0.        ]\n",
       " [ 0.          0.          0.          0.          0.          0.\n",
       "   0.          0.          0.        ]\n",
       " [ 0.          0.          0.          0.          0.         -0.34809529\n",
       "   0.          0.          0.        ]\n",
       " [ 0.          0.          0.          0.          0.          0.\n",
       "   0.          0.          0.        ]]"
      ]
     },
     "execution_count": 9,
     "metadata": {},
     "output_type": "execute_result"
    }
   ],
   "source": [
    "H"
   ]
  },
  {
   "cell_type": "code",
   "execution_count": 35,
   "id": "672c817b",
   "metadata": {},
   "outputs": [
    {
     "data": {
      "text/plain": [
       "0.01818181818181818"
      ]
     },
     "execution_count": 35,
     "metadata": {},
     "output_type": "execute_result"
    }
   ],
   "source": [
    "−0.348"
   ]
  },
  {
   "cell_type": "code",
   "execution_count": 36,
   "id": "b2cd0103",
   "metadata": {},
   "outputs": [
    {
     "data": {
      "text/plain": [
       "0.4"
      ]
     },
     "execution_count": 36,
     "metadata": {},
     "output_type": "execute_result"
    }
   ],
   "source": [
    "2/5"
   ]
  },
  {
   "cell_type": "code",
   "execution_count": 34,
   "id": "33117b5b",
   "metadata": {},
   "outputs": [
    {
     "data": {
      "text/latex": [
       "Quantum object: dims = [[3, 3], [3, 3]], shape = (9, 9), type = oper, isherm = True $ \\\\ \\left(\\begin{matrix}0.0 & 0.0 & 0.0 & 0.0 & 0.0 & 0.0 & 0.0 & 0.0 & 0.0\\\\0.0 & 0.0 & 0.0 & 0.017 & 0.0 & 0.0 & 0.0 & 0.0 & 0.0\\\\0.0 & 0.0 & 0.0 & 0.0 & 0.0 & 0.0 & 0.0 & 0.0 & 0.0\\\\0.0 & 0.017 & 0.0 & 0.0 & 0.0 & 0.0 & 0.0 & 0.0 & 0.0\\\\0.0 & 0.0 & 0.0 & 0.0 & 0.0 & 0.0 & 0.0 & 0.0 & 0.0\\\\0.0 & 0.0 & 0.0 & 0.0 & 0.0 & 0.0 & 0.0 & -2.284 & 0.0\\\\0.0 & 0.0 & 0.0 & 0.0 & 0.0 & 0.0 & 0.0 & 0.0 & 0.0\\\\0.0 & 0.0 & 0.0 & 0.0 & 0.0 & -2.284 & 0.0 & 0.0 & 0.0\\\\0.0 & 0.0 & 0.0 & 0.0 & 0.0 & 0.0 & 0.0 & 0.0 & 0.0\\\\\\end{matrix}\\right)$"
      ],
      "text/plain": [
       "Quantum object: dims = [[3, 3], [3, 3]], shape = (9, 9), type = oper, isherm = True\n",
       "Qobj data =\n",
       "[[ 0.          0.          0.          0.          0.          0.\n",
       "   0.          0.          0.        ]\n",
       " [ 0.          0.          0.          0.01670286  0.          0.\n",
       "   0.          0.          0.        ]\n",
       " [ 0.          0.          0.          0.          0.          0.\n",
       "   0.          0.          0.        ]\n",
       " [ 0.          0.01670286  0.          0.          0.          0.\n",
       "   0.          0.          0.        ]\n",
       " [ 0.          0.          0.          0.          0.          0.\n",
       "   0.          0.          0.        ]\n",
       " [ 0.          0.          0.          0.          0.          0.\n",
       "   0.         -2.2842701   0.        ]\n",
       " [ 0.          0.          0.          0.          0.          0.\n",
       "   0.          0.          0.        ]\n",
       " [ 0.          0.          0.          0.          0.         -2.2842701\n",
       "   0.          0.          0.        ]\n",
       " [ 0.          0.          0.          0.          0.          0.\n",
       "   0.          0.          0.        ]]"
      ]
     },
     "execution_count": 34,
     "metadata": {},
     "output_type": "execute_result"
    }
   ],
   "source": [
    "H"
   ]
  },
  {
   "cell_type": "code",
   "execution_count": 14,
   "id": "86ea5cb5",
   "metadata": {
    "scrolled": true
   },
   "outputs": [
    {
     "data": {
      "text/plain": [
       "array([[0.+0.j, 0.+0.j, 0.+0.j, 0.+0.j, 0.+0.j, 0.+0.j, 0.+0.j, 0.+0.j,\n",
       "        0.+0.j, 0.+0.j, 0.+0.j, 0.+0.j, 0.+0.j, 0.+0.j, 0.+0.j, 0.+0.j,\n",
       "        0.+0.j, 0.+0.j, 0.+0.j, 0.+0.j, 0.+0.j, 0.+0.j, 0.+0.j, 0.+0.j,\n",
       "        0.+0.j, 0.+0.j, 0.+0.j, 0.+0.j, 0.+0.j, 0.+0.j, 0.+0.j, 0.+0.j,\n",
       "        0.+0.j, 0.+0.j, 0.+0.j, 0.+0.j, 0.+0.j, 0.+0.j, 0.+0.j, 0.+0.j,\n",
       "        0.+0.j, 0.+0.j, 0.+0.j, 0.+0.j, 0.+0.j, 0.+0.j, 0.+0.j, 0.+0.j,\n",
       "        0.+0.j, 0.+0.j, 0.+0.j, 0.+0.j, 0.+0.j, 0.+0.j, 0.+0.j, 0.+0.j,\n",
       "        0.+0.j, 0.+0.j, 0.+0.j, 0.+0.j, 0.+0.j, 0.+0.j, 0.+0.j, 0.+0.j,\n",
       "        0.+0.j, 0.+0.j, 0.+0.j, 0.+0.j, 0.+0.j, 0.+0.j, 0.+0.j, 0.+0.j,\n",
       "        0.+0.j, 0.+0.j, 0.+0.j, 0.+0.j, 0.+0.j, 0.+0.j, 0.+0.j, 0.+0.j,\n",
       "        0.+0.j, 0.+0.j, 0.+0.j, 0.+0.j, 0.+0.j, 0.+0.j, 0.+0.j, 0.+0.j,\n",
       "        0.+0.j, 0.+0.j, 0.+0.j, 0.+0.j, 0.+0.j, 0.+0.j, 0.+0.j, 0.+0.j,\n",
       "        1.+0.j, 0.+0.j, 0.+0.j, 0.+0.j, 0.+0.j, 0.+0.j, 0.+0.j, 0.+0.j,\n",
       "        0.+0.j, 0.+0.j, 0.+0.j, 0.+0.j, 0.+0.j, 0.+0.j, 0.+0.j, 0.+0.j,\n",
       "        0.+0.j, 0.+0.j, 0.+0.j, 0.+0.j, 0.+0.j, 0.+0.j, 0.+0.j, 0.+0.j,\n",
       "        0.+0.j, 0.+0.j, 0.+0.j, 0.+0.j, 0.+0.j, 0.+0.j, 0.+0.j, 0.+0.j,\n",
       "        0.+0.j, 0.+0.j, 0.+0.j, 0.+0.j, 0.+0.j, 0.+0.j, 0.+0.j, 0.+0.j,\n",
       "        0.+0.j, 0.+0.j, 0.+0.j, 0.+0.j, 0.+0.j, 0.+0.j, 0.+0.j, 0.+0.j,\n",
       "        0.+0.j, 0.+0.j, 0.+0.j, 0.+0.j, 0.+0.j, 0.+0.j, 0.+0.j, 0.+0.j,\n",
       "        0.+0.j, 0.+0.j, 0.+0.j, 0.+0.j, 0.+0.j, 0.+0.j, 0.+0.j, 0.+0.j,\n",
       "        0.+0.j, 0.+0.j, 0.+0.j, 0.+0.j, 0.+0.j, 0.+0.j, 0.+0.j, 0.+0.j,\n",
       "        0.+0.j, 0.+0.j, 0.+0.j, 0.+0.j, 0.+0.j, 0.+0.j, 0.+0.j, 0.+0.j,\n",
       "        0.+0.j, 0.+0.j, 0.+0.j, 0.+0.j, 0.+0.j, 0.+0.j, 0.+0.j, 0.+0.j,\n",
       "        0.+0.j, 0.+0.j, 0.+0.j, 0.+0.j, 0.+0.j, 0.+0.j, 0.+0.j, 0.+0.j,\n",
       "        0.+0.j, 0.+0.j, 0.+0.j, 0.+0.j, 0.+0.j, 0.+0.j, 0.+0.j, 0.+0.j,\n",
       "        0.+0.j, 0.+0.j, 0.+0.j, 0.+0.j, 0.+0.j, 0.+0.j, 0.+0.j, 0.+0.j,\n",
       "        0.+0.j, 0.+0.j, 0.+0.j, 0.+0.j, 0.+0.j, 0.+0.j, 0.+0.j, 0.+0.j,\n",
       "        0.+0.j, 0.+0.j, 0.+0.j, 0.+0.j, 0.+0.j, 0.+0.j, 0.+0.j, 0.+0.j,\n",
       "        0.+0.j, 0.+0.j, 0.+0.j, 0.+0.j, 0.+0.j, 0.+0.j, 0.+0.j, 0.+0.j,\n",
       "        0.+0.j, 0.+0.j, 0.+0.j, 0.+0.j, 0.+0.j, 0.+0.j, 0.+0.j, 0.+0.j,\n",
       "        0.+0.j, 0.+0.j, 0.+0.j]])"
      ]
     },
     "execution_count": 14,
     "metadata": {},
     "output_type": "execute_result"
    }
   ],
   "source": [
    "sys1.tensor_projection_op(0,0,1)[15]"
   ]
  },
  {
   "cell_type": "code",
   "execution_count": 22,
   "id": "59ceb452",
   "metadata": {},
   "outputs": [
    {
     "data": {
      "text/latex": [
       "Quantum object: dims = [[3, 3, 3, 3, 3], [3, 3, 3, 3, 3]], shape = (243, 243), type = oper, isherm = True $ \\\\ \\left(\\begin{matrix}0.0 & 0.0 & 0.0 & 0.0 & 0.0 & \\cdots & 0.0 & 0.0 & 0.0 & 0.0 & 0.0\\\\0.0 & 0.0 & 0.0 & 0.017 & 0.0 & \\cdots & 0.0 & 0.0 & 0.0 & 0.0 & 0.0\\\\0.0 & 0.0 & 0.0 & 0.0 & 0.0 & \\cdots & 0.0 & 0.0 & 0.0 & 0.0 & 0.0\\\\0.0 & 0.017 & 0.0 & 0.0 & 0.0 & \\cdots & 0.0 & 0.0 & 0.0 & 0.0 & 0.0\\\\0.0 & 0.0 & 0.0 & 0.0 & 0.0 & \\cdots & 0.0 & 0.0 & 0.0 & 0.0 & 0.0\\\\\\vdots & \\vdots & \\vdots & \\vdots & \\vdots & \\ddots & \\vdots & \\vdots & \\vdots & \\vdots & \\vdots\\\\0.0 & 0.0 & 0.0 & 0.0 & 0.0 & \\cdots & 0.0 & 0.0 & 0.0 & 0.0 & 0.0\\\\0.0 & 0.0 & 0.0 & 0.0 & 0.0 & \\cdots & 0.0 & 0.0 & 0.0 & -2.284 & 0.0\\\\0.0 & 0.0 & 0.0 & 0.0 & 0.0 & \\cdots & 0.0 & 0.0 & 0.0 & 0.0 & 0.0\\\\0.0 & 0.0 & 0.0 & 0.0 & 0.0 & \\cdots & 0.0 & -2.284 & 0.0 & 0.0 & 0.0\\\\0.0 & 0.0 & 0.0 & 0.0 & 0.0 & \\cdots & 0.0 & 0.0 & 0.0 & 0.0 & 0.0\\\\\\end{matrix}\\right)$"
      ],
      "text/plain": [
       "Quantum object: dims = [[3, 3, 3, 3, 3], [3, 3, 3, 3, 3]], shape = (243, 243), type = oper, isherm = True\n",
       "Qobj data =\n",
       "[[0. 0. 0. ... 0. 0. 0.]\n",
       " [0. 0. 0. ... 0. 0. 0.]\n",
       " [0. 0. 0. ... 0. 0. 0.]\n",
       " ...\n",
       " [0. 0. 0. ... 0. 0. 0.]\n",
       " [0. 0. 0. ... 0. 0. 0.]\n",
       " [0. 0. 0. ... 0. 0. 0.]]"
      ]
     },
     "execution_count": 22,
     "metadata": {},
     "output_type": "execute_result"
    }
   ],
   "source": [
    "H"
   ]
  },
  {
   "cell_type": "code",
   "execution_count": 16,
   "id": "b231f446",
   "metadata": {},
   "outputs": [],
   "source": [
    "# Function for Eigenspectrum\n",
    "def eigenspectrum(rho,nl=0):\n",
    "    if nl==0:\n",
    "        nl=rot_basis()\n",
    "    prob=[]\n",
    "    for i in nl:\n",
    "        prob.append(expect(rho,i*i.dag()))\n",
    "    return array(prob)"
   ]
  },
  {
   "cell_type": "code",
   "execution_count": 17,
   "id": "b8a74630",
   "metadata": {},
   "outputs": [],
   "source": [
    "def hell_dist(rho,rho_0,nl):\n",
    "    return 1-sum(sqrt(eigenspectrum(rho,nl)*eigenspectrum(rho_0,nl)))"
   ]
  },
  {
   "cell_type": "code",
   "execution_count": 18,
   "id": "5e6bf304",
   "metadata": {},
   "outputs": [],
   "source": [
    "# t1=5.2525,t2=15.5555\n",
    "def time_evol(rho,t_ph=0,t1=175,t2=86.285,H_ph=H_ph,H=H):\n",
    "    # First part: entanglement generation\n",
    "    times = np.linspace(0,t1,100) \n",
    "    options = Options()\n",
    "    options.store_final_state = True\n",
    "    rho = mesolve(H, rho, times, [], options = options, progress_bar=True).states[-1]\n",
    "\n",
    "    # Second part: phase encoding\n",
    "\n",
    "#     times = np.linspace(0,t_ph,int(t_ph+10)) #time scale is ~ 1/freq of self energy \n",
    "#     options = Options()\n",
    "#     options.store_final_state = True\n",
    "#     rho = mesolve(H_ph, rho, times, [], options = options, progress_bar=True).states[-1]\n",
    "\n",
    "#     # Third part: entanglement decoding\n",
    "#     times = np.linspace(0,t2,100) #time scale is ~ 1/freq of self energy \n",
    "#     options = Options()\n",
    "#     options.store_final_state = True\n",
    "#     rho = mesolve(-H, rho, times, [], options = options, progress_bar=True).states[-1]\n",
    "\n",
    "    return rho"
   ]
  },
  {
   "cell_type": "code",
   "execution_count": 19,
   "id": "42e81034",
   "metadata": {
    "scrolled": true
   },
   "outputs": [
    {
     "name": "stdout",
     "output_type": "stream",
     "text": [
      "10.0%. Run time:  15.71s. Est. time left: 00:00:02:21\n"
     ]
    },
    {
     "ename": "KeyboardInterrupt",
     "evalue": "",
     "output_type": "error",
     "traceback": [
      "\u001b[1;31m---------------------------------------------------------------------------\u001b[0m",
      "\u001b[1;31mKeyboardInterrupt\u001b[0m                         Traceback (most recent call last)",
      "Cell \u001b[1;32mIn[19], line 2\u001b[0m\n\u001b[0;32m      1\u001b[0m t_ph\u001b[38;5;241m=\u001b[39m\u001b[38;5;241m0.1\u001b[39m\n\u001b[1;32m----> 2\u001b[0m a\u001b[38;5;241m=\u001b[39mtime_evol(rho)\n",
      "Cell \u001b[1;32mIn[18], line 7\u001b[0m, in \u001b[0;36mtime_evol\u001b[1;34m(rho, t_ph, t1, t2, H_ph, H)\u001b[0m\n\u001b[0;32m      5\u001b[0m     options \u001b[38;5;241m=\u001b[39m Options()\n\u001b[0;32m      6\u001b[0m     options\u001b[38;5;241m.\u001b[39mstore_final_state \u001b[38;5;241m=\u001b[39m \u001b[38;5;28;01mTrue\u001b[39;00m\n\u001b[1;32m----> 7\u001b[0m     rho \u001b[38;5;241m=\u001b[39m mesolve(H, rho, times, [], options \u001b[38;5;241m=\u001b[39m options, progress_bar\u001b[38;5;241m=\u001b[39m\u001b[38;5;28;01mTrue\u001b[39;00m)\u001b[38;5;241m.\u001b[39mstates[\u001b[38;5;241m-\u001b[39m\u001b[38;5;241m1\u001b[39m]\n\u001b[0;32m      9\u001b[0m     \u001b[38;5;66;03m# Second part: phase encoding\u001b[39;00m\n\u001b[0;32m     10\u001b[0m \n\u001b[0;32m     11\u001b[0m \u001b[38;5;66;03m#     times = np.linspace(0,t_ph,int(t_ph+10)) #time scale is ~ 1/freq of self energy \u001b[39;00m\n\u001b[1;32m   (...)\u001b[0m\n\u001b[0;32m     19\u001b[0m \u001b[38;5;66;03m#     options.store_final_state = True\u001b[39;00m\n\u001b[0;32m     20\u001b[0m \u001b[38;5;66;03m#     rho = mesolve(-H, rho, times, [], options = options, progress_bar=True).states[-1]\u001b[39;00m\n\u001b[0;32m     22\u001b[0m     \u001b[38;5;28;01mreturn\u001b[39;00m rho\n",
      "File \u001b[1;32mD:\\foranaconda\\anaconda3\\Lib\\site-packages\\qutip\\mesolve.py:244\u001b[0m, in \u001b[0;36mmesolve\u001b[1;34m(H, rho0, tlist, c_ops, e_ops, args, options, progress_bar, _safe_mode)\u001b[0m\n\u001b[0;32m    241\u001b[0m     v \u001b[38;5;241m=\u001b[39m rho0\u001b[38;5;241m.\u001b[39mfull()\u001b[38;5;241m.\u001b[39mravel(\u001b[38;5;124m'\u001b[39m\u001b[38;5;124mF\u001b[39m\u001b[38;5;124m'\u001b[39m)\n\u001b[0;32m    242\u001b[0m     func(\u001b[38;5;241m0.\u001b[39m, v, \u001b[38;5;241m*\u001b[39mode_args) \u001b[38;5;241m+\u001b[39m v\n\u001b[1;32m--> 244\u001b[0m res \u001b[38;5;241m=\u001b[39m _generic_ode_solve(func, ode_args, rho0, tlist, e_ops, options,\n\u001b[0;32m    245\u001b[0m                          progress_bar, dims\u001b[38;5;241m=\u001b[39mrho0\u001b[38;5;241m.\u001b[39mdims)\n\u001b[0;32m    246\u001b[0m res\u001b[38;5;241m.\u001b[39mnum_collapse \u001b[38;5;241m=\u001b[39m \u001b[38;5;28mlen\u001b[39m(c_ops)\n\u001b[0;32m    248\u001b[0m \u001b[38;5;28;01mif\u001b[39;00m e_ops_dict:\n",
      "File \u001b[1;32mD:\\foranaconda\\anaconda3\\Lib\\site-packages\\qutip\\mesolve.py:531\u001b[0m, in \u001b[0;36m_generic_ode_solve\u001b[1;34m(func, ode_args, rho0, tlist, e_ops, opt, progress_bar, dims)\u001b[0m\n\u001b[0;32m    526\u001b[0m             output\u001b[38;5;241m.\u001b[39mexpect[m][t_idx] \u001b[38;5;241m=\u001b[39m expect_rho_vec(e_ops_data[m], r\u001b[38;5;241m.\u001b[39my,\n\u001b[0;32m    527\u001b[0m                                                      e_ops[m]\u001b[38;5;241m.\u001b[39misherm\n\u001b[0;32m    528\u001b[0m                                                      \u001b[38;5;129;01mand\u001b[39;00m rho0\u001b[38;5;241m.\u001b[39misherm)\n\u001b[0;32m    530\u001b[0m     \u001b[38;5;28;01mif\u001b[39;00m t_idx \u001b[38;5;241m<\u001b[39m n_tsteps \u001b[38;5;241m-\u001b[39m \u001b[38;5;241m1\u001b[39m:\n\u001b[1;32m--> 531\u001b[0m         r\u001b[38;5;241m.\u001b[39mintegrate(r\u001b[38;5;241m.\u001b[39mt \u001b[38;5;241m+\u001b[39m dt[t_idx])\n\u001b[0;32m    533\u001b[0m progress_bar\u001b[38;5;241m.\u001b[39mfinished()\n\u001b[0;32m    535\u001b[0m \u001b[38;5;28;01mif\u001b[39;00m opt\u001b[38;5;241m.\u001b[39mstore_final_state:\n",
      "File \u001b[1;32mD:\\foranaconda\\anaconda3\\Lib\\site-packages\\scipy\\integrate\\_ode.py:431\u001b[0m, in \u001b[0;36mode.integrate\u001b[1;34m(self, t, step, relax)\u001b[0m\n\u001b[0;32m    428\u001b[0m     mth \u001b[38;5;241m=\u001b[39m \u001b[38;5;28mself\u001b[39m\u001b[38;5;241m.\u001b[39m_integrator\u001b[38;5;241m.\u001b[39mrun\n\u001b[0;32m    430\u001b[0m \u001b[38;5;28;01mtry\u001b[39;00m:\n\u001b[1;32m--> 431\u001b[0m     \u001b[38;5;28mself\u001b[39m\u001b[38;5;241m.\u001b[39m_y, \u001b[38;5;28mself\u001b[39m\u001b[38;5;241m.\u001b[39mt \u001b[38;5;241m=\u001b[39m mth(\u001b[38;5;28mself\u001b[39m\u001b[38;5;241m.\u001b[39mf, \u001b[38;5;28mself\u001b[39m\u001b[38;5;241m.\u001b[39mjac \u001b[38;5;129;01mor\u001b[39;00m (\u001b[38;5;28;01mlambda\u001b[39;00m: \u001b[38;5;28;01mNone\u001b[39;00m),\n\u001b[0;32m    432\u001b[0m                           \u001b[38;5;28mself\u001b[39m\u001b[38;5;241m.\u001b[39m_y, \u001b[38;5;28mself\u001b[39m\u001b[38;5;241m.\u001b[39mt, t,\n\u001b[0;32m    433\u001b[0m                           \u001b[38;5;28mself\u001b[39m\u001b[38;5;241m.\u001b[39mf_params, \u001b[38;5;28mself\u001b[39m\u001b[38;5;241m.\u001b[39mjac_params)\n\u001b[0;32m    434\u001b[0m \u001b[38;5;28;01mexcept\u001b[39;00m \u001b[38;5;167;01mSystemError\u001b[39;00m \u001b[38;5;28;01mas\u001b[39;00m e:\n\u001b[0;32m    435\u001b[0m     \u001b[38;5;66;03m# f2py issue with tuple returns, see ticket 1187.\u001b[39;00m\n\u001b[0;32m    436\u001b[0m     \u001b[38;5;28;01mraise\u001b[39;00m \u001b[38;5;167;01mValueError\u001b[39;00m(\n\u001b[0;32m    437\u001b[0m         \u001b[38;5;124m'\u001b[39m\u001b[38;5;124mFunction to integrate must not return a tuple.\u001b[39m\u001b[38;5;124m'\u001b[39m\n\u001b[0;32m    438\u001b[0m     ) \u001b[38;5;28;01mfrom\u001b[39;00m \u001b[38;5;21;01me\u001b[39;00m\n",
      "File \u001b[1;32mD:\\foranaconda\\anaconda3\\Lib\\site-packages\\scipy\\integrate\\_ode.py:1007\u001b[0m, in \u001b[0;36mvode.run\u001b[1;34m(self, f, jac, y0, t0, t1, f_params, jac_params)\u001b[0m\n\u001b[0;32m   1003\u001b[0m     jac \u001b[38;5;241m=\u001b[39m _vode_banded_jac_wrapper(jac, \u001b[38;5;28mself\u001b[39m\u001b[38;5;241m.\u001b[39mml, jac_params)\n\u001b[0;32m   1005\u001b[0m args \u001b[38;5;241m=\u001b[39m ((f, jac, y0, t0, t1) \u001b[38;5;241m+\u001b[39m \u001b[38;5;28mtuple\u001b[39m(\u001b[38;5;28mself\u001b[39m\u001b[38;5;241m.\u001b[39mcall_args) \u001b[38;5;241m+\u001b[39m\n\u001b[0;32m   1006\u001b[0m         (f_params, jac_params))\n\u001b[1;32m-> 1007\u001b[0m y1, t, istate \u001b[38;5;241m=\u001b[39m \u001b[38;5;28mself\u001b[39m\u001b[38;5;241m.\u001b[39mrunner(\u001b[38;5;241m*\u001b[39margs)\n\u001b[0;32m   1008\u001b[0m \u001b[38;5;28mself\u001b[39m\u001b[38;5;241m.\u001b[39mistate \u001b[38;5;241m=\u001b[39m istate\n\u001b[0;32m   1009\u001b[0m \u001b[38;5;28;01mif\u001b[39;00m istate \u001b[38;5;241m<\u001b[39m \u001b[38;5;241m0\u001b[39m:\n",
      "\u001b[1;31mKeyboardInterrupt\u001b[0m: "
     ]
    }
   ],
   "source": [
    "t_ph=0.1\n",
    "a=time_evol(rho)"
   ]
  },
  {
   "cell_type": "code",
   "execution_count": null,
   "id": "3bd75ead",
   "metadata": {},
   "outputs": [],
   "source": [
    "sum(eigenspectrum(a,nly))"
   ]
  },
  {
   "cell_type": "code",
   "execution_count": null,
   "id": "fa30444f",
   "metadata": {},
   "outputs": [],
   "source": [
    "ang=linspace(-N,N,int(2*(N)+1))\n",
    "# plt.plot(ang,(eigenspectrum(time_evol(rho,t_ph),nly)),\".\")\n",
    "plt.plot(ang,(eigenspectrum(a,nly)),\".\")\n",
    "plt.grid()\n",
    "plt.plot(ang,(eigenspectrum(rho,nly)),\".\")\n",
    "plt.title(\"Distribution in Sz basis\")"
   ]
  },
  {
   "cell_type": "code",
   "execution_count": null,
   "id": "e11c059e",
   "metadata": {},
   "outputs": [],
   "source": [
    "# a=time_evol(rho,t_ph)\n",
    "hell_dist(a,rho,nly),hell_dist(a,rho,nlz)"
   ]
  },
  {
   "cell_type": "code",
   "execution_count": null,
   "id": "fe759a4f",
   "metadata": {},
   "outputs": [],
   "source": [
    "t_ph=0.002"
   ]
  },
  {
   "cell_type": "code",
   "execution_count": null,
   "id": "f705f084",
   "metadata": {
    "scrolled": true
   },
   "outputs": [],
   "source": [
    "arr1=[0.76894092,0.62212189,0.14728953]\n",
    "arr2=[0,1,0]\n",
    "nl=[rot_basis(arr1),rot_basis(arr2)]\n",
    "hdist=[]\n",
    "rho1=time_evol(rho,t_ph)\n",
    "for i in nl:\n",
    "    hdist.append(hell_dist(rho1,rho_0,i))\n",
    "print(hdist)"
   ]
  },
  {
   "cell_type": "code",
   "execution_count": null,
   "id": "f0c750a5",
   "metadata": {
    "scrolled": true
   },
   "outputs": [],
   "source": [
    "t_ph=linspace(0.00000001,0.02,10)\n",
    "arr1=[0,1,0]\n",
    "arr2=array([0,9.32410521e-01,2.69307118e-01])/0.9705234172738736\n",
    "nl=[rot_basis(arr1),rot_basis(arr2)]\n",
    "hdist=[]\n",
    "\n",
    "for i in tqdm(t_ph):\n",
    "    rho1=time_evol(rho,i)\n",
    "    temp=[]\n",
    "    for i in nl:\n",
    "        temp.append(hell_dist(rho1,rho_0,i))\n",
    "    hdist.append(temp)\n",
    "hdist=array(hdist)"
   ]
  },
  {
   "cell_type": "code",
   "execution_count": null,
   "id": "3dc25e86",
   "metadata": {},
   "outputs": [],
   "source": [
    "plt.plot(t_ph,hdist.transpose()[0])\n",
    "plt.plot(t_ph,hdist.transpose()[1])\n",
    "plt.xlim([0,0.0025])\n",
    "plt.ylim([0,0.00009])"
   ]
  },
  {
   "cell_type": "code",
   "execution_count": null,
   "id": "81339bfa",
   "metadata": {
    "scrolled": true
   },
   "outputs": [],
   "source": [
    "ang=linspace(-N/2,N/2,int(2*(N/2)+1))\n",
    "plt.plot(array(ang),(eigenspectrum(time_evol(rho,0.0001),nl[0])),'.')\n",
    "plt.plot(array(ang),(eigenspectrum(rho_0,nl[0])),'.')"
   ]
  },
  {
   "cell_type": "code",
   "execution_count": null,
   "id": "0c0551e3",
   "metadata": {},
   "outputs": [],
   "source": []
  },
  {
   "cell_type": "code",
   "execution_count": null,
   "id": "290bff81",
   "metadata": {},
   "outputs": [],
   "source": [
    "arr2=[[0],[9.32410521e-01],[2.69307118e-01]]\n",
    "Qobj(arr2).norm()"
   ]
  },
  {
   "cell_type": "code",
   "execution_count": null,
   "id": "9edad561",
   "metadata": {},
   "outputs": [],
   "source": []
  },
  {
   "cell_type": "code",
   "execution_count": null,
   "id": "6bd5e7be",
   "metadata": {},
   "outputs": [],
   "source": []
  },
  {
   "cell_type": "code",
   "execution_count": null,
   "id": "70a4030c",
   "metadata": {},
   "outputs": [],
   "source": []
  },
  {
   "cell_type": "code",
   "execution_count": null,
   "id": "fd7d7188",
   "metadata": {},
   "outputs": [],
   "source": []
  },
  {
   "cell_type": "code",
   "execution_count": null,
   "id": "15558e21",
   "metadata": {},
   "outputs": [],
   "source": []
  }
 ],
 "metadata": {
  "kernelspec": {
   "display_name": "Python 3 (ipykernel)",
   "language": "python",
   "name": "python3"
  },
  "language_info": {
   "codemirror_mode": {
    "name": "ipython",
    "version": 3
   },
   "file_extension": ".py",
   "mimetype": "text/x-python",
   "name": "python",
   "nbconvert_exporter": "python",
   "pygments_lexer": "ipython3",
   "version": "3.11.4"
  }
 },
 "nbformat": 4,
 "nbformat_minor": 5
}
