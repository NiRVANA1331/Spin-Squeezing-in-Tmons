{
 "cells": [
  {
   "cell_type": "code",
   "execution_count": 1,
   "id": "08b42426",
   "metadata": {},
   "outputs": [],
   "source": [
    "import numpy as np\n",
    "from qutip import *\n",
    "from tqdm.auto import tqdm\n",
    "import matplotlib.pyplot as plt\n",
    "import math\n",
    "from numpy import *"
   ]
  },
  {
   "cell_type": "code",
   "execution_count": 2,
   "id": "c279a703",
   "metadata": {},
   "outputs": [],
   "source": [
    "from modules.spin_arch import *\n",
    "from modules.su_algebra import *"
   ]
  },
  {
   "cell_type": "code",
   "execution_count": 3,
   "id": "636cd0d6",
   "metadata": {},
   "outputs": [],
   "source": [
    "from IPython.display import Latex"
   ]
  },
  {
   "cell_type": "code",
   "execution_count": 4,
   "id": "e7444d9c",
   "metadata": {},
   "outputs": [],
   "source": [
    "Ntrunc = 3 #global operator for truncation level or total number of dimensions"
   ]
  },
  {
   "cell_type": "markdown",
   "id": "dd351e97",
   "metadata": {},
   "source": [
    "### Hamiltonian: \n",
    "$$\n",
    "H' = \\sum_{n,i} \\left(\\frac{(g^n_{i-1})^2 \\mathcal H(i)}{v^n_{i-1} - \\omega} + v^n_i - \\Delta_i \\right) \\sigma^n_{i,i} +  \\frac{1}{2} \\sum_{n \\neq m,i}\\frac{g^n_{i}g^m_{i}}{\\omega - v^m_{i}} ( \\sigma^n_{i,i+1}\\sigma^m_{i+1,i} + \\sigma^n_{i+1,i}\\sigma^m_{i,i+1} )\n",
    "$$\n",
    "\n",
    "where $\\mathcal H(i) = 1$ for $i>0$, otherwise 0."
   ]
  },
  {
   "cell_type": "markdown",
   "id": "4d91c6f6",
   "metadata": {},
   "source": [
    "### Parameters:\n",
    "$$v^n_{i-1} = (\\sqrt{8 E^n_c E^n_j})i - 0.5*E^n_c i (i+1) $$\n",
    "with default values set as $v \\approx 60 * 100Mhz$, $g = 100Mhz$, $\\omega = 55*100MHz$ "
   ]
  },
  {
   "cell_type": "code",
   "execution_count": 5,
   "id": "8b4eb45d",
   "metadata": {},
   "outputs": [],
   "source": [
    "#initialize system\n",
    "N = 4\n",
    "Nlevel = Ntrunc\n",
    "\n",
    "Ej, Ec, g_arr, omega = generate_tmon_arch(N,Nlevel,o=59.87)\n",
    "sys1 = tmon_system(N, Nlevel, Ec, Ej, g_arr, omega)"
   ]
  },
  {
   "cell_type": "code",
   "execution_count": 6,
   "id": "b6f8bcd1",
   "metadata": {},
   "outputs": [
    {
     "name": "stdout",
     "output_type": "stream",
     "text": [
      "59.87 0.0 -0.571067524025816\n",
      "59.87 60.745553203367585 0.6155941838618952\n",
      "59.87 0.0 -0.571067524025816\n",
      "59.87 60.745553203367585 0.6155941838618952\n",
      "59.87 0.0 -0.571067524025816\n",
      "59.87 60.745553203367585 0.6155941838618952\n",
      "59.87 0.0 -0.571067524025816\n",
      "59.87 60.745553203367585 0.6155941838618952\n",
      "59.87 0.0 -0.571067524025816\n",
      "59.87 60.745553203367585 0.6155941838618952\n",
      "59.87 0.0 -0.571067524025816\n",
      "59.87 60.745553203367585 0.6155941838618952\n",
      "59.87 0.0 -0.571067524025816\n",
      "59.87 60.745553203367585 0.6155941838618952\n",
      "59.87 0.0 -0.571067524025816\n",
      "59.87 60.745553203367585 0.6155941838618952\n",
      "59.87 0.0 -0.571067524025816\n",
      "59.87 60.745553203367585 0.6155941838618952\n",
      "59.87 0.0 -0.571067524025816\n",
      "59.87 60.745553203367585 0.6155941838618952\n",
      "59.87 0.0 -0.571067524025816\n",
      "59.87 60.745553203367585 0.6155941838618952\n",
      "59.87 0.0 -0.571067524025816\n",
      "59.87 60.745553203367585 0.6155941838618952\n"
     ]
    }
   ],
   "source": [
    "H = sys1.H_I()"
   ]
  },
  {
   "cell_type": "code",
   "execution_count": 7,
   "id": "c03ca25e",
   "metadata": {},
   "outputs": [
    {
     "data": {
      "text/plain": [
       "[[0.0, 60.745553203367585, 118.99110640673517],\n",
       " [0.0, 60.745553203367585, 118.99110640673517],\n",
       " [0.0, 60.745553203367585, 118.99110640673517],\n",
       " [0.0, 60.745553203367585, 118.99110640673517]]"
      ]
     },
     "execution_count": 7,
     "metadata": {},
     "output_type": "execute_result"
    }
   ],
   "source": [
    "sys1.freq_list()"
   ]
  },
  {
   "cell_type": "code",
   "execution_count": 8,
   "id": "626d4bfc",
   "metadata": {},
   "outputs": [
    {
     "data": {
      "text/plain": [
       "array([[0., 0., 0.],\n",
       "       [0., 0., 0.],\n",
       "       [0., 0., 0.],\n",
       "       [0., 0., 0.]])"
      ]
     },
     "execution_count": 8,
     "metadata": {},
     "output_type": "execute_result"
    }
   ],
   "source": [
    "sys1.self_energy"
   ]
  },
  {
   "cell_type": "markdown",
   "id": "6f10176b",
   "metadata": {},
   "source": [
    "### Hamiltonian Evolution: $$e^{-iHt} \\rho_0 e^{iHt}$$"
   ]
  },
  {
   "cell_type": "code",
   "execution_count": 9,
   "id": "cbaeb640",
   "metadata": {},
   "outputs": [
    {
     "data": {
      "text/latex": [
       "Quantum object: dims = [[3], [3]], shape = (3, 3), type = oper, isherm = True $ \\\\ \\left(\\begin{matrix}0.250 & 0.354 & 0.250\\\\0.354 & 0.500 & 0.354\\\\0.250 & 0.354 & 0.250\\\\\\end{matrix}\\right)$"
      ],
      "text/plain": [
       "Quantum object: dims = [[3], [3]], shape = (3, 3), type = oper, isherm = True\n",
       "Qobj data =\n",
       "[[0.25       0.35355339 0.25      ]\n",
       " [0.35355339 0.5        0.35355339]\n",
       " [0.25       0.35355339 0.25      ]]"
      ]
     },
     "execution_count": 9,
     "metadata": {},
     "output_type": "execute_result"
    }
   ],
   "source": [
    "psi_2 = basis(Nlevel,0) + sqrt(2)*basis(Nlevel,1) + basis(Nlevel,2)\n",
    "psi_2 = psi_2/psi_2.norm()\n",
    "psi_2 = psi_2 * psi_2.dag()\n",
    "psi_2"
   ]
  },
  {
   "cell_type": "markdown",
   "id": "cddb91e1",
   "metadata": {},
   "source": [
    "### For pure states: $$F_{\\psi} = 4 \\Delta J^2_n = nCn^T \\quad \\quad C_{\\alpha,\\beta} = Cov<J_\\alpha, J_\\beta> = \\frac{1}{2}[<J_\\alpha J_\\beta>+ <J_\\beta J_\\alpha>] - <J_\\alpha><J_\\beta>$$ where: $$<O> = Tr(\\rho O) $$"
   ]
  },
  {
   "cell_type": "code",
   "execution_count": null,
   "id": "44608d97",
   "metadata": {},
   "outputs": [],
   "source": []
  },
  {
   "cell_type": "code",
   "execution_count": 10,
   "id": "e456bd58",
   "metadata": {},
   "outputs": [],
   "source": [
    "# class hberg_evol:\n",
    "#     def __init__(self,S,H):\n",
    "#         self.S = S #value of n goes from 0 to N-1\n",
    "#         self.H = H #cut off dimension/truncation\n",
    "#         #This is different from d which is the level that comes into hamiltonian.\n",
    "#         #d refers to the highest excitation present in the initialised state\n",
    "#         #d  by default is set to (Nlevel-2) as (d+1) at max can be (Nlevel-1)\n",
    "#         self.d = Nlevel-2\n",
    "#         self.E_c= E_c\n",
    "#         self.E_j = E_j\n",
    "#         self.g_arr = g_arr #g^n_i = g_arr[n][i]\n",
    "#         self.omega = omega #freq of photonic mode\n",
    "#         self.v_arr = self.freq_list() #v[n][i] = v^n_i\n",
    "#         self.self_energy = np.zeros((self.N,self.d + 1))\n",
    "    \n",
    "#     def freq_list(self):\n",
    "#         #calculate v^n_i\n",
    "#         #for |i><i|_n, coefficient is  \\sqrt(8E^n_j*E^n_c)*i - E^n_c/2*i(i+1)\n",
    "#         arr = []\n",
    "#         for n in range(self.N):\n",
    "#             temp_arr = []\n",
    "#             for i in range(self.d+1):\n",
    "#                 v_ni = np.sqrt(8*self.E_c[n]*self.E_j[n])*i - 0.5*self.E_c[n]*i*(i+1)\n",
    "#                 temp_arr.append(v_ni)\n",
    "#             arr.append(temp_arr) \n",
    "#         return arr"
   ]
  },
  {
   "cell_type": "code",
   "execution_count": 11,
   "id": "06807fb8",
   "metadata": {},
   "outputs": [],
   "source": [
    "# Spin 1\n",
    "# Sx=Qobj(ensemble_op(op_padded2(Qobj(np.array([[0,sqrt(2),0],[sqrt(2),0,sqrt(2)],[0,sqrt(2),0]])/2),Nlevel), N))\n",
    "# Sy=Qobj(ensemble_op(op_padded2(Qobj(1j*np.array([[0,-sqrt(2),0],[sqrt(2),0,-sqrt(2)],[0,sqrt(2),0]])/2),Nlevel), N))\n",
    "# Sz=Qobj(ensemble_op(op_padded2(Qobj(np.array([[1,0,0],[0,0,0],[0,0,-1]])),Nlevel), N))"
   ]
  },
  {
   "cell_type": "code",
   "execution_count": 12,
   "id": "bb66e10f",
   "metadata": {},
   "outputs": [],
   "source": [
    "# Spin 1\n",
    "Sx=Qobj(ensemble_op(op_padded(Qobj(np.array([[0,1,0],[1,0,1],[0,1,0]])/np.sqrt(2)),Nlevel), N))\n",
    "Sy=Qobj(ensemble_op(op_padded(Qobj(1j*np.array([[0,-1,0],[1,0,-1],[0,1,0]])/np.sqrt(2)),Nlevel), N))\n",
    "Sz=Qobj(ensemble_op(op_padded(Qobj(np.array([[1,0,0],[0,0,0],[0,0,-1]])),Nlevel), N))"
   ]
  },
  {
   "cell_type": "code",
   "execution_count": 13,
   "id": "464683f3",
   "metadata": {},
   "outputs": [],
   "source": [
    "def hevol(t,S):\n",
    "    tlis1=linspace(0,t,int(t/2)+10)\n",
    "    options = Options()\n",
    "#     print(options.ntraj)\n",
    "    options.ntraj=1\n",
    "    return mesolve(H,S,tlis1,[],[], options = options).states[-1]"
   ]
  },
  {
   "cell_type": "code",
   "execution_count": 14,
   "id": "d0790659",
   "metadata": {},
   "outputs": [],
   "source": [
    "eps=0\n",
    "rho=tensor([psi_2]*N)\n",
    "def opt_mat(t1=28,t2=71.5-28-eps,S=[Sx,Sy,Sz,Sx**2,Sy**2,Sz**2,(Sx*Sy+Sy*Sx)/2,(Sx*Sz+Sz*Sx)/2,(Sz*Sy+Sy*Sz)/2],l=3):\n",
    "    Q=zeros([l,l],dtype=complex)\n",
    "    M=zeros([l,l],dtype=complex)\n",
    "    A1=[]\n",
    "    B1=[]\n",
    "    for i in tqdm(range(l)):\n",
    "        A1.append(hevol(t1,S[i]))\n",
    "        B1.append(hevol(t1+t2,S[i]))\n",
    "    for i in tqdm(range(l)):\n",
    "        for j in tqdm(range(l)):\n",
    "            A=Qobj(A1[i])\n",
    "            B=B1[j].copy()\n",
    "            C=B1[i].copy()\n",
    "            M[i][j] = 1j*expect(rho,(A*B-B*A))\n",
    "            Q[i][j] = real((1/2)*expect(rho,(C*B+B*C))-expect(rho,(C))*expect(rho,(B)))\n",
    "    return Q,M"
   ]
  },
  {
   "cell_type": "code",
   "execution_count": 15,
   "id": "02d10a57",
   "metadata": {},
   "outputs": [
    {
     "data": {
      "text/plain": [
       "103.715"
      ]
     },
     "execution_count": 15,
     "metadata": {},
     "output_type": "execute_result"
    }
   ],
   "source": [
    "190-86.285"
   ]
  },
  {
   "cell_type": "code",
   "execution_count": 16,
   "id": "628bb42d",
   "metadata": {},
   "outputs": [
    {
     "data": {
      "application/vnd.jupyter.widget-view+json": {
       "model_id": "a1d65b38f77d43f4a19e306816d8a757",
       "version_major": 2,
       "version_minor": 0
      },
      "text/plain": [
       "  0%|          | 0/3 [00:00<?, ?it/s]"
      ]
     },
     "metadata": {},
     "output_type": "display_data"
    },
    {
     "data": {
      "application/vnd.jupyter.widget-view+json": {
       "model_id": "0fa33a2e6b2f4e07a042de9869f25b47",
       "version_major": 2,
       "version_minor": 0
      },
      "text/plain": [
       "  0%|          | 0/3 [00:00<?, ?it/s]"
      ]
     },
     "metadata": {},
     "output_type": "display_data"
    },
    {
     "data": {
      "application/vnd.jupyter.widget-view+json": {
       "model_id": "ff8830ef448947ae9b621314b568be33",
       "version_major": 2,
       "version_minor": 0
      },
      "text/plain": [
       "  0%|          | 0/3 [00:00<?, ?it/s]"
      ]
     },
     "metadata": {},
     "output_type": "display_data"
    },
    {
     "data": {
      "application/vnd.jupyter.widget-view+json": {
       "model_id": "d509b22e21e14406b5412ee674eafc6b",
       "version_major": 2,
       "version_minor": 0
      },
      "text/plain": [
       "  0%|          | 0/3 [00:00<?, ?it/s]"
      ]
     },
     "metadata": {},
     "output_type": "display_data"
    },
    {
     "data": {
      "application/vnd.jupyter.widget-view+json": {
       "model_id": "9891812767cb4d8fa448dc9d59ae252f",
       "version_major": 2,
       "version_minor": 0
      },
      "text/plain": [
       "  0%|          | 0/3 [00:00<?, ?it/s]"
      ]
     },
     "metadata": {},
     "output_type": "display_data"
    }
   ],
   "source": [
    "Q,M=opt_mat()"
   ]
  },
  {
   "cell_type": "code",
   "execution_count": 17,
   "id": "09d2b62f",
   "metadata": {},
   "outputs": [],
   "source": [
    "M1=M.copy()\n",
    "Q1=Q.copy()"
   ]
  },
  {
   "cell_type": "code",
   "execution_count": null,
   "id": "bb6c3c6f",
   "metadata": {},
   "outputs": [],
   "source": []
  },
  {
   "cell_type": "code",
   "execution_count": 18,
   "id": "690e5650",
   "metadata": {
    "scrolled": true
   },
   "outputs": [],
   "source": [
    "# Q1[0][0]=20\n",
    "# Q"
   ]
  },
  {
   "cell_type": "code",
   "execution_count": 19,
   "id": "45adf435",
   "metadata": {},
   "outputs": [
    {
     "data": {
      "text/latex": [
       "Quantum object: dims = [[3], [3]], shape = (3, 3), type = oper, isherm = True $ \\\\ \\left(\\begin{matrix}0.052 & -0.068 & 0.009\\\\-0.068 & 2.003 & 6.224\\times10^{-05}\\\\0.009 & 6.224\\times10^{-05} & 2.0\\\\\\end{matrix}\\right)$"
      ],
      "text/plain": [
       "Quantum object: dims = [[3], [3]], shape = (3, 3), type = oper, isherm = True\n",
       "Qobj data =\n",
       "[[ 5.20417969e-02 -6.78721268e-02  8.82491703e-03]\n",
       " [-6.78721268e-02  2.00319644e+00  6.22404818e-05]\n",
       " [ 8.82491703e-03  6.22404818e-05  2.00000000e+00]]"
      ]
     },
     "execution_count": 19,
     "metadata": {},
     "output_type": "execute_result"
    }
   ],
   "source": [
    "Qobj(Q)"
   ]
  },
  {
   "cell_type": "code",
   "execution_count": 26,
   "id": "6fa708db",
   "metadata": {},
   "outputs": [
    {
     "data": {
      "text/plain": [
       "array([20.14351423,  0.49999272,  0.49861252])"
      ]
     },
     "execution_count": 26,
     "metadata": {},
     "output_type": "execute_result"
    }
   ],
   "source": [
    "(Qobj(Q).eigenstates()[0])**-1"
   ]
  },
  {
   "cell_type": "code",
   "execution_count": 21,
   "id": "58f8b578",
   "metadata": {},
   "outputs": [],
   "source": [
    "\n",
    "\n",
    "for i in range(len(M1)):\n",
    "    for j in range(len(M1[0])):\n",
    "        if abs(M1[i][j])<1e-3:\n",
    "            M1[i][j]=0\n",
    "        if abs(Q1[i][j])<1e-3 and i!=j:\n",
    "            Q1[i][j]=0"
   ]
  },
  {
   "cell_type": "code",
   "execution_count": 27,
   "id": "3b1fcfae",
   "metadata": {},
   "outputs": [
    {
     "data": {
      "text/latex": [
       "Quantum object: dims = [[3], [3]], shape = (3, 3), type = oper, isherm = False $ \\\\ \\left(\\begin{matrix}(4.480+7.113\\times10^{-11}j) & (0.238+7.113\\times10^{-11}j) & (5.865+2.213\\times10^{-11}j)\\\\(0.238+7.075\\times10^{-11}j) & (1.232+1.089\\times10^{-10}j) & (-0.101-3.337\\times10^{-11}j)\\\\(5.865+2.213\\times10^{-11}j) & (-0.101-3.336\\times10^{-11}j) & 7.925\\\\\\end{matrix}\\right)$"
      ],
      "text/plain": [
       "Quantum object: dims = [[3], [3]], shape = (3, 3), type = oper, isherm = False\n",
       "Qobj data =\n",
       "[[ 4.4796055 +7.11300407e-11j  0.23754374+7.11301678e-11j\n",
       "   5.86479452+2.21304014e-11j]\n",
       " [ 0.23754374+7.07526627e-11j  1.23194716+1.08891046e-10j\n",
       "  -0.10098953-3.33670637e-11j]\n",
       " [ 5.86479452+2.21308257e-11j -0.10098953-3.33643161e-11j\n",
       "   7.92536476+0.00000000e+00j]]"
      ]
     },
     "execution_count": 27,
     "metadata": {},
     "output_type": "execute_result"
    }
   ],
   "source": [
    "Qobj(M)*Qobj((linalg.inv(Q)))*Qobj(M.transpose())#[0][0]\n",
    "#.eigenstates()[0]\n",
    "# Q1[8][7]"
   ]
  },
  {
   "cell_type": "code",
   "execution_count": 23,
   "id": "41987fbb",
   "metadata": {},
   "outputs": [],
   "source": [
    "Q2=(linalg.inv(Q1))"
   ]
  },
  {
   "cell_type": "code",
   "execution_count": 24,
   "id": "78bbd852",
   "metadata": {},
   "outputs": [
    {
     "data": {
      "text/latex": [
       "Quantum object: dims = [[3], [3]], shape = (3, 3), type = oper, isherm = True $ \\\\ \\left(\\begin{matrix}20.119 & 0.682 & -0.089\\\\0.682 & 0.522 & -0.003\\\\-0.089 & -0.003 & 0.500\\\\\\end{matrix}\\right)$"
      ],
      "text/plain": [
       "Quantum object: dims = [[3], [3]], shape = (3, 3), type = oper, isherm = True\n",
       "Qobj data =\n",
       "[[ 2.01194209e+01  6.81684461e-01 -8.87761100e-02]\n",
       " [ 6.81684461e-01  5.22298938e-01 -3.00790440e-03]\n",
       " [-8.87761100e-02 -3.00790440e-03  5.00391721e-01]]"
      ]
     },
     "execution_count": 24,
     "metadata": {},
     "output_type": "execute_result"
    }
   ],
   "source": [
    "Qobj(Q2)"
   ]
  },
  {
   "cell_type": "code",
   "execution_count": 25,
   "id": "67707fd5",
   "metadata": {},
   "outputs": [
    {
     "ename": "IndexError",
     "evalue": "index 3 is out of bounds for axis 0 with size 3",
     "output_type": "error",
     "traceback": [
      "\u001b[1;31m---------------------------------------------------------------------------\u001b[0m",
      "\u001b[1;31mIndexError\u001b[0m                                Traceback (most recent call last)",
      "Cell \u001b[1;32mIn[25], line 1\u001b[0m\n\u001b[1;32m----> 1\u001b[0m Q2[\u001b[38;5;241m0\u001b[39m][\u001b[38;5;241m0\u001b[39m]\u001b[38;5;241m=\u001b[39mQ2[\u001b[38;5;241m3\u001b[39m][\u001b[38;5;241m3\u001b[39m]\u001b[38;5;241m=\u001b[39m\u001b[38;5;241m0\u001b[39m\n",
      "\u001b[1;31mIndexError\u001b[0m: index 3 is out of bounds for axis 0 with size 3"
     ]
    }
   ],
   "source": [
    "Q2[0][0]=Q2[3][3]=0"
   ]
  },
  {
   "cell_type": "code",
   "execution_count": null,
   "id": "8254b8e0",
   "metadata": {},
   "outputs": [],
   "source": [
    "Q2=Qobj(Q2)"
   ]
  },
  {
   "cell_type": "code",
   "execution_count": null,
   "id": "2a18d559",
   "metadata": {},
   "outputs": [],
   "source": [
    "# Qobj(M@linalg.inv(Q)@((M.transpose().conjugate())))\n",
    "Q3=Qobj(M@Q2@((M.transpose().conjugate())))\n",
    "# Qobj(M.transpose()@linalg.inv(Q)@M)"
   ]
  },
  {
   "cell_type": "code",
   "execution_count": 28,
   "id": "af9e5b0a",
   "metadata": {},
   "outputs": [
    {
     "data": {
      "text/latex": [
       "Quantum object: dims = [[3], [3]], shape = (3, 3), type = oper, isherm = False $ \\\\ \\left(\\begin{matrix}(4.480+7.113\\times10^{-11}j) & (0.238+7.113\\times10^{-11}j) & (5.865+2.213\\times10^{-11}j)\\\\(0.238+7.075\\times10^{-11}j) & (1.232+1.089\\times10^{-10}j) & (-0.101-3.337\\times10^{-11}j)\\\\(5.865+2.213\\times10^{-11}j) & (-0.101-3.336\\times10^{-11}j) & 7.925\\\\\\end{matrix}\\right)$"
      ],
      "text/plain": [
       "Quantum object: dims = [[3], [3]], shape = (3, 3), type = oper, isherm = False\n",
       "Qobj data =\n",
       "[[ 4.4796055 +7.11300407e-11j  0.23754374+7.11301678e-11j\n",
       "   5.86479452+2.21304014e-11j]\n",
       " [ 0.23754374+7.07526627e-11j  1.23194716+1.08891046e-10j\n",
       "  -0.10098953-3.33670637e-11j]\n",
       " [ 5.86479452+2.21308257e-11j -0.10098953-3.33643161e-11j\n",
       "   7.92536476+0.00000000e+00j]]"
      ]
     },
     "execution_count": 28,
     "metadata": {},
     "output_type": "execute_result"
    }
   ],
   "source": [
    "A=(Qobj(M)*Qobj((linalg.inv(Q)))*Qobj(M.transpose()))\n",
    "# A=Qobj((M.transpose()@linalg.inv(Q)@M)\n",
    "A=Qobj(A)\n",
    "A"
   ]
  },
  {
   "cell_type": "code",
   "execution_count": 29,
   "id": "ea724ece",
   "metadata": {},
   "outputs": [],
   "source": [
    "eigenvalues, eigenvectors=A.eigenstates()"
   ]
  },
  {
   "cell_type": "code",
   "execution_count": 30,
   "id": "7028a0a2",
   "metadata": {},
   "outputs": [
    {
     "data": {
      "text/latex": [
       "Quantum object: dims = [[3], [1]], shape = (3, 1), type = ket $ \\\\ \\left(\\begin{matrix}(0.599+4.206\\times10^{-12}j)\\\\(0.006+1.537\\times10^{-12}j)\\\\0.800\\\\\\end{matrix}\\right)$"
      ],
      "text/plain": [
       "Quantum object: dims = [[3], [1]], shape = (3, 1), type = ket\n",
       "Qobj data =\n",
       "[[0.59930799+4.20633115e-12j]\n",
       " [0.00555058+1.53699302e-12j]\n",
       " [0.8004993 +0.00000000e+00j]]"
      ]
     },
     "execution_count": 30,
     "metadata": {},
     "output_type": "execute_result"
    }
   ],
   "source": [
    "(eigenvalues)\n",
    "eigenvectors[-1]"
   ]
  },
  {
   "cell_type": "code",
   "execution_count": 31,
   "id": "f37b6f03",
   "metadata": {
    "scrolled": false
   },
   "outputs": [
    {
     "data": {
      "text/latex": [
       "Quantum object: dims = [[3], [1]], shape = (3, 1), type = ket $ \\\\ \\left(\\begin{matrix}(0.599+4.206\\times10^{-12}j)\\\\(0.006+1.537\\times10^{-12}j)\\\\0.800\\\\\\end{matrix}\\right)$"
      ],
      "text/plain": [
       "Quantum object: dims = [[3], [1]], shape = (3, 1), type = ket\n",
       "Qobj data =\n",
       "[[0.59930799+4.20633115e-12j]\n",
       " [0.00555058+1.53699302e-12j]\n",
       " [0.8004993 +0.00000000e+00j]]"
      ]
     },
     "execution_count": 31,
     "metadata": {},
     "output_type": "execute_result"
    }
   ],
   "source": [
    "# newvector=[[array(eigenvectors[-1])[i][0] if i <3 else 0]  for i in range(9)]\n",
    "newvector=Qobj(eigenvectors[-1])\n",
    "newvector"
   ]
  },
  {
   "cell_type": "code",
   "execution_count": null,
   "id": "0eafb553",
   "metadata": {},
   "outputs": [],
   "source": []
  },
  {
   "cell_type": "code",
   "execution_count": 32,
   "id": "17d41919",
   "metadata": {},
   "outputs": [
    {
     "data": {
      "text/latex": [
       "Quantum object: dims = [[3], [1]], shape = (3, 1), type = ket $ \\\\ \\left(\\begin{matrix}(-0.318+7.463\\times10^{-11}j)\\\\(0.947+3.726\\times10^{-12}j)\\\\0.047\\\\\\end{matrix}\\right)$"
      ],
      "text/plain": [
       "Quantum object: dims = [[3], [1]], shape = (3, 1), type = ket\n",
       "Qobj data =\n",
       "[[-0.3184999 +7.46260352e-11j]\n",
       " [ 0.94677116+3.72628042e-12j]\n",
       " [ 0.04671375+0.00000000e+00j]]"
      ]
     },
     "execution_count": 32,
     "metadata": {},
     "output_type": "execute_result"
    }
   ],
   "source": [
    "Qobj((array((Qobj(linalg.inv(Q)*Qobj(M.transpose().conjugate()))*newvector)))/((Qobj(linalg.inv(Q)*Qobj(M.transpose().conjugate()))*newvector).norm()))"
   ]
  },
  {
   "cell_type": "code",
   "execution_count": null,
   "id": "b32fc834",
   "metadata": {
    "scrolled": true
   },
   "outputs": [],
   "source": [
    "((array((Qobj(linalg.inv(Q)@M.transpose())*eigenvectors[-1])))/((Qobj(linalg.inv(Q)@M.transpose())*eigenvectors[-1]).norm()))"
   ]
  },
  {
   "cell_type": "code",
   "execution_count": null,
   "id": "cc1c2a96",
   "metadata": {},
   "outputs": [],
   "source": [
    "0.17538138/0.9327553,0.04384733/0.23318348"
   ]
  },
  {
   "cell_type": "code",
   "execution_count": null,
   "id": "c679b558",
   "metadata": {},
   "outputs": [],
   "source": [
    "#Calculation of covariance matrix\n",
    "# for now step (2,3) can be avoided as exact analytical results avaialble\n",
    "# FI = n^T C n\n",
    "def C_matrix(rho, J_arr):\n",
    "    #do a dimension check for rho and J_arr[i] as well\n",
    "    d = len(J_arr)\n",
    "    C = np.zeros((d,d), dtype=complex)\n",
    "    for i in range(d):\n",
    "        for j in range(d):\n",
    "            C[i][j] = 0.5*((rho*J_arr[i]*J_arr[j]).tr()+ (rho*J_arr[j]*J_arr[i]).tr())- (rho*J_arr[i]).tr()*(rho*J_arr[j]).tr()\n",
    "    return C\n",
    "\n",
    "def FI_max_cal(state_list, J_arr):\n",
    "    FI_max_arr = []\n",
    "    optimal_evec = []\n",
    "    i = 0\n",
    "    for state in tqdm(state_list):\n",
    "        matrix = C_matrix(state, J_arr)\n",
    "        eigenvalues, eigenvectors = np.linalg.eig(matrix)\n",
    "        #temp_arr.append([str(i) + \"time step: \" + str(np.around(eigenvalues.real, 4))])\n",
    "        #print(str(i) + \"time step: \" + str(np.around(eigenvalues.real, 4)))\n",
    "        max_index = np.argmax(eigenvalues)\n",
    "        max_eigenvalue = eigenvalues[max_index]\n",
    "        max_eigenvector = eigenvectors[max_index]\n",
    "        FI_max_arr.append(4*max_eigenvalue)\n",
    "        optimal_evec.append(max_eigenvector)\n",
    "        i = i+1\n",
    "    \n",
    "    return FI_max_arr, optimal_evec \n",
    "    "
   ]
  },
  {
   "cell_type": "code",
   "execution_count": null,
   "id": "6049ba77",
   "metadata": {},
   "outputs": [],
   "source": []
  },
  {
   "cell_type": "code",
   "execution_count": null,
   "id": "006c7cf6",
   "metadata": {},
   "outputs": [],
   "source": [
    "# Checking expectation value for the J, spin one\n",
    "\n",
    "def expvalcheck(state):\n",
    "    \n",
    "#     return np.sqrt(expect(state, op1)**2 + expect(state, op2)**2 + expect(state, op3)**2)\n",
    "    return expect(state, op1)"
   ]
  },
  {
   "cell_type": "code",
   "execution_count": null,
   "id": "0f3af9ff",
   "metadata": {},
   "outputs": [],
   "source": [
    "#Maximum Eigenvalue\n",
    "#when n is the eigenvector with maximum eigen value of C, FI is maximized\n",
    "# Define the matrix\n",
    "FI_max_arr = []\n",
    "optimal_evec = []\n",
    "# Expectation value for J(spin half)\n",
    "exp_check=[]\n",
    "i = 0\n",
    "#temp_arr = []\n",
    "for state in tqdm(result.states):\n",
    "    matrix = C_matrix(state, J_arr)\n",
    "#     matrix = C_matrix(state, J_arr_spinhalf)\n",
    "    eigenvalues, eigenvectors = np.linalg.eig(matrix)\n",
    "    #temp_arr.append([str(i) + \"time step: \" + str(np.around(eigenvalues.real, 4))])\n",
    "    #print(str(i) + \"time step: \" + str(np.around(eigenvalues.real, 4)))\n",
    "    max_index = np.argmax(eigenvalues)\n",
    "    max_eigenvalue = eigenvalues[max_index]\n",
    "    max_eigenvector = eigenvectors[max_index]\n",
    "    FI_max_arr.append(4*max_eigenvalue)\n",
    "    optimal_evec.append(max_eigenvector)\n",
    "    exp_check.append(expvalcheck(state))\n",
    "    i = i+1\n",
    "\n"
   ]
  },
  {
   "cell_type": "code",
   "execution_count": null,
   "id": "fd3b0d16",
   "metadata": {},
   "outputs": [],
   "source": [
    "#Plot FI_max vs time/\\theta\n",
    "#plt.figure(figsize=(15,10))\n",
    "plt.plot(times,FI_max_arr)\n",
    "plt.plot(times,np.array(exp_check))\n",
    "# plt.plot(times,exp_check)\n",
    "plt.grid()\n",
    "# plt.title(str(N) + \" tmon system, spin 1/2, with \"+str(len(J_arr))+ \" tensor generators\")\n",
    "plt.title(\"Eigenstate of Jx for spin 1/2\")\n",
    "plt.xlabel(\"time\")\n",
    "plt.ylabel(\"F_max and $\\\\langle J^2 \\\\rangle$\")\n",
    "plt.legend([\"FI\",\"$\\\\langle J_x \\\\rangle$\"])\n",
    "plt.show()"
   ]
  },
  {
   "cell_type": "code",
   "execution_count": null,
   "id": "5cc5c9c0",
   "metadata": {},
   "outputs": [],
   "source": [
    "#Plot <J> vs time/\\theta\n",
    "#plt.figure(figsize=(15,10))\n",
    "plt.plot(times,exp_check)\n",
    "# plt.title(str(N) + \" tmon system, spin 1/2, with \"+str(len(J_arr))+ \" tensor generators\")\n",
    "plt.grid()\n",
    "plt.xlabel(\"time\")\n",
    "plt.ylabel(\"$\\\\langle \\hat{J_x} \\\\rangle$\")"
   ]
  },
  {
   "cell_type": "code",
   "execution_count": null,
   "id": "44d512ea",
   "metadata": {},
   "outputs": [],
   "source": [
    "array(sigmay()).conjugate(),array(sigmay())"
   ]
  },
  {
   "cell_type": "code",
   "execution_count": null,
   "id": "ee2259f6",
   "metadata": {},
   "outputs": [],
   "source": [
    "help(Adjoint())"
   ]
  },
  {
   "cell_type": "code",
   "execution_count": null,
   "id": "f085b7de",
   "metadata": {},
   "outputs": [],
   "source": []
  },
  {
   "cell_type": "code",
   "execution_count": null,
   "id": "40109fdc",
   "metadata": {},
   "outputs": [],
   "source": [
    "linalg.inv(array([[1,0],[0,0]]))"
   ]
  },
  {
   "cell_type": "code",
   "execution_count": null,
   "id": "d4f31b4b",
   "metadata": {},
   "outputs": [],
   "source": []
  },
  {
   "cell_type": "code",
   "execution_count": null,
   "id": "5d51781a",
   "metadata": {},
   "outputs": [],
   "source": []
  },
  {
   "cell_type": "code",
   "execution_count": null,
   "id": "5f17dd18",
   "metadata": {},
   "outputs": [],
   "source": []
  },
  {
   "cell_type": "code",
   "execution_count": null,
   "id": "558f4b4b",
   "metadata": {},
   "outputs": [],
   "source": []
  }
 ],
 "metadata": {
  "kernelspec": {
   "display_name": "Python 3 (ipykernel)",
   "language": "python",
   "name": "python3"
  },
  "language_info": {
   "codemirror_mode": {
    "name": "ipython",
    "version": 3
   },
   "file_extension": ".py",
   "mimetype": "text/x-python",
   "name": "python",
   "nbconvert_exporter": "python",
   "pygments_lexer": "ipython3",
   "version": "3.11.4"
  }
 },
 "nbformat": 4,
 "nbformat_minor": 5
}
